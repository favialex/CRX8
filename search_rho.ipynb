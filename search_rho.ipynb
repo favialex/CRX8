{
 "cells": [
  {
   "cell_type": "code",
   "execution_count": 1,
   "metadata": {
    "ExecuteTime": {
     "end_time": "2021-03-27T19:17:15.816881Z",
     "start_time": "2021-03-27T19:17:14.314229Z"
    }
   },
   "outputs": [],
   "source": [
    "from exp.utils import *\n",
    "from exp.models import *\n",
    "from exp.losses import *\n",
    "from tqdm.notebook import tqdm\n",
    "from multiprocessing import Pool\n",
    "\n",
    "import torch\n",
    "import torch.nn as NN\n",
    "from torch.utils.data import Dataset, DataLoader\n",
    "from torchvision import datasets, transforms"
   ]
  },
  {
   "cell_type": "code",
   "execution_count": 2,
   "metadata": {
    "ExecuteTime": {
     "end_time": "2021-03-27T19:17:15.820116Z",
     "start_time": "2021-03-27T19:17:15.817986Z"
    }
   },
   "outputs": [],
   "source": [
    "picked_labels = [\"Atelectasis\"]#[\"Atelectasis\", \"Cardiomegaly\", \"Pneumonia\"]\n",
    "already_pretrained_labels = []#[\"Atelectasis\"]#[\"Cardiomegaly\", \"Pneumonia\"]\n",
    "already_pretrained_lrs = []#[1e-8]#[1e-10, 1e-10]\n",
    "already_pretrained = {k:v for k,v in zip(already_pretrained_labels, already_pretrained_lrs)}\n",
    "already_trained = []#[\"Atelectasis\"]\n",
    "train_labels = [l for l in picked_labels if l not in already_trained]"
   ]
  },
  {
   "cell_type": "code",
   "execution_count": 3,
   "metadata": {
    "ExecuteTime": {
     "end_time": "2021-03-27T19:17:15.826270Z",
     "start_time": "2021-03-27T19:17:15.822345Z"
    }
   },
   "outputs": [],
   "source": [
    "rhos =[0.005, 0.01, 0.02, 0.05, 0.1, 0.2, 0.5]"
   ]
  },
  {
   "cell_type": "code",
   "execution_count": 4,
   "metadata": {
    "ExecuteTime": {
     "end_time": "2021-03-27T20:46:39.456309Z",
     "start_time": "2021-03-27T19:17:15.827163Z"
    }
   },
   "outputs": [
    {
     "name": "stdout",
     "output_type": "stream",
     "text": [
      "Training model to classify 'Atelectasis' with rho '0.005'\n",
      "Using the GPU!\n",
      "Epoch 1:\n"
     ]
    },
    {
     "data": {
      "application/vnd.jupyter.widget-view+json": {
       "model_id": "d77575c0150146d6861f748766adb2be",
       "version_major": 2,
       "version_minor": 0
      },
      "text/plain": [
       "HBox(children=(HTML(value=''), FloatProgress(value=0.0, max=1428.0), HTML(value='')))"
      ]
     },
     "metadata": {},
     "output_type": "display_data"
    },
    {
     "name": "stdout",
     "output_type": "stream",
     "text": [
      "\n",
      "Train: Loss: 0.149, Acc: 0.535, AUROC: 0.561\n"
     ]
    },
    {
     "data": {
      "application/vnd.jupyter.widget-view+json": {
       "model_id": "08fe8eae1aa54329a0668ffc389f1d75",
       "version_major": 2,
       "version_minor": 0
      },
      "text/plain": [
       "HBox(children=(HTML(value=''), FloatProgress(value=0.0, max=357.0), HTML(value='')))"
      ]
     },
     "metadata": {},
     "output_type": "display_data"
    },
    {
     "name": "stdout",
     "output_type": "stream",
     "text": [
      "\n",
      "Val: Loss: 0.155, Acc: 0.385, AUROC: 0.562\n",
      "Saved model with loss 0.1555\n",
      "\n",
      "Training model to classify 'Atelectasis' with rho '0.01'\n",
      "Using the GPU!\n",
      "Epoch 1:\n"
     ]
    },
    {
     "data": {
      "application/vnd.jupyter.widget-view+json": {
       "model_id": "eb399d8692824437b54ab6610aea276d",
       "version_major": 2,
       "version_minor": 0
      },
      "text/plain": [
       "HBox(children=(HTML(value=''), FloatProgress(value=0.0, max=1428.0), HTML(value='')))"
      ]
     },
     "metadata": {},
     "output_type": "display_data"
    },
    {
     "name": "stdout",
     "output_type": "stream",
     "text": [
      "\n",
      "Train: Loss: 0.150, Acc: 0.524, AUROC: 0.544\n"
     ]
    },
    {
     "data": {
      "application/vnd.jupyter.widget-view+json": {
       "model_id": "d090ea06129d4a24b8ea6e102c554b28",
       "version_major": 2,
       "version_minor": 0
      },
      "text/plain": [
       "HBox(children=(HTML(value=''), FloatProgress(value=0.0, max=357.0), HTML(value='')))"
      ]
     },
     "metadata": {},
     "output_type": "display_data"
    },
    {
     "name": "stdout",
     "output_type": "stream",
     "text": [
      "\n",
      "Val: Loss: 0.158, Acc: 0.339, AUROC: 0.522\n",
      "Saved model with loss 0.1582\n",
      "\n",
      "Training model to classify 'Atelectasis' with rho '0.02'\n",
      "Using the GPU!\n",
      "Epoch 1:\n"
     ]
    },
    {
     "data": {
      "application/vnd.jupyter.widget-view+json": {
       "model_id": "8f5dad35939e41d08a9c7aeca0258b60",
       "version_major": 2,
       "version_minor": 0
      },
      "text/plain": [
       "HBox(children=(HTML(value=''), FloatProgress(value=0.0, max=1428.0), HTML(value='')))"
      ]
     },
     "metadata": {},
     "output_type": "display_data"
    },
    {
     "name": "stdout",
     "output_type": "stream",
     "text": [
      "\n",
      "Train: Loss: 0.149, Acc: 0.534, AUROC: 0.558\n"
     ]
    },
    {
     "data": {
      "application/vnd.jupyter.widget-view+json": {
       "model_id": "e968127007aa445b88ae33a17cb71490",
       "version_major": 2,
       "version_minor": 0
      },
      "text/plain": [
       "HBox(children=(HTML(value=''), FloatProgress(value=0.0, max=357.0), HTML(value='')))"
      ]
     },
     "metadata": {},
     "output_type": "display_data"
    },
    {
     "name": "stdout",
     "output_type": "stream",
     "text": [
      "\n",
      "Val: Loss: 0.338, Acc: 0.598, AUROC: 0.540\n",
      "Saved model with loss 0.3379\n",
      "\n",
      "Training model to classify 'Atelectasis' with rho '0.05'\n",
      "Using the GPU!\n",
      "Epoch 1:\n"
     ]
    },
    {
     "data": {
      "application/vnd.jupyter.widget-view+json": {
       "model_id": "ab1c210ffdf5408e801e4a44e18ee32a",
       "version_major": 2,
       "version_minor": 0
      },
      "text/plain": [
       "HBox(children=(HTML(value=''), FloatProgress(value=0.0, max=1428.0), HTML(value='')))"
      ]
     },
     "metadata": {},
     "output_type": "display_data"
    },
    {
     "name": "stdout",
     "output_type": "stream",
     "text": [
      "\n",
      "Train: Loss: 0.150, Acc: 0.517, AUROC: 0.534\n"
     ]
    },
    {
     "data": {
      "application/vnd.jupyter.widget-view+json": {
       "model_id": "ee11fbe159624cd7b3edd21a621a996c",
       "version_major": 2,
       "version_minor": 0
      },
      "text/plain": [
       "HBox(children=(HTML(value=''), FloatProgress(value=0.0, max=357.0), HTML(value='')))"
      ]
     },
     "metadata": {},
     "output_type": "display_data"
    },
    {
     "name": "stdout",
     "output_type": "stream",
     "text": [
      "\n",
      "Val: Loss: 0.155, Acc: 0.637, AUROC: 0.502\n",
      "Saved model with loss 0.1555\n",
      "\n",
      "Training model to classify 'Atelectasis' with rho '0.1'\n",
      "Using the GPU!\n",
      "Epoch 1:\n"
     ]
    },
    {
     "data": {
      "application/vnd.jupyter.widget-view+json": {
       "model_id": "ef69c9cd026644afa4e30ca1400d579d",
       "version_major": 2,
       "version_minor": 0
      },
      "text/plain": [
       "HBox(children=(HTML(value=''), FloatProgress(value=0.0, max=1428.0), HTML(value='')))"
      ]
     },
     "metadata": {},
     "output_type": "display_data"
    },
    {
     "name": "stdout",
     "output_type": "stream",
     "text": [
      "\n",
      "Train: Loss: 0.151, Acc: 0.526, AUROC: 0.512\n"
     ]
    },
    {
     "data": {
      "application/vnd.jupyter.widget-view+json": {
       "model_id": "c0c9a942a84841c6bee3237c28d1937e",
       "version_major": 2,
       "version_minor": 0
      },
      "text/plain": [
       "HBox(children=(HTML(value=''), FloatProgress(value=0.0, max=357.0), HTML(value='')))"
      ]
     },
     "metadata": {},
     "output_type": "display_data"
    },
    {
     "name": "stdout",
     "output_type": "stream",
     "text": [
      "\n",
      "Val: Loss: 0.207, Acc: 0.467, AUROC: 0.505\n",
      "Saved model with loss 0.2068\n",
      "\n",
      "Training model to classify 'Atelectasis' with rho '0.2'\n",
      "Using the GPU!\n",
      "Epoch 1:\n"
     ]
    },
    {
     "data": {
      "application/vnd.jupyter.widget-view+json": {
       "model_id": "e023fafbd8b4449a91af76660ab51468",
       "version_major": 2,
       "version_minor": 0
      },
      "text/plain": [
       "HBox(children=(HTML(value=''), FloatProgress(value=0.0, max=1428.0), HTML(value='')))"
      ]
     },
     "metadata": {},
     "output_type": "display_data"
    },
    {
     "name": "stdout",
     "output_type": "stream",
     "text": [
      "\n",
      "Train: Loss: 0.152, Acc: 0.619, AUROC: 0.503\n"
     ]
    },
    {
     "data": {
      "application/vnd.jupyter.widget-view+json": {
       "model_id": "8c34ffb043f64c1b8ce243cc80fbd638",
       "version_major": 2,
       "version_minor": 0
      },
      "text/plain": [
       "HBox(children=(HTML(value=''), FloatProgress(value=0.0, max=357.0), HTML(value='')))"
      ]
     },
     "metadata": {},
     "output_type": "display_data"
    },
    {
     "name": "stdout",
     "output_type": "stream",
     "text": [
      "\n",
      "Val: Loss: 0.155, Acc: 0.429, AUROC: 0.533\n",
      "Saved model with loss 0.1551\n",
      "\n",
      "Training model to classify 'Atelectasis' with rho '0.5'\n",
      "Using the GPU!\n",
      "Epoch 1:\n"
     ]
    },
    {
     "data": {
      "application/vnd.jupyter.widget-view+json": {
       "model_id": "59e7e5be093e4fd282614544eb3a7599",
       "version_major": 2,
       "version_minor": 0
      },
      "text/plain": [
       "HBox(children=(HTML(value=''), FloatProgress(value=0.0, max=1428.0), HTML(value='')))"
      ]
     },
     "metadata": {},
     "output_type": "display_data"
    },
    {
     "name": "stdout",
     "output_type": "stream",
     "text": [
      "\n",
      "Train: Loss: 0.208, Acc: 0.541, AUROC: 0.504\n"
     ]
    },
    {
     "data": {
      "application/vnd.jupyter.widget-view+json": {
       "model_id": "fcddeae7e93a4a06b7b4271e540221e0",
       "version_major": 2,
       "version_minor": 0
      },
      "text/plain": [
       "HBox(children=(HTML(value=''), FloatProgress(value=0.0, max=357.0), HTML(value='')))"
      ]
     },
     "metadata": {},
     "output_type": "display_data"
    },
    {
     "name": "stdout",
     "output_type": "stream",
     "text": [
      "\n",
      "Val: Loss: 0.301, Acc: 0.793, AUROC: 0.481\n",
      "Saved model with loss 0.3014\n",
      "\n",
      "FERTIG! :D\n"
     ]
    }
   ],
   "source": [
    "log = {\"label\":[], \"rho\":[], \"loss\":[], \"acc\":[], \"auroc\":[]}\n",
    "\n",
    "for label in sorted(train_labels):\n",
    "    \n",
    "    for rho in rhos:\n",
    "        last_epoch = False\n",
    "        if rho == rhos[-1]: last_epoch = True\n",
    "\n",
    "        print(f\"Training model to classify '{label}' with rho '{rho}'\")\n",
    "\n",
    "        # Seed\n",
    "        seed = 92\n",
    "        seed_everything(seed)\n",
    "\n",
    "        # Inital setup\n",
    "        model_name = f\"Rho_{int(rho*100)}_{label}\"#f\"sam_densenet_v1_{label}\"\n",
    "        model_type = \"densenet\"\n",
    "        bs = 16\n",
    "        lr = 1e-3\n",
    "        epochs = 1\n",
    "        patience = 1\n",
    "        with_reset = False\n",
    "        image_size = (224, 224)\n",
    "        device = get_device()\n",
    "        labels = get_labels()\n",
    "\n",
    "        # Load data\n",
    "        train_df, valid_df, test_df = get_dataframes(include_labels=labels, \n",
    "                                                     small=True, small_fraction=0.33)\n",
    "        #print(train_df.shape, valid_df.shape, test_df.shape)\n",
    "        train_df = get_binary_df(label, train_df)\n",
    "        valid_df = get_binary_df(label, valid_df)\n",
    "        test_df = get_binary_df(label, test_df)\n",
    "\n",
    "        # Compute label weights\n",
    "        train_label = train_df[[label]].values\n",
    "        neg_weights, pos_weights = compute_class_freqs(train_label)\n",
    "        neg_weights, pos_weights = torch.Tensor(neg_weights), torch.Tensor(pos_weights)\n",
    "        #print(neg_weights, pos_weights)\n",
    "\n",
    "        # Get transforms\n",
    "        train_tfs, test_tfs = get_transforms(image_size=image_size)\n",
    "\n",
    "        # Create datasets\n",
    "        train_ds = CRX8_Data(train_df, get_image_path(), label, image_size=image_size, transforms=train_tfs)\n",
    "        valid_ds = CRX8_Data(valid_df, get_image_path(), label, image_size=image_size, transforms=test_tfs)\n",
    "        test_ds  = CRX8_Data(test_df , get_image_path(), label, image_size=image_size, transforms=test_tfs)\n",
    "\n",
    "        # Create dataloaders\n",
    "        train_dl = DataLoader(train_ds, batch_size=bs, shuffle=True)\n",
    "        valid_dl = DataLoader(valid_ds, batch_size=bs, shuffle=False)\n",
    "        test_dl  = DataLoader(test_ds,  batch_size=bs, shuffle=False)\n",
    "        dataloaders = {\n",
    "            \"train\": train_dl,\n",
    "            \"val\": valid_dl,\n",
    "            \"test\": test_dl\n",
    "        }\n",
    "\n",
    "        model = pretrained_densenet121()\n",
    "        model = model.to(device)\n",
    "\n",
    "        # Get criterion and optimizer\n",
    "        criterion = get_weighted_loss_with_logits(pos_weights.to(device), \n",
    "                                                  neg_weights.to(device))\n",
    "        sam_optimizer = SAM(model.parameters(), torch.optim.Adam, lr=lr, rho=rho)\n",
    "\n",
    "        # Train model\n",
    "        model, history = fit(model, criterion, sam_optimizer, \n",
    "                             dataloaders, model_name, epochs, \n",
    "                             lr, sam=True, with_reset=with_reset, metric=\"loss\", patience=patience)\n",
    "        \n",
    "        log[\"label\"].append(label)\n",
    "        log[\"rho\"].append(rho)\n",
    "        log[\"loss\"].append(history[f\"e{epochs}_val\"][\"loss\"].mean())\n",
    "        log[\"acc\"].append(history[f\"e{epochs}_val\"][\"acc\"])\n",
    "        log[\"auroc\"].append(history[f\"e{epochs}_val\"][\"auroc\"])\n",
    "        print()\n",
    "\n",
    "FERTIG()"
   ]
  },
  {
   "cell_type": "code",
   "execution_count": 7,
   "metadata": {
    "ExecuteTime": {
     "end_time": "2021-03-27T22:32:47.960092Z",
     "start_time": "2021-03-27T22:32:47.949479Z"
    }
   },
   "outputs": [
    {
     "data": {
      "text/html": [
       "<div>\n",
       "<style scoped>\n",
       "    .dataframe tbody tr th:only-of-type {\n",
       "        vertical-align: middle;\n",
       "    }\n",
       "\n",
       "    .dataframe tbody tr th {\n",
       "        vertical-align: top;\n",
       "    }\n",
       "\n",
       "    .dataframe thead th {\n",
       "        text-align: right;\n",
       "    }\n",
       "</style>\n",
       "<table border=\"1\" class=\"dataframe\">\n",
       "  <thead>\n",
       "    <tr style=\"text-align: right;\">\n",
       "      <th></th>\n",
       "      <th>label</th>\n",
       "      <th>rho</th>\n",
       "      <th>loss</th>\n",
       "      <th>acc</th>\n",
       "      <th>auroc</th>\n",
       "    </tr>\n",
       "  </thead>\n",
       "  <tbody>\n",
       "    <tr>\n",
       "      <th>5</th>\n",
       "      <td>Atelectasis</td>\n",
       "      <td>0.200</td>\n",
       "      <td>0.155102</td>\n",
       "      <td>0.428722</td>\n",
       "      <td>0.533208</td>\n",
       "    </tr>\n",
       "    <tr>\n",
       "      <th>0</th>\n",
       "      <td>Atelectasis</td>\n",
       "      <td>0.005</td>\n",
       "      <td>0.155457</td>\n",
       "      <td>0.385114</td>\n",
       "      <td>0.562451</td>\n",
       "    </tr>\n",
       "    <tr>\n",
       "      <th>3</th>\n",
       "      <td>Atelectasis</td>\n",
       "      <td>0.050</td>\n",
       "      <td>0.155497</td>\n",
       "      <td>0.636953</td>\n",
       "      <td>0.502326</td>\n",
       "    </tr>\n",
       "    <tr>\n",
       "      <th>1</th>\n",
       "      <td>Atelectasis</td>\n",
       "      <td>0.010</td>\n",
       "      <td>0.158178</td>\n",
       "      <td>0.338704</td>\n",
       "      <td>0.522149</td>\n",
       "    </tr>\n",
       "    <tr>\n",
       "      <th>4</th>\n",
       "      <td>Atelectasis</td>\n",
       "      <td>0.100</td>\n",
       "      <td>0.206850</td>\n",
       "      <td>0.466900</td>\n",
       "      <td>0.505487</td>\n",
       "    </tr>\n",
       "    <tr>\n",
       "      <th>6</th>\n",
       "      <td>Atelectasis</td>\n",
       "      <td>0.500</td>\n",
       "      <td>0.301449</td>\n",
       "      <td>0.792644</td>\n",
       "      <td>0.481315</td>\n",
       "    </tr>\n",
       "    <tr>\n",
       "      <th>2</th>\n",
       "      <td>Atelectasis</td>\n",
       "      <td>0.020</td>\n",
       "      <td>0.337928</td>\n",
       "      <td>0.597548</td>\n",
       "      <td>0.540030</td>\n",
       "    </tr>\n",
       "  </tbody>\n",
       "</table>\n",
       "</div>"
      ],
      "text/plain": [
       "         label    rho      loss       acc     auroc\n",
       "5  Atelectasis  0.200  0.155102  0.428722  0.533208\n",
       "0  Atelectasis  0.005  0.155457  0.385114  0.562451\n",
       "3  Atelectasis  0.050  0.155497  0.636953  0.502326\n",
       "1  Atelectasis  0.010  0.158178  0.338704  0.522149\n",
       "4  Atelectasis  0.100  0.206850  0.466900  0.505487\n",
       "6  Atelectasis  0.500  0.301449  0.792644  0.481315\n",
       "2  Atelectasis  0.020  0.337928  0.597548  0.540030"
      ]
     },
     "execution_count": 7,
     "metadata": {},
     "output_type": "execute_result"
    }
   ],
   "source": [
    "pd.DataFrame(log).sort_values(\"loss\")"
   ]
  },
  {
   "cell_type": "code",
   "execution_count": 6,
   "metadata": {
    "ExecuteTime": {
     "end_time": "2021-03-27T20:46:39.546571Z",
     "start_time": "2021-03-27T20:46:39.465878Z"
    }
   },
   "outputs": [
    {
     "data": {
      "text/plain": [
       "[<matplotlib.lines.Line2D at 0x7f136f0d4760>]"
      ]
     },
     "execution_count": 6,
     "metadata": {},
     "output_type": "execute_result"
    },
    {
     "data": {
      "image/png": "[encoded data removed]",
      "text/plain": [
       "<Figure size 432x288 with 1 Axes>"
      ]
     },
     "metadata": {
      "needs_background": "light"
     },
     "output_type": "display_data"
    }
   ],
   "source": [
    "plt.plot(log[\"rho\"], log[\"acc\"])   # blue\n",
    "plt.plot(log[\"rho\"], log[\"auroc\"]) # orange\n",
    "plt.plot(log[\"rho\"], log[\"loss\"])  # green"
   ]
  },
  {
   "cell_type": "code",
   "execution_count": null,
   "metadata": {},
   "outputs": [],
   "source": []
  },
  {
   "cell_type": "code",
   "execution_count": null,
   "metadata": {},
   "outputs": [],
   "source": []
  },
  {
   "cell_type": "code",
   "execution_count": null,
   "metadata": {
    "ExecuteTime": {
     "end_time": "2021-03-27T18:01:15.156002Z",
     "start_time": "2021-03-27T18:01:15.148513Z"
    }
   },
   "outputs": [],
   "source": []
  },
  {
   "cell_type": "code",
   "execution_count": null,
   "metadata": {},
   "outputs": [],
   "source": []
  },
  {
   "cell_type": "code",
   "execution_count": null,
   "metadata": {},
   "outputs": [],
   "source": []
  },
  {
   "cell_type": "code",
   "execution_count": null,
   "metadata": {},
   "outputs": [],
   "source": []
  }
 ],
 "metadata": {
  "kernelspec": {
   "display_name": "Python 3",
   "language": "python",
   "name": "python3"
  },
  "language_info": {
   "codemirror_mode": {
    "name": "ipython",
    "version": 3
   },
   "file_extension": ".py",
   "mimetype": "text/x-python",
   "name": "python",
   "nbconvert_exporter": "python",
   "pygments_lexer": "ipython3",
   "version": "3.8.8"
  },
  "varInspector": {
   "cols": {
    "lenName": 16,
    "lenType": 16,
    "lenVar": 40
   },
   "kernels_config": {
    "python": {
     "delete_cmd_postfix": "",
     "delete_cmd_prefix": "del ",
     "library": "var_list.py",
     "varRefreshCmd": "print(var_dic_list())"
    },
    "r": {
     "delete_cmd_postfix": ") ",
     "delete_cmd_prefix": "rm(",
     "library": "var_list.r",
     "varRefreshCmd": "cat(var_dic_list()) "
    }
   },
   "types_to_exclude": [
    "module",
    "function",
    "builtin_function_or_method",
    "instance",
    "_Feature"
   ],
   "window_display": false
  }
 },
 "nbformat": 4,
 "nbformat_minor": 4
}
