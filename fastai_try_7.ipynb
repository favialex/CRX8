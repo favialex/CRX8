{
 "cells": [
  {
   "cell_type": "code",
   "execution_count": 1,
   "metadata": {
    "ExecuteTime": {
     "end_time": "2021-06-03T19:27:40.235530Z",
     "start_time": "2021-06-03T19:27:37.897228Z"
    }
   },
   "outputs": [],
   "source": [
    "from exp.utils import *\n",
    "from exp.models import *\n",
    "from exp.losses import *\n",
    "from fastai.vision.all import *"
   ]
  },
  {
   "cell_type": "code",
   "execution_count": 2,
   "metadata": {
    "ExecuteTime": {
     "end_time": "2021-06-03T19:27:40.294943Z",
     "start_time": "2021-06-03T19:27:40.292812Z"
    }
   },
   "outputs": [
    {
     "name": "stdout",
     "output_type": "stream",
     "text": [
      "Using the GPU!\n"
     ]
    }
   ],
   "source": [
    "lr = 1e-2\n",
    "bs = (128, 64, 32)\n",
    "epochs = 100\n",
    "image_sizes = (64, 128, 244)\n",
    "device = get_device()"
   ]
  },
  {
   "cell_type": "code",
   "execution_count": 3,
   "metadata": {
    "ExecuteTime": {
     "end_time": "2021-06-03T19:27:40.357961Z",
     "start_time": "2021-06-03T19:27:40.356184Z"
    }
   },
   "outputs": [],
   "source": [
    "p_data = get_data_path()\n",
    "p_train_valid = p_data/\"train_valid_images\"\n",
    "p_train_images = p_train_valid/\"train_images\"\n",
    "p_valid_images = p_train_valid/\"valid_images\"\n",
    "p_test_images  = p_data/\"test_images\"\n",
    "p_dev_images = p_data/\"dev_images\""
   ]
  },
  {
   "cell_type": "code",
   "execution_count": 4,
   "metadata": {
    "ExecuteTime": {
     "end_time": "2021-06-03T19:27:41.617791Z",
     "start_time": "2021-06-03T19:27:40.411413Z"
    }
   },
   "outputs": [],
   "source": [
    "# Load data\n",
    "label = \"Cardiomegaly\"\n",
    "train_df, valid_df, test_df = get_dataframes(include_labels=get_labels(), \n",
    "                                             small=False)\n",
    "#print(train_df.shape, valid_df.shape, test_df.shape)\n",
    "train_df = get_binary_df(label, train_df)\n",
    "valid_df = get_binary_df(label, valid_df)\n",
    "test_df  = get_binary_df(label, test_df)\n",
    "\n",
    "complete_df = pd.concat([train_df, valid_df, test_df])\n",
    "complete_df = complete_df.drop(columns=[\"Follow-up #\", \"Patient ID\", \"Patient Age\", \"Patient Gender\", \n",
    "                   \"View Position\", \"OriginalImage[Width\", \"Height]\", \n",
    "                   \"OriginalImagePixelSpacing[x\", \"y]\", \"No Finding\"])"
   ]
  },
  {
   "cell_type": "code",
   "execution_count": 5,
   "metadata": {
    "ExecuteTime": {
     "end_time": "2021-06-03T19:27:41.748518Z",
     "start_time": "2021-06-03T19:27:41.746632Z"
    }
   },
   "outputs": [],
   "source": [
    "def label_func(fname):\n",
    "    lbl = complete_df[complete_df[\"Image Index\"] == fname.name][\"Cardiomegaly\"].values[0]\n",
    "    return \"C\" if lbl > 0 else \"No C\"\n",
    "\n",
    "def splitter_func(fn):\n",
    "    return fn.parent.stem == \"valid_images\" "
   ]
  },
  {
   "cell_type": "code",
   "execution_count": 6,
   "metadata": {
    "ExecuteTime": {
     "end_time": "2021-06-03T19:27:42.970711Z",
     "start_time": "2021-06-03T19:27:41.881841Z"
    }
   },
   "outputs": [
    {
     "name": "stdout",
     "output_type": "stream",
     "text": [
      "tensor([0.0203]) tensor([0.9797])\n"
     ]
    }
   ],
   "source": [
    "train_label = train_df[[label]].values\n",
    "neg_weights, pos_weights = compute_class_freqs(train_label)\n",
    "neg_weights, pos_weights = torch.Tensor(neg_weights), torch.Tensor(pos_weights)\n",
    "weights = torch.Tensor([neg_weights, pos_weights]).to(device)\n",
    "print(neg_weights, pos_weights)"
   ]
  },
  {
   "cell_type": "code",
   "execution_count": null,
   "metadata": {},
   "outputs": [],
   "source": []
  },
  {
   "cell_type": "code",
   "execution_count": 7,
   "metadata": {
    "ExecuteTime": {
     "end_time": "2021-06-03T19:27:43.102951Z",
     "start_time": "2021-06-03T19:27:43.100588Z"
    }
   },
   "outputs": [],
   "source": [
    "def get_dls(bs, image_size, path=p_train_valid):\n",
    "    batch_tfms = [Brightness(), \n",
    "                  Contrast(),\n",
    "                  RandomErasing(p=.25, max_count=2)] \n",
    "    \n",
    "    dblock = DataBlock(blocks    = (ImageBlock, CategoryBlock),\n",
    "                       get_items = get_image_files,\n",
    "                       get_y     = label_func,\n",
    "                       splitter  = RandomSplitter(),\n",
    "                       item_tfms = [Resize(image_size, \n",
    "                                          method=\"squish\", \n",
    "                                          pad_mode=\"zeros\")],\n",
    "                       batch_tfms = batch_tfms)\n",
    "    return dblock.dataloaders(path, bs=bs)"
   ]
  },
  {
   "cell_type": "code",
   "execution_count": 8,
   "metadata": {
    "ExecuteTime": {
     "end_time": "2021-06-03T19:27:43.237632Z",
     "start_time": "2021-06-03T19:27:43.235297Z"
    }
   },
   "outputs": [],
   "source": [
    "sched = {'lr': SchedExp(3e-3, 1e-7)}\n",
    "callbacks = [\n",
    "    ParamScheduler(sched),\n",
    "    EarlyStoppingCallback(monitor=\"valid_loss\",\n",
    "                          patience=10),\n",
    "    SaveModelCallback(monitor=\"valid_loss\", \n",
    "                      fname=\"xresnet50_finetuned_v1\", \n",
    "                      with_opt=True),\n",
    "    ShowGraphCallback(), \n",
    "    MixUp()\n",
    "]"
   ]
  },
  {
   "cell_type": "code",
   "execution_count": 10,
   "metadata": {
    "ExecuteTime": {
     "end_time": "2021-06-03T19:53:23.853392Z",
     "start_time": "2021-06-03T19:47:03.810369Z"
    }
   },
   "outputs": [
    {
     "ename": "TypeError",
     "evalue": "__init__() got an unexpected keyword argument 'weight'",
     "output_type": "error",
     "traceback": [
      "\u001b[0;31m---------------------------------------------------------------------------\u001b[0m",
      "\u001b[0;31mTypeError\u001b[0m                                 Traceback (most recent call last)",
      "\u001b[0;32m<ipython-input-10-7c3ebbbfd414>\u001b[0m in \u001b[0;36m<module>\u001b[0;34m\u001b[0m\n\u001b[1;32m      4\u001b[0m learn = Learner(dls, \n\u001b[1;32m      5\u001b[0m                 \u001b[0mmodel\u001b[0m\u001b[0;34m,\u001b[0m\u001b[0;34m\u001b[0m\u001b[0;34m\u001b[0m\u001b[0m\n\u001b[0;32m----> 6\u001b[0;31m                 \u001b[0mloss_func\u001b[0m\u001b[0;34m=\u001b[0m\u001b[0mLabelSmoothingCrossEntropy\u001b[0m\u001b[0;34m(\u001b[0m\u001b[0mweight\u001b[0m\u001b[0;34m=\u001b[0m\u001b[0mweights\u001b[0m\u001b[0;34m)\u001b[0m\u001b[0;34m,\u001b[0m\u001b[0;34m\u001b[0m\u001b[0;34m\u001b[0m\u001b[0m\n\u001b[0m\u001b[1;32m      7\u001b[0m                 \u001b[0mmetrics\u001b[0m\u001b[0;34m=\u001b[0m\u001b[0;34m[\u001b[0m\u001b[0maccuracy\u001b[0m\u001b[0;34m,\u001b[0m \u001b[0mRocAucBinary\u001b[0m\u001b[0;34m(\u001b[0m\u001b[0;34m)\u001b[0m\u001b[0;34m]\u001b[0m\u001b[0;34m,\u001b[0m\u001b[0;34m\u001b[0m\u001b[0;34m\u001b[0m\u001b[0m\n\u001b[1;32m      8\u001b[0m                 cbs=callbacks)\n",
      "\u001b[0;32m~/anaconda3/envs/crx8_pt/lib/python3.8/site-packages/fastcore/meta.py\u001b[0m in \u001b[0;36m__call__\u001b[0;34m(cls, *args, **kwargs)\u001b[0m\n\u001b[1;32m     36\u001b[0m         \u001b[0;32mif\u001b[0m \u001b[0mtype\u001b[0m\u001b[0;34m(\u001b[0m\u001b[0mres\u001b[0m\u001b[0;34m)\u001b[0m\u001b[0;34m==\u001b[0m\u001b[0mcls\u001b[0m\u001b[0;34m:\u001b[0m\u001b[0;34m\u001b[0m\u001b[0;34m\u001b[0m\u001b[0m\n\u001b[1;32m     37\u001b[0m             \u001b[0;32mif\u001b[0m \u001b[0mhasattr\u001b[0m\u001b[0;34m(\u001b[0m\u001b[0mres\u001b[0m\u001b[0;34m,\u001b[0m\u001b[0;34m'__pre_init__'\u001b[0m\u001b[0;34m)\u001b[0m\u001b[0;34m:\u001b[0m \u001b[0mres\u001b[0m\u001b[0;34m.\u001b[0m\u001b[0m__pre_init__\u001b[0m\u001b[0;34m(\u001b[0m\u001b[0;34m*\u001b[0m\u001b[0margs\u001b[0m\u001b[0;34m,\u001b[0m\u001b[0;34m**\u001b[0m\u001b[0mkwargs\u001b[0m\u001b[0;34m)\u001b[0m\u001b[0;34m\u001b[0m\u001b[0;34m\u001b[0m\u001b[0m\n\u001b[0;32m---> 38\u001b[0;31m             \u001b[0mres\u001b[0m\u001b[0;34m.\u001b[0m\u001b[0m__init__\u001b[0m\u001b[0;34m(\u001b[0m\u001b[0;34m*\u001b[0m\u001b[0margs\u001b[0m\u001b[0;34m,\u001b[0m\u001b[0;34m**\u001b[0m\u001b[0mkwargs\u001b[0m\u001b[0;34m)\u001b[0m\u001b[0;34m\u001b[0m\u001b[0;34m\u001b[0m\u001b[0m\n\u001b[0m\u001b[1;32m     39\u001b[0m             \u001b[0;32mif\u001b[0m \u001b[0mhasattr\u001b[0m\u001b[0;34m(\u001b[0m\u001b[0mres\u001b[0m\u001b[0;34m,\u001b[0m\u001b[0;34m'__post_init__'\u001b[0m\u001b[0;34m)\u001b[0m\u001b[0;34m:\u001b[0m \u001b[0mres\u001b[0m\u001b[0;34m.\u001b[0m\u001b[0m__post_init__\u001b[0m\u001b[0;34m(\u001b[0m\u001b[0;34m*\u001b[0m\u001b[0margs\u001b[0m\u001b[0;34m,\u001b[0m\u001b[0;34m**\u001b[0m\u001b[0mkwargs\u001b[0m\u001b[0;34m)\u001b[0m\u001b[0;34m\u001b[0m\u001b[0;34m\u001b[0m\u001b[0m\n\u001b[1;32m     40\u001b[0m         \u001b[0;32mreturn\u001b[0m \u001b[0mres\u001b[0m\u001b[0;34m\u001b[0m\u001b[0;34m\u001b[0m\u001b[0m\n",
      "\u001b[0;31mTypeError\u001b[0m: __init__() got an unexpected keyword argument 'weight'"
     ]
    }
   ],
   "source": [
    "# First size\n",
    "dls = get_dls(bs=128, image_size=64)\n",
    "model = xresnet50(n_out=dls.c)\n",
    "learn = Learner(dls, \n",
    "                model, \n",
    "                loss_func=LabelSmoothingCrossEntropy(weight=weights),\n",
    "                metrics=[accuracy, RocAucBinary()],\n",
    "                cbs=callbacks)\n",
    "learn.fit_one_cycle(30, 3e-3)"
   ]
  },
  {
   "cell_type": "code",
   "execution_count": null,
   "metadata": {},
   "outputs": [],
   "source": [
    "learn.load(Path().cwd()/\"models\"/\"xresnet50_finetuned_v1\")"
   ]
  },
  {
   "cell_type": "code",
   "execution_count": null,
   "metadata": {},
   "outputs": [],
   "source": [
    "# Second size\n",
    "learn.dls = get_dls(bs=64, image_size=128)\n",
    "learn.fit_one_cycle(30, 3e-3)"
   ]
  },
  {
   "cell_type": "code",
   "execution_count": null,
   "metadata": {},
   "outputs": [],
   "source": [
    "learn.load(Path().cwd()/\"models\"/\"xresnet50_finetuned_v1\")"
   ]
  },
  {
   "cell_type": "code",
   "execution_count": null,
   "metadata": {},
   "outputs": [],
   "source": [
    "# Final size\n",
    "learn.dls = get_dls(bs=32, image_size=224)\n",
    "learn.fit_one_cycle(30, 3e-3)"
   ]
  },
  {
   "cell_type": "code",
   "execution_count": null,
   "metadata": {},
   "outputs": [],
   "source": []
  },
  {
   "cell_type": "code",
   "execution_count": null,
   "metadata": {},
   "outputs": [],
   "source": [
    "learn.load(Path().cwd()/\"models\"/\"xresnet50_finetuned_v1\")"
   ]
  },
  {
   "cell_type": "code",
   "execution_count": null,
   "metadata": {
    "ExecuteTime": {
     "end_time": "2021-06-01T15:57:57.133466Z",
     "start_time": "2021-06-01T15:57:57.131650Z"
    }
   },
   "outputs": [],
   "source": [
    "interp = ClassificationInterpretation.from_learner(learn)\n",
    "interp.plot_confusion_matrix()"
   ]
  },
  {
   "cell_type": "code",
   "execution_count": null,
   "metadata": {
    "ExecuteTime": {
     "end_time": "2021-06-01T15:58:00.629061Z",
     "start_time": "2021-06-01T15:58:00.627034Z"
    }
   },
   "outputs": [],
   "source": [
    "interp.plot_top_losses(9)"
   ]
  },
  {
   "cell_type": "code",
   "execution_count": null,
   "metadata": {},
   "outputs": [],
   "source": []
  },
  {
   "cell_type": "code",
   "execution_count": null,
   "metadata": {},
   "outputs": [],
   "source": []
  },
  {
   "cell_type": "code",
   "execution_count": null,
   "metadata": {},
   "outputs": [],
   "source": []
  }
 ],
 "metadata": {
  "kernelspec": {
   "display_name": "Python 3",
   "language": "python",
   "name": "python3"
  },
  "language_info": {
   "codemirror_mode": {
    "name": "ipython",
    "version": 3
   },
   "file_extension": ".py",
   "mimetype": "text/x-python",
   "name": "python",
   "nbconvert_exporter": "python",
   "pygments_lexer": "ipython3",
   "version": "3.8.8"
  },
  "varInspector": {
   "cols": {
    "lenName": 16,
    "lenType": 16,
    "lenVar": 40
   },
   "kernels_config": {
    "python": {
     "delete_cmd_postfix": "",
     "delete_cmd_prefix": "del ",
     "library": "var_list.py",
     "varRefreshCmd": "print(var_dic_list())"
    },
    "r": {
     "delete_cmd_postfix": ") ",
     "delete_cmd_prefix": "rm(",
     "library": "var_list.r",
     "varRefreshCmd": "cat(var_dic_list()) "
    }
   },
   "types_to_exclude": [
    "module",
    "function",
    "builtin_function_or_method",
    "instance",
    "_Feature"
   ],
   "window_display": false
  }
 },
 "nbformat": 4,
 "nbformat_minor": 4
}
