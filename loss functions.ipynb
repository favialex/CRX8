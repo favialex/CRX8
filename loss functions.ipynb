{
 "cells": [
  {
   "cell_type": "code",
   "execution_count": 1,
   "metadata": {
    "ExecuteTime": {
     "end_time": "2021-03-13T19:38:17.794276Z",
     "start_time": "2021-03-13T19:38:17.541526Z"
    }
   },
   "outputs": [],
   "source": [
    "import torch\n",
    "import torch.nn as NN"
   ]
  },
  {
   "cell_type": "code",
   "execution_count": 21,
   "metadata": {
    "ExecuteTime": {
     "end_time": "2021-03-13T20:02:28.010698Z",
     "start_time": "2021-03-13T20:02:28.004834Z"
    }
   },
   "outputs": [],
   "source": [
    "X = torch.Tensor([\n",
    "    [0., 0., 0.], \n",
    "    [0., 0., 1.],\n",
    "    [0., 1., 0.],\n",
    "    [0., 1., 1.],\n",
    "    [1., 0., 0.],\n",
    "    [1., 0., 1.],\n",
    "    [1., 1., 0.],\n",
    "    [1., 1., 1.]\n",
    "])\n",
    "\n",
    "A = torch.Tensor([1., 0., 0.])\n",
    "B = torch.Tensor([0., 1., 0.])\n",
    "C = torch.Tensor([0., 0., 1.])\n",
    "\n",
    "AB = A + B\n",
    "AC = A + C\n",
    "BC = B + C\n",
    "ABC = A + B + C\n",
    "\n",
    "# 6A    4B     3C\n",
    "y = torch.Tensor([\n",
    "    [1., 0., 0.], # A\n",
    "    [0., 1., 0.], # B\n",
    "    [0., 0., 1.], # C\n",
    "    [1., 1., 0.], # AB\n",
    "    [1., 0., 1.], # AC\n",
    "    [1., 1., 0.], # AB\n",
    "    [1., 1., 1.], # ABC\n",
    "    [1., 0., 0.]  # A\n",
    "])\n",
    "\n",
    "e = 1e-7"
   ]
  },
  {
   "cell_type": "code",
   "execution_count": 25,
   "metadata": {
    "ExecuteTime": {
     "end_time": "2021-03-13T20:03:55.350597Z",
     "start_time": "2021-03-13T20:03:55.347627Z"
    }
   },
   "outputs": [
    {
     "data": {
      "text/plain": [
       "torch.Size([8, 3])"
      ]
     },
     "execution_count": 25,
     "metadata": {},
     "output_type": "execute_result"
    }
   ],
   "source": [
    "X.shape"
   ]
  },
  {
   "cell_type": "code",
   "execution_count": 28,
   "metadata": {
    "ExecuteTime": {
     "end_time": "2021-03-13T20:05:45.797525Z",
     "start_time": "2021-03-13T20:05:45.794612Z"
    }
   },
   "outputs": [],
   "source": [
    "preloss_pos = y * torch.log(X+e)\n",
    "preloss_neg = (1 - y) * torch.log(X+e)"
   ]
  },
  {
   "cell_type": "code",
   "execution_count": 34,
   "metadata": {
    "ExecuteTime": {
     "end_time": "2021-03-13T20:08:40.512721Z",
     "start_time": "2021-03-13T20:08:40.506855Z"
    }
   },
   "outputs": [
    {
     "name": "stdout",
     "output_type": "stream",
     "text": [
      "tensor(-16.1181)\n",
      "tensor(-16.1181)\n",
      "tensor(-16.1181)\n",
      "tensor(-16.1181)\n",
      "tensor(-16.1181)\n",
      "tensor(-16.1181)\n",
      "tensor(-16.1181)\n",
      "tensor(1.1921e-07)\n"
     ]
    }
   ],
   "source": [
    "for el in preloss_pos.sum(axis=1):\n",
    "    print(el)"
   ]
  },
  {
   "cell_type": "code",
   "execution_count": 35,
   "metadata": {
    "ExecuteTime": {
     "end_time": "2021-03-13T20:08:49.575757Z",
     "start_time": "2021-03-13T20:08:49.570182Z"
    }
   },
   "outputs": [
    {
     "name": "stdout",
     "output_type": "stream",
     "text": [
      "tensor(-32.2362)\n",
      "tensor(-16.1181)\n",
      "tensor(-16.1181)\n",
      "tensor(1.1921e-07)\n",
      "tensor(-16.1181)\n",
      "tensor(1.1921e-07)\n",
      "tensor(0.)\n",
      "tensor(2.3842e-07)\n"
     ]
    }
   ],
   "source": [
    "for el in preloss_neg.sum(axis=1):\n",
    "    print(el)"
   ]
  },
  {
   "cell_type": "code",
   "execution_count": 31,
   "metadata": {
    "ExecuteTime": {
     "end_time": "2021-03-13T20:07:37.542507Z",
     "start_time": "2021-03-13T20:07:37.540222Z"
    }
   },
   "outputs": [],
   "source": [
    "preloss = preloss_pos + preloss_neg"
   ]
  },
  {
   "cell_type": "code",
   "execution_count": 36,
   "metadata": {
    "ExecuteTime": {
     "end_time": "2021-03-13T20:08:58.543621Z",
     "start_time": "2021-03-13T20:08:58.538210Z"
    }
   },
   "outputs": [
    {
     "name": "stdout",
     "output_type": "stream",
     "text": [
      "tensor(-48.3543)\n",
      "tensor(-32.2362)\n",
      "tensor(-32.2362)\n",
      "tensor(-16.1181)\n",
      "tensor(-32.2362)\n",
      "tensor(-16.1181)\n",
      "tensor(-16.1181)\n",
      "tensor(3.5763e-07)\n"
     ]
    }
   ],
   "source": [
    "for el in preloss.sum(axis=1):\n",
    "    print(el)"
   ]
  },
  {
   "cell_type": "code",
   "execution_count": 38,
   "metadata": {
    "ExecuteTime": {
     "end_time": "2021-03-13T20:09:54.928378Z",
     "start_time": "2021-03-13T20:09:54.925017Z"
    }
   },
   "outputs": [
    {
     "data": {
      "text/plain": [
       "tensor(-8.0590)"
      ]
     },
     "execution_count": 38,
     "metadata": {},
     "output_type": "execute_result"
    }
   ],
   "source": [
    "preloss.mean()"
   ]
  },
  {
   "cell_type": "code",
   "execution_count": null,
   "metadata": {},
   "outputs": [],
   "source": []
  },
  {
   "cell_type": "code",
   "execution_count": null,
   "metadata": {},
   "outputs": [],
   "source": []
  },
  {
   "cell_type": "code",
   "execution_count": 2,
   "metadata": {
    "ExecuteTime": {
     "end_time": "2021-03-13T19:38:17.972991Z",
     "start_time": "2021-03-13T19:38:17.956737Z"
    }
   },
   "outputs": [],
   "source": [
    "X = torch.Tensor([0., 1., 1., 0., 1.])\n",
    "X2 = torch.Tensor([0.7971, 0.0775, 0.9842, 0.4109, 0.6770])\n",
    "y = torch.Tensor([0., 0., 0., 1., 1.])\n",
    "one = torch.ones(1)\n",
    "zero = torch.zeros(1)"
   ]
  },
  {
   "cell_type": "code",
   "execution_count": 3,
   "metadata": {
    "ExecuteTime": {
     "end_time": "2021-03-13T19:38:18.504678Z",
     "start_time": "2021-03-13T19:38:18.501867Z"
    }
   },
   "outputs": [],
   "source": [
    "mse = lambda X, y: ((X-y)**2).mean()\n",
    "rmse = lambda X, y: torch.sqrt(mse(X, y))"
   ]
  },
  {
   "cell_type": "code",
   "execution_count": 4,
   "metadata": {
    "ExecuteTime": {
     "end_time": "2021-03-13T19:38:19.106834Z",
     "start_time": "2021-03-13T19:38:19.104100Z"
    }
   },
   "outputs": [],
   "source": [
    "def kld(X, y, e=1e-7):\n",
    "    probs = (X+e) * torch.log((X+e) / (y+e))\n",
    "    return probs.mean()"
   ]
  },
  {
   "cell_type": "code",
   "execution_count": 5,
   "metadata": {
    "ExecuteTime": {
     "end_time": "2021-03-13T19:38:19.287745Z",
     "start_time": "2021-03-13T19:38:19.285041Z"
    }
   },
   "outputs": [],
   "source": [
    "def kld_max(X, y, eps=1e-7):\n",
    "    probs_1 = kld(X, y)\n",
    "    probs_2 = kld(y, X)\n",
    "    return probs_1 + probs_2"
   ]
  },
  {
   "cell_type": "code",
   "execution_count": 6,
   "metadata": {
    "ExecuteTime": {
     "end_time": "2021-03-13T19:38:19.492205Z",
     "start_time": "2021-03-13T19:38:19.489153Z"
    }
   },
   "outputs": [],
   "source": [
    "def cel(X, y, e=1e-7):\n",
    "    t1 = y * torch.log(X+e)\n",
    "    t2 = (1 - y) * torch.log(X+e)\n",
    "    return -(t1 + t2).mean()"
   ]
  },
  {
   "cell_type": "code",
   "execution_count": 15,
   "metadata": {
    "ExecuteTime": {
     "end_time": "2021-03-13T19:40:42.884701Z",
     "start_time": "2021-03-13T19:40:42.881301Z"
    }
   },
   "outputs": [],
   "source": [
    "class CustomLoss:\n",
    "    def __init__(self):\n",
    "        self.kl = NN.KLDivLoss()\n",
    "        self.cel = NN.BCELoss()\n",
    "    def __call__(self, X, y):\n",
    "        com_loss = self.kl(X, y) + self.cel(X, y)\n",
    "        return torch.pow(com_loss, 2.)"
   ]
  },
  {
   "cell_type": "code",
   "execution_count": 16,
   "metadata": {
    "ExecuteTime": {
     "end_time": "2021-03-13T19:40:43.979815Z",
     "start_time": "2021-03-13T19:40:43.976160Z"
    }
   },
   "outputs": [
    {
     "data": {
      "text/plain": [
       "tensor(3576.0398)"
      ]
     },
     "execution_count": 16,
     "metadata": {},
     "output_type": "execute_result"
    }
   ],
   "source": [
    "cust = CustomLoss()\n",
    "cust(X, y)"
   ]
  },
  {
   "cell_type": "code",
   "execution_count": 9,
   "metadata": {
    "ExecuteTime": {
     "end_time": "2021-03-13T19:38:22.210739Z",
     "start_time": "2021-03-13T19:38:22.206763Z"
    }
   },
   "outputs": [
    {
     "data": {
      "text/plain": [
       "tensor(-0.2000)"
      ]
     },
     "execution_count": 9,
     "metadata": {},
     "output_type": "execute_result"
    }
   ],
   "source": [
    "NN.KLDivLoss()(X, y)"
   ]
  },
  {
   "cell_type": "code",
   "execution_count": 10,
   "metadata": {
    "ExecuteTime": {
     "end_time": "2021-03-13T19:38:26.582991Z",
     "start_time": "2021-03-13T19:38:26.570882Z"
    }
   },
   "outputs": [
    {
     "name": "stdout",
     "output_type": "stream",
     "text": [
      "MSE: tensor(0.6000)\n",
      "RMSE: tensor(0.7746)\n",
      "CEL: tensor(6.4472)\n",
      "KLDXY: tensor(6.4472)\n",
      "KLDYX: tensor(3.2236)\n",
      "KLDMAX: tensor(9.6709)\n"
     ]
    }
   ],
   "source": [
    "print(\"MSE:\", mse(X, y))\n",
    "print(\"RMSE:\",rmse(X, y))\n",
    "print(\"CEL:\",cel(X, y))\n",
    "print(\"KLDXY:\",kld(X, y))\n",
    "print(\"KLDYX:\",kld(y, X))\n",
    "print(\"KLDMAX:\",kld_max(X, y))"
   ]
  },
  {
   "cell_type": "code",
   "execution_count": 9,
   "metadata": {
    "ExecuteTime": {
     "end_time": "2021-03-12T16:12:00.636082Z",
     "start_time": "2021-03-12T16:12:00.632572Z"
    }
   },
   "outputs": [
    {
     "data": {
      "text/plain": [
       "tensor(12.0886)"
      ]
     },
     "execution_count": 9,
     "metadata": {},
     "output_type": "execute_result"
    }
   ],
   "source": [
    "X3 = torch.Tensor([1, 1, 1, 1])\n",
    "y3 = torch.Tensor([0, 0, 0, 1])\n",
    "kld(X3, y3)"
   ]
  },
  {
   "cell_type": "code",
   "execution_count": 11,
   "metadata": {
    "ExecuteTime": {
     "end_time": "2021-03-13T19:38:52.125419Z",
     "start_time": "2021-03-13T19:38:52.121115Z"
    }
   },
   "outputs": [
    {
     "data": {
      "text/plain": [
       "tensor(-1.2089e-06)"
      ]
     },
     "execution_count": 11,
     "metadata": {},
     "output_type": "execute_result"
    }
   ],
   "source": [
    "X3 = torch.Tensor([0, 0, 0, 1])\n",
    "y3 = torch.Tensor([1, 1, 1, 1])\n",
    "kld(X3, y3)"
   ]
  },
  {
   "cell_type": "code",
   "execution_count": null,
   "metadata": {},
   "outputs": [],
   "source": []
  },
  {
   "cell_type": "code",
   "execution_count": 12,
   "metadata": {
    "ExecuteTime": {
     "end_time": "2021-03-13T19:38:54.741159Z",
     "start_time": "2021-03-13T19:38:54.738659Z"
    }
   },
   "outputs": [],
   "source": [
    "combs = [(zero, zero), (one, zero), (zero, one), (one, one)]"
   ]
  },
  {
   "cell_type": "code",
   "execution_count": 13,
   "metadata": {
    "ExecuteTime": {
     "end_time": "2021-03-13T19:38:55.130559Z",
     "start_time": "2021-03-13T19:38:55.124474Z"
    }
   },
   "outputs": [
    {
     "name": "stdout",
     "output_type": "stream",
     "text": [
      "(tensor([0.]), tensor([0.])) tensor(0.)\n",
      "(tensor([1.]), tensor([0.])) tensor(16.1181)\n",
      "(tensor([0.]), tensor([1.])) tensor(-1.6118e-06)\n",
      "(tensor([1.]), tensor([1.])) tensor(0.)\n"
     ]
    }
   ],
   "source": [
    "for comb in combs:\n",
    "    print(comb, kld(comb[0], comb[1]))"
   ]
  },
  {
   "cell_type": "code",
   "execution_count": 13,
   "metadata": {
    "ExecuteTime": {
     "end_time": "2021-03-12T16:12:00.650957Z",
     "start_time": "2021-03-12T16:12:00.649241Z"
    }
   },
   "outputs": [],
   "source": [
    "X2 = torch.rand(5)\n",
    "#y2 = (torch.rand(5) > 0.5).float()"
   ]
  },
  {
   "cell_type": "code",
   "execution_count": 14,
   "metadata": {
    "ExecuteTime": {
     "end_time": "2021-03-13T19:39:03.700595Z",
     "start_time": "2021-03-13T19:39:03.651560Z"
    }
   },
   "outputs": [
    {
     "ename": "NameError",
     "evalue": "name 'y2' is not defined",
     "output_type": "error",
     "traceback": [
      "\u001b[0;31m---------------------------------------------------------------------------\u001b[0m",
      "\u001b[0;31mNameError\u001b[0m                                 Traceback (most recent call last)",
      "\u001b[0;32m<ipython-input-14-05736f125acc>\u001b[0m in \u001b[0;36m<module>\u001b[0;34m\u001b[0m\n\u001b[0;32m----> 1\u001b[0;31m \u001b[0mkld\u001b[0m\u001b[0;34m(\u001b[0m\u001b[0mX2\u001b[0m\u001b[0;34m,\u001b[0m \u001b[0my2\u001b[0m\u001b[0;34m)\u001b[0m\u001b[0;34m\u001b[0m\u001b[0;34m\u001b[0m\u001b[0m\n\u001b[0m",
      "\u001b[0;31mNameError\u001b[0m: name 'y2' is not defined"
     ]
    }
   ],
   "source": [
    "kld(X2, y2)"
   ]
  },
  {
   "cell_type": "code",
   "execution_count": null,
   "metadata": {
    "ExecuteTime": {
     "end_time": "2021-03-12T16:12:00.709242Z",
     "start_time": "2021-03-12T16:12:00.300Z"
    }
   },
   "outputs": [],
   "source": [
    "X2"
   ]
  },
  {
   "cell_type": "code",
   "execution_count": null,
   "metadata": {},
   "outputs": [],
   "source": []
  }
 ],
 "metadata": {
  "kernelspec": {
   "display_name": "Python 3",
   "language": "python",
   "name": "python3"
  },
  "language_info": {
   "codemirror_mode": {
    "name": "ipython",
    "version": 3
   },
   "file_extension": ".py",
   "mimetype": "text/x-python",
   "name": "python",
   "nbconvert_exporter": "python",
   "pygments_lexer": "ipython3",
   "version": "3.8.8"
  },
  "varInspector": {
   "cols": {
    "lenName": 16,
    "lenType": 16,
    "lenVar": 40
   },
   "kernels_config": {
    "python": {
     "delete_cmd_postfix": "",
     "delete_cmd_prefix": "del ",
     "library": "var_list.py",
     "varRefreshCmd": "print(var_dic_list())"
    },
    "r": {
     "delete_cmd_postfix": ") ",
     "delete_cmd_prefix": "rm(",
     "library": "var_list.r",
     "varRefreshCmd": "cat(var_dic_list()) "
    }
   },
   "types_to_exclude": [
    "module",
    "function",
    "builtin_function_or_method",
    "instance",
    "_Feature"
   ],
   "window_display": false
  }
 },
 "nbformat": 4,
 "nbformat_minor": 4
}
