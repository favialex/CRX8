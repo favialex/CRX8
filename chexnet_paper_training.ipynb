{
 "cells": [
  {
   "cell_type": "code",
   "execution_count": null,
   "metadata": {
    "ExecuteTime": {
     "end_time": "2021-03-17T14:33:35.480229Z",
     "start_time": "2021-03-17T14:33:34.099444Z"
    }
   },
   "outputs": [],
   "source": [
    "from exp.utils import *\n",
    "from exp.models import *\n",
    "from exp.losses import *\n",
    "from tqdm.notebook import tqdm\n",
    "from multiprocessing import Pool\n",
    "\n",
    "import torch\n",
    "import torch.nn as NN\n",
    "from torch.utils.data import Dataset, DataLoader\n",
    "from torchvision import datasets, transforms\n",
    "from torchvision.transforms import ToTensor"
   ]
  },
  {
   "cell_type": "code",
   "execution_count": null,
   "metadata": {
    "ExecuteTime": {
     "end_time": "2021-03-17T14:33:35.483283Z",
     "start_time": "2021-03-17T14:33:35.481287Z"
    }
   },
   "outputs": [],
   "source": [
    "seed = 92\n",
    "seed_everything(seed)"
   ]
  },
  {
   "cell_type": "code",
   "execution_count": null,
   "metadata": {
    "ExecuteTime": {
     "end_time": "2021-03-17T14:33:35.602590Z",
     "start_time": "2021-03-17T14:33:35.485386Z"
    }
   },
   "outputs": [],
   "source": [
    "label = \"Cardiomegaly\"\n",
    "model_name = f\"chexnet_way_training_v1_{label}\"\n",
    "model_type = \"densenet\"\n",
    "bs = 16\n",
    "lr = 1e-3\n",
    "epochs = 50\n",
    "image_size = (224, 224)\n",
    "device = get_device()\n",
    "labels = get_labels()"
   ]
  },
  {
   "cell_type": "code",
   "execution_count": null,
   "metadata": {
    "ExecuteTime": {
     "end_time": "2021-03-17T14:33:36.393989Z",
     "start_time": "2021-03-17T14:33:35.603560Z"
    }
   },
   "outputs": [],
   "source": [
    "train_df, valid_df, test_df = get_dataframes(include_labels=labels, small=True, small_fraction=0.125)\n",
    "train_df.shape, valid_df.shape, test_df.shape"
   ]
  },
  {
   "cell_type": "code",
   "execution_count": null,
   "metadata": {
    "ExecuteTime": {
     "end_time": "2021-03-17T14:33:36.693572Z",
     "start_time": "2021-03-17T14:33:36.394881Z"
    }
   },
   "outputs": [],
   "source": [
    "train_df = get_binary_df(label, train_df)\n",
    "valid_df = get_binary_df(label, valid_df)\n",
    "test_df = get_binary_df(label, test_df)"
   ]
  },
  {
   "cell_type": "code",
   "execution_count": null,
   "metadata": {
    "ExecuteTime": {
     "end_time": "2021-03-17T14:33:36.698445Z",
     "start_time": "2021-03-17T14:33:36.694504Z"
    }
   },
   "outputs": [],
   "source": [
    "train_label = train_df[[label]].values\n",
    "neg_weights, pos_weights = compute_class_freqs(train_label)\n",
    "neg_weights, pos_weights = torch.Tensor(neg_weights), torch.Tensor(pos_weights)\n",
    "neg_weights, pos_weights"
   ]
  },
  {
   "cell_type": "code",
   "execution_count": null,
   "metadata": {
    "ExecuteTime": {
     "end_time": "2021-03-17T14:33:36.702099Z",
     "start_time": "2021-03-17T14:33:36.699946Z"
    }
   },
   "outputs": [],
   "source": [
    "train_tfs = transforms.Compose([\n",
    "        transforms.Normalize(IMAGENET_MEAN, IMAGENET_STD),\n",
    "        transforms.Resize(image_size),\n",
    "        transforms.RandomHorizontalFlip(p=0.5)\n",
    "    ])\n",
    "\n",
    "_, test_tfs = get_transforms(image_size=image_size)"
   ]
  },
  {
   "cell_type": "code",
   "execution_count": null,
   "metadata": {
    "ExecuteTime": {
     "end_time": "2021-03-17T14:33:36.711251Z",
     "start_time": "2021-03-17T14:33:36.703066Z"
    }
   },
   "outputs": [],
   "source": [
    "train_ds = CRX8_Data(train_df, get_image_path(), label, image_size=image_size, transforms=train_tfs)\n",
    "valid_ds = CRX8_Data(valid_df, get_image_path(), label, image_size=image_size, transforms=test_tfs)\n",
    "test_ds  = CRX8_Data(test_df , get_image_path(), label, image_size=image_size, transforms=test_tfs)"
   ]
  },
  {
   "cell_type": "code",
   "execution_count": null,
   "metadata": {
    "ExecuteTime": {
     "end_time": "2021-03-17T14:33:36.714814Z",
     "start_time": "2021-03-17T14:33:36.712318Z"
    }
   },
   "outputs": [],
   "source": [
    "train_dl = DataLoader(train_ds, batch_size=bs, shuffle=True)\n",
    "valid_dl = DataLoader(valid_ds, batch_size=bs, shuffle=False)\n",
    "test_dl  = DataLoader(test_ds,  batch_size=bs, shuffle=False)\n",
    "\n",
    "dataloaders = {\n",
    "    \"train\": train_dl,\n",
    "    \"val\": valid_dl,\n",
    "    \"test\": test_dl\n",
    "}"
   ]
  },
  {
   "cell_type": "code",
   "execution_count": null,
   "metadata": {
    "ExecuteTime": {
     "end_time": "2021-03-17T14:33:37.741737Z",
     "start_time": "2021-03-17T14:33:36.715610Z"
    }
   },
   "outputs": [],
   "source": [
    "criterion = get_weighted_loss_with_logits(pos_weights.to(device), neg_weights.to(device))"
   ]
  },
  {
   "cell_type": "code",
   "execution_count": null,
   "metadata": {
    "ExecuteTime": {
     "end_time": "2021-03-17T14:33:37.941865Z",
     "start_time": "2021-03-17T14:33:37.742735Z"
    }
   },
   "outputs": [],
   "source": [
    "model = pretrained_densenet121()\n",
    "model = model.to(device)"
   ]
  },
  {
   "cell_type": "code",
   "execution_count": null,
   "metadata": {
    "ExecuteTime": {
     "end_time": "2021-03-17T14:33:37.945897Z",
     "start_time": "2021-03-17T14:33:37.942636Z"
    }
   },
   "outputs": [],
   "source": [
    "model, fine_optimizer = fine_tune_setup(model, lr)"
   ]
  },
  {
   "cell_type": "code",
   "execution_count": null,
   "metadata": {
    "ExecuteTime": {
     "end_time": "2021-03-17T14:33:37.949343Z",
     "start_time": "2021-03-17T14:33:37.946601Z"
    }
   },
   "outputs": [],
   "source": [
    "scheduler = EmptyScheduler()"
   ]
  },
  {
   "cell_type": "code",
   "execution_count": null,
   "metadata": {
    "ExecuteTime": {
     "end_time": "2021-03-17T16:30:34.322979Z",
     "start_time": "2021-03-17T14:33:37.950189Z"
    },
    "scrolled": false
   },
   "outputs": [],
   "source": [
    "model, history = fit(model, criterion, fine_optimizer, \n",
    "                     scheduler, dataloaders, model_name,\n",
    "                     epochs, lr, patience=3, metric=\"loss\")"
   ]
  },
  {
   "cell_type": "code",
   "execution_count": null,
   "metadata": {},
   "outputs": [],
   "source": []
  },
  {
   "cell_type": "code",
   "execution_count": null,
   "metadata": {},
   "outputs": [],
   "source": []
  }
 ],
 "metadata": {
  "kernelspec": {
   "display_name": "Python 3",
   "language": "python",
   "name": "python3"
  },
  "language_info": {
   "codemirror_mode": {
    "name": "ipython",
    "version": 3
   },
   "file_extension": ".py",
   "mimetype": "text/x-python",
   "name": "python",
   "nbconvert_exporter": "python",
   "pygments_lexer": "ipython3",
   "version": "3.8.8"
  },
  "varInspector": {
   "cols": {
    "lenName": 16,
    "lenType": 16,
    "lenVar": 40
   },
   "kernels_config": {
    "python": {
     "delete_cmd_postfix": "",
     "delete_cmd_prefix": "del ",
     "library": "var_list.py",
     "varRefreshCmd": "print(var_dic_list())"
    },
    "r": {
     "delete_cmd_postfix": ") ",
     "delete_cmd_prefix": "rm(",
     "library": "var_list.r",
     "varRefreshCmd": "cat(var_dic_list()) "
    }
   },
   "types_to_exclude": [
    "module",
    "function",
    "builtin_function_or_method",
    "instance",
    "_Feature"
   ],
   "window_display": false
  }
 },
 "nbformat": 4,
 "nbformat_minor": 4
}
