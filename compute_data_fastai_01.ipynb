{
 "cells": [
  {
   "cell_type": "code",
   "execution_count": 1,
   "metadata": {
    "ExecuteTime": {
     "end_time": "2021-06-08T09:44:26.787086Z",
     "start_time": "2021-06-08T09:44:25.251076Z"
    }
   },
   "outputs": [],
   "source": [
    "from exp.utils import *\n",
    "from exp.models import *\n",
    "from exp.losses import *\n",
    "from fastai.vision.all import *\n",
    "from tqdm.notebook import tqdm\n",
    "from multiprocessing import Pool\n",
    "from PIL import Image\n",
    "\n",
    "import torch\n",
    "import torch.nn as NN\n",
    "from torch.utils.data import Dataset, DataLoader\n",
    "from torchvision import datasets, transforms"
   ]
  },
  {
   "cell_type": "code",
   "execution_count": 2,
   "metadata": {
    "ExecuteTime": {
     "end_time": "2021-06-08T09:44:26.831700Z",
     "start_time": "2021-06-08T09:44:26.830072Z"
    }
   },
   "outputs": [],
   "source": [
    "picked_labels = [\"Atelectasis\"]#[\"Atelectasis\", \"Cardiomegaly\", \"Pneumonia\"]\n",
    "p_dev_images = get_data_path()/\"dev_images\""
   ]
  },
  {
   "cell_type": "code",
   "execution_count": 3,
   "metadata": {
    "ExecuteTime": {
     "end_time": "2021-06-08T09:44:26.879443Z",
     "start_time": "2021-06-08T09:44:26.877112Z"
    }
   },
   "outputs": [],
   "source": [
    "def namify(label):\n",
    "    return \"\".join(label.split(\" \")).lower()\n",
    "\n",
    "def get_label_func(label):\n",
    "    return partial(partial_label_func, label)\n",
    "\n",
    "def partial_label_func(label, fname):\n",
    "    lbl = complete_df[complete_df[\"Image Index\"] == fname.name][label].values[0]\n",
    "    return \"Pos\" if lbl > 0 else \"Neg\"\n",
    "#model_name = f\"xresnet50_finetuned_{namify(label)}_v1\"\n",
    "\n",
    "\n",
    "architecture = \"xresnet50_finetuned\""
   ]
  },
  {
   "cell_type": "code",
   "execution_count": 4,
   "metadata": {
    "ExecuteTime": {
     "end_time": "2021-06-08T09:44:27.031502Z",
     "start_time": "2021-06-08T09:44:26.928607Z"
    }
   },
   "outputs": [
    {
     "name": "stdout",
     "output_type": "stream",
     "text": [
      "Using the GPU!\n"
     ]
    }
   ],
   "source": [
    "label = picked_labels[0]\n",
    "s = 224\n",
    "image_size = (s, s)\n",
    "labels = get_labels()\n",
    "bs = 16\n",
    "device = get_device()\n",
    "model_name = f\"{architecture}_{namify(label)}_v1\""
   ]
  },
  {
   "cell_type": "code",
   "execution_count": null,
   "metadata": {
    "ExecuteTime": {
     "end_time": "2021-06-08T09:19:19.028798Z",
     "start_time": "2021-06-08T09:19:17.926803Z"
    }
   },
   "outputs": [],
   "source": [
    "train_df, valid_df, test_df = get_dataframes(include_labels=get_labels(), \n",
    "                                                 small=False)\n",
    "#print(train_df.shape, valid_df.shape, test_df.shape)\n",
    "train_df = get_binary_df(label, train_df)\n",
    "valid_df = get_binary_df(label, valid_df)\n",
    "test_df  = get_binary_df(label, test_df)\n",
    "\n",
    "complete_df = pd.concat([train_df, valid_df, test_df])\n",
    "complete_df = complete_df.drop(columns=[\"Follow-up #\", \"Patient ID\", \"Patient Age\", \"Patient Gender\", \n",
    "                   \"View Position\", \"OriginalImage[Width\", \"Height]\", \n",
    "                   \"OriginalImagePixelSpacing[x\", \"y]\", \"No Finding\"])\n",
    "#train_df, valid_df, complete_df"
   ]
  },
  {
   "cell_type": "code",
   "execution_count": null,
   "metadata": {
    "ExecuteTime": {
     "end_time": "2021-06-08T09:19:28.227308Z",
     "start_time": "2021-06-08T09:19:22.680235Z"
    }
   },
   "outputs": [],
   "source": [
    "dblock = DataBlock(blocks    = (ImageBlock, CategoryBlock),\n",
    "                   get_items = get_image_files,\n",
    "                   get_y     = get_label_func(label),\n",
    "                   splitter  = RandomSplitter(),\n",
    "                   item_tfms = [Resize(224, \n",
    "                                       method=\"squish\", \n",
    "                                       pad_mode=\"zeros\")])\n",
    "dls = dblock.dataloaders(p_dev_images, bs=bs)"
   ]
  },
  {
   "cell_type": "code",
   "execution_count": null,
   "metadata": {},
   "outputs": [],
   "source": [
    "model = xresnet50(n_out=dls.c)\n",
    "learn = Learner(dls, \n",
    "                model, \n",
    "                loss_func=LabelSmoothingCrossEntropy(),\n",
    "                metrics=[accuracy, RocAucBinary()],\n",
    "                cbs=callbacks)"
   ]
  },
  {
   "cell_type": "code",
   "execution_count": null,
   "metadata": {},
   "outputs": [],
   "source": []
  },
  {
   "cell_type": "code",
   "execution_count": 5,
   "metadata": {
    "ExecuteTime": {
     "end_time": "2021-06-08T09:44:33.565074Z",
     "start_time": "2021-06-08T09:44:32.144519Z"
    }
   },
   "outputs": [
    {
     "data": {
      "text/plain": [
       "<All keys matched successfully>"
      ]
     },
     "execution_count": 5,
     "metadata": {},
     "output_type": "execute_result"
    }
   ],
   "source": [
    "model = xresnet50(n_out=2)\n",
    "\n",
    "#model = load_model(Path().cwd()/\"models\"/f\"{model_name}.pth\",\n",
    "#                   xresnet50(),\n",
    "#                   LabelSmoothingCrossEntropy(),\n",
    "#                   with_opt=False, device=device)\n",
    "model.load_state_dict(torch.load(Path().cwd()/\"models\"/f\"{model_name}.pth\")[\"model\"])\n",
    "#model.eval();\n",
    "#model = model.to(device)"
   ]
  },
  {
   "cell_type": "code",
   "execution_count": 6,
   "metadata": {
    "ExecuteTime": {
     "end_time": "2021-06-08T09:44:33.630276Z",
     "start_time": "2021-06-08T09:44:33.612244Z"
    }
   },
   "outputs": [],
   "source": [
    "model.eval();\n",
    "model = model.to(device)"
   ]
  },
  {
   "cell_type": "code",
   "execution_count": 7,
   "metadata": {
    "ExecuteTime": {
     "end_time": "2021-06-08T09:44:38.168719Z",
     "start_time": "2021-06-08T09:44:37.242239Z"
    }
   },
   "outputs": [],
   "source": [
    "train_df, _, test_df = get_dataframes(include_labels=labels, \n",
    "                                             small=False)\n",
    "\n",
    "train_df = get_binary_df(label, train_df)\n",
    "test_df = get_binary_df(label, test_df)"
   ]
  },
  {
   "cell_type": "code",
   "execution_count": 8,
   "metadata": {
    "ExecuteTime": {
     "end_time": "2021-06-08T09:44:38.258075Z",
     "start_time": "2021-06-08T09:44:38.250630Z"
    }
   },
   "outputs": [],
   "source": [
    "_, test_tfs = get_transforms(image_size=image_size)\n",
    "test_ds  = CRX8_Data(test_df , get_image_path(), label, image_size=image_size, transforms=test_tfs)\n",
    "test_dl  = DataLoader(test_ds,  batch_size=bs, shuffle=False)\n",
    "criterion = LabelSmoothingCrossEntropy()"
   ]
  },
  {
   "cell_type": "code",
   "execution_count": 9,
   "metadata": {
    "ExecuteTime": {
     "end_time": "2021-06-08T09:44:40.005109Z",
     "start_time": "2021-06-08T09:44:39.496004Z"
    }
   },
   "outputs": [],
   "source": [
    "dl_iter = test_dl._get_iterator()\n",
    "X, y = next(dl_iter)\n",
    "while y.sum() == 0:\n",
    "    X, y = next(dl_iter)\n",
    "X, y = X.to(device), y.to(device)"
   ]
  },
  {
   "cell_type": "code",
   "execution_count": null,
   "metadata": {
    "ExecuteTime": {
     "end_time": "2021-06-08T09:43:59.613065Z",
     "start_time": "2021-06-08T09:43:59.566429Z"
    }
   },
   "outputs": [],
   "source": [
    "nn.Softmax()(model(X)), y"
   ]
  },
  {
   "cell_type": "code",
   "execution_count": 10,
   "metadata": {
    "ExecuteTime": {
     "end_time": "2021-06-08T09:44:43.007028Z",
     "start_time": "2021-06-08T09:44:42.545002Z"
    }
   },
   "outputs": [
    {
     "name": "stderr",
     "output_type": "stream",
     "text": [
      "<ipython-input-10-5849c321ab69>:1: UserWarning: Implicit dimension choice for softmax has been deprecated. Change the call to include dim=X as an argument.\n",
      "  y_pred = nn.Softmax()(model(X))\n"
     ]
    }
   ],
   "source": [
    "y_pred = nn.Softmax()(model(X))"
   ]
  },
  {
   "cell_type": "code",
   "execution_count": 18,
   "metadata": {
    "ExecuteTime": {
     "end_time": "2021-06-08T09:46:42.526387Z",
     "start_time": "2021-06-08T09:46:42.501755Z"
    }
   },
   "outputs": [
    {
     "data": {
      "text/plain": [
       "tensor([0.9049, 0.9298, 0.9237, 0.9229, 0.9326, 0.9173, 0.9228, 0.9373, 0.9295,\n",
       "        0.9293, 0.9211, 0.9277, 0.9264, 0.9104, 0.9342, 0.9244],\n",
       "       device='cuda:0', grad_fn=<MaxBackward0>)"
      ]
     },
     "execution_count": 18,
     "metadata": {},
     "output_type": "execute_result"
    }
   ],
   "source": [
    "y_pred.max(dim=1).values"
   ]
  },
  {
   "cell_type": "code",
   "execution_count": null,
   "metadata": {},
   "outputs": [],
   "source": []
  },
  {
   "cell_type": "code",
   "execution_count": null,
   "metadata": {},
   "outputs": [],
   "source": []
  },
  {
   "cell_type": "code",
   "execution_count": null,
   "metadata": {},
   "outputs": [],
   "source": []
  },
  {
   "cell_type": "code",
   "execution_count": null,
   "metadata": {},
   "outputs": [],
   "source": []
  },
  {
   "cell_type": "code",
   "execution_count": null,
   "metadata": {},
   "outputs": [],
   "source": []
  },
  {
   "cell_type": "code",
   "execution_count": null,
   "metadata": {},
   "outputs": [],
   "source": []
  },
  {
   "cell_type": "code",
   "execution_count": null,
   "metadata": {},
   "outputs": [],
   "source": []
  },
  {
   "cell_type": "code",
   "execution_count": null,
   "metadata": {
    "ExecuteTime": {
     "end_time": "2021-06-08T09:26:10.863369Z",
     "start_time": "2021-06-08T09:26:09.795937Z"
    }
   },
   "outputs": [],
   "source": [
    "history = validate(model, \n",
    "             criterion, \n",
    "             test_dl, \n",
    "             model_name,\n",
    "             device=device)"
   ]
  },
  {
   "cell_type": "code",
   "execution_count": null,
   "metadata": {},
   "outputs": [],
   "source": []
  },
  {
   "cell_type": "code",
   "execution_count": null,
   "metadata": {
    "ExecuteTime": {
     "end_time": "2021-04-06T13:39:54.274883Z",
     "start_time": "2021-04-06T13:39:47.912008Z"
    }
   },
   "outputs": [],
   "source": [
    "#for label in picked_labels:\n",
    "for label in [\"Atelectasis\"]:\n",
    "    print(f\"Computing metrics for '{label}'\")\n",
    "    \n",
    "    seed = 92\n",
    "    model_name = f\"{architecture}_{namify(label)}_v1\"\n",
    "    print(model_name)\n",
    "    s = 224\n",
    "    image_size = (s, s)\n",
    "    labels = get_labels()\n",
    "    bs = 16\n",
    "    device = get_device()\n",
    "    \n",
    "    sigmoid = NN.Sigmoid()\n",
    "    model = load_model(model_name)\n",
    "    model.eval();\n",
    "    model = model.to(device)\n",
    "    \n",
    "    seed_everything(seed=seed)\n",
    "    \n",
    "    train_df, _, test_df = get_dataframes(include_labels=labels, \n",
    "                                             small=False)\n",
    "\n",
    "    train_df = get_binary_df(label, train_df)\n",
    "    test_df = get_binary_df(label, test_df)\n",
    "\n",
    "    train_label = train_df[[label]].values\n",
    "    neg_weights, pos_weights = compute_class_freqs(train_label)\n",
    "    neg_weights, pos_weights = torch.Tensor(neg_weights), torch.Tensor(pos_weights)\n",
    "\n",
    "    _, test_tfs = get_transforms(image_size=image_size)\n",
    "\n",
    "    test_ds  = CRX8_Data(test_df , get_image_path(), label, image_size=image_size, transforms=test_tfs)\n",
    "\n",
    "    test_dl  = DataLoader(test_ds,  batch_size=bs, shuffle=False)\n",
    "\n",
    "    criterion = get_weighted_loss_with_logits(pos_weights.to(device), \n",
    "                                              neg_weights.to(device))\n",
    "\n",
    "    history = validate(model, \n",
    "             criterion, \n",
    "             test_dl, \n",
    "             model_name,\n",
    "             device=device)\n",
    "    \n",
    "    tmp = history\n",
    "    tmp[\"loss\"] = tmp[\"loss\"].mean()\n",
    "    tmp = {k:[v] for k, v in tmp.items()}\n",
    "    model_metrics = pd.DataFrame(tmp.values(), index=tmp.keys(), columns=[model_name])\n",
    "    #save_metrics(model_metrics, model_name)\n",
    "    \n",
    "FERTIG()"
   ]
  },
  {
   "cell_type": "code",
   "execution_count": null,
   "metadata": {},
   "outputs": [],
   "source": [
    "model_metrics"
   ]
  }
 ],
 "metadata": {
  "kernelspec": {
   "display_name": "Python 3",
   "language": "python",
   "name": "python3"
  },
  "language_info": {
   "codemirror_mode": {
    "name": "ipython",
    "version": 3
   },
   "file_extension": ".py",
   "mimetype": "text/x-python",
   "name": "python",
   "nbconvert_exporter": "python",
   "pygments_lexer": "ipython3",
   "version": "3.8.8"
  },
  "varInspector": {
   "cols": {
    "lenName": 16,
    "lenType": 16,
    "lenVar": 40
   },
   "kernels_config": {
    "python": {
     "delete_cmd_postfix": "",
     "delete_cmd_prefix": "del ",
     "library": "var_list.py",
     "varRefreshCmd": "print(var_dic_list())"
    },
    "r": {
     "delete_cmd_postfix": ") ",
     "delete_cmd_prefix": "rm(",
     "library": "var_list.r",
     "varRefreshCmd": "cat(var_dic_list()) "
    }
   },
   "types_to_exclude": [
    "module",
    "function",
    "builtin_function_or_method",
    "instance",
    "_Feature"
   ],
   "window_display": false
  }
 },
 "nbformat": 4,
 "nbformat_minor": 4
}
