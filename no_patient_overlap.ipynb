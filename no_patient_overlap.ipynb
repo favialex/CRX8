{
 "cells": [
  {
   "cell_type": "code",
   "execution_count": 2,
   "metadata": {
    "ExecuteTime": {
     "end_time": "2021-03-26T14:38:58.065331Z",
     "start_time": "2021-03-26T14:38:56.657293Z"
    }
   },
   "outputs": [],
   "source": [
    "from exp.utils import *\n",
    "from exp.models import *\n",
    "from exp.losses import *\n",
    "from tqdm.notebook import tqdm\n",
    "from multiprocessing import Pool\n",
    "from collections import Counter\n",
    "\n",
    "import torch\n",
    "import torch.nn as NN\n",
    "from torch.utils.data import Dataset, DataLoader\n",
    "from torchvision import datasets, transforms"
   ]
  },
  {
   "cell_type": "code",
   "execution_count": 3,
   "metadata": {
    "ExecuteTime": {
     "end_time": "2021-03-26T14:38:58.104531Z",
     "start_time": "2021-03-26T14:38:58.102706Z"
    }
   },
   "outputs": [],
   "source": [
    "shuffle_df = lambda df: df.sample(frac=1)"
   ]
  },
  {
   "cell_type": "code",
   "execution_count": 4,
   "metadata": {
    "ExecuteTime": {
     "end_time": "2021-03-26T14:38:58.249451Z",
     "start_time": "2021-03-26T14:38:58.147760Z"
    }
   },
   "outputs": [],
   "source": [
    "labels = get_labels()\n",
    "label = labels[0]"
   ]
  },
  {
   "cell_type": "code",
   "execution_count": 5,
   "metadata": {
    "ExecuteTime": {
     "end_time": "2021-03-26T14:38:58.290761Z",
     "start_time": "2021-03-26T14:38:58.288652Z"
    }
   },
   "outputs": [],
   "source": [
    "# Seed\n",
    "seed = 92\n",
    "seed_everything(seed)\n",
    "\n",
    "# Load data\n",
    "#train_df, valid_df, test_df = get_dataframes(include_labels=labels, \n",
    "#                                             small=False)"
   ]
  },
  {
   "cell_type": "code",
   "execution_count": 6,
   "metadata": {
    "ExecuteTime": {
     "end_time": "2021-03-26T14:38:58.396784Z",
     "start_time": "2021-03-26T14:38:58.388283Z"
    }
   },
   "outputs": [],
   "source": []
  },
  {
   "cell_type": "code",
   "execution_count": 7,
   "metadata": {
    "ExecuteTime": {
     "end_time": "2021-03-26T14:39:01.002798Z",
     "start_time": "2021-03-26T14:39:01.000841Z"
    }
   },
   "outputs": [],
   "source": [
    "#train_df.head()"
   ]
  },
  {
   "cell_type": "code",
   "execution_count": 8,
   "metadata": {
    "ExecuteTime": {
     "end_time": "2021-03-26T14:39:01.177195Z",
     "start_time": "2021-03-26T14:39:01.175553Z"
    }
   },
   "outputs": [],
   "source": [
    "#train_df, test_df = get_label_dfs(reduced=False)"
   ]
  },
  {
   "cell_type": "code",
   "execution_count": 9,
   "metadata": {
    "ExecuteTime": {
     "end_time": "2021-03-26T14:39:01.368883Z",
     "start_time": "2021-03-26T14:39:01.366989Z"
    }
   },
   "outputs": [],
   "source": [
    "#train_df.head()"
   ]
  },
  {
   "cell_type": "code",
   "execution_count": null,
   "metadata": {},
   "outputs": [],
   "source": []
  },
  {
   "cell_type": "code",
   "execution_count": 10,
   "metadata": {
    "ExecuteTime": {
     "end_time": "2021-03-26T14:39:02.761768Z",
     "start_time": "2021-03-26T14:39:02.128854Z"
    }
   },
   "outputs": [],
   "source": [
    "#val_size = 0.2\n",
    "train_valid_df, test_df = get_label_dfs(reduced=False)"
   ]
  },
  {
   "cell_type": "code",
   "execution_count": 13,
   "metadata": {
    "ExecuteTime": {
     "end_time": "2021-03-26T14:39:35.530874Z",
     "start_time": "2021-03-26T14:39:35.433492Z"
    }
   },
   "outputs": [],
   "source": [
    "train_df, valid_df = get_train_valid(train_valid_df)"
   ]
  },
  {
   "cell_type": "code",
   "execution_count": 14,
   "metadata": {
    "ExecuteTime": {
     "end_time": "2021-03-26T14:39:37.818323Z",
     "start_time": "2021-03-26T14:39:37.799097Z"
    }
   },
   "outputs": [
    {
     "data": {
      "text/plain": [
       "False"
      ]
     },
     "execution_count": 14,
     "metadata": {},
     "output_type": "execute_result"
    }
   ],
   "source": [
    "check_for_leakage(train_df, valid_df)"
   ]
  },
  {
   "cell_type": "code",
   "execution_count": null,
   "metadata": {
    "ExecuteTime": {
     "end_time": "2021-03-26T13:24:12.608722Z",
     "start_time": "2021-03-26T13:24:12.606111Z"
    }
   },
   "outputs": [],
   "source": []
  },
  {
   "cell_type": "code",
   "execution_count": null,
   "metadata": {
    "ExecuteTime": {
     "end_time": "2021-03-26T13:42:31.185245Z",
     "start_time": "2021-03-26T13:42:31.183024Z"
    }
   },
   "outputs": [],
   "source": [
    "import time"
   ]
  },
  {
   "cell_type": "code",
   "execution_count": null,
   "metadata": {
    "ExecuteTime": {
     "end_time": "2021-03-26T13:42:47.488448Z",
     "start_time": "2021-03-26T13:42:47.485239Z"
    }
   },
   "outputs": [],
   "source": []
  },
  {
   "cell_type": "code",
   "execution_count": null,
   "metadata": {
    "ExecuteTime": {
     "end_time": "2021-03-26T13:49:52.262107Z",
     "start_time": "2021-03-26T13:46:42.427048Z"
    }
   },
   "outputs": [],
   "source": [
    "train = pd.DataFrame()\n",
    "valid = pd.DataFrame()\n",
    "\n",
    "timings = {\"starts\": [], \"after_calcs\": [], \"after_queries\": []}\n",
    "\n",
    "\n",
    "\n",
    "for pid, _ in tqdm(patients):\n",
    "    timings[\"starts\"].append(time.time())\n",
    "    train_fill = train.shape[0] / train_size\n",
    "    valid_fill = valid.shape[0] / valid_size\n",
    "    timings[\"after_calcs\"].append(time.time())\n",
    "    if train_fill <= valid_fill:\n",
    "        train = pd.concat([train, train_df[train_df[\"Patient ID\"] == pid]])\n",
    "    else:\n",
    "        valid = pd.concat([valid, train_df[train_df[\"Patient ID\"] == pid]])\n",
    "    timings[\"after_queries\"].append(time.time())\n",
    "    \n",
    "    \n"
   ]
  },
  {
   "cell_type": "code",
   "execution_count": null,
   "metadata": {
    "ExecuteTime": {
     "end_time": "2021-03-26T13:55:19.323505Z",
     "start_time": "2021-03-26T13:55:19.314210Z"
    }
   },
   "outputs": [],
   "source": [
    "print(\"Calcs\", (np.array(timings[\"after_calcs\"]) - np.array(timings[\"starts\"])).mean())\n",
    "print(\"Queries\", (np.array(timings[\"after_queries\"]) - np.array(timings[\"after_calcs\"])).mean())"
   ]
  },
  {
   "cell_type": "code",
   "execution_count": null,
   "metadata": {
    "ExecuteTime": {
     "end_time": "2021-03-26T14:01:05.699194Z",
     "start_time": "2021-03-26T14:01:05.695726Z"
    }
   },
   "outputs": [],
   "source": [
    "\n",
    "patient_id_idx"
   ]
  },
  {
   "cell_type": "code",
   "execution_count": null,
   "metadata": {
    "ExecuteTime": {
     "end_time": "2021-03-26T14:12:32.694555Z",
     "start_time": "2021-03-26T14:12:32.690940Z"
    }
   },
   "outputs": [],
   "source": [
    "train_df.index"
   ]
  },
  {
   "cell_type": "code",
   "execution_count": null,
   "metadata": {
    "ExecuteTime": {
     "end_time": "2021-03-26T14:17:15.374543Z",
     "start_time": "2021-03-26T14:17:15.179405Z"
    }
   },
   "outputs": [],
   "source": [
    "train_d = pd.DataFrame(train_d)\n",
    "tmp_idx = train_d[\"tmp_index\"].values\n",
    "train_d = train_d.drop(columns=\"tmp_index\")\n",
    "train_d.index= tmp_idx\n",
    "train_d"
   ]
  },
  {
   "cell_type": "code",
   "execution_count": null,
   "metadata": {
    "ExecuteTime": {
     "end_time": "2021-03-26T14:21:28.948220Z",
     "start_time": "2021-03-26T14:21:28.944183Z"
    }
   },
   "outputs": [],
   "source": [
    "idx = np.where(train_df.index.values == 82650)[0]\n",
    "idx\n",
    "train_df.iloc[idx, 17]"
   ]
  },
  {
   "cell_type": "code",
   "execution_count": null,
   "metadata": {
    "ExecuteTime": {
     "end_time": "2021-03-26T14:22:04.876683Z",
     "start_time": "2021-03-26T14:22:04.871803Z"
    }
   },
   "outputs": [],
   "source": [
    "idx = np.where(train_d.index.values == 82650)[0]\n",
    "idx\n",
    "train_d.iloc[idx, 17]"
   ]
  },
  {
   "cell_type": "code",
   "execution_count": null,
   "metadata": {},
   "outputs": [],
   "source": []
  },
  {
   "cell_type": "code",
   "execution_count": null,
   "metadata": {},
   "outputs": [],
   "source": []
  },
  {
   "cell_type": "code",
   "execution_count": null,
   "metadata": {
    "ExecuteTime": {
     "end_time": "2021-03-26T14:07:17.026746Z",
     "start_time": "2021-03-26T14:07:17.021667Z"
    }
   },
   "outputs": [],
   "source": [
    "indices = np.where(train_v[:,patient_id_idx] == 5)[0]\n",
    "\n",
    "\n",
    "\n",
    "\n"
   ]
  },
  {
   "cell_type": "code",
   "execution_count": null,
   "metadata": {
    "ExecuteTime": {
     "end_time": "2021-03-26T14:03:38.457572Z",
     "start_time": "2021-03-26T14:03:38.454007Z"
    }
   },
   "outputs": [],
   "source": [
    "train_v[indices,18]"
   ]
  },
  {
   "cell_type": "code",
   "execution_count": null,
   "metadata": {
    "ExecuteTime": {
     "end_time": "2021-03-26T14:01:34.891853Z",
     "start_time": "2021-03-26T14:01:34.872029Z"
    }
   },
   "outputs": [],
   "source": [
    "train_df.head(10)"
   ]
  },
  {
   "cell_type": "code",
   "execution_count": null,
   "metadata": {},
   "outputs": [],
   "source": []
  },
  {
   "cell_type": "code",
   "execution_count": null,
   "metadata": {
    "ExecuteTime": {
     "end_time": "2021-03-26T13:53:39.566675Z",
     "start_time": "2021-03-26T13:53:39.564128Z"
    }
   },
   "outputs": [],
   "source": [
    "tmp[3]"
   ]
  },
  {
   "cell_type": "code",
   "execution_count": null,
   "metadata": {
    "ExecuteTime": {
     "end_time": "2021-03-26T13:54:13.131248Z",
     "start_time": "2021-03-26T13:54:13.100757Z"
    }
   },
   "outputs": [],
   "source": [
    "train_df"
   ]
  },
  {
   "cell_type": "code",
   "execution_count": null,
   "metadata": {
    "ExecuteTime": {
     "end_time": "2021-03-26T13:49:52.980784Z",
     "start_time": "2021-03-26T13:49:52.928264Z"
    }
   },
   "outputs": [],
   "source": [
    "train_df.shape, train_df.values.shape"
   ]
  },
  {
   "cell_type": "code",
   "execution_count": null,
   "metadata": {
    "ExecuteTime": {
     "end_time": "2021-03-26T13:50:03.839721Z",
     "start_time": "2021-03-26T13:50:03.817487Z"
    }
   },
   "outputs": [],
   "source": [
    "train_df.head()"
   ]
  },
  {
   "cell_type": "code",
   "execution_count": null,
   "metadata": {
    "ExecuteTime": {
     "end_time": "2021-03-26T13:50:32.626000Z",
     "start_time": "2021-03-26T13:50:32.622842Z"
    }
   },
   "outputs": [],
   "source": [
    "train_df.index.values"
   ]
  },
  {
   "cell_type": "code",
   "execution_count": null,
   "metadata": {},
   "outputs": [],
   "source": []
  },
  {
   "cell_type": "code",
   "execution_count": null,
   "metadata": {},
   "outputs": [],
   "source": []
  },
  {
   "cell_type": "code",
   "execution_count": null,
   "metadata": {},
   "outputs": [],
   "source": []
  },
  {
   "cell_type": "code",
   "execution_count": null,
   "metadata": {
    "ExecuteTime": {
     "end_time": "2021-03-26T13:36:31.037451Z",
     "start_time": "2021-03-26T13:36:31.034101Z"
    }
   },
   "outputs": [],
   "source": [
    "train.shape, valid.shape"
   ]
  },
  {
   "cell_type": "code",
   "execution_count": null,
   "metadata": {
    "ExecuteTime": {
     "end_time": "2021-03-26T13:37:14.254865Z",
     "start_time": "2021-03-26T13:37:14.238425Z"
    }
   },
   "outputs": [],
   "source": [
    "set(train[\"Patient ID\"].values).intersection(valid[\"Patient ID\"].values)"
   ]
  },
  {
   "cell_type": "code",
   "execution_count": null,
   "metadata": {
    "ExecuteTime": {
     "end_time": "2021-03-26T13:37:45.572293Z",
     "start_time": "2021-03-26T13:37:45.569269Z"
    }
   },
   "outputs": [],
   "source": [
    "train_size"
   ]
  },
  {
   "cell_type": "code",
   "execution_count": null,
   "metadata": {},
   "outputs": [],
   "source": [
    "train_d = {k, v for k, v in }"
   ]
  },
  {
   "cell_type": "code",
   "execution_count": null,
   "metadata": {
    "ExecuteTime": {
     "end_time": "2021-03-26T13:39:33.412190Z",
     "start_time": "2021-03-26T13:39:33.178566Z"
    }
   },
   "outputs": [],
   "source": [
    "plt.hist(train[\"Patient ID\"].values, bins=200);"
   ]
  },
  {
   "cell_type": "code",
   "execution_count": null,
   "metadata": {
    "ExecuteTime": {
     "end_time": "2021-03-26T13:39:44.919956Z",
     "start_time": "2021-03-26T13:39:44.618803Z"
    }
   },
   "outputs": [],
   "source": [
    "plt.hist(valid[\"Patient ID\"].values, bins=200);"
   ]
  },
  {
   "cell_type": "code",
   "execution_count": null,
   "metadata": {},
   "outputs": [],
   "source": []
  },
  {
   "cell_type": "code",
   "execution_count": null,
   "metadata": {
    "ExecuteTime": {
     "end_time": "2021-03-26T13:26:34.636092Z",
     "start_time": "2021-03-26T13:26:34.605558Z"
    }
   },
   "outputs": [],
   "source": [
    "train_df"
   ]
  },
  {
   "cell_type": "code",
   "execution_count": null,
   "metadata": {
    "ExecuteTime": {
     "end_time": "2021-03-26T13:28:10.157280Z",
     "start_time": "2021-03-26T13:28:10.153161Z"
    }
   },
   "outputs": [],
   "source": [
    "a = train_df[train_df[\"Patient ID\"] == 1]\n",
    "b = train_df[train_df[\"Patient ID\"] == 2]"
   ]
  },
  {
   "cell_type": "code",
   "execution_count": null,
   "metadata": {
    "ExecuteTime": {
     "end_time": "2021-03-26T13:28:44.010726Z",
     "start_time": "2021-03-26T13:28:43.990842Z"
    }
   },
   "outputs": [],
   "source": [
    "c = pd.DataFrame()\n",
    "\n",
    "\n",
    "c = pd.concat([c, a])\n",
    "c = pd.concat([c, b])\n",
    "c"
   ]
  },
  {
   "cell_type": "code",
   "execution_count": null,
   "metadata": {},
   "outputs": [],
   "source": []
  },
  {
   "cell_type": "code",
   "execution_count": null,
   "metadata": {},
   "outputs": [],
   "source": []
  },
  {
   "cell_type": "code",
   "execution_count": null,
   "metadata": {},
   "outputs": [],
   "source": []
  },
  {
   "cell_type": "code",
   "execution_count": null,
   "metadata": {},
   "outputs": [],
   "source": []
  },
  {
   "cell_type": "code",
   "execution_count": null,
   "metadata": {},
   "outputs": [],
   "source": []
  },
  {
   "cell_type": "code",
   "execution_count": null,
   "metadata": {},
   "outputs": [],
   "source": []
  },
  {
   "cell_type": "code",
   "execution_count": null,
   "metadata": {},
   "outputs": [],
   "source": []
  },
  {
   "cell_type": "code",
   "execution_count": null,
   "metadata": {},
   "outputs": [],
   "source": []
  },
  {
   "cell_type": "code",
   "execution_count": null,
   "metadata": {},
   "outputs": [],
   "source": []
  },
  {
   "cell_type": "code",
   "execution_count": null,
   "metadata": {},
   "outputs": [],
   "source": []
  },
  {
   "cell_type": "code",
   "execution_count": null,
   "metadata": {},
   "outputs": [],
   "source": []
  },
  {
   "cell_type": "code",
   "execution_count": null,
   "metadata": {
    "ExecuteTime": {
     "end_time": "2021-03-26T13:03:13.271209Z",
     "start_time": "2021-03-26T13:03:13.268136Z"
    }
   },
   "outputs": [],
   "source": [
    "type(round(8.50))"
   ]
  },
  {
   "cell_type": "code",
   "execution_count": null,
   "metadata": {
    "ExecuteTime": {
     "end_time": "2021-03-26T13:09:36.064459Z",
     "start_time": "2021-03-26T13:09:36.058155Z"
    }
   },
   "outputs": [],
   "source": [
    "\n",
    "\n",
    "def get_train_valid(df, val_size=0.2, remove_from_train=True):\n",
    "    cutoff = round(df.shape[0] * (1 - val_size))\n",
    "    shuffled = shuffle_df(df)\n",
    "    train_df = shuffled.iloc[:cutoff, :]\n",
    "    valid_df = shuffled.iloc[cutoff:, :]\n",
    "    \n",
    "    print(\"Before drop:\", train_df.shape[0], valid_df.shape[0])\n",
    "    \n",
    "    \n",
    "    ids_train_set = set(train_df[\"Patient ID\"].values)\n",
    "    ids_valid_set = set(valid_df[\"Patient ID\"].values)\n",
    "    \n",
    "    patient_overlap = list(ids_train_set.intersection(ids_valid_set))\n",
    "    n_overlap = len(patient_overlap)\n",
    "    \n",
    "    train_overlap_idxs = []\n",
    "    valid_overlap_idxs = []\n",
    "    for idx in range(n_overlap):\n",
    "        train_overlap_idxs.extend(\n",
    "            train_df.index[train_df['Patient ID'] == patient_overlap[idx]].tolist())\n",
    "        valid_overlap_idxs.extend(\n",
    "            valid_df.index[valid_df['Patient ID'] == patient_overlap[idx]].tolist())\n",
    "\n",
    "    if remove_from_train: train_df.drop(train_overlap_idxs, inplace=True)\n",
    "    else: valid_df.drop(valid_overlap_idxs, inplace=True)\n",
    "    print(\"After drop:\", train_df.shape[0], valid_df.shape[0])\n",
    "    return train_df, valid_df\n"
   ]
  },
  {
   "cell_type": "code",
   "execution_count": null,
   "metadata": {
    "ExecuteTime": {
     "end_time": "2021-03-26T13:10:07.079970Z",
     "start_time": "2021-03-26T13:10:04.637645Z"
    }
   },
   "outputs": [],
   "source": [
    "a, b = get_train_valid(train_df, remove_from_train=False)"
   ]
  },
  {
   "cell_type": "code",
   "execution_count": null,
   "metadata": {
    "ExecuteTime": {
     "end_time": "2021-03-26T13:07:56.145347Z",
     "start_time": "2021-03-26T13:07:56.142008Z"
    }
   },
   "outputs": [],
   "source": [
    "train_df.shape, a.shape, b.shape"
   ]
  },
  {
   "cell_type": "code",
   "execution_count": null,
   "metadata": {
    "ExecuteTime": {
     "end_time": "2021-03-26T12:52:52.008161Z",
     "start_time": "2021-03-26T12:52:51.967423Z"
    }
   },
   "outputs": [],
   "source": [
    "shuffled = shuffle_df(train_df)\n",
    "shuffled"
   ]
  },
  {
   "cell_type": "code",
   "execution_count": null,
   "metadata": {
    "ExecuteTime": {
     "end_time": "2021-03-26T12:53:37.952484Z",
     "start_time": "2021-03-26T12:53:37.949193Z"
    }
   },
   "outputs": [],
   "source": [
    "train_df.shape, shuffled.shape"
   ]
  },
  {
   "cell_type": "code",
   "execution_count": null,
   "metadata": {
    "ExecuteTime": {
     "end_time": "2021-03-26T12:54:28.209431Z",
     "start_time": "2021-03-26T12:54:28.206853Z"
    }
   },
   "outputs": [],
   "source": [
    "ids_train = train_df[\"Patient ID\"].values\n",
    "ids_valid = valid_df[\"Patient ID\"].values"
   ]
  },
  {
   "cell_type": "code",
   "execution_count": null,
   "metadata": {
    "ExecuteTime": {
     "end_time": "2021-03-26T12:55:04.403480Z",
     "start_time": "2021-03-26T12:55:04.384999Z"
    }
   },
   "outputs": [],
   "source": [
    "ids_train_set = set(ids_train)\n",
    "ids_valid_set = set(ids_valid)"
   ]
  },
  {
   "cell_type": "code",
   "execution_count": null,
   "metadata": {
    "ExecuteTime": {
     "end_time": "2021-03-26T12:55:59.890568Z",
     "start_time": "2021-03-26T12:55:59.887994Z"
    }
   },
   "outputs": [],
   "source": [
    "print(f\"Train patients: {len(ids_train_set)}\\nValid patients: {len(ids_valid_set)}\")"
   ]
  },
  {
   "cell_type": "code",
   "execution_count": null,
   "metadata": {
    "ExecuteTime": {
     "end_time": "2021-03-26T12:57:44.643830Z",
     "start_time": "2021-03-26T12:57:44.638823Z"
    }
   },
   "outputs": [],
   "source": [
    "patient_overlap = list(ids_train_set.intersection(ids_valid_set))\n",
    "n_overlap = len(patient_overlap)\n",
    "n_overlap"
   ]
  },
  {
   "cell_type": "code",
   "execution_count": null,
   "metadata": {
    "ExecuteTime": {
     "end_time": "2021-03-26T12:58:00.313972Z",
     "start_time": "2021-03-26T12:57:56.568029Z"
    }
   },
   "outputs": [],
   "source": [
    "train_overlap_idxs = []\n",
    "valid_overlap_idxs = []\n",
    "for idx in range(n_overlap):\n",
    "    train_overlap_idxs.extend(train_df.index[train_df['Patient ID'] == patient_overlap[idx]].tolist())\n",
    "    valid_overlap_idxs.extend(valid_df.index[valid_df['Patient ID'] == patient_overlap[idx]].tolist())\n",
    "    \n",
    "print(f'These are the indices of overlapping patients in the training set: ')\n",
    "print(f'{train_overlap_idxs}')\n",
    "print(f'These are the indices of overlapping patients in the validation set: ')\n",
    "print(f'{valid_overlap_idxs}')"
   ]
  },
  {
   "cell_type": "code",
   "execution_count": null,
   "metadata": {
    "ExecuteTime": {
     "end_time": "2021-03-26T12:58:24.396773Z",
     "start_time": "2021-03-26T12:58:24.389879Z"
    }
   },
   "outputs": [],
   "source": [
    "valid_df.drop(valid_overlap_idxs, inplace=True)"
   ]
  },
  {
   "cell_type": "code",
   "execution_count": null,
   "metadata": {
    "ExecuteTime": {
     "end_time": "2021-03-26T12:58:32.809906Z",
     "start_time": "2021-03-26T12:58:32.798247Z"
    }
   },
   "outputs": [],
   "source": [
    "valid_df"
   ]
  },
  {
   "cell_type": "code",
   "execution_count": null,
   "metadata": {},
   "outputs": [],
   "source": []
  },
  {
   "cell_type": "code",
   "execution_count": null,
   "metadata": {},
   "outputs": [],
   "source": []
  },
  {
   "cell_type": "code",
   "execution_count": null,
   "metadata": {},
   "outputs": [],
   "source": []
  },
  {
   "cell_type": "code",
   "execution_count": null,
   "metadata": {},
   "outputs": [],
   "source": []
  },
  {
   "cell_type": "code",
   "execution_count": null,
   "metadata": {},
   "outputs": [],
   "source": []
  },
  {
   "cell_type": "code",
   "execution_count": null,
   "metadata": {},
   "outputs": [],
   "source": []
  },
  {
   "cell_type": "code",
   "execution_count": null,
   "metadata": {},
   "outputs": [],
   "source": []
  },
  {
   "cell_type": "code",
   "execution_count": null,
   "metadata": {},
   "outputs": [],
   "source": []
  },
  {
   "cell_type": "code",
   "execution_count": null,
   "metadata": {},
   "outputs": [],
   "source": []
  },
  {
   "cell_type": "code",
   "execution_count": null,
   "metadata": {},
   "outputs": [],
   "source": []
  },
  {
   "cell_type": "code",
   "execution_count": null,
   "metadata": {},
   "outputs": [],
   "source": []
  },
  {
   "cell_type": "code",
   "execution_count": null,
   "metadata": {
    "ExecuteTime": {
     "end_time": "2021-03-25T12:33:07.293387Z",
     "start_time": "2021-03-25T12:33:07.291777Z"
    }
   },
   "outputs": [],
   "source": [
    "from collections import Counter"
   ]
  },
  {
   "cell_type": "code",
   "execution_count": null,
   "metadata": {
    "ExecuteTime": {
     "end_time": "2021-03-25T12:33:07.674444Z",
     "start_time": "2021-03-25T12:33:07.660038Z"
    }
   },
   "outputs": [],
   "source": [
    "counter = Counter(train_df[\"Patient ID\"].values)"
   ]
  },
  {
   "cell_type": "code",
   "execution_count": null,
   "metadata": {
    "ExecuteTime": {
     "end_time": "2021-03-25T12:33:08.281473Z",
     "start_time": "2021-03-25T12:33:08.274572Z"
    }
   },
   "outputs": [],
   "source": [
    "test = counter.most_common()\n",
    "value = [a for _, a in test]\n",
    "weight = [1 for _ in test]"
   ]
  },
  {
   "cell_type": "code",
   "execution_count": null,
   "metadata": {
    "ExecuteTime": {
     "end_time": "2021-03-25T12:33:09.118476Z",
     "start_time": "2021-03-25T12:33:09.116816Z"
    }
   },
   "outputs": [],
   "source": [
    "val_size = 0.2 * train_df.shape[0]"
   ]
  },
  {
   "cell_type": "code",
   "execution_count": null,
   "metadata": {
    "ExecuteTime": {
     "end_time": "2021-03-25T13:20:41.564872Z",
     "start_time": "2021-03-25T13:20:41.560644Z"
    }
   },
   "outputs": [],
   "source": [
    "z = torch.ones((1, 2), requires_grad=True)\n",
    "a = torch.Tensor([0.1, .6]) + z\n",
    "b = torch.Tensor([0.1, .6])\n",
    "c = a + b\n",
    "c.requires_grad"
   ]
  },
  {
   "cell_type": "code",
   "execution_count": null,
   "metadata": {
    "ExecuteTime": {
     "end_time": "2021-03-25T13:17:10.622435Z",
     "start_time": "2021-03-25T13:17:10.617336Z"
    }
   },
   "outputs": [],
   "source": [
    "m = NN.Threshold(0.5, 0)\n",
    "n = NN.Threshold(-0.9999999999999999, 0)\n",
    "input = torch.Tensor([0.1, .6])\n",
    "#output = m(input)\n",
    "input, m(input), m(input) -1 "
   ]
  },
  {
   "cell_type": "code",
   "execution_count": null,
   "metadata": {
    "ExecuteTime": {
     "end_time": "2021-03-25T13:33:24.357667Z",
     "start_time": "2021-03-25T13:33:24.353769Z"
    }
   },
   "outputs": [],
   "source": [
    "class Picker(NN.Module):\n",
    "    def __init__(self, input_data): \n",
    "        super().__init__()\n",
    "        self.input_data = input_data\n",
    "        self.inp_shape = input_data.shape\n",
    "        self.threshold = NN.Threshold(0.5, 0)\n",
    "    def forward(self, X):\n",
    "        #z = torch.ones(*self.inp_shape, requires_grad=True)\n",
    "        #comp = (z + (X > 0.5)).float()\n",
    "        #ans = torch.matmul(self.input_data, comp.T)\n",
    "        ans = torch.matmul(self.input_data, self.threshold(X.T))\n",
    "        return ans\n",
    "    def get_indices(self, X):\n",
    "        return torch.where(X > 0.5)[0]"
   ]
  },
  {
   "cell_type": "code",
   "execution_count": null,
   "metadata": {
    "ExecuteTime": {
     "end_time": "2021-03-25T13:41:06.425495Z",
     "start_time": "2021-03-25T13:41:06.419735Z"
    }
   },
   "outputs": [],
   "source": [
    "class PickerNet(NN.Module):\n",
    "    def __init__(self, value, hidden_size):\n",
    "        super(PickerNet, self).__init__()\n",
    "        self.l1 = NN.Linear(len(value), hidden_size)\n",
    "        #self.l2 = NN.Linear(hidden_size, hidden_size)\n",
    "        self.l3 = NN.Linear(hidden_size, len(value))\n",
    "        self.r1 = NN.ReLU()\n",
    "       # self.r2 = NN.ReLU()\n",
    "        self.r3 = NN.ReLU()\n",
    "        self.s = NN.Sigmoid()\n",
    "        self.p = Picker(torch.Tensor(value))\n",
    "    \n",
    "    def forward(self, X):\n",
    "        X = self.r1(self.l1(X))\n",
    "        #X = self.r2(self.l2(X))\n",
    "        X = self.r3(self.l3(X))\n",
    "        X = self.p(self.s(X))\n",
    "        return X\n",
    "    \n",
    "    def get_indices(self, X):\n",
    "        X = self.r1(self.l1(X))\n",
    "        #X = self.r2(self.l2(X))\n",
    "        X = self.r3(self.l3(X))\n",
    "        X = self.s(X)\n",
    "        return self.p.get_indices(X)"
   ]
  },
  {
   "cell_type": "code",
   "execution_count": null,
   "metadata": {
    "ExecuteTime": {
     "end_time": "2021-03-25T13:41:07.700253Z",
     "start_time": "2021-03-25T13:41:07.478582Z"
    }
   },
   "outputs": [],
   "source": [
    "model = PickerNet(value, 1000)\n",
    "torch.set_grad_enabled(True) "
   ]
  },
  {
   "cell_type": "code",
   "execution_count": null,
   "metadata": {
    "ExecuteTime": {
     "end_time": "2021-03-25T13:37:08.029990Z",
     "start_time": "2021-03-25T13:37:08.026730Z"
    }
   },
   "outputs": [],
   "source": [
    "model"
   ]
  },
  {
   "cell_type": "code",
   "execution_count": null,
   "metadata": {
    "ExecuteTime": {
     "end_time": "2021-03-25T12:07:02.157116Z",
     "start_time": "2021-03-25T12:06:56.019469Z"
    }
   },
   "outputs": [],
   "source": [
    "#model = NN.Sequential(\n",
    "#    NN.Linear(len(value), len(value)),\n",
    "#    NN.ReLU(),\n",
    "#    NN.Linear(len(value), len(value)),\n",
    "#    NN.ReLU(),\n",
    "#    NN.Sigmoid(),\n",
    "#    Picker(torch.Tensor(value))\n",
    "#)"
   ]
  },
  {
   "cell_type": "code",
   "execution_count": null,
   "metadata": {
    "ExecuteTime": {
     "end_time": "2021-03-25T12:06:00.520195Z",
     "start_time": "2021-03-25T12:06:00.514593Z"
    }
   },
   "outputs": [],
   "source": [
    "t = torch.Tensor([4, 3, 1, 7])\n",
    "\n",
    "pred = (torch.rand((2, 4)) > 0.5).float()\n",
    "print(pred)\n",
    "t @ pred.T\n",
    "#pred @ t.T\n",
    "\n",
    "\n",
    "\n",
    "\n",
    "#self.input_data[indices].sum()\n",
    "#inds\n",
    "#a = torch.where(t > 0.5)\n",
    "#a[0]"
   ]
  },
  {
   "cell_type": "code",
   "execution_count": null,
   "metadata": {
    "ExecuteTime": {
     "end_time": "2021-03-25T12:03:47.710283Z",
     "start_time": "2021-03-25T12:03:47.706253Z"
    }
   },
   "outputs": [],
   "source": [
    "t[a]"
   ]
  },
  {
   "cell_type": "code",
   "execution_count": null,
   "metadata": {
    "ExecuteTime": {
     "end_time": "2021-03-25T11:39:52.378351Z",
     "start_time": "2021-03-25T11:39:52.375049Z"
    }
   },
   "outputs": [],
   "source": [
    "model"
   ]
  },
  {
   "cell_type": "code",
   "execution_count": null,
   "metadata": {
    "ExecuteTime": {
     "end_time": "2021-03-25T11:39:53.514432Z",
     "start_time": "2021-03-25T11:39:53.327348Z"
    }
   },
   "outputs": [],
   "source": [
    "#pred = model(torch.Tensor([value, value]))\n",
    "pred = model(torch.Tensor(value))"
   ]
  },
  {
   "cell_type": "code",
   "execution_count": null,
   "metadata": {
    "ExecuteTime": {
     "end_time": "2021-03-25T11:40:01.270200Z",
     "start_time": "2021-03-25T11:40:01.265965Z"
    }
   },
   "outputs": [],
   "source": [
    "pred"
   ]
  },
  {
   "cell_type": "code",
   "execution_count": null,
   "metadata": {
    "ExecuteTime": {
     "end_time": "2021-03-25T13:08:59.893005Z",
     "start_time": "2021-03-25T13:08:59.880299Z"
    }
   },
   "outputs": [],
   "source": [
    "y_hat = model(X)\n",
    "y_hat"
   ]
  },
  {
   "cell_type": "code",
   "execution_count": null,
   "metadata": {
    "ExecuteTime": {
     "end_time": "2021-03-25T11:45:26.152640Z",
     "start_time": "2021-03-25T11:45:26.148834Z"
    }
   },
   "outputs": [],
   "source": [
    "criterion(torch.Tensor([pred]), torch.Tensor([val_size]))"
   ]
  },
  {
   "cell_type": "code",
   "execution_count": null,
   "metadata": {
    "ExecuteTime": {
     "end_time": "2021-03-25T13:35:51.885866Z",
     "start_time": "2021-03-25T13:35:51.882135Z"
    }
   },
   "outputs": [],
   "source": [
    "class PickerLoss:\n",
    "    def __init__(self, red_size):\n",
    "        self.mse = NN.MSELoss()\n",
    "        self.factor = torch.Tensor([red_size])\n",
    "    def __call__(self, X, y):\n",
    "        base_loss = torch.sqrt(self.mse(X, y))\n",
    "        pred_loss = torch.pow(2 * torch.abs(torch.abs(X - 0.5) - 0.5), 2)\n",
    "        return base_loss + pred_loss / self.factor\n",
    "        "
   ]
  },
  {
   "cell_type": "code",
   "execution_count": null,
   "metadata": {
    "ExecuteTime": {
     "end_time": "2021-03-25T13:35:52.936558Z",
     "start_time": "2021-03-25T13:35:52.935017Z"
    }
   },
   "outputs": [],
   "source": [
    "import copy"
   ]
  },
  {
   "cell_type": "code",
   "execution_count": null,
   "metadata": {
    "ExecuteTime": {
     "end_time": "2021-03-25T13:56:12.153291Z",
     "start_time": "2021-03-25T13:56:12.148721Z"
    }
   },
   "outputs": [],
   "source": [
    "def train_it(red_size):\n",
    "    model = PickerNet(value, 1000)\n",
    "    losses = []\n",
    "    device = get_cpu()\n",
    "    lr = 1e-4\n",
    "    model = model.to(device)\n",
    "    model.p.input_data = model.p.input_data.to(device)\n",
    "    criterion = PickerLoss(red_size=red_size)\n",
    "    optimizer = torch.optim.Adam(model.parameters(),lr=lr)\n",
    "\n",
    "\n",
    "    best_model_state = copy.copy(model.state_dict())\n",
    "    patience = 5\n",
    "    patience_count = 0\n",
    "    i = 0\n",
    "    X = torch.Tensor([value])\n",
    "    y = torch.Tensor([val_size])\n",
    "    X, y = X.to(device), y.to(device)\n",
    "    while True:\n",
    "        optimizer.zero_grad()\n",
    "        pred = model(X)\n",
    "        loss = criterion(pred, y)\n",
    "        losses.append(loss.item())\n",
    "        loss.backward()\n",
    "        optimizer.step()\n",
    "\n",
    "        if i > 2:\n",
    "            if losses[-1] >= losses[-2]: \n",
    "                best_model_state = copy.copy(model.state_dict())\n",
    "                if patience_count == patience:\n",
    "                    patience_count = 0\n",
    "                    lr /= 3\n",
    "                    optimizer.param_groups[0][\"lr\"] = lr\n",
    "                    #print(\"LR:\", lr)\n",
    "                else:\n",
    "                    patience_count += 1\n",
    "            else: patience_count = 0\n",
    "\n",
    "        #print(losses[-1])\n",
    "\n",
    "        if lr < 1e-14: break\n",
    "        i += 1\n",
    "    model.load_state_dict(best_model_state)\n",
    "    inds = model.get_indices(X[0])\n",
    "    inds = [i for i in inds.detach().numpy().astype(np.uint8)]\n",
    "    \n",
    "    \n",
    "    return np.abs(np.array(value)[inds].sum() - val_size)\n"
   ]
  },
  {
   "cell_type": "code",
   "execution_count": null,
   "metadata": {
    "ExecuteTime": {
     "end_time": "2021-03-25T14:13:00.558489Z",
     "start_time": "2021-03-25T13:56:13.180450Z"
    }
   },
   "outputs": [],
   "source": [
    "red_sizes = [1e-4, 1e-6, 1e-8, 1e-10, 1e-12, 1e-14]\n",
    "results = []\n",
    "for red_size in red_sizes:\n",
    "    print(f\"Size: {red_size}\")\n",
    "    results.append({\"red_size\": red_size, \"result\": train_it(red_size)})"
   ]
  },
  {
   "cell_type": "code",
   "execution_count": null,
   "metadata": {
    "ExecuteTime": {
     "end_time": "2021-03-25T13:52:56.059619Z",
     "start_time": "2021-03-25T13:52:56.056442Z"
    }
   },
   "outputs": [],
   "source": [
    "import math\n",
    "np.abs(-1)"
   ]
  },
  {
   "cell_type": "code",
   "execution_count": null,
   "metadata": {
    "ExecuteTime": {
     "end_time": "2021-03-25T13:44:37.782443Z",
     "start_time": "2021-03-25T13:41:11.409845Z"
    }
   },
   "outputs": [],
   "source": [
    "losses = []\n",
    "device = get_cpu()\n",
    "lr = 1e-4\n",
    "model = model.to(device)\n",
    "model.p.input_data = model.p.input_data.to(device)\n",
    "criterion = PickerLoss(red_size=sum(value))\n",
    "optimizer = torch.optim.Adam(model.parameters(),lr=lr)\n",
    "\n",
    "\n",
    "best_model_state = copy.copy(model.state_dict())\n",
    "patience = 5\n",
    "patience_count = 0\n",
    "i = 0\n",
    "X = torch.Tensor([value])\n",
    "y = torch.Tensor([val_size])\n",
    "X, y = X.to(device), y.to(device)\n",
    "while True:\n",
    "    optimizer.zero_grad()\n",
    "    pred = model(X)\n",
    "    loss = criterion(pred, y)\n",
    "    losses.append(loss.item())\n",
    "    loss.backward()\n",
    "    optimizer.step()\n",
    "    \n",
    "    if i > 2:\n",
    "        if losses[-1] >= losses[-2]: \n",
    "            best_model_state = copy.copy(model.state_dict())\n",
    "            if patience_count == patience:\n",
    "                patience_count = 0\n",
    "                lr /= 3\n",
    "                optimizer.param_groups[0][\"lr\"] = lr\n",
    "                print(\"LR:\", lr)\n",
    "            else:\n",
    "                patience_count += 1\n",
    "        else: patience_count = 0\n",
    "    \n",
    "    print(losses[-1])\n",
    "    \n",
    "    if lr < 1e-14: break\n",
    "    i += 1\n",
    "model.load_state_dict(best_model_state)"
   ]
  },
  {
   "cell_type": "code",
   "execution_count": null,
   "metadata": {
    "ExecuteTime": {
     "end_time": "2021-03-25T13:07:03.651732Z",
     "start_time": "2021-03-25T13:07:03.637282Z"
    }
   },
   "outputs": [],
   "source": [
    "model.load_state_dict(best_model_state)"
   ]
  },
  {
   "cell_type": "code",
   "execution_count": null,
   "metadata": {
    "ExecuteTime": {
     "end_time": "2021-03-25T13:46:43.311309Z",
     "start_time": "2021-03-25T13:46:43.298179Z"
    }
   },
   "outputs": [],
   "source": [
    "inds = model.get_indices(X[0])\n",
    "inds"
   ]
  },
  {
   "cell_type": "code",
   "execution_count": null,
   "metadata": {
    "ExecuteTime": {
     "end_time": "2021-03-25T13:46:44.637551Z",
     "start_time": "2021-03-25T13:46:44.634461Z"
    }
   },
   "outputs": [],
   "source": [
    "inds = [i for i in inds.detach().numpy().astype(np.uint8)]"
   ]
  },
  {
   "cell_type": "code",
   "execution_count": null,
   "metadata": {
    "ExecuteTime": {
     "end_time": "2021-03-25T13:46:45.651294Z",
     "start_time": "2021-03-25T13:46:45.647117Z"
    }
   },
   "outputs": [],
   "source": [
    "np.array(value)[inds].sum(), val_size"
   ]
  },
  {
   "cell_type": "code",
   "execution_count": null,
   "metadata": {
    "ExecuteTime": {
     "end_time": "2021-03-25T13:03:51.158682Z",
     "start_time": "2021-03-25T13:03:51.151815Z"
    }
   },
   "outputs": [],
   "source": [
    "np.array(value)[inds].sum() - val_size"
   ]
  },
  {
   "cell_type": "code",
   "execution_count": null,
   "metadata": {
    "ExecuteTime": {
     "end_time": "2021-03-25T11:57:58.546908Z",
     "start_time": "2021-03-25T11:57:58.359152Z"
    }
   },
   "outputs": [],
   "source": [
    "X = torch.Tensor([value])\n",
    "y = torch.Tensor([val_size])\n",
    "optimizer.zero_grad()\n",
    "pred = model(X)\n",
    "loss = criterion(torch.Tensor(pred), y)\n",
    "#losses.append(loss.item())\n",
    "optimizer.step()"
   ]
  },
  {
   "cell_type": "code",
   "execution_count": null,
   "metadata": {
    "ExecuteTime": {
     "end_time": "2021-03-25T12:45:16.771769Z",
     "start_time": "2021-03-25T12:45:16.763226Z"
    }
   },
   "outputs": [],
   "source": [
    "value[inds].sum()"
   ]
  },
  {
   "cell_type": "code",
   "execution_count": null,
   "metadata": {},
   "outputs": [],
   "source": []
  },
  {
   "cell_type": "code",
   "execution_count": null,
   "metadata": {
    "ExecuteTime": {
     "end_time": "2021-03-25T11:28:59.380731Z",
     "start_time": "2021-03-25T11:28:59.377306Z"
    }
   },
   "outputs": [],
   "source": [
    "(pred > 0.5).sum(axis=1).shape"
   ]
  },
  {
   "cell_type": "code",
   "execution_count": null,
   "metadata": {
    "ExecuteTime": {
     "end_time": "2021-03-25T11:10:13.029992Z",
     "start_time": "2021-03-25T11:10:13.025879Z"
    }
   },
   "outputs": [],
   "source": [
    "def knapsack(n, C):\n",
    "    print(n)\n",
    "    if store[n, C] != -1: return store[n, C]\n",
    "    if n == 0 or C == 0: result = 0\n",
    "    elif weight[n] > C: result = knapsack(n-1, C)\n",
    "    else:\n",
    "        tmp_1 = knapsack(n-1, C)\n",
    "        tmp_2 = value[n] + knapsack(n-1, C-weight[n])\n",
    "        if tmp_1 > tmp_2 : result = tmp_1\n",
    "        else: result = tmp_2\n",
    "    store[n, C] = result\n",
    "    return result"
   ]
  },
  {
   "cell_type": "code",
   "execution_count": null,
   "metadata": {
    "ExecuteTime": {
     "end_time": "2021-03-25T11:10:26.228860Z",
     "start_time": "2021-03-25T11:10:26.192083Z"
    }
   },
   "outputs": [],
   "source": [
    "n = 25\n",
    "C = 500\n",
    "indices = []\n",
    "\n",
    "store = np.zeros((n+1, C+1)) - 1\n",
    "knapsack(n, C)"
   ]
  },
  {
   "cell_type": "code",
   "execution_count": null,
   "metadata": {
    "ExecuteTime": {
     "end_time": "2021-03-25T11:00:33.768873Z",
     "start_time": "2021-03-25T11:00:33.765181Z"
    }
   },
   "outputs": [],
   "source": [
    "store"
   ]
  },
  {
   "cell_type": "code",
   "execution_count": null,
   "metadata": {
    "ExecuteTime": {
     "end_time": "2021-03-25T10:52:23.807153Z",
     "start_time": "2021-03-25T10:52:23.801460Z"
    }
   },
   "outputs": [],
   "source": [
    "test"
   ]
  },
  {
   "cell_type": "code",
   "execution_count": null,
   "metadata": {},
   "outputs": [],
   "source": []
  },
  {
   "cell_type": "code",
   "execution_count": null,
   "metadata": {},
   "outputs": [],
   "source": []
  },
  {
   "cell_type": "code",
   "execution_count": null,
   "metadata": {},
   "outputs": [],
   "source": []
  },
  {
   "cell_type": "code",
   "execution_count": null,
   "metadata": {},
   "outputs": [],
   "source": []
  },
  {
   "cell_type": "code",
   "execution_count": null,
   "metadata": {},
   "outputs": [],
   "source": []
  },
  {
   "cell_type": "code",
   "execution_count": null,
   "metadata": {},
   "outputs": [],
   "source": []
  },
  {
   "cell_type": "code",
   "execution_count": null,
   "metadata": {},
   "outputs": [],
   "source": []
  },
  {
   "cell_type": "code",
   "execution_count": null,
   "metadata": {},
   "outputs": [],
   "source": []
  },
  {
   "cell_type": "code",
   "execution_count": null,
   "metadata": {},
   "outputs": [],
   "source": []
  },
  {
   "cell_type": "code",
   "execution_count": null,
   "metadata": {},
   "outputs": [],
   "source": []
  },
  {
   "cell_type": "code",
   "execution_count": null,
   "metadata": {},
   "outputs": [],
   "source": []
  },
  {
   "cell_type": "code",
   "execution_count": null,
   "metadata": {},
   "outputs": [],
   "source": []
  },
  {
   "cell_type": "code",
   "execution_count": null,
   "metadata": {},
   "outputs": [],
   "source": []
  },
  {
   "cell_type": "code",
   "execution_count": null,
   "metadata": {},
   "outputs": [],
   "source": []
  },
  {
   "cell_type": "code",
   "execution_count": null,
   "metadata": {
    "ExecuteTime": {
     "end_time": "2021-03-25T10:42:28.100114Z",
     "start_time": "2021-03-25T10:42:28.098169Z"
    }
   },
   "outputs": [],
   "source": [
    "#pairs = [n for _,n in counter.most_common()]"
   ]
  },
  {
   "cell_type": "code",
   "execution_count": null,
   "metadata": {
    "ExecuteTime": {
     "end_time": "2021-03-24T22:56:45.148946Z",
     "start_time": "2021-03-24T22:56:45.146756Z"
    }
   },
   "outputs": [],
   "source": [
    "import matplotlib.pyplot as plt"
   ]
  },
  {
   "cell_type": "code",
   "execution_count": null,
   "metadata": {
    "ExecuteTime": {
     "end_time": "2021-03-24T22:58:54.914430Z",
     "start_time": "2021-03-24T22:58:54.823921Z"
    }
   },
   "outputs": [],
   "source": [
    "plt.hist(ns[:-27500], bins=25);"
   ]
  },
  {
   "cell_type": "code",
   "execution_count": null,
   "metadata": {},
   "outputs": [],
   "source": [
    "val_size = 0.2\n",
    "n_images = data.shape[0]\n"
   ]
  },
  {
   "cell_type": "code",
   "execution_count": null,
   "metadata": {
    "ExecuteTime": {
     "end_time": "2021-03-24T23:11:24.335028Z",
     "start_time": "2021-03-24T23:11:24.332082Z"
    }
   },
   "outputs": [],
   "source": [
    "test = [(1, 2), (2, 1), (3, 3), (4, 2), (5, 4)]\n",
    "\n",
    "sum_it = lambda a: sum([el[1] for el in a])\n",
    "import math"
   ]
  },
  {
   "cell_type": "code",
   "execution_count": null,
   "metadata": {
    "ExecuteTime": {
     "end_time": "2021-03-25T00:16:58.099588Z",
     "start_time": "2021-03-25T00:16:58.086961Z"
    }
   },
   "outputs": [],
   "source": [
    "val_size = 0.2\n",
    "n_images = train_df.shape[0]\n",
    "\n",
    "pairs = sorted(counter.most_common(), key=lambda p: p[1])"
   ]
  },
  {
   "cell_type": "code",
   "execution_count": null,
   "metadata": {
    "ExecuteTime": {
     "end_time": "2021-03-25T01:10:42.736076Z",
     "start_time": "2021-03-25T01:10:42.731672Z"
    }
   },
   "outputs": [],
   "source": [
    "[{\"value\": i+1, \"trace\": [i]} for i in range(8)]"
   ]
  },
  {
   "cell_type": "code",
   "execution_count": null,
   "metadata": {
    "ExecuteTime": {
     "end_time": "2021-03-25T10:46:02.322468Z",
     "start_time": "2021-03-25T10:46:02.310084Z"
    }
   },
   "outputs": [],
   "source": [
    "#x = [([1], 1), ([2], 2), ([3], 3), ([4], 4), ([5], 5), ([6], 6), ([7],7), ([8],8)]\n",
    "x = [{\"value\": n, \"trace\": [i]} for i, n in counter.most_common(1000)]\n",
    "valsize=0.2\n",
    "sum_it = lambda arr: sum([e[\"value\"] for e in arr])\n",
    "x_sum = sum_it(x)#sum([y[1] for y in x])\n",
    "n_x = len(x)\n",
    "n_goal = math.floor(valsize*n_x)\n",
    "v_goal = x_sum*valsize\n",
    "\n",
    "level = 1\n",
    "lookahead = 1\n",
    "fov = 1\n",
    "\n",
    "heuristic = level / n_goal * v_goal\n",
    "\n",
    "n_goal, v_goal"
   ]
  },
  {
   "cell_type": "code",
   "execution_count": null,
   "metadata": {
    "ExecuteTime": {
     "end_time": "2021-03-25T10:43:52.423395Z",
     "start_time": "2021-03-25T10:43:52.420404Z"
    }
   },
   "outputs": [],
   "source": [
    "n_goal"
   ]
  },
  {
   "cell_type": "code",
   "execution_count": null,
   "metadata": {
    "ExecuteTime": {
     "end_time": "2021-03-25T10:46:13.487239Z",
     "start_time": "2021-03-25T10:46:13.482111Z"
    }
   },
   "outputs": [],
   "source": [
    "def compute_level(x, x_prev, n_goal, v_goal, level=1):\n",
    "    if x_prev[\"value\"] >= v_goal: return [x_prev], x\n",
    "    heuristic = level / n_goal * v_goal - x_prev[\"value\"]\n",
    "    x_level = [{\"trace\": v[\"trace\"], \"value\": np.abs(v[\"value\"]-heuristic)} for v in x]\n",
    "    x_level = sorted(x_level, key=lambda el: el[\"value\"])\n",
    "\n",
    "    x_best = []\n",
    "    x_remaining = []\n",
    "    for idx, el in enumerate(x_level):\n",
    "            if idx == 0: \n",
    "                x_best.append(\n",
    "                    {\"trace\": [*x_prev[\"trace\"], *el[\"trace\"]], \n",
    "                     \"value\": el[\"value\"] + x_prev[\"value\"]})\n",
    "            else:\n",
    "                x_remaining.append(el)\n",
    "    return x_best, x_remaining"
   ]
  },
  {
   "cell_type": "code",
   "execution_count": null,
   "metadata": {
    "ExecuteTime": {
     "end_time": "2021-03-25T10:46:15.002885Z",
     "start_time": "2021-03-25T10:46:14.879102Z"
    }
   },
   "outputs": [],
   "source": [
    "for step in range(n_goal):\n",
    "    if step == 0: best, rem = compute_level(x, {\"trace\": [], \"value\": 0}, n_goal, v_goal)\n",
    "    best, rem = compute_level(rem, best[0], n_goal, v_goal, level=2)"
   ]
  },
  {
   "cell_type": "code",
   "execution_count": null,
   "metadata": {
    "ExecuteTime": {
     "end_time": "2021-03-25T10:46:15.850513Z",
     "start_time": "2021-03-25T10:46:15.845669Z"
    }
   },
   "outputs": [],
   "source": [
    "best"
   ]
  },
  {
   "cell_type": "code",
   "execution_count": null,
   "metadata": {},
   "outputs": [],
   "source": []
  },
  {
   "cell_type": "code",
   "execution_count": null,
   "metadata": {},
   "outputs": [],
   "source": []
  },
  {
   "cell_type": "code",
   "execution_count": null,
   "metadata": {
    "ExecuteTime": {
     "end_time": "2021-03-25T01:12:20.992384Z",
     "start_time": "2021-03-25T01:12:20.979276Z"
    }
   },
   "outputs": [],
   "source": [
    "best, rem = compute_level(x, {\"trace\": [], \"value\": 0}, n_goal, v_goal)\n",
    "best, rem = compute_level(rem, best[0], n_goal, v_goal, level=2)\n",
    "best, rem"
   ]
  },
  {
   "cell_type": "code",
   "execution_count": null,
   "metadata": {},
   "outputs": [],
   "source": []
  },
  {
   "cell_type": "code",
   "execution_count": null,
   "metadata": {},
   "outputs": [],
   "source": []
  },
  {
   "cell_type": "code",
   "execution_count": null,
   "metadata": {
    "ExecuteTime": {
     "end_time": "2021-03-24T23:16:22.054312Z",
     "start_time": "2021-03-24T23:16:22.046963Z"
    }
   },
   "outputs": [],
   "source": [
    "iterations = range(2, math.ceil(len(test)/2)+1)\n",
    "totalscore = sum_it(test)\n",
    "halftotalscore = totalscore/2.0\n",
    "\n",
    "oldmoves = {}\n",
    "\n",
    "for p in test:\n",
    "    people_left = test[:]\n",
    "    people_left.remove(p)\n",
    "    oldmoves[p[0]] = people_left\n",
    "\n",
    "if iterations == []:\n",
    "    print(\"Hi\")\n",
    "    solution = min(map(lambda i: (abs(float(i)-halftotalscore), i), oldmoves.keys()))\n",
    "    assert False\n",
    "    #return (solution[1], sum(oldmoves[solution[1]]), oldmoves[solution[1]])    \n",
    "\n",
    "for n in iterations:\n",
    "    newmoves = {}\n",
    "    for total, roster in oldmoves.items():\n",
    "        for p in roster:\n",
    "            people_left = roster[:]\n",
    "            people_left.remove(p)\n",
    "            newtotal = total+p[1]\n",
    "            if newtotal > halftotalscore: continue\n",
    "            newmoves[newtotal] = people_left\n",
    "    oldmoves = newmoves\n",
    "\n",
    "iterations, totalscore"
   ]
  },
  {
   "cell_type": "code",
   "execution_count": null,
   "metadata": {
    "ExecuteTime": {
     "end_time": "2021-03-24T23:16:07.751905Z",
     "start_time": "2021-03-24T23:16:07.744221Z"
    }
   },
   "outputs": [],
   "source": [
    "solution[1], sum(oldmoves[solution[1]]), oldmoves[solution[1]]"
   ]
  },
  {
   "cell_type": "code",
   "execution_count": null,
   "metadata": {
    "ExecuteTime": {
     "end_time": "2021-03-24T23:18:02.895933Z",
     "start_time": "2021-03-24T23:18:02.889578Z"
    }
   },
   "outputs": [],
   "source": [
    "def team(t):\n",
    "    iterations = range(2, math.ceil(len(t)/2)+1)\n",
    "\n",
    "    totalscore = sum(t)\n",
    "    halftotalscore = totalscore/2.0\n",
    "\n",
    "    oldmoves = {}\n",
    "\n",
    "    for p in t:\n",
    "        people_left = t[:]\n",
    "        people_left.remove(p)\n",
    "        oldmoves[p] = people_left\n",
    "\n",
    "    if iterations == []:\n",
    "        solution = min(map(lambda i: (abs(float(i)-halftotalscore), i), oldmoves.keys()))\n",
    "        return (solution[1], sum(oldmoves[solution[1]]), oldmoves[solution[1]])\n",
    "\n",
    "    for n in iterations:\n",
    "        newmoves = {}\n",
    "        for total, roster in oldmoves.items():\n",
    "            for p in roster:\n",
    "                people_left = roster[:]\n",
    "                people_left.remove(p)\n",
    "                newtotal = total+p\n",
    "                if newtotal > halftotalscore: continue\n",
    "                newmoves[newtotal] = people_left\n",
    "        oldmoves = newmoves\n",
    "\n",
    "    solution = min(map(lambda i: (abs(float(i)-halftotalscore), i), oldmoves.keys()))\n",
    "    return (solution[1], sum(oldmoves[solution[1]]), oldmoves[solution[1]])"
   ]
  },
  {
   "cell_type": "code",
   "execution_count": null,
   "metadata": {
    "ExecuteTime": {
     "end_time": "2021-03-24T23:26:03.350947Z",
     "start_time": "2021-03-24T23:26:02.122435Z"
    }
   },
   "outputs": [],
   "source": [
    "print(ns[:100])\n",
    "sol = team(ns[:100])\n",
    "sol"
   ]
  },
  {
   "cell_type": "code",
   "execution_count": null,
   "metadata": {},
   "outputs": [],
   "source": [
    "def team(t):\n",
    "    sum_it = lambda a: sum[el[1] for el in a]\n",
    "    \n",
    "    iterations = range(2, len(t)/2+1)\n",
    "\n",
    "    totalscore = sum_it(t)\n",
    "    halftotalscore = totalscore/2.0\n",
    "\n",
    "    oldmoves = {}\n",
    "\n",
    "    for p in t:\n",
    "        people_left = t[:]\n",
    "        people_left.remove(p)\n",
    "        oldmoves[p] = people_left\n",
    "\n",
    "    if iterations == []:\n",
    "        solution = min(map(lambda i: (abs(float(i)-halftotalscore), i), oldmoves.keys()))\n",
    "        return (solution[1], sum(oldmoves[solution[1]]), oldmoves[solution[1]])\n",
    "\n",
    "    for n in iterations:\n",
    "        newmoves = {}\n",
    "        for total, roster in oldmoves.iteritems():\n",
    "            for p in roster:\n",
    "                people_left = roster[:]\n",
    "                people_left.remove(p)\n",
    "                newtotal = total+p\n",
    "                if newtotal > halftotalscore: continue\n",
    "                newmoves[newtotal] = people_left\n",
    "        oldmoves = newmoves\n",
    "\n",
    "    solution = min(map(lambda i: (abs(float(i)-halftotalscore), i), oldmoves.keys()))\n",
    "    return (solution[1], sum(oldmoves[solution[1]]), oldmoves[solution[1]])"
   ]
  },
  {
   "cell_type": "code",
   "execution_count": null,
   "metadata": {},
   "outputs": [],
   "source": []
  },
  {
   "cell_type": "code",
   "execution_count": null,
   "metadata": {},
   "outputs": [],
   "source": [
    "// Input:\n",
    "// Values (stored in array v)\n",
    "// Weights (stored in array w)\n",
    "// Number of distinct items (n)\n",
    "// Knapsack capacity (W)\n",
    "// NOTE: The array \"v\" and array \"w\" are assumed to store all relevant values starting at index 1.\n",
    "\n",
    "for j from 0 to W do:\n",
    "    m[0, j] := 0\n",
    "\n",
    "for i from 1 to n do:\n",
    "    for j from 0 to W do:\n",
    "        if w[i] > j then:\n",
    "            m[i, j] := m[i-1, j]\n",
    "        else:\n",
    "            m[i, j] := max(m[i-1, j], m[i-1, j-w[i]] + v[i])"
   ]
  },
  {
   "cell_type": "code",
   "execution_count": null,
   "metadata": {
    "ExecuteTime": {
     "end_time": "2021-03-24T23:57:42.787654Z",
     "start_time": "2021-03-24T23:57:42.784242Z"
    }
   },
   "outputs": [],
   "source": [
    "V = ns\n",
    "W = [1 for _ in V]\n",
    "n = train_df.shape[0]"
   ]
  },
  {
   "cell_type": "code",
   "execution_count": null,
   "metadata": {
    "ExecuteTime": {
     "end_time": "2021-03-24T23:56:46.885833Z",
     "start_time": "2021-03-24T23:56:46.870314Z"
    }
   },
   "outputs": [],
   "source": [
    "/**\n",
    " * Returns the indices of the items of the optimal knapsack.\n",
    " * i: We can include items 1 through i in the knapsack\n",
    " * j: maximum weight of the knapsack\n",
    " */\n",
    "function knapsack(i: int, j: int): Set<int> {\n",
    "    if i == 0 then:\n",
    "        return {}\n",
    "    if m[i, j] > m[i-1, j] then:\n",
    "        return {i} ∪ knapsack(i-1, j-w[i])\n",
    "    else:\n",
    "        return knapsack(i-1, j)\n",
    "}\n",
    "\n",
    "knapsack(n, W)"
   ]
  },
  {
   "cell_type": "code",
   "execution_count": null,
   "metadata": {
    "ExecuteTime": {
     "end_time": "2021-03-25T00:02:49.067969Z",
     "start_time": "2021-03-25T00:02:49.050775Z"
    }
   },
   "outputs": [],
   "source": [
    "# Python program to demonstrate working of Meet in the\n",
    "# Middle algorithm for maximum subset sum problem.\n",
    "from typing import List\n",
    "import bisect\n",
    "X = [0] * 2000005\n",
    "Y = [0] * 2000005\n",
    "\n",
    "# Find all possible sum of elements of a[] and store\n",
    "# in x[]\n",
    "def calcsubarray(a: List[int], x: List[int], n: int, c: int) -> None:\n",
    "\tfor i in range((1 << n)):\n",
    "\t\ts = 0\n",
    "\t\tfor j in range(n):\n",
    "\t\t\tif (i & (1 << j)):\n",
    "\t\t\t\ts += a[j + c]\n",
    "\t\tx[i] = s\n",
    "\n",
    "# Returns the maximum possible sum less or equal to S\n",
    "def solveSubsetSum(a: List[int], n: int, S: int) -> int:\n",
    "\tglobal Y\n",
    "\t\n",
    "\t# Compute all subset sums of first and second\n",
    "\t# halves\n",
    "\tcalcsubarray(a, X, n // 2, 0)\n",
    "\tcalcsubarray(a, Y, n - n // 2, n // 2)\n",
    "\tsize_X = 1 << (n // 2)\n",
    "\tsize_Y = 1 << (n - n // 2)\n",
    "\n",
    "\t# Sort Y (we need to do doing binary search in it)\n",
    "\tYY = Y[:size_Y]\n",
    "\tYY.sort()\n",
    "\tY = YY\n",
    "\n",
    "\t# To keep track of the maximum sum of a subset\n",
    "\t# such that the maximum sum is less than S\n",
    "\tmaxx = 0\n",
    "\n",
    "\t# Traverse all elements of X and do Binary Search\n",
    "\t# for a pair in Y with maximum sum less than S.\n",
    "\tfor i in range(size_X):\n",
    "\n",
    "\t\tif (X[i] <= S):\n",
    "\n",
    "\t\t\t# lower_bound() returns the first address\n",
    "\t\t\t# which has value greater than or equal to\n",
    "\t\t\t# S-X[i].\n",
    "\t\t\tp = bisect.bisect_left(Y, S - X[i])\n",
    "\n",
    "\t\t\t# If S-X[i] was not in array Y then decrease\n",
    "\t\t\t# p by 1\n",
    "\t\t\tif (p == size_Y or (p < size_Y and Y[p] != (S - X[i]))):\n",
    "\t\t\t\tp -= 1\n",
    "\t\t\tif ((Y[p] + X[i]) > maxx):\n",
    "\t\t\t\tmaxx = Y[p] + X[i]\n",
    "\treturn maxx\n",
    "\n",
    "# Driver code\n",
    "if __name__ == \"__main__\":\n",
    "\n",
    "\ta = [3, 34, 4, 12, 5, 2]\n",
    "\tn = len(a)\n",
    "\tS = 10\n",
    "\tprint(\"Largest value smaller than or equal to given sum is {}\".format(\n",
    "\t\tsolveSubsetSum(a, n, S)))\n",
    "\n",
    "# This code is contributed by sanjeev2552\n"
   ]
  },
  {
   "cell_type": "code",
   "execution_count": null,
   "metadata": {},
   "outputs": [],
   "source": []
  },
  {
   "cell_type": "code",
   "execution_count": null,
   "metadata": {},
   "outputs": [],
   "source": []
  },
  {
   "cell_type": "code",
   "execution_count": null,
   "metadata": {},
   "outputs": [],
   "source": []
  },
  {
   "cell_type": "code",
   "execution_count": null,
   "metadata": {},
   "outputs": [],
   "source": []
  },
  {
   "cell_type": "code",
   "execution_count": null,
   "metadata": {},
   "outputs": [],
   "source": []
  },
  {
   "cell_type": "code",
   "execution_count": null,
   "metadata": {},
   "outputs": [],
   "source": []
  },
  {
   "cell_type": "code",
   "execution_count": null,
   "metadata": {},
   "outputs": [],
   "source": []
  },
  {
   "cell_type": "code",
   "execution_count": null,
   "metadata": {},
   "outputs": [],
   "source": []
  },
  {
   "cell_type": "code",
   "execution_count": null,
   "metadata": {},
   "outputs": [],
   "source": []
  },
  {
   "cell_type": "code",
   "execution_count": null,
   "metadata": {},
   "outputs": [],
   "source": []
  },
  {
   "cell_type": "code",
   "execution_count": null,
   "metadata": {},
   "outputs": [],
   "source": []
  },
  {
   "cell_type": "code",
   "execution_count": null,
   "metadata": {},
   "outputs": [],
   "source": []
  },
  {
   "cell_type": "code",
   "execution_count": null,
   "metadata": {},
   "outputs": [],
   "source": [
    "print(train_df.shape, valid_df.shape, test_df.shape)\n",
    "train_df = get_binary_df(label, train_df)\n",
    "valid_df = get_binary_df(label, valid_df)\n",
    "test_df = get_binary_df(label, test_df)"
   ]
  },
  {
   "cell_type": "code",
   "execution_count": null,
   "metadata": {},
   "outputs": [],
   "source": [
    "# Compute label weights\n",
    "train_label = train_df[[label]].values\n",
    "neg_weights, pos_weights = compute_class_freqs(train_label)\n",
    "neg_weights, pos_weights = torch.Tensor(neg_weights), torch.Tensor(pos_weights)\n",
    "print(neg_weights, pos_weights)\n",
    "\n",
    "# Get transforms\n",
    "train_tfs, test_tfs = get_transforms(image_size=image_size)\n",
    "\n",
    "# Create datasets\n",
    "train_ds = CRX8_Data(train_df, get_image_path(), label, image_size=image_size, transforms=train_tfs)\n",
    "valid_ds = CRX8_Data(valid_df, get_image_path(), label, image_size=image_size, transforms=test_tfs)\n",
    "test_ds  = CRX8_Data(test_df , get_image_path(), label, image_size=image_size, transforms=test_tfs)\n",
    "\n",
    "# Create dataloaders\n",
    "train_dl = DataLoader(train_ds, batch_size=bs, shuffle=True)\n",
    "valid_dl = DataLoader(valid_ds, batch_size=bs, shuffle=False)\n",
    "test_dl  = DataLoader(test_ds,  batch_size=bs, shuffle=False)\n",
    "dataloaders = {\n",
    "    \"train\": train_dl,\n",
    "    \"val\": valid_dl,\n",
    "    \"test\": test_dl\n",
    "}"
   ]
  }
 ],
 "metadata": {
  "kernelspec": {
   "display_name": "Python 3",
   "language": "python",
   "name": "python3"
  },
  "language_info": {
   "codemirror_mode": {
    "name": "ipython",
    "version": 3
   },
   "file_extension": ".py",
   "mimetype": "text/x-python",
   "name": "python",
   "nbconvert_exporter": "python",
   "pygments_lexer": "ipython3",
   "version": "3.8.8"
  },
  "varInspector": {
   "cols": {
    "lenName": 16,
    "lenType": 16,
    "lenVar": 40
   },
   "kernels_config": {
    "python": {
     "delete_cmd_postfix": "",
     "delete_cmd_prefix": "del ",
     "library": "var_list.py",
     "varRefreshCmd": "print(var_dic_list())"
    },
    "r": {
     "delete_cmd_postfix": ") ",
     "delete_cmd_prefix": "rm(",
     "library": "var_list.r",
     "varRefreshCmd": "cat(var_dic_list()) "
    }
   },
   "types_to_exclude": [
    "module",
    "function",
    "builtin_function_or_method",
    "instance",
    "_Feature"
   ],
   "window_display": false
  }
 },
 "nbformat": 4,
 "nbformat_minor": 4
}
