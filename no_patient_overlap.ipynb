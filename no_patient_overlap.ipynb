{
 "cells": [
  {
   "cell_type": "code",
   "execution_count": 1,
   "metadata": {
    "ExecuteTime": {
     "end_time": "2021-03-25T12:33:03.695397Z",
     "start_time": "2021-03-25T12:33:02.288285Z"
    }
   },
   "outputs": [],
   "source": [
    "from exp.utils import *\n",
    "from exp.models import *\n",
    "from exp.losses import *\n",
    "from tqdm.notebook import tqdm\n",
    "from multiprocessing import Pool\n",
    "\n",
    "import torch\n",
    "import torch.nn as NN\n",
    "from torch.utils.data import Dataset, DataLoader\n",
    "from torchvision import datasets, transforms"
   ]
  },
  {
   "cell_type": "code",
   "execution_count": 2,
   "metadata": {
    "ExecuteTime": {
     "end_time": "2021-03-25T12:33:03.841159Z",
     "start_time": "2021-03-25T12:33:03.737662Z"
    }
   },
   "outputs": [],
   "source": [
    "labels = get_labels()\n",
    "label = labels[0]"
   ]
  },
  {
   "cell_type": "code",
   "execution_count": 3,
   "metadata": {
    "ExecuteTime": {
     "end_time": "2021-03-25T12:33:04.680361Z",
     "start_time": "2021-03-25T12:33:03.882148Z"
    }
   },
   "outputs": [
    {
     "name": "stderr",
     "output_type": "stream",
     "text": [
      "/home/favi/work/crx8/exp/utils.py:179: UserWarning: Train-Val-Split currently with patient overlap!\n",
      "  warnings.warn(\"Train-Val-Split currently with patient overlap!\")\n"
     ]
    }
   ],
   "source": [
    "# Seed\n",
    "seed = 92\n",
    "seed_everything(seed)\n",
    "\n",
    "# Load data\n",
    "train_df, valid_df, test_df = get_dataframes(include_labels=labels, \n",
    "                                             small=False)"
   ]
  },
  {
   "cell_type": "code",
   "execution_count": 4,
   "metadata": {
    "ExecuteTime": {
     "end_time": "2021-03-25T12:33:05.091328Z",
     "start_time": "2021-03-25T12:33:05.077514Z"
    }
   },
   "outputs": [
    {
     "data": {
      "text/html": [
       "<div>\n",
       "<style scoped>\n",
       "    .dataframe tbody tr th:only-of-type {\n",
       "        vertical-align: middle;\n",
       "    }\n",
       "\n",
       "    .dataframe tbody tr th {\n",
       "        vertical-align: top;\n",
       "    }\n",
       "\n",
       "    .dataframe thead th {\n",
       "        text-align: right;\n",
       "    }\n",
       "</style>\n",
       "<table border=\"1\" class=\"dataframe\">\n",
       "  <thead>\n",
       "    <tr style=\"text-align: right;\">\n",
       "      <th></th>\n",
       "      <th>Image Index</th>\n",
       "      <th>Follow-up #</th>\n",
       "      <th>Patient ID</th>\n",
       "      <th>Patient Age</th>\n",
       "      <th>Patient Gender</th>\n",
       "      <th>View Position</th>\n",
       "      <th>OriginalImage[Width</th>\n",
       "      <th>Height]</th>\n",
       "      <th>OriginalImagePixelSpacing[x</th>\n",
       "      <th>y]</th>\n",
       "      <th>...</th>\n",
       "      <th>Cardiomegaly</th>\n",
       "      <th>Emphysema</th>\n",
       "      <th>Mass</th>\n",
       "      <th>Pleural_Thickening</th>\n",
       "      <th>Nodule</th>\n",
       "      <th>Atelectasis</th>\n",
       "      <th>Pneumonia</th>\n",
       "      <th>Effusion</th>\n",
       "      <th>Fibrosis</th>\n",
       "      <th>Infiltration</th>\n",
       "    </tr>\n",
       "  </thead>\n",
       "  <tbody>\n",
       "    <tr>\n",
       "      <th>1705</th>\n",
       "      <td>00000459_057.png</td>\n",
       "      <td>30</td>\n",
       "      <td>459</td>\n",
       "      <td>55</td>\n",
       "      <td>F</td>\n",
       "      <td>PA</td>\n",
       "      <td>2698</td>\n",
       "      <td>2845</td>\n",
       "      <td>0.143000</td>\n",
       "      <td>0.143000</td>\n",
       "      <td>...</td>\n",
       "      <td>0.0</td>\n",
       "      <td>0.0</td>\n",
       "      <td>0.0</td>\n",
       "      <td>0.0</td>\n",
       "      <td>0.0</td>\n",
       "      <td>0.0</td>\n",
       "      <td>0.0</td>\n",
       "      <td>0.0</td>\n",
       "      <td>0.0</td>\n",
       "      <td>0.0</td>\n",
       "    </tr>\n",
       "    <tr>\n",
       "      <th>87289</th>\n",
       "      <td>00021552_011.png</td>\n",
       "      <td>24</td>\n",
       "      <td>21552</td>\n",
       "      <td>53</td>\n",
       "      <td>M</td>\n",
       "      <td>PA</td>\n",
       "      <td>2021</td>\n",
       "      <td>2021</td>\n",
       "      <td>0.194311</td>\n",
       "      <td>0.194311</td>\n",
       "      <td>...</td>\n",
       "      <td>0.0</td>\n",
       "      <td>0.0</td>\n",
       "      <td>0.0</td>\n",
       "      <td>0.0</td>\n",
       "      <td>0.0</td>\n",
       "      <td>0.0</td>\n",
       "      <td>0.0</td>\n",
       "      <td>0.0</td>\n",
       "      <td>0.0</td>\n",
       "      <td>0.0</td>\n",
       "    </tr>\n",
       "    <tr>\n",
       "      <th>73238</th>\n",
       "      <td>00018029_000.png</td>\n",
       "      <td>0</td>\n",
       "      <td>18029</td>\n",
       "      <td>66</td>\n",
       "      <td>M</td>\n",
       "      <td>PA</td>\n",
       "      <td>2870</td>\n",
       "      <td>2991</td>\n",
       "      <td>0.143000</td>\n",
       "      <td>0.143000</td>\n",
       "      <td>...</td>\n",
       "      <td>0.0</td>\n",
       "      <td>0.0</td>\n",
       "      <td>0.0</td>\n",
       "      <td>0.0</td>\n",
       "      <td>0.0</td>\n",
       "      <td>0.0</td>\n",
       "      <td>0.0</td>\n",
       "      <td>0.0</td>\n",
       "      <td>0.0</td>\n",
       "      <td>0.0</td>\n",
       "    </tr>\n",
       "    <tr>\n",
       "      <th>1564</th>\n",
       "      <td>00000416_005.png</td>\n",
       "      <td>5</td>\n",
       "      <td>416</td>\n",
       "      <td>67</td>\n",
       "      <td>F</td>\n",
       "      <td>PA</td>\n",
       "      <td>2992</td>\n",
       "      <td>2991</td>\n",
       "      <td>0.143000</td>\n",
       "      <td>0.143000</td>\n",
       "      <td>...</td>\n",
       "      <td>0.0</td>\n",
       "      <td>0.0</td>\n",
       "      <td>0.0</td>\n",
       "      <td>0.0</td>\n",
       "      <td>0.0</td>\n",
       "      <td>0.0</td>\n",
       "      <td>0.0</td>\n",
       "      <td>0.0</td>\n",
       "      <td>0.0</td>\n",
       "      <td>0.0</td>\n",
       "    </tr>\n",
       "    <tr>\n",
       "      <th>67357</th>\n",
       "      <td>00016630_011.png</td>\n",
       "      <td>10</td>\n",
       "      <td>16630</td>\n",
       "      <td>30</td>\n",
       "      <td>M</td>\n",
       "      <td>AP</td>\n",
       "      <td>2500</td>\n",
       "      <td>2048</td>\n",
       "      <td>0.168000</td>\n",
       "      <td>0.168000</td>\n",
       "      <td>...</td>\n",
       "      <td>0.0</td>\n",
       "      <td>0.0</td>\n",
       "      <td>0.0</td>\n",
       "      <td>0.0</td>\n",
       "      <td>0.0</td>\n",
       "      <td>0.0</td>\n",
       "      <td>0.0</td>\n",
       "      <td>0.0</td>\n",
       "      <td>0.0</td>\n",
       "      <td>0.0</td>\n",
       "    </tr>\n",
       "  </tbody>\n",
       "</table>\n",
       "<p>5 rows × 24 columns</p>\n",
       "</div>"
      ],
      "text/plain": [
       "            Image Index  Follow-up #  Patient ID  Patient Age Patient Gender  \\\n",
       "1705   00000459_057.png           30         459           55              F   \n",
       "87289  00021552_011.png           24       21552           53              M   \n",
       "73238  00018029_000.png            0       18029           66              M   \n",
       "1564   00000416_005.png            5         416           67              F   \n",
       "67357  00016630_011.png           10       16630           30              M   \n",
       "\n",
       "      View Position  OriginalImage[Width  Height]  \\\n",
       "1705             PA                 2698     2845   \n",
       "87289            PA                 2021     2021   \n",
       "73238            PA                 2870     2991   \n",
       "1564             PA                 2992     2991   \n",
       "67357            AP                 2500     2048   \n",
       "\n",
       "       OriginalImagePixelSpacing[x        y]  ...  Cardiomegaly  Emphysema  \\\n",
       "1705                      0.143000  0.143000  ...           0.0        0.0   \n",
       "87289                     0.194311  0.194311  ...           0.0        0.0   \n",
       "73238                     0.143000  0.143000  ...           0.0        0.0   \n",
       "1564                      0.143000  0.143000  ...           0.0        0.0   \n",
       "67357                     0.168000  0.168000  ...           0.0        0.0   \n",
       "\n",
       "       Mass  Pleural_Thickening  Nodule  Atelectasis  Pneumonia  Effusion  \\\n",
       "1705    0.0                 0.0     0.0          0.0        0.0       0.0   \n",
       "87289   0.0                 0.0     0.0          0.0        0.0       0.0   \n",
       "73238   0.0                 0.0     0.0          0.0        0.0       0.0   \n",
       "1564    0.0                 0.0     0.0          0.0        0.0       0.0   \n",
       "67357   0.0                 0.0     0.0          0.0        0.0       0.0   \n",
       "\n",
       "       Fibrosis  Infiltration  \n",
       "1705        0.0           0.0  \n",
       "87289       0.0           0.0  \n",
       "73238       0.0           0.0  \n",
       "1564        0.0           0.0  \n",
       "67357       0.0           0.0  \n",
       "\n",
       "[5 rows x 24 columns]"
      ]
     },
     "execution_count": 4,
     "metadata": {},
     "output_type": "execute_result"
    }
   ],
   "source": [
    "train_df.head()"
   ]
  },
  {
   "cell_type": "code",
   "execution_count": 5,
   "metadata": {
    "ExecuteTime": {
     "end_time": "2021-03-25T12:33:06.114483Z",
     "start_time": "2021-03-25T12:33:05.484513Z"
    }
   },
   "outputs": [],
   "source": [
    "train_df, test_df = get_label_dfs(reduced=False)"
   ]
  },
  {
   "cell_type": "code",
   "execution_count": 6,
   "metadata": {
    "ExecuteTime": {
     "end_time": "2021-03-25T12:33:06.537560Z",
     "start_time": "2021-03-25T12:33:06.521826Z"
    }
   },
   "outputs": [
    {
     "data": {
      "text/html": [
       "<div>\n",
       "<style scoped>\n",
       "    .dataframe tbody tr th:only-of-type {\n",
       "        vertical-align: middle;\n",
       "    }\n",
       "\n",
       "    .dataframe tbody tr th {\n",
       "        vertical-align: top;\n",
       "    }\n",
       "\n",
       "    .dataframe thead th {\n",
       "        text-align: right;\n",
       "    }\n",
       "</style>\n",
       "<table border=\"1\" class=\"dataframe\">\n",
       "  <thead>\n",
       "    <tr style=\"text-align: right;\">\n",
       "      <th></th>\n",
       "      <th>Image Index</th>\n",
       "      <th>Edema</th>\n",
       "      <th>Consolidation</th>\n",
       "      <th>Pneumothorax</th>\n",
       "      <th>Hernia</th>\n",
       "      <th>Cardiomegaly</th>\n",
       "      <th>Emphysema</th>\n",
       "      <th>Mass</th>\n",
       "      <th>Pleural_Thickening</th>\n",
       "      <th>Nodule</th>\n",
       "      <th>...</th>\n",
       "      <th>Infiltration</th>\n",
       "      <th>Follow-up #</th>\n",
       "      <th>Patient ID</th>\n",
       "      <th>Patient Age</th>\n",
       "      <th>Patient Gender</th>\n",
       "      <th>View Position</th>\n",
       "      <th>OriginalImage[Width</th>\n",
       "      <th>Height]</th>\n",
       "      <th>OriginalImagePixelSpacing[x</th>\n",
       "      <th>y]</th>\n",
       "    </tr>\n",
       "  </thead>\n",
       "  <tbody>\n",
       "    <tr>\n",
       "      <th>0</th>\n",
       "      <td>00000001_000.png</td>\n",
       "      <td>0.0</td>\n",
       "      <td>0.0</td>\n",
       "      <td>0.0</td>\n",
       "      <td>0.0</td>\n",
       "      <td>1.0</td>\n",
       "      <td>0.0</td>\n",
       "      <td>0.0</td>\n",
       "      <td>0.0</td>\n",
       "      <td>0.0</td>\n",
       "      <td>...</td>\n",
       "      <td>0.0</td>\n",
       "      <td>0</td>\n",
       "      <td>1</td>\n",
       "      <td>57</td>\n",
       "      <td>M</td>\n",
       "      <td>PA</td>\n",
       "      <td>2682</td>\n",
       "      <td>2749</td>\n",
       "      <td>0.143</td>\n",
       "      <td>0.143</td>\n",
       "    </tr>\n",
       "    <tr>\n",
       "      <th>1</th>\n",
       "      <td>00000001_001.png</td>\n",
       "      <td>0.0</td>\n",
       "      <td>0.0</td>\n",
       "      <td>0.0</td>\n",
       "      <td>0.0</td>\n",
       "      <td>1.0</td>\n",
       "      <td>1.0</td>\n",
       "      <td>0.0</td>\n",
       "      <td>0.0</td>\n",
       "      <td>0.0</td>\n",
       "      <td>...</td>\n",
       "      <td>0.0</td>\n",
       "      <td>1</td>\n",
       "      <td>1</td>\n",
       "      <td>58</td>\n",
       "      <td>M</td>\n",
       "      <td>PA</td>\n",
       "      <td>2894</td>\n",
       "      <td>2729</td>\n",
       "      <td>0.143</td>\n",
       "      <td>0.143</td>\n",
       "    </tr>\n",
       "    <tr>\n",
       "      <th>2</th>\n",
       "      <td>00000001_002.png</td>\n",
       "      <td>0.0</td>\n",
       "      <td>0.0</td>\n",
       "      <td>0.0</td>\n",
       "      <td>0.0</td>\n",
       "      <td>1.0</td>\n",
       "      <td>0.0</td>\n",
       "      <td>0.0</td>\n",
       "      <td>0.0</td>\n",
       "      <td>0.0</td>\n",
       "      <td>...</td>\n",
       "      <td>0.0</td>\n",
       "      <td>2</td>\n",
       "      <td>1</td>\n",
       "      <td>58</td>\n",
       "      <td>M</td>\n",
       "      <td>PA</td>\n",
       "      <td>2500</td>\n",
       "      <td>2048</td>\n",
       "      <td>0.168</td>\n",
       "      <td>0.168</td>\n",
       "    </tr>\n",
       "    <tr>\n",
       "      <th>3</th>\n",
       "      <td>00000002_000.png</td>\n",
       "      <td>0.0</td>\n",
       "      <td>0.0</td>\n",
       "      <td>0.0</td>\n",
       "      <td>0.0</td>\n",
       "      <td>0.0</td>\n",
       "      <td>0.0</td>\n",
       "      <td>0.0</td>\n",
       "      <td>0.0</td>\n",
       "      <td>0.0</td>\n",
       "      <td>...</td>\n",
       "      <td>0.0</td>\n",
       "      <td>0</td>\n",
       "      <td>2</td>\n",
       "      <td>80</td>\n",
       "      <td>M</td>\n",
       "      <td>PA</td>\n",
       "      <td>2500</td>\n",
       "      <td>2048</td>\n",
       "      <td>0.171</td>\n",
       "      <td>0.171</td>\n",
       "    </tr>\n",
       "    <tr>\n",
       "      <th>12</th>\n",
       "      <td>00000004_000.png</td>\n",
       "      <td>0.0</td>\n",
       "      <td>0.0</td>\n",
       "      <td>0.0</td>\n",
       "      <td>0.0</td>\n",
       "      <td>0.0</td>\n",
       "      <td>0.0</td>\n",
       "      <td>1.0</td>\n",
       "      <td>0.0</td>\n",
       "      <td>1.0</td>\n",
       "      <td>...</td>\n",
       "      <td>0.0</td>\n",
       "      <td>0</td>\n",
       "      <td>4</td>\n",
       "      <td>82</td>\n",
       "      <td>M</td>\n",
       "      <td>AP</td>\n",
       "      <td>2500</td>\n",
       "      <td>2048</td>\n",
       "      <td>0.168</td>\n",
       "      <td>0.168</td>\n",
       "    </tr>\n",
       "  </tbody>\n",
       "</table>\n",
       "<p>5 rows × 25 columns</p>\n",
       "</div>"
      ],
      "text/plain": [
       "         Image Index  Edema  Consolidation  Pneumothorax  Hernia  \\\n",
       "0   00000001_000.png    0.0            0.0           0.0     0.0   \n",
       "1   00000001_001.png    0.0            0.0           0.0     0.0   \n",
       "2   00000001_002.png    0.0            0.0           0.0     0.0   \n",
       "3   00000002_000.png    0.0            0.0           0.0     0.0   \n",
       "12  00000004_000.png    0.0            0.0           0.0     0.0   \n",
       "\n",
       "    Cardiomegaly  Emphysema  Mass  Pleural_Thickening  Nodule  ...  \\\n",
       "0            1.0        0.0   0.0                 0.0     0.0  ...   \n",
       "1            1.0        1.0   0.0                 0.0     0.0  ...   \n",
       "2            1.0        0.0   0.0                 0.0     0.0  ...   \n",
       "3            0.0        0.0   0.0                 0.0     0.0  ...   \n",
       "12           0.0        0.0   1.0                 0.0     1.0  ...   \n",
       "\n",
       "    Infiltration  Follow-up #  Patient ID  Patient Age  Patient Gender  \\\n",
       "0            0.0            0           1           57               M   \n",
       "1            0.0            1           1           58               M   \n",
       "2            0.0            2           1           58               M   \n",
       "3            0.0            0           2           80               M   \n",
       "12           0.0            0           4           82               M   \n",
       "\n",
       "    View Position  OriginalImage[Width  Height]  OriginalImagePixelSpacing[x  \\\n",
       "0              PA                 2682     2749                        0.143   \n",
       "1              PA                 2894     2729                        0.143   \n",
       "2              PA                 2500     2048                        0.168   \n",
       "3              PA                 2500     2048                        0.171   \n",
       "12             AP                 2500     2048                        0.168   \n",
       "\n",
       "       y]  \n",
       "0   0.143  \n",
       "1   0.143  \n",
       "2   0.168  \n",
       "3   0.171  \n",
       "12  0.168  \n",
       "\n",
       "[5 rows x 25 columns]"
      ]
     },
     "execution_count": 6,
     "metadata": {},
     "output_type": "execute_result"
    }
   ],
   "source": [
    "train_df.head()"
   ]
  },
  {
   "cell_type": "code",
   "execution_count": 7,
   "metadata": {
    "ExecuteTime": {
     "end_time": "2021-03-25T12:33:06.916578Z",
     "start_time": "2021-03-25T12:33:06.914244Z"
    }
   },
   "outputs": [],
   "source": [
    "def get_train_valid(data, val_size=0.2, seed=92):\n",
    "    # Currently with patient overlap!\n",
    "    warnings.warn(\"Train-Val-Split currently with patient overlap!\")\n",
    "    labels = get_labels()\n",
    "    X = data[[c for c in data.columns if c not in labels]]\n",
    "    y = data[labels]\n",
    "    X_train, X_test, y_train, y_test = train_test_split(X, y, test_size=val_size, random_state=seed)\n",
    "    return X_train, X_test, y_train, y_test"
   ]
  },
  {
   "cell_type": "code",
   "execution_count": 8,
   "metadata": {
    "ExecuteTime": {
     "end_time": "2021-03-25T12:33:07.293387Z",
     "start_time": "2021-03-25T12:33:07.291777Z"
    }
   },
   "outputs": [],
   "source": [
    "from collections import Counter"
   ]
  },
  {
   "cell_type": "code",
   "execution_count": 9,
   "metadata": {
    "ExecuteTime": {
     "end_time": "2021-03-25T12:33:07.674444Z",
     "start_time": "2021-03-25T12:33:07.660038Z"
    }
   },
   "outputs": [],
   "source": [
    "counter = Counter(train_df[\"Patient ID\"].values)"
   ]
  },
  {
   "cell_type": "code",
   "execution_count": 10,
   "metadata": {
    "ExecuteTime": {
     "end_time": "2021-03-25T12:33:08.281473Z",
     "start_time": "2021-03-25T12:33:08.274572Z"
    }
   },
   "outputs": [],
   "source": [
    "test = counter.most_common()\n",
    "value = [a for _, a in test]\n",
    "weight = [1 for _ in test]"
   ]
  },
  {
   "cell_type": "code",
   "execution_count": 11,
   "metadata": {
    "ExecuteTime": {
     "end_time": "2021-03-25T12:33:09.118476Z",
     "start_time": "2021-03-25T12:33:09.116816Z"
    }
   },
   "outputs": [],
   "source": [
    "val_size = 0.2 * train_df.shape[0]"
   ]
  },
  {
   "cell_type": "code",
   "execution_count": 132,
   "metadata": {
    "ExecuteTime": {
     "end_time": "2021-03-25T13:20:41.564872Z",
     "start_time": "2021-03-25T13:20:41.560644Z"
    }
   },
   "outputs": [
    {
     "data": {
      "text/plain": [
       "True"
      ]
     },
     "execution_count": 132,
     "metadata": {},
     "output_type": "execute_result"
    }
   ],
   "source": [
    "z = torch.ones((1, 2), requires_grad=True)\n",
    "a = torch.Tensor([0.1, .6]) + z\n",
    "b = torch.Tensor([0.1, .6])\n",
    "c = a + b\n",
    "c.requires_grad"
   ]
  },
  {
   "cell_type": "code",
   "execution_count": 122,
   "metadata": {
    "ExecuteTime": {
     "end_time": "2021-03-25T13:17:10.622435Z",
     "start_time": "2021-03-25T13:17:10.617336Z"
    }
   },
   "outputs": [
    {
     "data": {
      "text/plain": [
       "(tensor([0.1000, 0.6000]),\n",
       " tensor([0.0000, 0.6000]),\n",
       " tensor([-1.0000, -0.4000]))"
      ]
     },
     "execution_count": 122,
     "metadata": {},
     "output_type": "execute_result"
    }
   ],
   "source": [
    "m = NN.Threshold(0.5, 0)\n",
    "n = NN.Threshold(-0.9999999999999999, 0)\n",
    "input = torch.Tensor([0.1, .6])\n",
    "#output = m(input)\n",
    "input, m(input), m(input) -1 "
   ]
  },
  {
   "cell_type": "code",
   "execution_count": 153,
   "metadata": {
    "ExecuteTime": {
     "end_time": "2021-03-25T13:33:24.357667Z",
     "start_time": "2021-03-25T13:33:24.353769Z"
    }
   },
   "outputs": [],
   "source": [
    "class Picker(NN.Module):\n",
    "    def __init__(self, input_data): \n",
    "        super().__init__()\n",
    "        self.input_data = input_data\n",
    "        self.inp_shape = input_data.shape\n",
    "        self.threshold = NN.Threshold(0.5, 0)\n",
    "    def forward(self, X):\n",
    "        #z = torch.ones(*self.inp_shape, requires_grad=True)\n",
    "        #comp = (z + (X > 0.5)).float()\n",
    "        #ans = torch.matmul(self.input_data, comp.T)\n",
    "        ans = torch.matmul(self.input_data, self.threshold(X.T))\n",
    "        return ans\n",
    "    def get_indices(self, X):\n",
    "        return torch.where(X > 0.5)[0]"
   ]
  },
  {
   "cell_type": "code",
   "execution_count": 178,
   "metadata": {
    "ExecuteTime": {
     "end_time": "2021-03-25T13:41:06.425495Z",
     "start_time": "2021-03-25T13:41:06.419735Z"
    }
   },
   "outputs": [],
   "source": [
    "class PickerNet(NN.Module):\n",
    "    def __init__(self, value, hidden_size):\n",
    "        super(PickerNet, self).__init__()\n",
    "        self.l1 = NN.Linear(len(value), hidden_size)\n",
    "        #self.l2 = NN.Linear(hidden_size, hidden_size)\n",
    "        self.l3 = NN.Linear(hidden_size, len(value))\n",
    "        self.r1 = NN.ReLU()\n",
    "       # self.r2 = NN.ReLU()\n",
    "        self.r3 = NN.ReLU()\n",
    "        self.s = NN.Sigmoid()\n",
    "        self.p = Picker(torch.Tensor(value))\n",
    "    \n",
    "    def forward(self, X):\n",
    "        X = self.r1(self.l1(X))\n",
    "        #X = self.r2(self.l2(X))\n",
    "        X = self.r3(self.l3(X))\n",
    "        X = self.p(self.s(X))\n",
    "        return X\n",
    "    \n",
    "    def get_indices(self, X):\n",
    "        X = self.r1(self.l1(X))\n",
    "        #X = self.r2(self.l2(X))\n",
    "        X = self.r3(self.l3(X))\n",
    "        X = self.s(X)\n",
    "        return self.p.get_indices(X)"
   ]
  },
  {
   "cell_type": "code",
   "execution_count": 179,
   "metadata": {
    "ExecuteTime": {
     "end_time": "2021-03-25T13:41:07.700253Z",
     "start_time": "2021-03-25T13:41:07.478582Z"
    }
   },
   "outputs": [
    {
     "data": {
      "text/plain": [
       "<torch.autograd.grad_mode.set_grad_enabled at 0x7f6eca74ba00>"
      ]
     },
     "execution_count": 179,
     "metadata": {},
     "output_type": "execute_result"
    }
   ],
   "source": [
    "model = PickerNet(value, 1000)\n",
    "torch.set_grad_enabled(True) "
   ]
  },
  {
   "cell_type": "code",
   "execution_count": 171,
   "metadata": {
    "ExecuteTime": {
     "end_time": "2021-03-25T13:37:08.029990Z",
     "start_time": "2021-03-25T13:37:08.026730Z"
    }
   },
   "outputs": [
    {
     "data": {
      "text/plain": [
       "PickerNet(\n",
       "  (l1): Linear(in_features=28008, out_features=1000, bias=True)\n",
       "  (l2): Linear(in_features=1000, out_features=1000, bias=True)\n",
       "  (l3): Linear(in_features=1000, out_features=28008, bias=True)\n",
       "  (r1): ReLU()\n",
       "  (r2): ReLU()\n",
       "  (r3): ReLU()\n",
       "  (s): Sigmoid()\n",
       "  (p): Picker(\n",
       "    (threshold): Threshold(threshold=0.5, value=0)\n",
       "  )\n",
       ")"
      ]
     },
     "execution_count": 171,
     "metadata": {},
     "output_type": "execute_result"
    }
   ],
   "source": [
    "model"
   ]
  },
  {
   "cell_type": "code",
   "execution_count": null,
   "metadata": {
    "ExecuteTime": {
     "end_time": "2021-03-25T12:07:02.157116Z",
     "start_time": "2021-03-25T12:06:56.019469Z"
    }
   },
   "outputs": [],
   "source": [
    "#model = NN.Sequential(\n",
    "#    NN.Linear(len(value), len(value)),\n",
    "#    NN.ReLU(),\n",
    "#    NN.Linear(len(value), len(value)),\n",
    "#    NN.ReLU(),\n",
    "#    NN.Sigmoid(),\n",
    "#    Picker(torch.Tensor(value))\n",
    "#)"
   ]
  },
  {
   "cell_type": "code",
   "execution_count": null,
   "metadata": {
    "ExecuteTime": {
     "end_time": "2021-03-25T12:06:00.520195Z",
     "start_time": "2021-03-25T12:06:00.514593Z"
    }
   },
   "outputs": [],
   "source": [
    "t = torch.Tensor([4, 3, 1, 7])\n",
    "\n",
    "pred = (torch.rand((2, 4)) > 0.5).float()\n",
    "print(pred)\n",
    "t @ pred.T\n",
    "#pred @ t.T\n",
    "\n",
    "\n",
    "\n",
    "\n",
    "#self.input_data[indices].sum()\n",
    "#inds\n",
    "#a = torch.where(t > 0.5)\n",
    "#a[0]"
   ]
  },
  {
   "cell_type": "code",
   "execution_count": null,
   "metadata": {
    "ExecuteTime": {
     "end_time": "2021-03-25T12:03:47.710283Z",
     "start_time": "2021-03-25T12:03:47.706253Z"
    }
   },
   "outputs": [],
   "source": [
    "t[a]"
   ]
  },
  {
   "cell_type": "code",
   "execution_count": null,
   "metadata": {
    "ExecuteTime": {
     "end_time": "2021-03-25T11:39:52.378351Z",
     "start_time": "2021-03-25T11:39:52.375049Z"
    }
   },
   "outputs": [],
   "source": [
    "model"
   ]
  },
  {
   "cell_type": "code",
   "execution_count": null,
   "metadata": {
    "ExecuteTime": {
     "end_time": "2021-03-25T11:39:53.514432Z",
     "start_time": "2021-03-25T11:39:53.327348Z"
    }
   },
   "outputs": [],
   "source": [
    "#pred = model(torch.Tensor([value, value]))\n",
    "pred = model(torch.Tensor(value))"
   ]
  },
  {
   "cell_type": "code",
   "execution_count": null,
   "metadata": {
    "ExecuteTime": {
     "end_time": "2021-03-25T11:40:01.270200Z",
     "start_time": "2021-03-25T11:40:01.265965Z"
    }
   },
   "outputs": [],
   "source": [
    "pred"
   ]
  },
  {
   "cell_type": "code",
   "execution_count": 96,
   "metadata": {
    "ExecuteTime": {
     "end_time": "2021-03-25T13:08:59.893005Z",
     "start_time": "2021-03-25T13:08:59.880299Z"
    }
   },
   "outputs": [
    {
     "data": {
      "text/plain": [
       "tensor([17326.6348], grad_fn=<SqueezeBackward3>)"
      ]
     },
     "execution_count": 96,
     "metadata": {},
     "output_type": "execute_result"
    }
   ],
   "source": [
    "y_hat = model(X)\n",
    "y_hat"
   ]
  },
  {
   "cell_type": "code",
   "execution_count": null,
   "metadata": {
    "ExecuteTime": {
     "end_time": "2021-03-25T11:45:26.152640Z",
     "start_time": "2021-03-25T11:45:26.148834Z"
    }
   },
   "outputs": [],
   "source": [
    "criterion(torch.Tensor([pred]), torch.Tensor([val_size]))"
   ]
  },
  {
   "cell_type": "code",
   "execution_count": 163,
   "metadata": {
    "ExecuteTime": {
     "end_time": "2021-03-25T13:35:51.885866Z",
     "start_time": "2021-03-25T13:35:51.882135Z"
    }
   },
   "outputs": [],
   "source": [
    "class PickerLoss:\n",
    "    def __init__(self, red_size):\n",
    "        self.mse = NN.MSELoss()\n",
    "        self.factor = torch.Tensor([red_size])\n",
    "    def __call__(self, X, y):\n",
    "        base_loss = torch.sqrt(self.mse(X, y))\n",
    "        pred_loss = torch.pow(2 * torch.abs(torch.abs(X - 0.5) - 0.5), 2)\n",
    "        return base_loss + pred_loss / self.factor\n",
    "        "
   ]
  },
  {
   "cell_type": "code",
   "execution_count": 164,
   "metadata": {
    "ExecuteTime": {
     "end_time": "2021-03-25T13:35:52.936558Z",
     "start_time": "2021-03-25T13:35:52.935017Z"
    }
   },
   "outputs": [],
   "source": [
    "import copy"
   ]
  },
  {
   "cell_type": "code",
   "execution_count": 193,
   "metadata": {
    "ExecuteTime": {
     "end_time": "2021-03-25T13:56:12.153291Z",
     "start_time": "2021-03-25T13:56:12.148721Z"
    }
   },
   "outputs": [],
   "source": [
    "def train_it(red_size):\n",
    "    model = PickerNet(value, 1000)\n",
    "    losses = []\n",
    "    device = get_cpu()\n",
    "    lr = 1e-4\n",
    "    model = model.to(device)\n",
    "    model.p.input_data = model.p.input_data.to(device)\n",
    "    criterion = PickerLoss(red_size=red_size)\n",
    "    optimizer = torch.optim.Adam(model.parameters(),lr=lr)\n",
    "\n",
    "\n",
    "    best_model_state = copy.copy(model.state_dict())\n",
    "    patience = 5\n",
    "    patience_count = 0\n",
    "    i = 0\n",
    "    X = torch.Tensor([value])\n",
    "    y = torch.Tensor([val_size])\n",
    "    X, y = X.to(device), y.to(device)\n",
    "    while True:\n",
    "        optimizer.zero_grad()\n",
    "        pred = model(X)\n",
    "        loss = criterion(pred, y)\n",
    "        losses.append(loss.item())\n",
    "        loss.backward()\n",
    "        optimizer.step()\n",
    "\n",
    "        if i > 2:\n",
    "            if losses[-1] >= losses[-2]: \n",
    "                best_model_state = copy.copy(model.state_dict())\n",
    "                if patience_count == patience:\n",
    "                    patience_count = 0\n",
    "                    lr /= 3\n",
    "                    optimizer.param_groups[0][\"lr\"] = lr\n",
    "                    #print(\"LR:\", lr)\n",
    "                else:\n",
    "                    patience_count += 1\n",
    "            else: patience_count = 0\n",
    "\n",
    "        #print(losses[-1])\n",
    "\n",
    "        if lr < 1e-14: break\n",
    "        i += 1\n",
    "    model.load_state_dict(best_model_state)\n",
    "    inds = model.get_indices(X[0])\n",
    "    inds = [i for i in inds.detach().numpy().astype(np.uint8)]\n",
    "    \n",
    "    \n",
    "    return np.abs(np.array(value)[inds].sum() - val_size)\n"
   ]
  },
  {
   "cell_type": "code",
   "execution_count": 194,
   "metadata": {
    "ExecuteTime": {
     "end_time": "2021-03-25T14:13:00.558489Z",
     "start_time": "2021-03-25T13:56:13.180450Z"
    }
   },
   "outputs": [
    {
     "name": "stdout",
     "output_type": "stream",
     "text": [
      "Size: 0.0001\n",
      "Using the CPU!\n"
     ]
    },
    {
     "ename": "KeyboardInterrupt",
     "evalue": "",
     "output_type": "error",
     "traceback": [
      "\u001b[0;31m---------------------------------------------------------------------------\u001b[0m",
      "\u001b[0;31mKeyboardInterrupt\u001b[0m                         Traceback (most recent call last)",
      "\u001b[0;32m<ipython-input-194-7bdbe4510c69>\u001b[0m in \u001b[0;36m<module>\u001b[0;34m\u001b[0m\n\u001b[1;32m      3\u001b[0m \u001b[0;32mfor\u001b[0m \u001b[0mred_size\u001b[0m \u001b[0;32min\u001b[0m \u001b[0mred_sizes\u001b[0m\u001b[0;34m:\u001b[0m\u001b[0;34m\u001b[0m\u001b[0;34m\u001b[0m\u001b[0m\n\u001b[1;32m      4\u001b[0m     \u001b[0mprint\u001b[0m\u001b[0;34m(\u001b[0m\u001b[0;34mf\"Size: {red_size}\"\u001b[0m\u001b[0;34m)\u001b[0m\u001b[0;34m\u001b[0m\u001b[0;34m\u001b[0m\u001b[0m\n\u001b[0;32m----> 5\u001b[0;31m     \u001b[0mresults\u001b[0m\u001b[0;34m.\u001b[0m\u001b[0mappend\u001b[0m\u001b[0;34m(\u001b[0m\u001b[0;34m{\u001b[0m\u001b[0;34m\"red_size\"\u001b[0m\u001b[0;34m:\u001b[0m \u001b[0mred_size\u001b[0m\u001b[0;34m,\u001b[0m \u001b[0;34m\"result\"\u001b[0m\u001b[0;34m:\u001b[0m \u001b[0mtrain_it\u001b[0m\u001b[0;34m(\u001b[0m\u001b[0mred_size\u001b[0m\u001b[0;34m)\u001b[0m\u001b[0;34m}\u001b[0m\u001b[0;34m)\u001b[0m\u001b[0;34m\u001b[0m\u001b[0;34m\u001b[0m\u001b[0m\n\u001b[0m",
      "\u001b[0;32m<ipython-input-193-50fcc92df32a>\u001b[0m in \u001b[0;36mtrain_it\u001b[0;34m(red_size)\u001b[0m\n\u001b[1;32m     23\u001b[0m         \u001b[0mlosses\u001b[0m\u001b[0;34m.\u001b[0m\u001b[0mappend\u001b[0m\u001b[0;34m(\u001b[0m\u001b[0mloss\u001b[0m\u001b[0;34m.\u001b[0m\u001b[0mitem\u001b[0m\u001b[0;34m(\u001b[0m\u001b[0;34m)\u001b[0m\u001b[0;34m)\u001b[0m\u001b[0;34m\u001b[0m\u001b[0;34m\u001b[0m\u001b[0m\n\u001b[1;32m     24\u001b[0m         \u001b[0mloss\u001b[0m\u001b[0;34m.\u001b[0m\u001b[0mbackward\u001b[0m\u001b[0;34m(\u001b[0m\u001b[0;34m)\u001b[0m\u001b[0;34m\u001b[0m\u001b[0;34m\u001b[0m\u001b[0m\n\u001b[0;32m---> 25\u001b[0;31m         \u001b[0moptimizer\u001b[0m\u001b[0;34m.\u001b[0m\u001b[0mstep\u001b[0m\u001b[0;34m(\u001b[0m\u001b[0;34m)\u001b[0m\u001b[0;34m\u001b[0m\u001b[0;34m\u001b[0m\u001b[0m\n\u001b[0m\u001b[1;32m     26\u001b[0m \u001b[0;34m\u001b[0m\u001b[0m\n\u001b[1;32m     27\u001b[0m         \u001b[0;32mif\u001b[0m \u001b[0mi\u001b[0m \u001b[0;34m>\u001b[0m \u001b[0;36m2\u001b[0m\u001b[0;34m:\u001b[0m\u001b[0;34m\u001b[0m\u001b[0;34m\u001b[0m\u001b[0m\n",
      "\u001b[0;32m~/anaconda3/envs/crx8_pt/lib/python3.8/site-packages/torch/optim/optimizer.py\u001b[0m in \u001b[0;36mwrapper\u001b[0;34m(*args, **kwargs)\u001b[0m\n\u001b[1;32m     87\u001b[0m                 \u001b[0mprofile_name\u001b[0m \u001b[0;34m=\u001b[0m \u001b[0;34m\"Optimizer.step#{}.step\"\u001b[0m\u001b[0;34m.\u001b[0m\u001b[0mformat\u001b[0m\u001b[0;34m(\u001b[0m\u001b[0mobj\u001b[0m\u001b[0;34m.\u001b[0m\u001b[0m__class__\u001b[0m\u001b[0;34m.\u001b[0m\u001b[0m__name__\u001b[0m\u001b[0;34m)\u001b[0m\u001b[0;34m\u001b[0m\u001b[0;34m\u001b[0m\u001b[0m\n\u001b[1;32m     88\u001b[0m                 \u001b[0;32mwith\u001b[0m \u001b[0mtorch\u001b[0m\u001b[0;34m.\u001b[0m\u001b[0mautograd\u001b[0m\u001b[0;34m.\u001b[0m\u001b[0mprofiler\u001b[0m\u001b[0;34m.\u001b[0m\u001b[0mrecord_function\u001b[0m\u001b[0;34m(\u001b[0m\u001b[0mprofile_name\u001b[0m\u001b[0;34m)\u001b[0m\u001b[0;34m:\u001b[0m\u001b[0;34m\u001b[0m\u001b[0;34m\u001b[0m\u001b[0m\n\u001b[0;32m---> 89\u001b[0;31m                     \u001b[0;32mreturn\u001b[0m \u001b[0mfunc\u001b[0m\u001b[0;34m(\u001b[0m\u001b[0;34m*\u001b[0m\u001b[0margs\u001b[0m\u001b[0;34m,\u001b[0m \u001b[0;34m**\u001b[0m\u001b[0mkwargs\u001b[0m\u001b[0;34m)\u001b[0m\u001b[0;34m\u001b[0m\u001b[0;34m\u001b[0m\u001b[0m\n\u001b[0m\u001b[1;32m     90\u001b[0m             \u001b[0;32mreturn\u001b[0m \u001b[0mwrapper\u001b[0m\u001b[0;34m\u001b[0m\u001b[0;34m\u001b[0m\u001b[0m\n\u001b[1;32m     91\u001b[0m \u001b[0;34m\u001b[0m\u001b[0m\n",
      "\u001b[0;32m~/anaconda3/envs/crx8_pt/lib/python3.8/site-packages/torch/autograd/grad_mode.py\u001b[0m in \u001b[0;36mdecorate_context\u001b[0;34m(*args, **kwargs)\u001b[0m\n\u001b[1;32m     25\u001b[0m         \u001b[0;32mdef\u001b[0m \u001b[0mdecorate_context\u001b[0m\u001b[0;34m(\u001b[0m\u001b[0;34m*\u001b[0m\u001b[0margs\u001b[0m\u001b[0;34m,\u001b[0m \u001b[0;34m**\u001b[0m\u001b[0mkwargs\u001b[0m\u001b[0;34m)\u001b[0m\u001b[0;34m:\u001b[0m\u001b[0;34m\u001b[0m\u001b[0;34m\u001b[0m\u001b[0m\n\u001b[1;32m     26\u001b[0m             \u001b[0;32mwith\u001b[0m \u001b[0mself\u001b[0m\u001b[0;34m.\u001b[0m\u001b[0m__class__\u001b[0m\u001b[0;34m(\u001b[0m\u001b[0;34m)\u001b[0m\u001b[0;34m:\u001b[0m\u001b[0;34m\u001b[0m\u001b[0;34m\u001b[0m\u001b[0m\n\u001b[0;32m---> 27\u001b[0;31m                 \u001b[0;32mreturn\u001b[0m \u001b[0mfunc\u001b[0m\u001b[0;34m(\u001b[0m\u001b[0;34m*\u001b[0m\u001b[0margs\u001b[0m\u001b[0;34m,\u001b[0m \u001b[0;34m**\u001b[0m\u001b[0mkwargs\u001b[0m\u001b[0;34m)\u001b[0m\u001b[0;34m\u001b[0m\u001b[0;34m\u001b[0m\u001b[0m\n\u001b[0m\u001b[1;32m     28\u001b[0m         \u001b[0;32mreturn\u001b[0m \u001b[0mcast\u001b[0m\u001b[0;34m(\u001b[0m\u001b[0mF\u001b[0m\u001b[0;34m,\u001b[0m \u001b[0mdecorate_context\u001b[0m\u001b[0;34m)\u001b[0m\u001b[0;34m\u001b[0m\u001b[0;34m\u001b[0m\u001b[0m\n\u001b[1;32m     29\u001b[0m \u001b[0;34m\u001b[0m\u001b[0m\n",
      "\u001b[0;32m~/anaconda3/envs/crx8_pt/lib/python3.8/site-packages/torch/optim/adam.py\u001b[0m in \u001b[0;36mstep\u001b[0;34m(self, closure)\u001b[0m\n\u001b[1;32m    106\u001b[0m \u001b[0;34m\u001b[0m\u001b[0m\n\u001b[1;32m    107\u001b[0m             \u001b[0mbeta1\u001b[0m\u001b[0;34m,\u001b[0m \u001b[0mbeta2\u001b[0m \u001b[0;34m=\u001b[0m \u001b[0mgroup\u001b[0m\u001b[0;34m[\u001b[0m\u001b[0;34m'betas'\u001b[0m\u001b[0;34m]\u001b[0m\u001b[0;34m\u001b[0m\u001b[0;34m\u001b[0m\u001b[0m\n\u001b[0;32m--> 108\u001b[0;31m             F.adam(params_with_grad,\n\u001b[0m\u001b[1;32m    109\u001b[0m                    \u001b[0mgrads\u001b[0m\u001b[0;34m,\u001b[0m\u001b[0;34m\u001b[0m\u001b[0;34m\u001b[0m\u001b[0m\n\u001b[1;32m    110\u001b[0m                    \u001b[0mexp_avgs\u001b[0m\u001b[0;34m,\u001b[0m\u001b[0;34m\u001b[0m\u001b[0;34m\u001b[0m\u001b[0m\n",
      "\u001b[0;32m~/anaconda3/envs/crx8_pt/lib/python3.8/site-packages/torch/optim/_functional.py\u001b[0m in \u001b[0;36madam\u001b[0;34m(params, grads, exp_avgs, exp_avg_sqs, max_exp_avg_sqs, state_steps, amsgrad, beta1, beta2, lr, weight_decay, eps)\u001b[0m\n\u001b[1;32m     83\u001b[0m         \u001b[0;31m# Decay the first and second moment running average coefficient\u001b[0m\u001b[0;34m\u001b[0m\u001b[0;34m\u001b[0m\u001b[0;34m\u001b[0m\u001b[0m\n\u001b[1;32m     84\u001b[0m         \u001b[0mexp_avg\u001b[0m\u001b[0;34m.\u001b[0m\u001b[0mmul_\u001b[0m\u001b[0;34m(\u001b[0m\u001b[0mbeta1\u001b[0m\u001b[0;34m)\u001b[0m\u001b[0;34m.\u001b[0m\u001b[0madd_\u001b[0m\u001b[0;34m(\u001b[0m\u001b[0mgrad\u001b[0m\u001b[0;34m,\u001b[0m \u001b[0malpha\u001b[0m\u001b[0;34m=\u001b[0m\u001b[0;36m1\u001b[0m \u001b[0;34m-\u001b[0m \u001b[0mbeta1\u001b[0m\u001b[0;34m)\u001b[0m\u001b[0;34m\u001b[0m\u001b[0;34m\u001b[0m\u001b[0m\n\u001b[0;32m---> 85\u001b[0;31m         \u001b[0mexp_avg_sq\u001b[0m\u001b[0;34m.\u001b[0m\u001b[0mmul_\u001b[0m\u001b[0;34m(\u001b[0m\u001b[0mbeta2\u001b[0m\u001b[0;34m)\u001b[0m\u001b[0;34m.\u001b[0m\u001b[0maddcmul_\u001b[0m\u001b[0;34m(\u001b[0m\u001b[0mgrad\u001b[0m\u001b[0;34m,\u001b[0m \u001b[0mgrad\u001b[0m\u001b[0;34m,\u001b[0m \u001b[0mvalue\u001b[0m\u001b[0;34m=\u001b[0m\u001b[0;36m1\u001b[0m \u001b[0;34m-\u001b[0m \u001b[0mbeta2\u001b[0m\u001b[0;34m)\u001b[0m\u001b[0;34m\u001b[0m\u001b[0;34m\u001b[0m\u001b[0m\n\u001b[0m\u001b[1;32m     86\u001b[0m         \u001b[0;32mif\u001b[0m \u001b[0mamsgrad\u001b[0m\u001b[0;34m:\u001b[0m\u001b[0;34m\u001b[0m\u001b[0;34m\u001b[0m\u001b[0m\n\u001b[1;32m     87\u001b[0m             \u001b[0;31m# Maintains the maximum of all 2nd moment running avg. till now\u001b[0m\u001b[0;34m\u001b[0m\u001b[0;34m\u001b[0m\u001b[0;34m\u001b[0m\u001b[0m\n",
      "\u001b[0;31mKeyboardInterrupt\u001b[0m: "
     ]
    }
   ],
   "source": [
    "red_sizes = [1e-4, 1e-6, 1e-8, 1e-10, 1e-12, 1e-14]\n",
    "results = []\n",
    "for red_size in red_sizes:\n",
    "    print(f\"Size: {red_size}\")\n",
    "    results.append({\"red_size\": red_size, \"result\": train_it(red_size)})"
   ]
  },
  {
   "cell_type": "code",
   "execution_count": 188,
   "metadata": {
    "ExecuteTime": {
     "end_time": "2021-03-25T13:52:56.059619Z",
     "start_time": "2021-03-25T13:52:56.056442Z"
    }
   },
   "outputs": [
    {
     "data": {
      "text/plain": [
       "1"
      ]
     },
     "execution_count": 188,
     "metadata": {},
     "output_type": "execute_result"
    }
   ],
   "source": [
    "import math\n",
    "np.abs(-1)"
   ]
  },
  {
   "cell_type": "code",
   "execution_count": 180,
   "metadata": {
    "ExecuteTime": {
     "end_time": "2021-03-25T13:44:37.782443Z",
     "start_time": "2021-03-25T13:41:11.409845Z"
    }
   },
   "outputs": [
    {
     "name": "stdout",
     "output_type": "stream",
     "text": [
      "Using the CPU!\n",
      "57176.7265625\n",
      "55276.5546875\n",
      "37318.53125\n",
      "25386.734375\n",
      "24268.15234375\n",
      "24122.953125\n",
      "23916.05859375\n",
      "23667.240234375\n",
      "23337.123046875\n",
      "23236.474609375\n",
      "23035.564453125\n",
      "22795.9375\n",
      "22545.3828125\n",
      "22343.0625\n",
      "22144.041015625\n",
      "21969.92578125\n",
      "21827.625\n",
      "21669.9609375\n",
      "21431.12890625\n",
      "21275.55078125\n",
      "21031.955078125\n",
      "20860.06640625\n",
      "20676.998046875\n",
      "20504.35546875\n",
      "20267.203125\n",
      "20136.2578125\n",
      "19932.435546875\n",
      "19709.5703125\n",
      "19470.359375\n",
      "19330.8515625\n",
      "19187.4375\n",
      "18970.56640625\n",
      "18685.23828125\n",
      "18500.298828125\n",
      "18311.51171875\n",
      "18229.05859375\n",
      "18024.46875\n",
      "17879.3046875\n",
      "17783.62109375\n",
      "17573.44921875\n",
      "17415.41015625\n",
      "17298.56640625\n",
      "17160.11328125\n",
      "16942.04296875\n",
      "16800.228515625\n",
      "16691.05859375\n",
      "16474.56640625\n",
      "16305.40234375\n",
      "16156.7392578125\n",
      "15846.677734375\n",
      "15724.314453125\n",
      "15552.9091796875\n",
      "15404.4541015625\n",
      "15180.74609375\n",
      "14984.197265625\n",
      "14834.1591796875\n",
      "14674.0\n",
      "14552.205078125\n",
      "14401.8798828125\n",
      "14210.1611328125\n",
      "14005.6796875\n",
      "13827.529296875\n",
      "13799.3681640625\n",
      "13766.166015625\n",
      "13731.5244140625\n",
      "13698.396484375\n",
      "13679.9365234375\n",
      "13657.0166015625\n",
      "13634.81640625\n",
      "13613.07421875\n",
      "13606.0859375\n",
      "13589.587890625\n",
      "13574.5693359375\n",
      "13543.8447265625\n",
      "13534.2685546875\n",
      "13517.064453125\n",
      "13511.4033203125\n",
      "13502.2138671875\n",
      "13487.0986328125\n",
      "13480.7041015625\n",
      "13471.625\n",
      "13450.2373046875\n",
      "13440.9990234375\n",
      "13433.6552734375\n",
      "13419.947265625\n",
      "13410.0\n",
      "13402.47265625\n",
      "13391.279296875\n",
      "13378.0244140625\n",
      "13371.361328125\n",
      "13366.8134765625\n",
      "13336.0859375\n",
      "13334.41796875\n",
      "13330.4345703125\n",
      "13328.5234375\n",
      "13323.525390625\n",
      "13316.2373046875\n",
      "13311.267578125\n",
      "13299.9248046875\n",
      "13293.7080078125\n",
      "13282.7001953125\n",
      "13279.048828125\n",
      "13271.876953125\n",
      "13260.705078125\n",
      "13252.3271484375\n",
      "13237.232421875\n",
      "13212.0966796875\n",
      "13204.3564453125\n",
      "13197.876953125\n",
      "13186.513671875\n",
      "13175.935546875\n",
      "13163.9541015625\n",
      "13156.3603515625\n",
      "13139.900390625\n",
      "13135.7333984375\n",
      "13128.466796875\n",
      "13121.224609375\n",
      "13106.892578125\n",
      "13093.58984375\n",
      "13087.3779296875\n",
      "13084.0\n",
      "13078.296875\n",
      "13069.3310546875\n",
      "13059.708984375\n",
      "13057.287109375\n",
      "13050.02734375\n",
      "13039.8017578125\n",
      "13036.9580078125\n",
      "13026.3271484375\n",
      "13018.7109375\n",
      "13014.072265625\n",
      "13004.0\n",
      "12984.7578125\n",
      "12980.8544921875\n",
      "12976.962890625\n",
      "12965.283203125\n",
      "12960.5302734375\n",
      "12954.017578125\n",
      "12942.2470703125\n",
      "12936.0087890625\n",
      "12926.5224609375\n",
      "12923.8232421875\n",
      "12921.130859375\n",
      "12913.65625\n",
      "12910.1015625\n",
      "12903.751953125\n",
      "12897.1953125\n",
      "12890.4541015625\n",
      "12881.59375\n",
      "12875.958984375\n",
      "12865.689453125\n",
      "12854.841796875\n",
      "12849.302734375\n",
      "12847.1259765625\n",
      "12842.6513671875\n",
      "12836.5166015625\n",
      "12834.35546875\n",
      "12828.24609375\n",
      "12825.4716796875\n",
      "12814.4365234375\n",
      "12807.5703125\n",
      "12800.5302734375\n",
      "12795.552734375\n",
      "12774.5947265625\n",
      "12764.2666015625\n",
      "12756.98828125\n",
      "12754.1240234375\n",
      "12750.669921875\n",
      "12747.61328125\n",
      "12742.3818359375\n",
      "12738.947265625\n",
      "12735.322265625\n",
      "12730.13671875\n",
      "12726.13671875\n",
      "12710.6611328125\n",
      "12699.56640625\n",
      "12694.6845703125\n",
      "12690.587890625\n",
      "12668.0654296875\n",
      "12663.28125\n",
      "12657.3876953125\n",
      "12654.1357421875\n",
      "12651.8271484375\n",
      "12630.23828125\n",
      "12625.388671875\n",
      "12623.3017578125\n",
      "12613.5458984375\n",
      "12605.66796875\n",
      "12599.2783203125\n",
      "12595.25\n",
      "12591.7783203125\n",
      "12585.9814453125\n",
      "12583.4208984375\n",
      "12566.1728515625\n",
      "12556.98828125\n",
      "12555.35546875\n",
      "12545.0390625\n",
      "12535.4833984375\n",
      "12530.103515625\n",
      "12526.1123046875\n",
      "12522.1337890625\n",
      "12518.5107421875\n",
      "12513.2060546875\n",
      "12505.5732421875\n",
      "12504.3369140625\n",
      "12497.9287109375\n",
      "12494.0439453125\n",
      "12491.1689453125\n",
      "12475.12890625\n",
      "12472.296875\n",
      "12469.3076171875\n",
      "12466.490234375\n",
      "12462.3876953125\n",
      "12457.9765625\n",
      "12456.638671875\n",
      "12448.876953125\n",
      "12440.3916015625\n",
      "12436.0703125\n",
      "12427.990234375\n",
      "12426.689453125\n",
      "12425.07421875\n",
      "12417.5458984375\n",
      "12415.482421875\n",
      "12410.1806640625\n",
      "12400.0048828125\n",
      "12395.8447265625\n",
      "12389.4345703125\n",
      "12386.5166015625\n",
      "12380.767578125\n",
      "12379.525390625\n",
      "12375.896484375\n",
      "12370.798828125\n",
      "12367.6494140625\n",
      "12357.3212890625\n",
      "12354.359375\n",
      "12344.759765625\n",
      "12342.560546875\n",
      "12338.072265625\n",
      "12331.6220703125\n",
      "12326.908203125\n",
      "12306.923828125\n",
      "12304.4072265625\n",
      "12295.212890625\n",
      "12290.7041015625\n",
      "12285.68359375\n",
      "12279.36328125\n",
      "12272.69921875\n",
      "12270.55078125\n",
      "12269.9853515625\n",
      "12261.05859375\n",
      "12257.525390625\n",
      "12253.74609375\n",
      "12249.6064453125\n",
      "12245.36328125\n",
      "12238.8779296875\n",
      "12234.955078125\n",
      "12233.6728515625\n",
      "12232.3916015625\n",
      "12227.2607421875\n",
      "12223.40234375\n",
      "12221.896484375\n",
      "12218.9296875\n",
      "12213.3037109375\n",
      "12210.2509765625\n",
      "12206.7373046875\n",
      "12203.8349609375\n",
      "12196.3388671875\n",
      "12193.486328125\n",
      "12189.1328125\n",
      "12187.82421875\n",
      "12184.8984375\n",
      "12181.755859375\n",
      "12176.240234375\n",
      "12174.0556640625\n",
      "12167.94140625\n",
      "12162.337890625\n",
      "12159.876953125\n",
      "12158.74609375\n",
      "12158.056640625\n",
      "12155.5078125\n",
      "12149.8203125\n",
      "12146.5537109375\n",
      "12143.095703125\n",
      "12139.875\n",
      "12137.517578125\n",
      "12133.076171875\n",
      "12130.1337890625\n",
      "12129.0712890625\n",
      "12127.388671875\n",
      "12125.505859375\n",
      "12119.546875\n",
      "12117.390625\n",
      "12116.861328125\n",
      "12114.923828125\n",
      "12112.794921875\n",
      "12111.07421875\n",
      "12105.80078125\n",
      "12104.595703125\n",
      "12102.6171875\n",
      "12101.814453125\n",
      "12099.556640625\n",
      "12099.1484375\n",
      "12095.173828125\n",
      "12094.2890625\n",
      "12092.740234375\n",
      "12089.3984375\n",
      "12085.89453125\n",
      "12084.2890625\n",
      "12082.501953125\n",
      "12078.87890625\n",
      "12076.5693359375\n",
      "12075.2724609375\n",
      "12074.1650390625\n",
      "12072.697265625\n",
      "12071.1455078125\n",
      "12070.3193359375\n",
      "12068.8662109375\n",
      "12066.087890625\n",
      "12064.2119140625\n",
      "12061.03515625\n",
      "12059.623046875\n",
      "12058.302734375\n",
      "12056.5595703125\n",
      "12055.939453125\n",
      "12054.6357421875\n",
      "12053.93359375\n",
      "12052.384765625\n",
      "12052.1953125\n",
      "12051.66796875\n",
      "12050.30078125\n",
      "12049.6923828125\n",
      "12048.58203125\n",
      "12042.9921875\n",
      "12042.482421875\n",
      "12039.845703125\n",
      "12038.771484375\n",
      "12037.0546875\n",
      "12035.03125\n",
      "12033.01953125\n",
      "12032.6875\n",
      "12029.35546875\n",
      "12028.478515625\n",
      "12027.916015625\n",
      "12027.046875\n",
      "12025.71484375\n",
      "12025.158203125\n",
      "12023.912109375\n",
      "12023.0546875\n",
      "12021.740234375\n",
      "12020.9658203125\n",
      "12020.49609375\n",
      "12018.59375\n",
      "12013.6640625\n",
      "12013.2080078125\n",
      "12011.5078125\n",
      "12011.203125\n",
      "12009.447265625\n",
      "12009.2919921875\n",
      "12008.990234375\n",
      "12008.6875\n",
      "12006.021484375\n",
      "12005.3701171875\n",
      "12004.294921875\n",
      "12002.451171875\n",
      "12001.740234375\n",
      "12000.958984375\n",
      "11998.9375\n",
      "11997.82421875\n",
      "11997.5380859375\n",
      "11996.2294921875\n",
      "11995.7421875\n",
      "11994.2421875\n",
      "11992.888671875\n",
      "11992.078125\n",
      "11991.333984375\n",
      "11989.935546875\n",
      "11988.0888671875\n",
      "11987.234375\n",
      "11984.388671875\n",
      "11983.548828125\n",
      "11982.7783203125\n",
      "11979.3828125\n",
      "11978.8779296875\n",
      "11978.251953125\n",
      "11977.5029296875\n",
      "11976.8203125\n",
      "11976.0791015625\n",
      "11975.7666015625\n",
      "11975.6962890625\n",
      "11975.56640625\n",
      "11975.314453125\n",
      "11973.083984375\n",
      "11972.716796875\n",
      "11972.29296875\n",
      "11971.75\n",
      "11971.2109375\n",
      "11969.5029296875\n",
      "11968.623046875\n",
      "11968.267578125\n",
      "11967.51171875\n",
      "11966.1875\n",
      "11965.498046875\n",
      "11964.08203125\n",
      "11961.4638671875\n",
      "11960.6328125\n",
      "11960.1875\n",
      "11960.072265625\n",
      "11959.2509765625\n",
      "11958.220703125\n",
      "11957.947265625\n",
      "11957.619140625\n",
      "11956.97265625\n",
      "11956.75390625\n",
      "11956.0078125\n",
      "11955.580078125\n",
      "11954.5283203125\n",
      "11953.6416015625\n",
      "11951.4365234375\n",
      "11951.02734375\n",
      "11950.6669921875\n",
      "11949.412109375\n",
      "11948.123046875\n",
      "11947.919921875\n",
      "11947.083984375\n",
      "11947.029296875\n",
      "11946.05859375\n",
      "11945.716796875\n",
      "11945.61328125\n",
      "11941.8984375\n",
      "11941.662109375\n",
      "11940.833984375\n",
      "11939.4736328125\n",
      "11938.134765625\n",
      "11937.6015625\n",
      "11934.375\n",
      "11934.3291015625\n",
      "11933.947265625\n",
      "11933.857421875\n",
      "11933.685546875\n",
      "11933.556640625\n",
      "11933.220703125\n",
      "11932.720703125\n",
      "11932.3466796875\n",
      "11932.21875\n",
      "11931.119140625\n",
      "11930.673828125\n",
      "11930.3505859375\n",
      "11930.1875\n",
      "11929.236328125\n",
      "11929.037109375\n",
      "11928.876953125\n",
      "11928.3291015625\n",
      "11928.09375\n",
      "11927.62890625\n",
      "11927.4345703125\n",
      "11926.4111328125\n",
      "11926.2587890625\n",
      "11925.548828125\n",
      "11925.3974609375\n",
      "11924.9169921875\n",
      "11924.876953125\n",
      "11924.111328125\n",
      "11924.0009765625\n",
      "11923.818359375\n",
      "11923.564453125\n",
      "11923.455078125\n",
      "11923.416015625\n",
      "11922.9873046875\n",
      "11922.1787109375\n",
      "11921.7255859375\n",
      "11921.3447265625\n",
      "11919.826171875\n",
      "11919.724609375\n",
      "11919.556640625\n",
      "11919.029296875\n",
      "11918.8642578125\n",
      "11918.7958984375\n",
      "11918.373046875\n",
      "11918.2421875\n",
      "11918.048828125\n",
      "11917.8544921875\n",
      "11917.44140625\n",
      "11917.34375\n",
      "11917.05859375\n",
      "11916.962890625\n",
      "11916.775390625\n",
      "11916.7734375\n",
      "11916.615234375\n",
      "11916.58203125\n",
      "11916.517578125\n",
      "11916.455078125\n",
      "11915.873046875\n",
      "11915.810546875\n",
      "11915.77734375\n",
      "11915.654296875\n",
      "11915.4423828125\n",
      "11915.201171875\n",
      "11915.080078125\n",
      "11914.7529296875\n",
      "11913.736328125\n",
      "11913.732421875\n",
      "11913.41796875\n",
      "11913.3310546875\n",
      "11913.103515625\n",
      "11912.9609375\n",
      "11912.763671875\n",
      "11912.5126953125\n",
      "11912.017578125\n",
      "11911.880859375\n",
      "11911.6357421875\n",
      "11911.580078125\n",
      "11911.4169921875\n",
      "11911.255859375\n",
      "11911.201171875\n",
      "11911.09375\n",
      "11911.013671875\n",
      "11910.90625\n",
      "11910.9052734375\n",
      "11910.4609375\n",
      "11910.1767578125\n",
      "11909.99609375\n",
      "11909.841796875\n",
      "11909.689453125\n",
      "11909.166015625\n",
      "11908.87109375\n"
     ]
    },
    {
     "name": "stdout",
     "output_type": "stream",
     "text": [
      "11908.291015625\n",
      "11908.265625\n",
      "11908.0517578125\n",
      "11907.9560546875\n",
      "11907.767578125\n",
      "11907.765625\n",
      "11907.4873046875\n",
      "11906.2998046875\n",
      "11906.2548828125\n",
      "11906.1669921875\n",
      "11906.14453125\n",
      "11906.12109375\n",
      "11906.119140625\n",
      "11904.705078125\n",
      "11904.7041015625\n",
      "11904.4248046875\n",
      "11904.404296875\n",
      "11904.34375\n",
      "11904.34375\n",
      "11904.1083984375\n",
      "11904.0302734375\n",
      "11903.953125\n",
      "11903.818359375\n",
      "11903.72265625\n",
      "11903.572265625\n",
      "11903.552734375\n",
      "11903.533203125\n",
      "11903.40234375\n",
      "11903.4013671875\n",
      "11903.345703125\n",
      "11903.1796875\n",
      "11902.6103515625\n",
      "11902.609375\n",
      "11902.41796875\n",
      "11902.400390625\n",
      "11902.3994140625\n",
      "11902.3125\n",
      "11902.294921875\n",
      "11902.16015625\n",
      "11902.091796875\n",
      "11902.0908203125\n",
      "11902.056640625\n",
      "11901.9228515625\n",
      "11901.9052734375\n",
      "11901.7734375\n",
      "11901.7734375\n",
      "11901.755859375\n",
      "11901.642578125\n",
      "11901.625\n",
      "11901.513671875\n",
      "11901.51171875\n",
      "11901.259765625\n",
      "11901.212890625\n",
      "11901.2119140625\n",
      "11901.2109375\n",
      "11901.1337890625\n",
      "11901.1025390625\n",
      "11900.99609375\n",
      "11900.9794921875\n",
      "11900.9189453125\n",
      "11900.7109375\n",
      "11900.7099609375\n",
      "11900.708984375\n",
      "11900.693359375\n",
      "11900.6640625\n",
      "11900.60546875\n",
      "11900.58984375\n",
      "11900.560546875\n",
      "11900.53125\n",
      "11900.232421875\n",
      "11900.0390625\n",
      "11899.7587890625\n",
      "11899.74609375\n",
      "11899.732421875\n",
      "11899.5380859375\n",
      "11899.474609375\n",
      "11899.474609375\n",
      "11899.412109375\n",
      "11899.3984375\n",
      "11899.09375\n",
      "11899.09375\n",
      "11899.0703125\n",
      "11898.986328125\n",
      "11898.9521484375\n",
      "11898.951171875\n",
      "11898.9052734375\n",
      "11898.904296875\n",
      "11898.869140625\n",
      "11898.869140625\n",
      "11898.80078125\n",
      "11898.80078125\n",
      "11898.7998046875\n",
      "11898.7548828125\n",
      "11898.6328125\n",
      "11898.470703125\n",
      "11898.470703125\n",
      "11898.38671875\n",
      "11898.2939453125\n",
      "11898.283203125\n",
      "11898.2734375\n",
      "11898.2724609375\n",
      "11898.232421875\n",
      "11898.064453125\n",
      "11898.03515625\n",
      "11897.9970703125\n",
      "11897.9873046875\n",
      "11897.986328125\n",
      "11897.865234375\n",
      "11897.85546875\n",
      "11897.810546875\n",
      "11897.80078125\n",
      "11897.765625\n",
      "11897.685546875\n",
      "11897.642578125\n",
      "11897.642578125\n",
      "11897.607421875\n",
      "11897.607421875\n",
      "11897.599609375\n",
      "11897.58984375\n",
      "11897.58984375\n",
      "11897.58984375\n",
      "11897.5888671875\n",
      "11897.580078125\n",
      "11897.5302734375\n",
      "11897.5302734375\n",
      "11897.5048828125\n",
      "11897.48828125\n",
      "11897.447265625\n",
      "11897.408203125\n",
      "11897.408203125\n",
      "11897.4072265625\n",
      "11897.390625\n",
      "11897.375\n",
      "11897.375\n",
      "11897.3671875\n",
      "11897.3671875\n",
      "11897.3671875\n",
      "11897.3359375\n",
      "11897.328125\n",
      "11897.3203125\n",
      "11897.3193359375\n",
      "11897.3115234375\n",
      "11897.28125\n",
      "11897.2734375\n",
      "11897.2734375\n",
      "11897.2509765625\n",
      "11897.19140625\n",
      "11897.19140625\n",
      "11897.169921875\n",
      "11897.140625\n",
      "11897.140625\n",
      "11897.140625\n",
      "11897.140625\n",
      "11897.091796875\n",
      "11897.091796875\n",
      "11897.083984375\n",
      "11897.083984375\n",
      "11897.0771484375\n",
      "11896.451171875\n",
      "11896.4208984375\n",
      "11896.412109375\n",
      "11896.384765625\n",
      "11896.376953125\n",
      "11896.376953125\n",
      "11896.3759765625\n",
      "11896.376953125\n",
      "11896.361328125\n",
      "11896.357421875\n",
      "11896.357421875\n",
      "11896.357421875\n",
      "11896.357421875\n",
      "11896.3310546875\n",
      "11896.3310546875\n",
      "11896.3310546875\n",
      "11896.306640625\n",
      "11896.306640625\n",
      "11896.306640625\n",
      "11896.2958984375\n",
      "11896.2958984375\n",
      "11896.2958984375\n",
      "11896.2958984375\n",
      "11896.294921875\n",
      "11896.294921875\n",
      "11896.2958984375\n",
      "11896.2958984375\n",
      "11896.2919921875\n",
      "11896.2919921875\n",
      "11896.29296875\n",
      "11896.2919921875\n",
      "11896.2890625\n",
      "11896.2890625\n",
      "11896.28515625\n",
      "11896.28515625\n",
      "11896.28125\n",
      "11896.28125\n",
      "11896.2822265625\n",
      "11896.28125\n",
      "11896.279296875\n",
      "11896.2724609375\n",
      "11896.2724609375\n",
      "11896.271484375\n",
      "11896.271484375\n",
      "11896.271484375\n",
      "11896.271484375\n",
      "11896.271484375\n",
      "11896.265625\n",
      "11896.265625\n",
      "11896.265625\n",
      "11896.244140625\n",
      "11896.244140625\n",
      "11896.244140625\n",
      "11896.244140625\n",
      "11896.244140625\n",
      "11896.2412109375\n",
      "11896.240234375\n",
      "11896.240234375\n",
      "11896.234375\n",
      "11896.234375\n",
      "11896.234375\n",
      "11896.234375\n",
      "11896.234375\n",
      "11896.228515625\n",
      "11896.22265625\n",
      "11896.22265625\n",
      "11896.22265625\n",
      "11896.22265625\n",
      "11896.22265625\n",
      "11896.22265625\n",
      "LR: 3.3333333333333335e-05\n",
      "11896.22265625\n",
      "11896.22265625\n",
      "11896.220703125\n",
      "11896.220703125\n",
      "11896.220703125\n",
      "11896.220703125\n",
      "11896.220703125\n",
      "11896.220703125\n",
      "11896.2177734375\n",
      "11896.216796875\n",
      "11896.21484375\n",
      "11896.21484375\n",
      "11896.208984375\n",
      "11896.208984375\n",
      "11896.208984375\n",
      "11896.208984375\n",
      "11896.208984375\n",
      "11896.208984375\n",
      "LR: 1.1111111111111112e-05\n",
      "11896.208984375\n",
      "11896.208984375\n",
      "11896.208984375\n",
      "11896.208984375\n",
      "11896.208984375\n",
      "11896.208984375\n",
      "LR: 3.7037037037037037e-06\n",
      "11896.208984375\n",
      "11896.208984375\n",
      "11896.208984375\n",
      "11896.208984375\n",
      "11896.208984375\n",
      "11896.208984375\n",
      "LR: 1.234567901234568e-06\n",
      "11896.208984375\n",
      "11896.208984375\n",
      "11896.208984375\n",
      "11896.208984375\n",
      "11896.208984375\n",
      "11896.208984375\n",
      "LR: 4.11522633744856e-07\n",
      "11896.208984375\n",
      "11896.208984375\n",
      "11896.208984375\n",
      "11896.208984375\n",
      "11896.208984375\n",
      "11896.208984375\n",
      "LR: 1.3717421124828532e-07\n",
      "11896.208984375\n",
      "11896.208984375\n",
      "11896.208984375\n",
      "11896.208984375\n",
      "11896.208984375\n",
      "11896.208984375\n",
      "LR: 4.5724737082761776e-08\n",
      "11896.208984375\n",
      "11896.208984375\n",
      "11896.208984375\n",
      "11896.208984375\n",
      "11896.208984375\n",
      "11896.208984375\n",
      "LR: 1.5241579027587257e-08\n",
      "11896.208984375\n",
      "11896.208984375\n",
      "11896.208984375\n",
      "11896.208984375\n",
      "11896.208984375\n",
      "11896.208984375\n",
      "LR: 5.0805263425290856e-09\n",
      "11896.208984375\n",
      "11896.208984375\n",
      "11896.208984375\n",
      "11896.208984375\n",
      "11896.208984375\n",
      "11896.208984375\n",
      "LR: 1.6935087808430286e-09\n",
      "11896.208984375\n",
      "11896.208984375\n",
      "11896.208984375\n",
      "11896.208984375\n",
      "11896.208984375\n",
      "11896.208984375\n",
      "LR: 5.645029269476762e-10\n",
      "11896.208984375\n",
      "11896.208984375\n",
      "11896.208984375\n",
      "11896.208984375\n",
      "11896.208984375\n",
      "11896.208984375\n",
      "LR: 1.8816764231589209e-10\n",
      "11896.208984375\n",
      "11896.208984375\n",
      "11896.208984375\n",
      "11896.208984375\n",
      "11896.208984375\n",
      "11896.208984375\n",
      "LR: 6.27225474386307e-11\n",
      "11896.208984375\n",
      "11896.208984375\n",
      "11896.208984375\n",
      "11896.208984375\n",
      "11896.208984375\n",
      "11896.208984375\n",
      "LR: 2.09075158128769e-11\n",
      "11896.208984375\n",
      "11896.208984375\n",
      "11896.208984375\n",
      "11896.208984375\n",
      "11896.208984375\n",
      "11896.208984375\n",
      "LR: 6.969171937625634e-12\n",
      "11896.208984375\n",
      "11896.208984375\n",
      "11896.208984375\n",
      "11896.208984375\n",
      "11896.208984375\n",
      "11896.208984375\n",
      "LR: 2.323057312541878e-12\n",
      "11896.208984375\n",
      "11896.208984375\n",
      "11896.208984375\n",
      "11896.208984375\n",
      "11896.208984375\n",
      "11896.208984375\n",
      "LR: 7.743524375139594e-13\n",
      "11896.208984375\n",
      "11896.208984375\n",
      "11896.208984375\n",
      "11896.208984375\n",
      "11896.208984375\n",
      "11896.208984375\n",
      "LR: 2.581174791713198e-13\n",
      "11896.208984375\n",
      "11896.208984375\n",
      "11896.208984375\n",
      "11896.208984375\n",
      "11896.208984375\n",
      "11896.208984375\n",
      "LR: 8.603915972377327e-14\n",
      "11896.208984375\n",
      "11896.208984375\n",
      "11896.208984375\n",
      "11896.208984375\n",
      "11896.208984375\n",
      "11896.208984375\n",
      "LR: 2.8679719907924424e-14\n",
      "11896.208984375\n",
      "11896.208984375\n",
      "11896.208984375\n",
      "11896.208984375\n",
      "11896.208984375\n",
      "11896.208984375\n",
      "LR: 9.559906635974807e-15\n",
      "11896.208984375\n"
     ]
    },
    {
     "data": {
      "text/plain": [
       "<All keys matched successfully>"
      ]
     },
     "execution_count": 180,
     "metadata": {},
     "output_type": "execute_result"
    }
   ],
   "source": [
    "losses = []\n",
    "device = get_cpu()\n",
    "lr = 1e-4\n",
    "model = model.to(device)\n",
    "model.p.input_data = model.p.input_data.to(device)\n",
    "criterion = PickerLoss(red_size=sum(value))\n",
    "optimizer = torch.optim.Adam(model.parameters(),lr=lr)\n",
    "\n",
    "\n",
    "best_model_state = copy.copy(model.state_dict())\n",
    "patience = 5\n",
    "patience_count = 0\n",
    "i = 0\n",
    "X = torch.Tensor([value])\n",
    "y = torch.Tensor([val_size])\n",
    "X, y = X.to(device), y.to(device)\n",
    "while True:\n",
    "    optimizer.zero_grad()\n",
    "    pred = model(X)\n",
    "    loss = criterion(pred, y)\n",
    "    losses.append(loss.item())\n",
    "    loss.backward()\n",
    "    optimizer.step()\n",
    "    \n",
    "    if i > 2:\n",
    "        if losses[-1] >= losses[-2]: \n",
    "            best_model_state = copy.copy(model.state_dict())\n",
    "            if patience_count == patience:\n",
    "                patience_count = 0\n",
    "                lr /= 3\n",
    "                optimizer.param_groups[0][\"lr\"] = lr\n",
    "                print(\"LR:\", lr)\n",
    "            else:\n",
    "                patience_count += 1\n",
    "        else: patience_count = 0\n",
    "    \n",
    "    print(losses[-1])\n",
    "    \n",
    "    if lr < 1e-14: break\n",
    "    i += 1\n",
    "model.load_state_dict(best_model_state)"
   ]
  },
  {
   "cell_type": "code",
   "execution_count": 91,
   "metadata": {
    "ExecuteTime": {
     "end_time": "2021-03-25T13:07:03.651732Z",
     "start_time": "2021-03-25T13:07:03.637282Z"
    }
   },
   "outputs": [
    {
     "data": {
      "text/plain": [
       "<All keys matched successfully>"
      ]
     },
     "execution_count": 91,
     "metadata": {},
     "output_type": "execute_result"
    }
   ],
   "source": [
    "model.load_state_dict(best_model_state)"
   ]
  },
  {
   "cell_type": "code",
   "execution_count": 181,
   "metadata": {
    "ExecuteTime": {
     "end_time": "2021-03-25T13:46:43.311309Z",
     "start_time": "2021-03-25T13:46:43.298179Z"
    }
   },
   "outputs": [
    {
     "data": {
      "text/plain": [
       "tensor([    4,     6,    17,  ..., 28002, 28003, 28004])"
      ]
     },
     "execution_count": 181,
     "metadata": {},
     "output_type": "execute_result"
    }
   ],
   "source": [
    "inds = model.get_indices(X[0])\n",
    "inds"
   ]
  },
  {
   "cell_type": "code",
   "execution_count": 182,
   "metadata": {
    "ExecuteTime": {
     "end_time": "2021-03-25T13:46:44.637551Z",
     "start_time": "2021-03-25T13:46:44.634461Z"
    }
   },
   "outputs": [],
   "source": [
    "inds = [i for i in inds.detach().numpy().astype(np.uint8)]"
   ]
  },
  {
   "cell_type": "code",
   "execution_count": 183,
   "metadata": {
    "ExecuteTime": {
     "end_time": "2021-03-25T13:46:45.651294Z",
     "start_time": "2021-03-25T13:46:45.647117Z"
    }
   },
   "outputs": [
    {
     "data": {
      "text/plain": [
       "(277220, 17304.8)"
      ]
     },
     "execution_count": 183,
     "metadata": {},
     "output_type": "execute_result"
    }
   ],
   "source": [
    "np.array(value)[inds].sum(), val_size"
   ]
  },
  {
   "cell_type": "code",
   "execution_count": 84,
   "metadata": {
    "ExecuteTime": {
     "end_time": "2021-03-25T13:03:51.158682Z",
     "start_time": "2021-03-25T13:03:51.151815Z"
    }
   },
   "outputs": [
    {
     "data": {
      "text/plain": [
       "399796.2"
      ]
     },
     "execution_count": 84,
     "metadata": {},
     "output_type": "execute_result"
    }
   ],
   "source": [
    "np.array(value)[inds].sum() - val_size"
   ]
  },
  {
   "cell_type": "code",
   "execution_count": null,
   "metadata": {
    "ExecuteTime": {
     "end_time": "2021-03-25T11:57:58.546908Z",
     "start_time": "2021-03-25T11:57:58.359152Z"
    }
   },
   "outputs": [],
   "source": [
    "X = torch.Tensor([value])\n",
    "y = torch.Tensor([val_size])\n",
    "optimizer.zero_grad()\n",
    "pred = model(X)\n",
    "loss = criterion(torch.Tensor(pred), y)\n",
    "#losses.append(loss.item())\n",
    "optimizer.step()"
   ]
  },
  {
   "cell_type": "code",
   "execution_count": 40,
   "metadata": {
    "ExecuteTime": {
     "end_time": "2021-03-25T12:45:16.771769Z",
     "start_time": "2021-03-25T12:45:16.763226Z"
    }
   },
   "outputs": [
    {
     "ename": "TypeError",
     "evalue": "only integer tensors of a single element can be converted to an index",
     "output_type": "error",
     "traceback": [
      "\u001b[0;31m---------------------------------------------------------------------------\u001b[0m",
      "\u001b[0;31mTypeError\u001b[0m                                 Traceback (most recent call last)",
      "\u001b[0;32m<ipython-input-40-680d3c467434>\u001b[0m in \u001b[0;36m<module>\u001b[0;34m\u001b[0m\n\u001b[0;32m----> 1\u001b[0;31m \u001b[0mvalue\u001b[0m\u001b[0;34m[\u001b[0m\u001b[0minds\u001b[0m\u001b[0;34m]\u001b[0m\u001b[0;34m.\u001b[0m\u001b[0msum\u001b[0m\u001b[0;34m(\u001b[0m\u001b[0;34m)\u001b[0m\u001b[0;34m\u001b[0m\u001b[0;34m\u001b[0m\u001b[0m\n\u001b[0m",
      "\u001b[0;31mTypeError\u001b[0m: only integer tensors of a single element can be converted to an index"
     ]
    }
   ],
   "source": [
    "value[inds].sum()"
   ]
  },
  {
   "cell_type": "code",
   "execution_count": null,
   "metadata": {},
   "outputs": [],
   "source": []
  },
  {
   "cell_type": "code",
   "execution_count": null,
   "metadata": {
    "ExecuteTime": {
     "end_time": "2021-03-25T11:28:59.380731Z",
     "start_time": "2021-03-25T11:28:59.377306Z"
    }
   },
   "outputs": [],
   "source": [
    "(pred > 0.5).sum(axis=1).shape"
   ]
  },
  {
   "cell_type": "code",
   "execution_count": null,
   "metadata": {
    "ExecuteTime": {
     "end_time": "2021-03-25T11:10:13.029992Z",
     "start_time": "2021-03-25T11:10:13.025879Z"
    }
   },
   "outputs": [],
   "source": [
    "def knapsack(n, C):\n",
    "    print(n)\n",
    "    if store[n, C] != -1: return store[n, C]\n",
    "    if n == 0 or C == 0: result = 0\n",
    "    elif weight[n] > C: result = knapsack(n-1, C)\n",
    "    else:\n",
    "        tmp_1 = knapsack(n-1, C)\n",
    "        tmp_2 = value[n] + knapsack(n-1, C-weight[n])\n",
    "        if tmp_1 > tmp_2 : result = tmp_1\n",
    "        else: result = tmp_2\n",
    "    store[n, C] = result\n",
    "    return result"
   ]
  },
  {
   "cell_type": "code",
   "execution_count": null,
   "metadata": {
    "ExecuteTime": {
     "end_time": "2021-03-25T11:10:26.228860Z",
     "start_time": "2021-03-25T11:10:26.192083Z"
    }
   },
   "outputs": [],
   "source": [
    "n = 25\n",
    "C = 500\n",
    "indices = []\n",
    "\n",
    "store = np.zeros((n+1, C+1)) - 1\n",
    "knapsack(n, C)"
   ]
  },
  {
   "cell_type": "code",
   "execution_count": null,
   "metadata": {
    "ExecuteTime": {
     "end_time": "2021-03-25T11:00:33.768873Z",
     "start_time": "2021-03-25T11:00:33.765181Z"
    }
   },
   "outputs": [],
   "source": [
    "store"
   ]
  },
  {
   "cell_type": "code",
   "execution_count": null,
   "metadata": {
    "ExecuteTime": {
     "end_time": "2021-03-25T10:52:23.807153Z",
     "start_time": "2021-03-25T10:52:23.801460Z"
    }
   },
   "outputs": [],
   "source": [
    "test"
   ]
  },
  {
   "cell_type": "code",
   "execution_count": null,
   "metadata": {},
   "outputs": [],
   "source": []
  },
  {
   "cell_type": "code",
   "execution_count": null,
   "metadata": {},
   "outputs": [],
   "source": []
  },
  {
   "cell_type": "code",
   "execution_count": null,
   "metadata": {},
   "outputs": [],
   "source": []
  },
  {
   "cell_type": "code",
   "execution_count": null,
   "metadata": {},
   "outputs": [],
   "source": []
  },
  {
   "cell_type": "code",
   "execution_count": null,
   "metadata": {},
   "outputs": [],
   "source": []
  },
  {
   "cell_type": "code",
   "execution_count": null,
   "metadata": {},
   "outputs": [],
   "source": []
  },
  {
   "cell_type": "code",
   "execution_count": null,
   "metadata": {},
   "outputs": [],
   "source": []
  },
  {
   "cell_type": "code",
   "execution_count": null,
   "metadata": {},
   "outputs": [],
   "source": []
  },
  {
   "cell_type": "code",
   "execution_count": null,
   "metadata": {},
   "outputs": [],
   "source": []
  },
  {
   "cell_type": "code",
   "execution_count": null,
   "metadata": {},
   "outputs": [],
   "source": []
  },
  {
   "cell_type": "code",
   "execution_count": null,
   "metadata": {},
   "outputs": [],
   "source": []
  },
  {
   "cell_type": "code",
   "execution_count": null,
   "metadata": {},
   "outputs": [],
   "source": []
  },
  {
   "cell_type": "code",
   "execution_count": null,
   "metadata": {},
   "outputs": [],
   "source": []
  },
  {
   "cell_type": "code",
   "execution_count": null,
   "metadata": {},
   "outputs": [],
   "source": []
  },
  {
   "cell_type": "code",
   "execution_count": null,
   "metadata": {
    "ExecuteTime": {
     "end_time": "2021-03-25T10:42:28.100114Z",
     "start_time": "2021-03-25T10:42:28.098169Z"
    }
   },
   "outputs": [],
   "source": [
    "#pairs = [n for _,n in counter.most_common()]"
   ]
  },
  {
   "cell_type": "code",
   "execution_count": null,
   "metadata": {
    "ExecuteTime": {
     "end_time": "2021-03-24T22:56:45.148946Z",
     "start_time": "2021-03-24T22:56:45.146756Z"
    }
   },
   "outputs": [],
   "source": [
    "import matplotlib.pyplot as plt"
   ]
  },
  {
   "cell_type": "code",
   "execution_count": null,
   "metadata": {
    "ExecuteTime": {
     "end_time": "2021-03-24T22:58:54.914430Z",
     "start_time": "2021-03-24T22:58:54.823921Z"
    }
   },
   "outputs": [],
   "source": [
    "plt.hist(ns[:-27500], bins=25);"
   ]
  },
  {
   "cell_type": "code",
   "execution_count": null,
   "metadata": {},
   "outputs": [],
   "source": [
    "val_size = 0.2\n",
    "n_images = data.shape[0]\n"
   ]
  },
  {
   "cell_type": "code",
   "execution_count": null,
   "metadata": {
    "ExecuteTime": {
     "end_time": "2021-03-24T23:11:24.335028Z",
     "start_time": "2021-03-24T23:11:24.332082Z"
    }
   },
   "outputs": [],
   "source": [
    "test = [(1, 2), (2, 1), (3, 3), (4, 2), (5, 4)]\n",
    "\n",
    "sum_it = lambda a: sum([el[1] for el in a])\n",
    "import math"
   ]
  },
  {
   "cell_type": "code",
   "execution_count": null,
   "metadata": {
    "ExecuteTime": {
     "end_time": "2021-03-25T00:16:58.099588Z",
     "start_time": "2021-03-25T00:16:58.086961Z"
    }
   },
   "outputs": [],
   "source": [
    "val_size = 0.2\n",
    "n_images = train_df.shape[0]\n",
    "\n",
    "pairs = sorted(counter.most_common(), key=lambda p: p[1])"
   ]
  },
  {
   "cell_type": "code",
   "execution_count": null,
   "metadata": {
    "ExecuteTime": {
     "end_time": "2021-03-25T01:10:42.736076Z",
     "start_time": "2021-03-25T01:10:42.731672Z"
    }
   },
   "outputs": [],
   "source": [
    "[{\"value\": i+1, \"trace\": [i]} for i in range(8)]"
   ]
  },
  {
   "cell_type": "code",
   "execution_count": null,
   "metadata": {
    "ExecuteTime": {
     "end_time": "2021-03-25T10:46:02.322468Z",
     "start_time": "2021-03-25T10:46:02.310084Z"
    }
   },
   "outputs": [],
   "source": [
    "#x = [([1], 1), ([2], 2), ([3], 3), ([4], 4), ([5], 5), ([6], 6), ([7],7), ([8],8)]\n",
    "x = [{\"value\": n, \"trace\": [i]} for i, n in counter.most_common(1000)]\n",
    "valsize=0.2\n",
    "sum_it = lambda arr: sum([e[\"value\"] for e in arr])\n",
    "x_sum = sum_it(x)#sum([y[1] for y in x])\n",
    "n_x = len(x)\n",
    "n_goal = math.floor(valsize*n_x)\n",
    "v_goal = x_sum*valsize\n",
    "\n",
    "level = 1\n",
    "lookahead = 1\n",
    "fov = 1\n",
    "\n",
    "heuristic = level / n_goal * v_goal\n",
    "\n",
    "n_goal, v_goal"
   ]
  },
  {
   "cell_type": "code",
   "execution_count": null,
   "metadata": {
    "ExecuteTime": {
     "end_time": "2021-03-25T10:43:52.423395Z",
     "start_time": "2021-03-25T10:43:52.420404Z"
    }
   },
   "outputs": [],
   "source": [
    "n_goal"
   ]
  },
  {
   "cell_type": "code",
   "execution_count": null,
   "metadata": {
    "ExecuteTime": {
     "end_time": "2021-03-25T10:46:13.487239Z",
     "start_time": "2021-03-25T10:46:13.482111Z"
    }
   },
   "outputs": [],
   "source": [
    "def compute_level(x, x_prev, n_goal, v_goal, level=1):\n",
    "    if x_prev[\"value\"] >= v_goal: return [x_prev], x\n",
    "    heuristic = level / n_goal * v_goal - x_prev[\"value\"]\n",
    "    x_level = [{\"trace\": v[\"trace\"], \"value\": np.abs(v[\"value\"]-heuristic)} for v in x]\n",
    "    x_level = sorted(x_level, key=lambda el: el[\"value\"])\n",
    "\n",
    "    x_best = []\n",
    "    x_remaining = []\n",
    "    for idx, el in enumerate(x_level):\n",
    "            if idx == 0: \n",
    "                x_best.append(\n",
    "                    {\"trace\": [*x_prev[\"trace\"], *el[\"trace\"]], \n",
    "                     \"value\": el[\"value\"] + x_prev[\"value\"]})\n",
    "            else:\n",
    "                x_remaining.append(el)\n",
    "    return x_best, x_remaining"
   ]
  },
  {
   "cell_type": "code",
   "execution_count": null,
   "metadata": {
    "ExecuteTime": {
     "end_time": "2021-03-25T10:46:15.002885Z",
     "start_time": "2021-03-25T10:46:14.879102Z"
    }
   },
   "outputs": [],
   "source": [
    "for step in range(n_goal):\n",
    "    if step == 0: best, rem = compute_level(x, {\"trace\": [], \"value\": 0}, n_goal, v_goal)\n",
    "    best, rem = compute_level(rem, best[0], n_goal, v_goal, level=2)"
   ]
  },
  {
   "cell_type": "code",
   "execution_count": null,
   "metadata": {
    "ExecuteTime": {
     "end_time": "2021-03-25T10:46:15.850513Z",
     "start_time": "2021-03-25T10:46:15.845669Z"
    }
   },
   "outputs": [],
   "source": [
    "best"
   ]
  },
  {
   "cell_type": "code",
   "execution_count": null,
   "metadata": {},
   "outputs": [],
   "source": []
  },
  {
   "cell_type": "code",
   "execution_count": null,
   "metadata": {},
   "outputs": [],
   "source": []
  },
  {
   "cell_type": "code",
   "execution_count": null,
   "metadata": {
    "ExecuteTime": {
     "end_time": "2021-03-25T01:12:20.992384Z",
     "start_time": "2021-03-25T01:12:20.979276Z"
    }
   },
   "outputs": [],
   "source": [
    "best, rem = compute_level(x, {\"trace\": [], \"value\": 0}, n_goal, v_goal)\n",
    "best, rem = compute_level(rem, best[0], n_goal, v_goal, level=2)\n",
    "best, rem"
   ]
  },
  {
   "cell_type": "code",
   "execution_count": null,
   "metadata": {},
   "outputs": [],
   "source": []
  },
  {
   "cell_type": "code",
   "execution_count": null,
   "metadata": {},
   "outputs": [],
   "source": []
  },
  {
   "cell_type": "code",
   "execution_count": null,
   "metadata": {
    "ExecuteTime": {
     "end_time": "2021-03-24T23:16:22.054312Z",
     "start_time": "2021-03-24T23:16:22.046963Z"
    }
   },
   "outputs": [],
   "source": [
    "iterations = range(2, math.ceil(len(test)/2)+1)\n",
    "totalscore = sum_it(test)\n",
    "halftotalscore = totalscore/2.0\n",
    "\n",
    "oldmoves = {}\n",
    "\n",
    "for p in test:\n",
    "    people_left = test[:]\n",
    "    people_left.remove(p)\n",
    "    oldmoves[p[0]] = people_left\n",
    "\n",
    "if iterations == []:\n",
    "    print(\"Hi\")\n",
    "    solution = min(map(lambda i: (abs(float(i)-halftotalscore), i), oldmoves.keys()))\n",
    "    assert False\n",
    "    #return (solution[1], sum(oldmoves[solution[1]]), oldmoves[solution[1]])    \n",
    "\n",
    "for n in iterations:\n",
    "    newmoves = {}\n",
    "    for total, roster in oldmoves.items():\n",
    "        for p in roster:\n",
    "            people_left = roster[:]\n",
    "            people_left.remove(p)\n",
    "            newtotal = total+p[1]\n",
    "            if newtotal > halftotalscore: continue\n",
    "            newmoves[newtotal] = people_left\n",
    "    oldmoves = newmoves\n",
    "\n",
    "iterations, totalscore"
   ]
  },
  {
   "cell_type": "code",
   "execution_count": null,
   "metadata": {
    "ExecuteTime": {
     "end_time": "2021-03-24T23:16:07.751905Z",
     "start_time": "2021-03-24T23:16:07.744221Z"
    }
   },
   "outputs": [],
   "source": [
    "solution[1], sum(oldmoves[solution[1]]), oldmoves[solution[1]]"
   ]
  },
  {
   "cell_type": "code",
   "execution_count": null,
   "metadata": {
    "ExecuteTime": {
     "end_time": "2021-03-24T23:18:02.895933Z",
     "start_time": "2021-03-24T23:18:02.889578Z"
    }
   },
   "outputs": [],
   "source": [
    "def team(t):\n",
    "    iterations = range(2, math.ceil(len(t)/2)+1)\n",
    "\n",
    "    totalscore = sum(t)\n",
    "    halftotalscore = totalscore/2.0\n",
    "\n",
    "    oldmoves = {}\n",
    "\n",
    "    for p in t:\n",
    "        people_left = t[:]\n",
    "        people_left.remove(p)\n",
    "        oldmoves[p] = people_left\n",
    "\n",
    "    if iterations == []:\n",
    "        solution = min(map(lambda i: (abs(float(i)-halftotalscore), i), oldmoves.keys()))\n",
    "        return (solution[1], sum(oldmoves[solution[1]]), oldmoves[solution[1]])\n",
    "\n",
    "    for n in iterations:\n",
    "        newmoves = {}\n",
    "        for total, roster in oldmoves.items():\n",
    "            for p in roster:\n",
    "                people_left = roster[:]\n",
    "                people_left.remove(p)\n",
    "                newtotal = total+p\n",
    "                if newtotal > halftotalscore: continue\n",
    "                newmoves[newtotal] = people_left\n",
    "        oldmoves = newmoves\n",
    "\n",
    "    solution = min(map(lambda i: (abs(float(i)-halftotalscore), i), oldmoves.keys()))\n",
    "    return (solution[1], sum(oldmoves[solution[1]]), oldmoves[solution[1]])"
   ]
  },
  {
   "cell_type": "code",
   "execution_count": null,
   "metadata": {
    "ExecuteTime": {
     "end_time": "2021-03-24T23:26:03.350947Z",
     "start_time": "2021-03-24T23:26:02.122435Z"
    }
   },
   "outputs": [],
   "source": [
    "print(ns[:100])\n",
    "sol = team(ns[:100])\n",
    "sol"
   ]
  },
  {
   "cell_type": "code",
   "execution_count": null,
   "metadata": {},
   "outputs": [],
   "source": [
    "def team(t):\n",
    "    sum_it = lambda a: sum[el[1] for el in a]\n",
    "    \n",
    "    iterations = range(2, len(t)/2+1)\n",
    "\n",
    "    totalscore = sum_it(t)\n",
    "    halftotalscore = totalscore/2.0\n",
    "\n",
    "    oldmoves = {}\n",
    "\n",
    "    for p in t:\n",
    "        people_left = t[:]\n",
    "        people_left.remove(p)\n",
    "        oldmoves[p] = people_left\n",
    "\n",
    "    if iterations == []:\n",
    "        solution = min(map(lambda i: (abs(float(i)-halftotalscore), i), oldmoves.keys()))\n",
    "        return (solution[1], sum(oldmoves[solution[1]]), oldmoves[solution[1]])\n",
    "\n",
    "    for n in iterations:\n",
    "        newmoves = {}\n",
    "        for total, roster in oldmoves.iteritems():\n",
    "            for p in roster:\n",
    "                people_left = roster[:]\n",
    "                people_left.remove(p)\n",
    "                newtotal = total+p\n",
    "                if newtotal > halftotalscore: continue\n",
    "                newmoves[newtotal] = people_left\n",
    "        oldmoves = newmoves\n",
    "\n",
    "    solution = min(map(lambda i: (abs(float(i)-halftotalscore), i), oldmoves.keys()))\n",
    "    return (solution[1], sum(oldmoves[solution[1]]), oldmoves[solution[1]])"
   ]
  },
  {
   "cell_type": "code",
   "execution_count": null,
   "metadata": {},
   "outputs": [],
   "source": []
  },
  {
   "cell_type": "code",
   "execution_count": null,
   "metadata": {},
   "outputs": [],
   "source": [
    "// Input:\n",
    "// Values (stored in array v)\n",
    "// Weights (stored in array w)\n",
    "// Number of distinct items (n)\n",
    "// Knapsack capacity (W)\n",
    "// NOTE: The array \"v\" and array \"w\" are assumed to store all relevant values starting at index 1.\n",
    "\n",
    "for j from 0 to W do:\n",
    "    m[0, j] := 0\n",
    "\n",
    "for i from 1 to n do:\n",
    "    for j from 0 to W do:\n",
    "        if w[i] > j then:\n",
    "            m[i, j] := m[i-1, j]\n",
    "        else:\n",
    "            m[i, j] := max(m[i-1, j], m[i-1, j-w[i]] + v[i])"
   ]
  },
  {
   "cell_type": "code",
   "execution_count": null,
   "metadata": {
    "ExecuteTime": {
     "end_time": "2021-03-24T23:57:42.787654Z",
     "start_time": "2021-03-24T23:57:42.784242Z"
    }
   },
   "outputs": [],
   "source": [
    "V = ns\n",
    "W = [1 for _ in V]\n",
    "n = train_df.shape[0]"
   ]
  },
  {
   "cell_type": "code",
   "execution_count": null,
   "metadata": {
    "ExecuteTime": {
     "end_time": "2021-03-24T23:56:46.885833Z",
     "start_time": "2021-03-24T23:56:46.870314Z"
    }
   },
   "outputs": [],
   "source": [
    "/**\n",
    " * Returns the indices of the items of the optimal knapsack.\n",
    " * i: We can include items 1 through i in the knapsack\n",
    " * j: maximum weight of the knapsack\n",
    " */\n",
    "function knapsack(i: int, j: int): Set<int> {\n",
    "    if i == 0 then:\n",
    "        return {}\n",
    "    if m[i, j] > m[i-1, j] then:\n",
    "        return {i} ∪ knapsack(i-1, j-w[i])\n",
    "    else:\n",
    "        return knapsack(i-1, j)\n",
    "}\n",
    "\n",
    "knapsack(n, W)"
   ]
  },
  {
   "cell_type": "code",
   "execution_count": null,
   "metadata": {
    "ExecuteTime": {
     "end_time": "2021-03-25T00:02:49.067969Z",
     "start_time": "2021-03-25T00:02:49.050775Z"
    }
   },
   "outputs": [],
   "source": [
    "# Python program to demonstrate working of Meet in the\n",
    "# Middle algorithm for maximum subset sum problem.\n",
    "from typing import List\n",
    "import bisect\n",
    "X = [0] * 2000005\n",
    "Y = [0] * 2000005\n",
    "\n",
    "# Find all possible sum of elements of a[] and store\n",
    "# in x[]\n",
    "def calcsubarray(a: List[int], x: List[int], n: int, c: int) -> None:\n",
    "\tfor i in range((1 << n)):\n",
    "\t\ts = 0\n",
    "\t\tfor j in range(n):\n",
    "\t\t\tif (i & (1 << j)):\n",
    "\t\t\t\ts += a[j + c]\n",
    "\t\tx[i] = s\n",
    "\n",
    "# Returns the maximum possible sum less or equal to S\n",
    "def solveSubsetSum(a: List[int], n: int, S: int) -> int:\n",
    "\tglobal Y\n",
    "\t\n",
    "\t# Compute all subset sums of first and second\n",
    "\t# halves\n",
    "\tcalcsubarray(a, X, n // 2, 0)\n",
    "\tcalcsubarray(a, Y, n - n // 2, n // 2)\n",
    "\tsize_X = 1 << (n // 2)\n",
    "\tsize_Y = 1 << (n - n // 2)\n",
    "\n",
    "\t# Sort Y (we need to do doing binary search in it)\n",
    "\tYY = Y[:size_Y]\n",
    "\tYY.sort()\n",
    "\tY = YY\n",
    "\n",
    "\t# To keep track of the maximum sum of a subset\n",
    "\t# such that the maximum sum is less than S\n",
    "\tmaxx = 0\n",
    "\n",
    "\t# Traverse all elements of X and do Binary Search\n",
    "\t# for a pair in Y with maximum sum less than S.\n",
    "\tfor i in range(size_X):\n",
    "\n",
    "\t\tif (X[i] <= S):\n",
    "\n",
    "\t\t\t# lower_bound() returns the first address\n",
    "\t\t\t# which has value greater than or equal to\n",
    "\t\t\t# S-X[i].\n",
    "\t\t\tp = bisect.bisect_left(Y, S - X[i])\n",
    "\n",
    "\t\t\t# If S-X[i] was not in array Y then decrease\n",
    "\t\t\t# p by 1\n",
    "\t\t\tif (p == size_Y or (p < size_Y and Y[p] != (S - X[i]))):\n",
    "\t\t\t\tp -= 1\n",
    "\t\t\tif ((Y[p] + X[i]) > maxx):\n",
    "\t\t\t\tmaxx = Y[p] + X[i]\n",
    "\treturn maxx\n",
    "\n",
    "# Driver code\n",
    "if __name__ == \"__main__\":\n",
    "\n",
    "\ta = [3, 34, 4, 12, 5, 2]\n",
    "\tn = len(a)\n",
    "\tS = 10\n",
    "\tprint(\"Largest value smaller than or equal to given sum is {}\".format(\n",
    "\t\tsolveSubsetSum(a, n, S)))\n",
    "\n",
    "# This code is contributed by sanjeev2552\n"
   ]
  },
  {
   "cell_type": "code",
   "execution_count": null,
   "metadata": {},
   "outputs": [],
   "source": []
  },
  {
   "cell_type": "code",
   "execution_count": null,
   "metadata": {},
   "outputs": [],
   "source": []
  },
  {
   "cell_type": "code",
   "execution_count": null,
   "metadata": {},
   "outputs": [],
   "source": []
  },
  {
   "cell_type": "code",
   "execution_count": null,
   "metadata": {},
   "outputs": [],
   "source": []
  },
  {
   "cell_type": "code",
   "execution_count": null,
   "metadata": {},
   "outputs": [],
   "source": []
  },
  {
   "cell_type": "code",
   "execution_count": null,
   "metadata": {},
   "outputs": [],
   "source": []
  },
  {
   "cell_type": "code",
   "execution_count": null,
   "metadata": {},
   "outputs": [],
   "source": []
  },
  {
   "cell_type": "code",
   "execution_count": null,
   "metadata": {},
   "outputs": [],
   "source": []
  },
  {
   "cell_type": "code",
   "execution_count": null,
   "metadata": {},
   "outputs": [],
   "source": []
  },
  {
   "cell_type": "code",
   "execution_count": null,
   "metadata": {},
   "outputs": [],
   "source": []
  },
  {
   "cell_type": "code",
   "execution_count": null,
   "metadata": {},
   "outputs": [],
   "source": []
  },
  {
   "cell_type": "code",
   "execution_count": null,
   "metadata": {},
   "outputs": [],
   "source": []
  },
  {
   "cell_type": "code",
   "execution_count": null,
   "metadata": {},
   "outputs": [],
   "source": [
    "print(train_df.shape, valid_df.shape, test_df.shape)\n",
    "train_df = get_binary_df(label, train_df)\n",
    "valid_df = get_binary_df(label, valid_df)\n",
    "test_df = get_binary_df(label, test_df)"
   ]
  },
  {
   "cell_type": "code",
   "execution_count": null,
   "metadata": {},
   "outputs": [],
   "source": [
    "# Compute label weights\n",
    "train_label = train_df[[label]].values\n",
    "neg_weights, pos_weights = compute_class_freqs(train_label)\n",
    "neg_weights, pos_weights = torch.Tensor(neg_weights), torch.Tensor(pos_weights)\n",
    "print(neg_weights, pos_weights)\n",
    "\n",
    "# Get transforms\n",
    "train_tfs, test_tfs = get_transforms(image_size=image_size)\n",
    "\n",
    "# Create datasets\n",
    "train_ds = CRX8_Data(train_df, get_image_path(), label, image_size=image_size, transforms=train_tfs)\n",
    "valid_ds = CRX8_Data(valid_df, get_image_path(), label, image_size=image_size, transforms=test_tfs)\n",
    "test_ds  = CRX8_Data(test_df , get_image_path(), label, image_size=image_size, transforms=test_tfs)\n",
    "\n",
    "# Create dataloaders\n",
    "train_dl = DataLoader(train_ds, batch_size=bs, shuffle=True)\n",
    "valid_dl = DataLoader(valid_ds, batch_size=bs, shuffle=False)\n",
    "test_dl  = DataLoader(test_ds,  batch_size=bs, shuffle=False)\n",
    "dataloaders = {\n",
    "    \"train\": train_dl,\n",
    "    \"val\": valid_dl,\n",
    "    \"test\": test_dl\n",
    "}"
   ]
  }
 ],
 "metadata": {
  "kernelspec": {
   "display_name": "Python 3",
   "language": "python",
   "name": "python3"
  },
  "language_info": {
   "codemirror_mode": {
    "name": "ipython",
    "version": 3
   },
   "file_extension": ".py",
   "mimetype": "text/x-python",
   "name": "python",
   "nbconvert_exporter": "python",
   "pygments_lexer": "ipython3",
   "version": "3.8.8"
  },
  "varInspector": {
   "cols": {
    "lenName": 16,
    "lenType": 16,
    "lenVar": 40
   },
   "kernels_config": {
    "python": {
     "delete_cmd_postfix": "",
     "delete_cmd_prefix": "del ",
     "library": "var_list.py",
     "varRefreshCmd": "print(var_dic_list())"
    },
    "r": {
     "delete_cmd_postfix": ") ",
     "delete_cmd_prefix": "rm(",
     "library": "var_list.r",
     "varRefreshCmd": "cat(var_dic_list()) "
    }
   },
   "types_to_exclude": [
    "module",
    "function",
    "builtin_function_or_method",
    "instance",
    "_Feature"
   ],
   "window_display": false
  }
 },
 "nbformat": 4,
 "nbformat_minor": 4
}
