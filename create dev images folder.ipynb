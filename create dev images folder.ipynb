{
 "cells": [
  {
   "cell_type": "code",
   "execution_count": 2,
   "metadata": {
    "ExecuteTime": {
     "end_time": "2021-05-30T21:18:16.740469Z",
     "start_time": "2021-05-30T21:18:14.255918Z"
    }
   },
   "outputs": [],
   "source": [
    "from exp.utils import *\n",
    "import shutil"
   ]
  },
  {
   "cell_type": "code",
   "execution_count": 3,
   "metadata": {
    "ExecuteTime": {
     "end_time": "2021-05-30T21:18:16.750324Z",
     "start_time": "2021-05-30T21:18:16.748522Z"
    }
   },
   "outputs": [],
   "source": [
    "p_dev_images = get_data_path()/\"dev_images\"\n",
    "p_images = get_image_path()"
   ]
  },
  {
   "cell_type": "code",
   "execution_count": 4,
   "metadata": {
    "ExecuteTime": {
     "end_time": "2021-05-30T21:18:16.849361Z",
     "start_time": "2021-05-30T21:18:16.758926Z"
    }
   },
   "outputs": [],
   "source": [
    "train_df = pd.read_csv(\"no_overlap_train_df.csv\")"
   ]
  },
  {
   "cell_type": "code",
   "execution_count": 5,
   "metadata": {
    "ExecuteTime": {
     "end_time": "2021-05-30T21:19:12.192330Z",
     "start_time": "2021-05-30T21:19:12.155079Z"
    }
   },
   "outputs": [
    {
     "data": {
      "text/html": [
       "<div>\n",
       "<style scoped>\n",
       "    .dataframe tbody tr th:only-of-type {\n",
       "        vertical-align: middle;\n",
       "    }\n",
       "\n",
       "    .dataframe tbody tr th {\n",
       "        vertical-align: top;\n",
       "    }\n",
       "\n",
       "    .dataframe thead th {\n",
       "        text-align: right;\n",
       "    }\n",
       "</style>\n",
       "<table border=\"1\" class=\"dataframe\">\n",
       "  <thead>\n",
       "    <tr style=\"text-align: right;\">\n",
       "      <th></th>\n",
       "      <th>Unnamed: 0</th>\n",
       "      <th>Image Index</th>\n",
       "      <th>Pneumothorax</th>\n",
       "      <th>Nodule</th>\n",
       "      <th>Consolidation</th>\n",
       "      <th>Hernia</th>\n",
       "      <th>Infiltration</th>\n",
       "      <th>No Finding</th>\n",
       "      <th>Pneumonia</th>\n",
       "      <th>Mass</th>\n",
       "      <th>...</th>\n",
       "      <th>Atelectasis</th>\n",
       "      <th>Follow-up #</th>\n",
       "      <th>Patient ID</th>\n",
       "      <th>Patient Age</th>\n",
       "      <th>Patient Gender</th>\n",
       "      <th>View Position</th>\n",
       "      <th>OriginalImage[Width</th>\n",
       "      <th>Height]</th>\n",
       "      <th>OriginalImagePixelSpacing[x</th>\n",
       "      <th>y]</th>\n",
       "    </tr>\n",
       "  </thead>\n",
       "  <tbody>\n",
       "    <tr>\n",
       "      <th>0</th>\n",
       "      <td>82650</td>\n",
       "      <td>00020326_000.png</td>\n",
       "      <td>0.0</td>\n",
       "      <td>1.0</td>\n",
       "      <td>0.0</td>\n",
       "      <td>0.0</td>\n",
       "      <td>1.0</td>\n",
       "      <td>0.0</td>\n",
       "      <td>0.0</td>\n",
       "      <td>0.0</td>\n",
       "      <td>...</td>\n",
       "      <td>0.0</td>\n",
       "      <td>0</td>\n",
       "      <td>20326</td>\n",
       "      <td>26</td>\n",
       "      <td>F</td>\n",
       "      <td>AP</td>\n",
       "      <td>3016</td>\n",
       "      <td>2544</td>\n",
       "      <td>0.139000</td>\n",
       "      <td>0.139000</td>\n",
       "    </tr>\n",
       "    <tr>\n",
       "      <th>1</th>\n",
       "      <td>82651</td>\n",
       "      <td>00020326_001.png</td>\n",
       "      <td>0.0</td>\n",
       "      <td>0.0</td>\n",
       "      <td>0.0</td>\n",
       "      <td>0.0</td>\n",
       "      <td>0.0</td>\n",
       "      <td>0.0</td>\n",
       "      <td>0.0</td>\n",
       "      <td>1.0</td>\n",
       "      <td>...</td>\n",
       "      <td>0.0</td>\n",
       "      <td>1</td>\n",
       "      <td>20326</td>\n",
       "      <td>26</td>\n",
       "      <td>F</td>\n",
       "      <td>AP</td>\n",
       "      <td>2500</td>\n",
       "      <td>2048</td>\n",
       "      <td>0.168000</td>\n",
       "      <td>0.168000</td>\n",
       "    </tr>\n",
       "    <tr>\n",
       "      <th>2</th>\n",
       "      <td>82652</td>\n",
       "      <td>00020326_002.png</td>\n",
       "      <td>0.0</td>\n",
       "      <td>0.0</td>\n",
       "      <td>0.0</td>\n",
       "      <td>0.0</td>\n",
       "      <td>1.0</td>\n",
       "      <td>0.0</td>\n",
       "      <td>0.0</td>\n",
       "      <td>1.0</td>\n",
       "      <td>...</td>\n",
       "      <td>0.0</td>\n",
       "      <td>2</td>\n",
       "      <td>20326</td>\n",
       "      <td>26</td>\n",
       "      <td>F</td>\n",
       "      <td>PA</td>\n",
       "      <td>2992</td>\n",
       "      <td>2853</td>\n",
       "      <td>0.143000</td>\n",
       "      <td>0.143000</td>\n",
       "    </tr>\n",
       "    <tr>\n",
       "      <th>3</th>\n",
       "      <td>82653</td>\n",
       "      <td>00020326_004.png</td>\n",
       "      <td>0.0</td>\n",
       "      <td>1.0</td>\n",
       "      <td>1.0</td>\n",
       "      <td>0.0</td>\n",
       "      <td>1.0</td>\n",
       "      <td>0.0</td>\n",
       "      <td>0.0</td>\n",
       "      <td>1.0</td>\n",
       "      <td>...</td>\n",
       "      <td>0.0</td>\n",
       "      <td>3</td>\n",
       "      <td>20326</td>\n",
       "      <td>26</td>\n",
       "      <td>F</td>\n",
       "      <td>AP</td>\n",
       "      <td>2472</td>\n",
       "      <td>2544</td>\n",
       "      <td>0.139000</td>\n",
       "      <td>0.139000</td>\n",
       "    </tr>\n",
       "    <tr>\n",
       "      <th>4</th>\n",
       "      <td>82654</td>\n",
       "      <td>00020326_003.png</td>\n",
       "      <td>0.0</td>\n",
       "      <td>0.0</td>\n",
       "      <td>0.0</td>\n",
       "      <td>0.0</td>\n",
       "      <td>1.0</td>\n",
       "      <td>0.0</td>\n",
       "      <td>0.0</td>\n",
       "      <td>1.0</td>\n",
       "      <td>...</td>\n",
       "      <td>0.0</td>\n",
       "      <td>4</td>\n",
       "      <td>20326</td>\n",
       "      <td>26</td>\n",
       "      <td>F</td>\n",
       "      <td>PA</td>\n",
       "      <td>2106</td>\n",
       "      <td>2349</td>\n",
       "      <td>0.143000</td>\n",
       "      <td>0.143000</td>\n",
       "    </tr>\n",
       "    <tr>\n",
       "      <th>...</th>\n",
       "      <td>...</td>\n",
       "      <td>...</td>\n",
       "      <td>...</td>\n",
       "      <td>...</td>\n",
       "      <td>...</td>\n",
       "      <td>...</td>\n",
       "      <td>...</td>\n",
       "      <td>...</td>\n",
       "      <td>...</td>\n",
       "      <td>...</td>\n",
       "      <td>...</td>\n",
       "      <td>...</td>\n",
       "      <td>...</td>\n",
       "      <td>...</td>\n",
       "      <td>...</td>\n",
       "      <td>...</td>\n",
       "      <td>...</td>\n",
       "      <td>...</td>\n",
       "      <td>...</td>\n",
       "      <td>...</td>\n",
       "      <td>...</td>\n",
       "    </tr>\n",
       "    <tr>\n",
       "      <th>69214</th>\n",
       "      <td>112063</td>\n",
       "      <td>00030764_000.png</td>\n",
       "      <td>0.0</td>\n",
       "      <td>0.0</td>\n",
       "      <td>0.0</td>\n",
       "      <td>0.0</td>\n",
       "      <td>0.0</td>\n",
       "      <td>0.0</td>\n",
       "      <td>0.0</td>\n",
       "      <td>0.0</td>\n",
       "      <td>...</td>\n",
       "      <td>0.0</td>\n",
       "      <td>0</td>\n",
       "      <td>30764</td>\n",
       "      <td>35</td>\n",
       "      <td>M</td>\n",
       "      <td>PA</td>\n",
       "      <td>2021</td>\n",
       "      <td>2021</td>\n",
       "      <td>0.194311</td>\n",
       "      <td>0.194311</td>\n",
       "    </tr>\n",
       "    <tr>\n",
       "      <th>69215</th>\n",
       "      <td>112078</td>\n",
       "      <td>00030774_000.png</td>\n",
       "      <td>0.0</td>\n",
       "      <td>0.0</td>\n",
       "      <td>1.0</td>\n",
       "      <td>0.0</td>\n",
       "      <td>0.0</td>\n",
       "      <td>0.0</td>\n",
       "      <td>0.0</td>\n",
       "      <td>0.0</td>\n",
       "      <td>...</td>\n",
       "      <td>0.0</td>\n",
       "      <td>0</td>\n",
       "      <td>30774</td>\n",
       "      <td>43</td>\n",
       "      <td>F</td>\n",
       "      <td>PA</td>\n",
       "      <td>2021</td>\n",
       "      <td>2021</td>\n",
       "      <td>0.194311</td>\n",
       "      <td>0.194311</td>\n",
       "    </tr>\n",
       "    <tr>\n",
       "      <th>69216</th>\n",
       "      <td>112100</td>\n",
       "      <td>00030789_000.png</td>\n",
       "      <td>0.0</td>\n",
       "      <td>0.0</td>\n",
       "      <td>0.0</td>\n",
       "      <td>0.0</td>\n",
       "      <td>1.0</td>\n",
       "      <td>0.0</td>\n",
       "      <td>0.0</td>\n",
       "      <td>0.0</td>\n",
       "      <td>...</td>\n",
       "      <td>0.0</td>\n",
       "      <td>0</td>\n",
       "      <td>30789</td>\n",
       "      <td>51</td>\n",
       "      <td>F</td>\n",
       "      <td>PA</td>\n",
       "      <td>2021</td>\n",
       "      <td>2021</td>\n",
       "      <td>0.194311</td>\n",
       "      <td>0.194311</td>\n",
       "    </tr>\n",
       "    <tr>\n",
       "      <th>69217</th>\n",
       "      <td>112106</td>\n",
       "      <td>00030793_000.png</td>\n",
       "      <td>0.0</td>\n",
       "      <td>1.0</td>\n",
       "      <td>0.0</td>\n",
       "      <td>0.0</td>\n",
       "      <td>0.0</td>\n",
       "      <td>0.0</td>\n",
       "      <td>0.0</td>\n",
       "      <td>1.0</td>\n",
       "      <td>...</td>\n",
       "      <td>0.0</td>\n",
       "      <td>0</td>\n",
       "      <td>30793</td>\n",
       "      <td>57</td>\n",
       "      <td>F</td>\n",
       "      <td>PA</td>\n",
       "      <td>2021</td>\n",
       "      <td>2021</td>\n",
       "      <td>0.194311</td>\n",
       "      <td>0.194311</td>\n",
       "    </tr>\n",
       "    <tr>\n",
       "      <th>69218</th>\n",
       "      <td>112108</td>\n",
       "      <td>00030795_000.png</td>\n",
       "      <td>0.0</td>\n",
       "      <td>0.0</td>\n",
       "      <td>0.0</td>\n",
       "      <td>0.0</td>\n",
       "      <td>0.0</td>\n",
       "      <td>0.0</td>\n",
       "      <td>0.0</td>\n",
       "      <td>0.0</td>\n",
       "      <td>...</td>\n",
       "      <td>0.0</td>\n",
       "      <td>0</td>\n",
       "      <td>30795</td>\n",
       "      <td>52</td>\n",
       "      <td>F</td>\n",
       "      <td>PA</td>\n",
       "      <td>2021</td>\n",
       "      <td>2021</td>\n",
       "      <td>0.194311</td>\n",
       "      <td>0.194311</td>\n",
       "    </tr>\n",
       "  </tbody>\n",
       "</table>\n",
       "<p>28643 rows × 26 columns</p>\n",
       "</div>"
      ],
      "text/plain": [
       "       Unnamed: 0       Image Index  Pneumothorax  Nodule  Consolidation  \\\n",
       "0           82650  00020326_000.png           0.0     1.0            0.0   \n",
       "1           82651  00020326_001.png           0.0     0.0            0.0   \n",
       "2           82652  00020326_002.png           0.0     0.0            0.0   \n",
       "3           82653  00020326_004.png           0.0     1.0            1.0   \n",
       "4           82654  00020326_003.png           0.0     0.0            0.0   \n",
       "...           ...               ...           ...     ...            ...   \n",
       "69214      112063  00030764_000.png           0.0     0.0            0.0   \n",
       "69215      112078  00030774_000.png           0.0     0.0            1.0   \n",
       "69216      112100  00030789_000.png           0.0     0.0            0.0   \n",
       "69217      112106  00030793_000.png           0.0     1.0            0.0   \n",
       "69218      112108  00030795_000.png           0.0     0.0            0.0   \n",
       "\n",
       "       Hernia  Infiltration  No Finding  Pneumonia  Mass  ...  Atelectasis  \\\n",
       "0         0.0           1.0         0.0        0.0   0.0  ...          0.0   \n",
       "1         0.0           0.0         0.0        0.0   1.0  ...          0.0   \n",
       "2         0.0           1.0         0.0        0.0   1.0  ...          0.0   \n",
       "3         0.0           1.0         0.0        0.0   1.0  ...          0.0   \n",
       "4         0.0           1.0         0.0        0.0   1.0  ...          0.0   \n",
       "...       ...           ...         ...        ...   ...  ...          ...   \n",
       "69214     0.0           0.0         0.0        0.0   0.0  ...          0.0   \n",
       "69215     0.0           0.0         0.0        0.0   0.0  ...          0.0   \n",
       "69216     0.0           1.0         0.0        0.0   0.0  ...          0.0   \n",
       "69217     0.0           0.0         0.0        0.0   1.0  ...          0.0   \n",
       "69218     0.0           0.0         0.0        0.0   0.0  ...          0.0   \n",
       "\n",
       "       Follow-up #  Patient ID  Patient Age  Patient Gender  View Position  \\\n",
       "0                0       20326           26               F             AP   \n",
       "1                1       20326           26               F             AP   \n",
       "2                2       20326           26               F             PA   \n",
       "3                3       20326           26               F             AP   \n",
       "4                4       20326           26               F             PA   \n",
       "...            ...         ...          ...             ...            ...   \n",
       "69214            0       30764           35               M             PA   \n",
       "69215            0       30774           43               F             PA   \n",
       "69216            0       30789           51               F             PA   \n",
       "69217            0       30793           57               F             PA   \n",
       "69218            0       30795           52               F             PA   \n",
       "\n",
       "       OriginalImage[Width  Height]  OriginalImagePixelSpacing[x        y]  \n",
       "0                     3016     2544                     0.139000  0.139000  \n",
       "1                     2500     2048                     0.168000  0.168000  \n",
       "2                     2992     2853                     0.143000  0.143000  \n",
       "3                     2472     2544                     0.139000  0.139000  \n",
       "4                     2106     2349                     0.143000  0.143000  \n",
       "...                    ...      ...                          ...       ...  \n",
       "69214                 2021     2021                     0.194311  0.194311  \n",
       "69215                 2021     2021                     0.194311  0.194311  \n",
       "69216                 2021     2021                     0.194311  0.194311  \n",
       "69217                 2021     2021                     0.194311  0.194311  \n",
       "69218                 2021     2021                     0.194311  0.194311  \n",
       "\n",
       "[28643 rows x 26 columns]"
      ]
     },
     "execution_count": 5,
     "metadata": {},
     "output_type": "execute_result"
    }
   ],
   "source": [
    "train_df[(train_df.Cardiomegaly == 1) | (train_df[\"No Finding\"] == 0)]"
   ]
  },
  {
   "cell_type": "code",
   "execution_count": 9,
   "metadata": {
    "ExecuteTime": {
     "end_time": "2021-05-30T21:24:46.955539Z",
     "start_time": "2021-05-30T21:24:10.134365Z"
    }
   },
   "outputs": [
    {
     "data": {
      "application/vnd.jupyter.widget-view+json": {
       "model_id": "1f0ee04892894ee1b4a9630bf8e95371",
       "version_major": 2,
       "version_minor": 0
      },
      "text/plain": [
       "HBox(children=(HTML(value=''), FloatProgress(value=0.0, max=69219.0), HTML(value='')))"
      ]
     },
     "metadata": {},
     "output_type": "display_data"
    },
    {
     "name": "stdout",
     "output_type": "stream",
     "text": [
      "\n"
     ]
    }
   ],
   "source": [
    "labels = [\"No Finding\", *get_labels()]\n",
    "\n",
    "cardio_idx = []\n",
    "nof_idx = [] \n",
    "\n",
    "for r_idx in tqdm(range(train_df.shape[0])):\n",
    "    row_sum = train_df.iloc[r_idx][labels].sum()\n",
    "    if row_sum == 1 and train_df.iloc[r_idx].loc[\"Cardiomegaly\"] == 1:\n",
    "        cardio_idx.append(r_idx)\n",
    "    elif row_sum == 1 and train_df.iloc[r_idx].loc[\"No Finding\"] == 1:\n",
    "        nof_idx.append(r_idx)\n",
    "\n"
   ]
  },
  {
   "cell_type": "code",
   "execution_count": 13,
   "metadata": {
    "ExecuteTime": {
     "end_time": "2021-05-30T21:28:51.578438Z",
     "start_time": "2021-05-30T21:28:49.529516Z"
    }
   },
   "outputs": [
    {
     "data": {
      "application/vnd.jupyter.widget-view+json": {
       "model_id": "9658d8137b894d20917c59e5e891386e",
       "version_major": 2,
       "version_minor": 0
      },
      "text/plain": [
       "HBox(children=(HTML(value=''), FloatProgress(value=0.0, max=653.0), HTML(value='')))"
      ]
     },
     "metadata": {},
     "output_type": "display_data"
    },
    {
     "name": "stdout",
     "output_type": "stream",
     "text": [
      "\n"
     ]
    },
    {
     "data": {
      "application/vnd.jupyter.widget-view+json": {
       "model_id": "e01b2783df63462bae4dbb222d124454",
       "version_major": 2,
       "version_minor": 0
      },
      "text/plain": [
       "HBox(children=(HTML(value=''), FloatProgress(value=0.0, max=653.0), HTML(value='')))"
      ]
     },
     "metadata": {},
     "output_type": "display_data"
    },
    {
     "name": "stdout",
     "output_type": "stream",
     "text": [
      "\n"
     ]
    }
   ],
   "source": [
    "for idx in tqdm(cardio_idx):\n",
    "    image_name = train_df.iloc[idx, 1]\n",
    "    shutil.copy(p_images/image_name, p_dev_images/image_name)\n",
    "\n",
    "for idx in tqdm(np.random.choice(nof_idx, len(cardio_idx))):\n",
    "    image_name = train_df.iloc[idx, 1]\n",
    "    shutil.copy(p_images/image_name, p_dev_images/image_name)"
   ]
  }
 ],
 "metadata": {
  "kernelspec": {
   "display_name": "Python 3",
   "language": "python",
   "name": "python3"
  },
  "language_info": {
   "codemirror_mode": {
    "name": "ipython",
    "version": 3
   },
   "file_extension": ".py",
   "mimetype": "text/x-python",
   "name": "python",
   "nbconvert_exporter": "python",
   "pygments_lexer": "ipython3",
   "version": "3.8.8"
  },
  "varInspector": {
   "cols": {
    "lenName": 16,
    "lenType": 16,
    "lenVar": 40
   },
   "kernels_config": {
    "python": {
     "delete_cmd_postfix": "",
     "delete_cmd_prefix": "del ",
     "library": "var_list.py",
     "varRefreshCmd": "print(var_dic_list())"
    },
    "r": {
     "delete_cmd_postfix": ") ",
     "delete_cmd_prefix": "rm(",
     "library": "var_list.r",
     "varRefreshCmd": "cat(var_dic_list()) "
    }
   },
   "types_to_exclude": [
    "module",
    "function",
    "builtin_function_or_method",
    "instance",
    "_Feature"
   ],
   "window_display": false
  }
 },
 "nbformat": 4,
 "nbformat_minor": 4
}
