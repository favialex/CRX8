{
 "cells": [
  {
   "cell_type": "code",
   "execution_count": 1,
   "metadata": {
    "ExecuteTime": {
     "end_time": "2021-03-13T14:45:02.099180Z",
     "start_time": "2021-03-13T14:44:59.815615Z"
    }
   },
   "outputs": [],
   "source": [
    "from exp.utils import *\n",
    "from exp.models import *\n",
    "from exp.losses import *\n",
    "from tqdm.notebook import tqdm\n",
    "from multiprocessing import Pool\n",
    "\n",
    "import torch\n",
    "import torch.nn as NN\n",
    "from torch.utils.data import Dataset, DataLoader\n",
    "from torchvision import datasets, transforms\n",
    "from torchvision.transforms import ToTensor"
   ]
  },
  {
   "cell_type": "code",
   "execution_count": 17,
   "metadata": {
    "ExecuteTime": {
     "end_time": "2021-03-13T14:53:37.435024Z",
     "start_time": "2021-03-13T14:53:37.430108Z"
    }
   },
   "outputs": [],
   "source": [
    "seed = 92\n",
    "seed_everything(seed)"
   ]
  },
  {
   "cell_type": "code",
   "execution_count": 44,
   "metadata": {
    "ExecuteTime": {
     "end_time": "2021-03-13T19:37:08.828113Z",
     "start_time": "2021-03-13T19:37:08.820243Z"
    }
   },
   "outputs": [],
   "source": [
    "def get_td_path():\n",
    "    return Path(f\"{os.environ.get('HOME')}/.datasets/fashion_product\")\n",
    "\n",
    "def get_td_image_path():\n",
    "    return get_td_path()/\"images\"\n",
    "\n",
    "def get_td_csv_path():\n",
    "    return get_td_path()/\"styles.csv\"\n",
    "    #return pd.read_csv(get_td_path()/\"styles.csv\", encoding=\"unicode\")\n",
    "\n",
    "def get_td_label_df():\n",
    "    import csv\n",
    "    from PIL import Image\n",
    "    all_data = []\n",
    "    # open annotation file\n",
    "    with open(get_td_csv_path()) as csv_file:\n",
    "        # parse it as CSV\n",
    "        reader = csv.DictReader(csv_file)\n",
    "        # tqdm shows pretty progress bar\n",
    "        # each row in the CSV file corresponds to the image\n",
    "        for row in tqdm(reader, total=reader.line_num):\n",
    "            # we need image ID to build the path to the image file\n",
    "            img_id = row['id']\n",
    "            img_name = str(img_id) + \".jpg\"\n",
    "            # we're going to use only 3 attributes\n",
    "            gender = row['gender']\n",
    "            articleType = row['articleType']\n",
    "            baseColour = row['baseColour']\n",
    "            img_name = get_td_image_path()/img_name #os.path.join(input_folder, 'images', str(img_id) + '.jpg')\n",
    "            # check if file is in place\n",
    "            if os.path.exists(img_name):\n",
    "                # check if the image has 80*60 pixels with 3 channels\n",
    "                img = Image.open(img_name)\n",
    "                if img.size == (60, 80) and img.mode == \"RGB\":\n",
    "                    all_data.append([img_name, gender, articleType, baseColour])\n",
    "\n",
    "    all_data = pd.DataFrame(np.asarray(all_data), columns=[\"Image Index\", \"L1\", \"L2\", \"L3\"])\n",
    "    labs = []\n",
    "    for r_idx, row in all_data.iterrows():\n",
    "        lab = [row[l] for l in [\"L1\", \"L2\", \"L3\"]]\n",
    "        labs.append(\"|\".join(lab))\n",
    "\n",
    "    all_data[\"Labels\"] = labs\n",
    "    all_data = all_data.drop(columns=[\"L1\", \"L2\", \"L3\"])\n",
    "    return all_data"
   ]
  },
  {
   "cell_type": "code",
   "execution_count": 45,
   "metadata": {
    "ExecuteTime": {
     "end_time": "2021-03-13T19:37:28.182702Z",
     "start_time": "2021-03-13T19:37:20.609291Z"
    }
   },
   "outputs": [
    {
     "data": {
      "application/vnd.jupyter.widget-view+json": {
       "model_id": "c55977b94ccf4ec5b3cf1fbeb7367ac5",
       "version_major": 2,
       "version_minor": 0
      },
      "text/plain": [
       "HBox(children=(HTML(value=''), FloatProgress(value=1.0, bar_style='info', layout=Layout(width='20px'), max=1.0…"
      ]
     },
     "metadata": {},
     "output_type": "display_data"
    },
    {
     "name": "stdout",
     "output_type": "stream",
     "text": [
      "\n"
     ]
    }
   ],
   "source": [
    "df = get_td_label_df()"
   ]
  },
  {
   "cell_type": "code",
   "execution_count": 46,
   "metadata": {
    "ExecuteTime": {
     "end_time": "2021-03-13T19:37:30.937760Z",
     "start_time": "2021-03-13T19:37:30.934732Z"
    }
   },
   "outputs": [
    {
     "data": {
      "text/plain": [
       "(43987, 2)"
      ]
     },
     "execution_count": 46,
     "metadata": {},
     "output_type": "execute_result"
    }
   ],
   "source": [
    "all_data.shape"
   ]
  },
  {
   "cell_type": "code",
   "execution_count": 47,
   "metadata": {
    "ExecuteTime": {
     "end_time": "2021-03-13T19:37:31.866901Z",
     "start_time": "2021-03-13T19:37:31.859978Z"
    }
   },
   "outputs": [
    {
     "data": {
      "text/html": [
       "<div>\n",
       "<style scoped>\n",
       "    .dataframe tbody tr th:only-of-type {\n",
       "        vertical-align: middle;\n",
       "    }\n",
       "\n",
       "    .dataframe tbody tr th {\n",
       "        vertical-align: top;\n",
       "    }\n",
       "\n",
       "    .dataframe thead th {\n",
       "        text-align: right;\n",
       "    }\n",
       "</style>\n",
       "<table border=\"1\" class=\"dataframe\">\n",
       "  <thead>\n",
       "    <tr style=\"text-align: right;\">\n",
       "      <th></th>\n",
       "      <th>Image Index</th>\n",
       "      <th>Labels</th>\n",
       "    </tr>\n",
       "  </thead>\n",
       "  <tbody>\n",
       "    <tr>\n",
       "      <th>0</th>\n",
       "      <td>/home/favi/.datasets/fashion_product/images/15...</td>\n",
       "      <td>Men|Shirts|Navy Blue</td>\n",
       "    </tr>\n",
       "    <tr>\n",
       "      <th>1</th>\n",
       "      <td>/home/favi/.datasets/fashion_product/images/39...</td>\n",
       "      <td>Men|Jeans|Blue</td>\n",
       "    </tr>\n",
       "    <tr>\n",
       "      <th>2</th>\n",
       "      <td>/home/favi/.datasets/fashion_product/images/21...</td>\n",
       "      <td>Men|Track Pants|Black</td>\n",
       "    </tr>\n",
       "    <tr>\n",
       "      <th>3</th>\n",
       "      <td>/home/favi/.datasets/fashion_product/images/53...</td>\n",
       "      <td>Men|Tshirts|Grey</td>\n",
       "    </tr>\n",
       "    <tr>\n",
       "      <th>4</th>\n",
       "      <td>/home/favi/.datasets/fashion_product/images/18...</td>\n",
       "      <td>Men|Tshirts|Grey</td>\n",
       "    </tr>\n",
       "  </tbody>\n",
       "</table>\n",
       "</div>"
      ],
      "text/plain": [
       "                                         Image Index                 Labels\n",
       "0  /home/favi/.datasets/fashion_product/images/15...   Men|Shirts|Navy Blue\n",
       "1  /home/favi/.datasets/fashion_product/images/39...         Men|Jeans|Blue\n",
       "2  /home/favi/.datasets/fashion_product/images/21...  Men|Track Pants|Black\n",
       "3  /home/favi/.datasets/fashion_product/images/53...       Men|Tshirts|Grey\n",
       "4  /home/favi/.datasets/fashion_product/images/18...       Men|Tshirts|Grey"
      ]
     },
     "execution_count": 47,
     "metadata": {},
     "output_type": "execute_result"
    }
   ],
   "source": [
    "all_data.head()"
   ]
  },
  {
   "cell_type": "code",
   "execution_count": 32,
   "metadata": {
    "ExecuteTime": {
     "end_time": "2021-03-13T14:58:09.098925Z",
     "start_time": "2021-03-13T14:58:09.082066Z"
    }
   },
   "outputs": [],
   "source": [
    "all_labels = []\n",
    "for l in [\"L1\", \"L2\", \"L3\"]:\n",
    "    all_labels = [*all_labels, *all_data[l].unique()]\n",
    "all_labels = list(set(all_labels))\n",
    "len(all_labels)"
   ]
  },
  {
   "cell_type": "code",
   "execution_count": 34,
   "metadata": {
    "ExecuteTime": {
     "end_time": "2021-03-13T14:58:27.289592Z",
     "start_time": "2021-03-13T14:58:27.286519Z"
    }
   },
   "outputs": [
    {
     "data": {
      "text/plain": [
       "194"
      ]
     },
     "execution_count": 34,
     "metadata": {},
     "output_type": "execute_result"
    }
   ],
   "source": []
  },
  {
   "cell_type": "code",
   "execution_count": null,
   "metadata": {},
   "outputs": [],
   "source": []
  }
 ],
 "metadata": {
  "kernelspec": {
   "display_name": "Python 3",
   "language": "python",
   "name": "python3"
  },
  "language_info": {
   "codemirror_mode": {
    "name": "ipython",
    "version": 3
   },
   "file_extension": ".py",
   "mimetype": "text/x-python",
   "name": "python",
   "nbconvert_exporter": "python",
   "pygments_lexer": "ipython3",
   "version": "3.8.8"
  },
  "varInspector": {
   "cols": {
    "lenName": 16,
    "lenType": 16,
    "lenVar": 40
   },
   "kernels_config": {
    "python": {
     "delete_cmd_postfix": "",
     "delete_cmd_prefix": "del ",
     "library": "var_list.py",
     "varRefreshCmd": "print(var_dic_list())"
    },
    "r": {
     "delete_cmd_postfix": ") ",
     "delete_cmd_prefix": "rm(",
     "library": "var_list.r",
     "varRefreshCmd": "cat(var_dic_list()) "
    }
   },
   "types_to_exclude": [
    "module",
    "function",
    "builtin_function_or_method",
    "instance",
    "_Feature"
   ],
   "window_display": false
  }
 },
 "nbformat": 4,
 "nbformat_minor": 4
}
