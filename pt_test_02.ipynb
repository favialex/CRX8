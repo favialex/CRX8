{
 "cells": [
  {
   "cell_type": "code",
   "execution_count": 1,
   "metadata": {
    "ExecuteTime": {
     "end_time": "2021-03-10T14:30:41.993467Z",
     "start_time": "2021-03-10T14:30:41.267502Z"
    }
   },
   "outputs": [],
   "source": [
    "from exp.utils import *\n",
    "from tqdm.notebook import tqdm\n",
    "from multiprocessing import Pool\n",
    "\n",
    "import torch\n",
    "import torch.nn as NN\n",
    "from torch.utils.data import Dataset, DataLoader\n",
    "from torchvision import datasets, transforms\n",
    "from torchvision.transforms import ToTensor"
   ]
  },
  {
   "cell_type": "code",
   "execution_count": 2,
   "metadata": {
    "ExecuteTime": {
     "end_time": "2021-03-10T14:30:42.637515Z",
     "start_time": "2021-03-10T14:30:42.635242Z"
    }
   },
   "outputs": [],
   "source": [
    "model_name = \"py_test_01\""
   ]
  },
  {
   "cell_type": "code",
   "execution_count": 3,
   "metadata": {
    "ExecuteTime": {
     "end_time": "2021-03-10T14:30:42.807051Z",
     "start_time": "2021-03-10T14:30:42.805078Z"
    }
   },
   "outputs": [],
   "source": [
    "bs = 8"
   ]
  },
  {
   "cell_type": "code",
   "execution_count": 4,
   "metadata": {
    "ExecuteTime": {
     "end_time": "2021-03-10T14:30:43.064756Z",
     "start_time": "2021-03-10T14:30:42.961885Z"
    }
   },
   "outputs": [],
   "source": [
    "labels = get_labels()"
   ]
  },
  {
   "cell_type": "code",
   "execution_count": 5,
   "metadata": {
    "ExecuteTime": {
     "end_time": "2021-03-10T14:30:43.800586Z",
     "start_time": "2021-03-10T14:30:43.124874Z"
    }
   },
   "outputs": [
    {
     "name": "stderr",
     "output_type": "stream",
     "text": [
      "/home/favi/work/crx8/exp/utils.py:117: UserWarning: Train-Val-Split currently with patient overlap!\n",
      "  warnings.warn(\"Train-Val-Split currently with patient overlap!\")\n"
     ]
    }
   ],
   "source": [
    "train_df, valid_df, test_df = get_dataframes(reduced=True)"
   ]
  },
  {
   "cell_type": "code",
   "execution_count": 6,
   "metadata": {
    "ExecuteTime": {
     "end_time": "2021-03-10T14:30:44.059094Z",
     "start_time": "2021-03-10T14:30:44.050868Z"
    }
   },
   "outputs": [],
   "source": [
    "train_label = train_df[labels].values\n",
    "pos_weights = compute_positive_class_weigths(train_label)"
   ]
  },
  {
   "cell_type": "code",
   "execution_count": 7,
   "metadata": {
    "ExecuteTime": {
     "end_time": "2021-03-10T14:30:44.300405Z",
     "start_time": "2021-03-10T14:30:44.298261Z"
    }
   },
   "outputs": [],
   "source": [
    "train_tfs = transforms.Compose([\n",
    "    transforms.Normalize([SUBSET_MEAN]*3, [SUBSET_STD]*3),\n",
    "    transforms.RandomHorizontalFlip(p=0.5)\n",
    "])\n",
    "test_tfs = transforms.Compose([\n",
    "    transforms.Normalize([SUBSET_MEAN]*3, [SUBSET_STD]*3)\n",
    "    \n",
    "])"
   ]
  },
  {
   "cell_type": "code",
   "execution_count": 8,
   "metadata": {
    "ExecuteTime": {
     "end_time": "2021-03-10T14:30:44.543161Z",
     "start_time": "2021-03-10T14:30:44.539152Z"
    }
   },
   "outputs": [],
   "source": [
    "from torchvision.io import read_image\n",
    "\n",
    "class CRX8_Data(Dataset):\n",
    "    \n",
    "    def __init__(self, df, image_path, labels, transforms=None):\n",
    "        self.df = df\n",
    "        self.image_path = image_path\n",
    "        self.len = df.shape[0]\n",
    "        self.labels = labels\n",
    "        self.transforms = transforms\n",
    "        self.df[\"Index_2\"] = list(range(self.df.shape[0]))\n",
    "        \n",
    "    def __len__(self): return self.len\n",
    "\n",
    "    def __getitem__(self, idx):\n",
    "        img_path = self._get_image_path(idx)        \n",
    "        image = self._make3D(read_image(img_path))\n",
    "        label = self.df.iloc[idx,:].loc[labels].values\n",
    "        if self.transforms: image = self.transforms(image)\n",
    "\n",
    "        return image.float(), torch.Tensor(label.astype(np.float)).float()\n",
    "    \n",
    "    def _make3D(self, t):\n",
    "        reshaped = np.repeat(t[0,:,:].float(), 3).view(3, t.shape[1], t.shape[2])\n",
    "        reshaped /= 255.\n",
    "        return reshaped\n",
    "    \n",
    "    def _get_image_path(self, idx):\n",
    "        return str(self.image_path/self.df.iloc[idx].loc[\"Image Index\"]) "
   ]
  },
  {
   "cell_type": "code",
   "execution_count": 9,
   "metadata": {
    "ExecuteTime": {
     "end_time": "2021-03-10T14:30:44.804318Z",
     "start_time": "2021-03-10T14:30:44.780564Z"
    }
   },
   "outputs": [],
   "source": [
    "train_ds = CRX8_Data(train_df, get_image_path(), labels, transforms=train_tfs)\n",
    "valid_ds = CRX8_Data(valid_df, get_image_path(), labels, transforms=test_tfs)\n",
    "test_ds  = CRX8_Data(test_df , get_image_path(), labels, transforms=test_tfs)"
   ]
  },
  {
   "cell_type": "code",
   "execution_count": 10,
   "metadata": {
    "ExecuteTime": {
     "end_time": "2021-03-10T14:57:03.240010Z",
     "start_time": "2021-03-10T14:30:45.338602Z"
    }
   },
   "outputs": [
    {
     "data": {
      "application/vnd.jupyter.widget-view+json": {
       "model_id": "b513f2c1cd0b4682b5de40a64aa713ab",
       "version_major": 2,
       "version_minor": 0
      },
      "text/plain": [
       "HBox(children=(HTML(value=''), FloatProgress(value=0.0, max=69219.0), HTML(value='')))"
      ]
     },
     "metadata": {},
     "output_type": "display_data"
    },
    {
     "name": "stdout",
     "output_type": "stream",
     "text": [
      "\n"
     ]
    }
   ],
   "source": [
    "failed_idx = []\n",
    "\n",
    "for i in tqdm(range(len(train_ds))):\n",
    "    try:\n",
    "        train_ds.__getitem__(i)\n",
    "    except:\n",
    "        failed_idx.append(i)\n",
    "        print(\"Failed at obj\", i)"
   ]
  },
  {
   "cell_type": "code",
   "execution_count": null,
   "metadata": {
    "ExecuteTime": {
     "end_time": "2021-03-10T14:23:39.449036Z",
     "start_time": "2021-03-10T14:23:39.446873Z"
    }
   },
   "outputs": [],
   "source": [
    "#failed_idx = [608, 5502, 8613]"
   ]
  },
  {
   "cell_type": "code",
   "execution_count": null,
   "metadata": {
    "ExecuteTime": {
     "end_time": "2021-03-10T14:28:24.629528Z",
     "start_time": "2021-03-10T14:28:24.338936Z"
    }
   },
   "outputs": [],
   "source": [
    "failed_ims = [train_ds._get_image_path(i) for i in failed_idx]\n",
    "failed_shapes = set([read_image(im).shape for im in failed_ims])"
   ]
  },
  {
   "cell_type": "code",
   "execution_count": null,
   "metadata": {
    "ExecuteTime": {
     "end_time": "2021-03-10T14:28:25.767088Z",
     "start_time": "2021-03-10T14:28:25.763704Z"
    }
   },
   "outputs": [],
   "source": [
    "failed_ims"
   ]
  },
  {
   "cell_type": "code",
   "execution_count": null,
   "metadata": {
    "ExecuteTime": {
     "end_time": "2021-03-10T14:28:26.948989Z",
     "start_time": "2021-03-10T14:28:26.945971Z"
    }
   },
   "outputs": [],
   "source": [
    "failed_shapes"
   ]
  },
  {
   "cell_type": "code",
   "execution_count": null,
   "metadata": {},
   "outputs": [],
   "source": []
  },
  {
   "cell_type": "code",
   "execution_count": null,
   "metadata": {},
   "outputs": [],
   "source": []
  },
  {
   "cell_type": "code",
   "execution_count": null,
   "metadata": {},
   "outputs": [],
   "source": []
  },
  {
   "cell_type": "code",
   "execution_count": null,
   "metadata": {},
   "outputs": [],
   "source": []
  },
  {
   "cell_type": "code",
   "execution_count": null,
   "metadata": {},
   "outputs": [],
   "source": []
  },
  {
   "cell_type": "code",
   "execution_count": null,
   "metadata": {},
   "outputs": [],
   "source": []
  },
  {
   "cell_type": "code",
   "execution_count": null,
   "metadata": {
    "ExecuteTime": {
     "end_time": "2021-03-08T15:18:03.272875Z",
     "start_time": "2021-03-08T15:18:03.270931Z"
    }
   },
   "outputs": [],
   "source": [
    "train_dl = DataLoader(train_ds, batch_size=bs, shuffle=True)\n",
    "valid_dl = DataLoader(valid_ds, batch_size=bs, shuffle=False)\n",
    "test_dl  = DataLoader(test_ds,  batch_size=bs, shuffle=False)"
   ]
  },
  {
   "cell_type": "code",
   "execution_count": null,
   "metadata": {
    "ExecuteTime": {
     "end_time": "2021-03-08T15:18:03.946971Z",
     "start_time": "2021-03-08T15:18:03.945543Z"
    }
   },
   "outputs": [],
   "source": [
    "#train_ds.__getitem__(0)"
   ]
  },
  {
   "cell_type": "code",
   "execution_count": null,
   "metadata": {
    "ExecuteTime": {
     "end_time": "2021-03-08T15:18:05.681218Z",
     "start_time": "2021-03-08T15:18:04.628858Z"
    }
   },
   "outputs": [],
   "source": [
    "criterion = NN.BCEWithLogitsLoss(pos_weight=pos_weights.cuda(), reduction=\"sum\")"
   ]
  },
  {
   "cell_type": "code",
   "execution_count": null,
   "metadata": {
    "ExecuteTime": {
     "end_time": "2021-03-08T15:18:06.532906Z",
     "start_time": "2021-03-08T15:18:06.374818Z"
    }
   },
   "outputs": [],
   "source": [
    "import torchvision.models as models\n",
    "net = models.resnet18(pretrained=True)"
   ]
  },
  {
   "cell_type": "code",
   "execution_count": null,
   "metadata": {
    "ExecuteTime": {
     "end_time": "2021-03-08T15:18:07.249793Z",
     "start_time": "2021-03-08T15:18:07.246089Z"
    }
   },
   "outputs": [],
   "source": [
    "net"
   ]
  },
  {
   "cell_type": "code",
   "execution_count": null,
   "metadata": {
    "ExecuteTime": {
     "end_time": "2021-03-08T15:18:08.043554Z",
     "start_time": "2021-03-08T15:18:07.947400Z"
    }
   },
   "outputs": [],
   "source": [
    "#net.classifier = NN.Linear(1024, len(get_labels()))\n",
    "net.fc = NN.Linear(512, len(get_labels()))\n",
    "net"
   ]
  },
  {
   "cell_type": "code",
   "execution_count": null,
   "metadata": {
    "ExecuteTime": {
     "end_time": "2021-03-08T15:18:08.744580Z",
     "start_time": "2021-03-08T15:18:08.740432Z"
    }
   },
   "outputs": [],
   "source": [
    "# From: https://sgugger.github.io/how-do-you-find-a-good-learning-rate.html\n",
    "def find_lr(dl, optimizer, init_value = 1e-8, final_value=10., beta = 0.98, device=torch.device('cuda:0')):\n",
    "    num = len(dl)-1\n",
    "    mult = (final_value / init_value) ** (1/num)\n",
    "    lr = init_value\n",
    "    optimizer.param_groups[0]['lr'] = lr\n",
    "    avg_loss = 0.\n",
    "    best_loss = 0.\n",
    "    batch_num = 0\n",
    "    losses = []\n",
    "    log_lrs = []\n",
    "    \n",
    "    net.to(device)\n",
    "    \n",
    "    for data in dl:\n",
    "        batch_num += 1\n",
    "        #As before, get the loss for this mini-batch of inputs/outputs\n",
    "        inputs, labels = data\n",
    "        inputs = inputs.cuda()\n",
    "        labels = labels.cuda()\n",
    "        #inputs, labels = Variable(inputs), Variable(labels)\n",
    "        optimizer.zero_grad()\n",
    "        outputs = net(inputs)\n",
    "        loss = criterion(outputs, labels)\n",
    "        #Compute the smoothed loss\n",
    "        avg_loss = beta * avg_loss + (1-beta) *loss.data[0]\n",
    "        smoothed_loss = avg_loss / (1 - beta**batch_num)\n",
    "        #Stop if the loss is exploding\n",
    "        if batch_num > 1 and smoothed_loss > 4 * best_loss:\n",
    "            return log_lrs, losses\n",
    "        #Record the best loss\n",
    "        if smoothed_loss < best_loss or batch_num==1:\n",
    "            best_loss = smoothed_loss\n",
    "        #Store the values\n",
    "        losses.append(smoothed_loss)\n",
    "        log_lrs.append(math.log10(lr))\n",
    "        #Do the SGD step\n",
    "        loss.backward()\n",
    "        optimizer.step()\n",
    "        #Update the lr for the next step\n",
    "        lr *= mult\n",
    "        optimizer.param_groups[0]['lr'] = lr\n",
    "    return log_lrs, losses"
   ]
  },
  {
   "cell_type": "code",
   "execution_count": null,
   "metadata": {
    "ExecuteTime": {
     "end_time": "2021-03-08T15:18:09.455644Z",
     "start_time": "2021-03-08T15:18:09.448498Z"
    }
   },
   "outputs": [],
   "source": [
    "# From: https://github.com/dkumazaw/onecyclelr/blob/master/onecyclelr.py\n",
    "from torch.optim import Optimizer\n",
    "\n",
    "\n",
    "class OneCycleLR:\n",
    "    \"\"\" Sets the learing rate of each parameter group by the one cycle learning rate policy\n",
    "    proposed in https://arxiv.org/pdf/1708.07120.pdf. \n",
    "    It is recommended that you set the max_lr to be the learning rate that achieves \n",
    "    the lowest loss in the learning rate range test, and set min_lr to be 1/10 th of max_lr.\n",
    "    So, the learning rate changes like min_lr -> max_lr -> min_lr -> final_lr, \n",
    "    where final_lr = min_lr * reduce_factor.\n",
    "    Note: Currently only supports one parameter group.\n",
    "    Args:\n",
    "        optimizer:             (Optimizer) against which we apply this scheduler\n",
    "        num_steps:             (int) of total number of steps/iterations\n",
    "        lr_range:              (tuple) of min and max values of learning rate\n",
    "        momentum_range:        (tuple) of min and max values of momentum\n",
    "        annihilation_frac:     (float), fracion of steps to annihilate the learning rate\n",
    "        reduce_factor:         (float), denotes the factor by which we annihilate the learning rate at the end\n",
    "        last_step:             (int), denotes the last step. Set to -1 to start training from the beginning\n",
    "    Example:\n",
    "        >>> optimizer = torch.optim.SGD(model.parameters(), lr=0.1, momentum=0.9)\n",
    "        >>> scheduler = OneCycleLR(optimizer, num_steps=num_steps, lr_range=(0.1, 1.))\n",
    "        >>> for epoch in range(epochs):\n",
    "        >>>     for step in train_dataloader:\n",
    "        >>>         train(...)\n",
    "        >>>         scheduler.step()\n",
    "    Useful resources:\n",
    "        https://towardsdatascience.com/finding-good-learning-rate-and-the-one-cycle-policy-7159fe1db5d6\n",
    "        https://medium.com/vitalify-asia/whats-up-with-deep-learning-optimizers-since-adam-5c1d862b9db0\n",
    "    \"\"\"\n",
    "\n",
    "    def __init__(self,\n",
    "                 optimizer: Optimizer,\n",
    "                 num_steps: int,\n",
    "                 lr_range: tuple = (0.1, 1.),\n",
    "                 momentum_range: tuple = (0.85, 0.95),\n",
    "                 annihilation_frac: float = 0.1,\n",
    "                 reduce_factor: float = 0.01,\n",
    "                 last_step: int = -1):\n",
    "        # Sanity check\n",
    "        if not isinstance(optimizer, Optimizer):\n",
    "            raise TypeError('{} is not an Optimizer'.format(type(optimizer).__name__))\n",
    "        self.optimizer = optimizer\n",
    "\n",
    "        self.num_steps = num_steps\n",
    "\n",
    "        self.min_lr, self.max_lr = lr_range[0], lr_range[1]\n",
    "        assert self.min_lr < self.max_lr, \\\n",
    "            \"Argument lr_range must be (min_lr, max_lr), where min_lr < max_lr\"\n",
    "\n",
    "        self.min_momentum, self.max_momentum = momentum_range[0], momentum_range[1]\n",
    "        assert self.min_momentum < self.max_momentum, \\\n",
    "            \"Argument momentum_range must be (min_momentum, max_momentum), where min_momentum < max_momentum\"\n",
    "\n",
    "        self.num_cycle_steps = int(num_steps * (1. - annihilation_frac))  # Total number of steps in the cycle\n",
    "        self.final_lr = self.min_lr * reduce_factor\n",
    "\n",
    "        self.last_step = last_step\n",
    "\n",
    "        if self.last_step == -1:\n",
    "            self.step()\n",
    "\n",
    "    def state_dict(self):\n",
    "        \"\"\"Returns the state of the scheduler as a :class:`dict`.\n",
    "        It contains an entry for every variable in self.__dict__ which\n",
    "        is not the optimizer. (Borrowed from _LRScheduler class in torch.optim.lr_scheduler.py)\n",
    "        \"\"\"\n",
    "        return {key: value for key, value in self.__dict__.items() if key != 'optimizer'}\n",
    "\n",
    "    def load_state_dict(self, state_dict):\n",
    "        \"\"\"Loads the schedulers state. (Borrowed from _LRScheduler class in torch.optim.lr_scheduler.py)\n",
    "        Arguments:\n",
    "            state_dict (dict): scheduler state. Should be an object returned\n",
    "                from a call to :meth:`state_dict`.\n",
    "        \"\"\"\n",
    "        self.__dict__.update(state_dict)\n",
    "\n",
    "    def get_lr(self):\n",
    "        return self.optimizer.param_groups[0]['lr']\n",
    "\n",
    "    def get_momentum(self):\n",
    "        return self.optimizer.param_groups[0]['momentum']\n",
    "\n",
    "    def step(self):\n",
    "        \"\"\"Conducts one step of learning rate and momentum update\n",
    "        \"\"\"\n",
    "        current_step = self.last_step + 1\n",
    "        self.last_step = current_step\n",
    "\n",
    "        if current_step <= self.num_cycle_steps // 2:\n",
    "            # Scale up phase\n",
    "            scale = current_step / (self.num_cycle_steps // 2)\n",
    "            lr = self.min_lr + (self.max_lr - self.min_lr) * scale\n",
    "            momentum = self.max_momentum - (self.max_momentum - self.min_momentum) * scale\n",
    "        elif current_step <= self.num_cycle_steps:\n",
    "            # Scale down phase\n",
    "            scale = (current_step - self.num_cycle_steps // 2) / (self.num_cycle_steps - self.num_cycle_steps // 2)\n",
    "            lr = self.max_lr - (self.max_lr - self.min_lr) * scale\n",
    "            momentum = self.min_momentum + (self.max_momentum - self.min_momentum) * scale\n",
    "        elif current_step <= self.num_steps:\n",
    "            # Annihilation phase: only change lr\n",
    "            scale = (current_step - self.num_cycle_steps) / (self.num_steps - self.num_cycle_steps)\n",
    "            lr = self.min_lr - (self.min_lr - self.final_lr) * scale\n",
    "            momentum = None\n",
    "        else:\n",
    "            # Exceeded given num_steps: do nothing\n",
    "            return\n",
    "\n",
    "        self.optimizer.param_groups[0]['lr'] = lr\n",
    "        if momentum:\n",
    "            self.optimizer.param_groups[0]['momentum'] = momentum"
   ]
  },
  {
   "cell_type": "code",
   "execution_count": null,
   "metadata": {
    "ExecuteTime": {
     "end_time": "2021-03-08T15:18:10.169345Z",
     "start_time": "2021-03-08T15:18:10.167935Z"
    }
   },
   "outputs": [],
   "source": [
    "#next(train_dl)"
   ]
  },
  {
   "cell_type": "code",
   "execution_count": null,
   "metadata": {
    "ExecuteTime": {
     "end_time": "2021-03-08T15:18:10.878553Z",
     "start_time": "2021-03-08T15:18:10.876686Z"
    }
   },
   "outputs": [],
   "source": [
    "optimizer = torch.optim.SGD(net.parameters(),lr=1e-1)"
   ]
  },
  {
   "cell_type": "code",
   "execution_count": null,
   "metadata": {
    "ExecuteTime": {
     "end_time": "2021-03-08T15:18:11.902126Z",
     "start_time": "2021-03-08T15:18:11.577487Z"
    }
   },
   "outputs": [],
   "source": [
    "logs,losses = find_lr()\n",
    "plt.plot(logs[10:-5],losses[10:-5])"
   ]
  },
  {
   "cell_type": "code",
   "execution_count": null,
   "metadata": {},
   "outputs": [],
   "source": []
  },
  {
   "cell_type": "code",
   "execution_count": null,
   "metadata": {},
   "outputs": [],
   "source": []
  },
  {
   "cell_type": "code",
   "execution_count": null,
   "metadata": {
    "ExecuteTime": {
     "end_time": "2021-03-07T22:42:18.812030Z",
     "start_time": "2021-03-07T22:42:18.787607Z"
    }
   },
   "outputs": [],
   "source": [
    "a, b = ds.__getitem__(3)\n",
    "b"
   ]
  },
  {
   "cell_type": "code",
   "execution_count": null,
   "metadata": {
    "ExecuteTime": {
     "end_time": "2021-03-07T22:42:19.783460Z",
     "start_time": "2021-03-07T22:42:19.780022Z"
    }
   },
   "outputs": [],
   "source": [
    "b"
   ]
  },
  {
   "cell_type": "code",
   "execution_count": null,
   "metadata": {
    "ExecuteTime": {
     "end_time": "2021-03-07T22:42:20.453882Z",
     "start_time": "2021-03-07T22:42:20.450536Z"
    }
   },
   "outputs": [],
   "source": [
    "type(a), a.shape"
   ]
  },
  {
   "cell_type": "code",
   "execution_count": null,
   "metadata": {
    "ExecuteTime": {
     "end_time": "2021-03-07T22:42:20.893516Z",
     "start_time": "2021-03-07T22:42:20.887135Z"
    }
   },
   "outputs": [],
   "source": [
    "array_info(a, with_hist=False)"
   ]
  },
  {
   "cell_type": "code",
   "execution_count": null,
   "metadata": {
    "ExecuteTime": {
     "end_time": "2021-03-07T22:42:21.551645Z",
     "start_time": "2021-03-07T22:42:21.308104Z"
    }
   },
   "outputs": [],
   "source": [
    "print_image(a, b)"
   ]
  },
  {
   "cell_type": "code",
   "execution_count": null,
   "metadata": {
    "ExecuteTime": {
     "end_time": "2021-03-07T20:26:29.561429Z",
     "start_time": "2021-03-07T20:26:29.446578Z"
    }
   },
   "outputs": [],
   "source": [
    "show_image(\"/home/favi/.datasets/CRX8/images/00000459_057.png\")"
   ]
  },
  {
   "cell_type": "code",
   "execution_count": null,
   "metadata": {
    "ExecuteTime": {
     "end_time": "2021-03-07T20:55:30.325351Z",
     "start_time": "2021-03-07T20:55:30.310234Z"
    }
   },
   "outputs": [],
   "source": [
    "bild_t = read_image(\"/home/favi/.datasets/CRX8/images/00000459_057.png\")"
   ]
  },
  {
   "cell_type": "code",
   "execution_count": null,
   "metadata": {
    "ExecuteTime": {
     "end_time": "2021-03-07T20:36:18.774694Z",
     "start_time": "2021-03-07T20:36:18.772549Z"
    }
   },
   "outputs": [],
   "source": [
    "bild_t.shape"
   ]
  },
  {
   "cell_type": "code",
   "execution_count": null,
   "metadata": {
    "ExecuteTime": {
     "end_time": "2021-03-07T20:55:34.204492Z",
     "start_time": "2021-03-07T20:55:34.202115Z"
    }
   },
   "outputs": [],
   "source": [
    "y= [0]*14"
   ]
  },
  {
   "cell_type": "code",
   "execution_count": null,
   "metadata": {
    "ExecuteTime": {
     "end_time": "2021-03-07T20:55:35.194128Z",
     "start_time": "2021-03-07T20:55:34.934911Z"
    }
   },
   "outputs": [],
   "source": [
    "print_image(bild_t,y)"
   ]
  },
  {
   "cell_type": "code",
   "execution_count": null,
   "metadata": {
    "ExecuteTime": {
     "end_time": "2021-03-07T20:46:39.558563Z",
     "start_time": "2021-03-07T20:46:39.554491Z"
    }
   },
   "outputs": [],
   "source": [
    "bild_t"
   ]
  },
  {
   "cell_type": "code",
   "execution_count": null,
   "metadata": {
    "ExecuteTime": {
     "end_time": "2021-03-07T20:47:24.749823Z",
     "start_time": "2021-03-07T20:47:24.743818Z"
    }
   },
   "outputs": [],
   "source": [
    "d3 = torch.ones((3, bild_t.shape[1], bild_t.shape[2]))\n",
    "d3.shape"
   ]
  },
  {
   "cell_type": "code",
   "execution_count": null,
   "metadata": {
    "ExecuteTime": {
     "end_time": "2021-03-07T20:49:13.110002Z",
     "start_time": "2021-03-07T20:49:13.106122Z"
    }
   },
   "outputs": [],
   "source": [
    "d2_data = bild_t[0,:,:]\n",
    "d3_im = torch.zeros(3, bild_t.shape[1], bild_t.shape[2])\n",
    "d3_im[0, :, :] = d2_data\n",
    "d3_im[1, :, :] = d2_data\n",
    "d3_im[2, :, :] = d2_data\n",
    "im = d3_im"
   ]
  },
  {
   "cell_type": "code",
   "execution_count": null,
   "metadata": {
    "ExecuteTime": {
     "end_time": "2021-03-07T20:45:13.313198Z",
     "start_time": "2021-03-07T20:45:13.310974Z"
    }
   },
   "outputs": [],
   "source": [
    "d3[0] = bild_t[0]\n",
    "d3[1] = bild_t[0]\n",
    "d3[2] = bild_t[0]"
   ]
  },
  {
   "cell_type": "code",
   "execution_count": null,
   "metadata": {
    "ExecuteTime": {
     "end_time": "2021-03-07T20:47:45.217298Z",
     "start_time": "2021-03-07T20:47:26.743253Z"
    }
   },
   "outputs": [],
   "source": [
    "for c in range(d3.shape[0]):\n",
    "    for w in range(d3.shape[1]):\n",
    "        for h in range(d3.shape[2]):\n",
    "            d3[c, w, h] = bild_t[0, h, w]"
   ]
  },
  {
   "cell_type": "code",
   "execution_count": null,
   "metadata": {
    "ExecuteTime": {
     "end_time": "2021-03-07T20:49:16.904846Z",
     "start_time": "2021-03-07T20:49:16.662572Z"
    }
   },
   "outputs": [],
   "source": [
    "print_image(im, y)"
   ]
  },
  {
   "cell_type": "code",
   "execution_count": null,
   "metadata": {
    "ExecuteTime": {
     "end_time": "2021-03-07T20:55:42.081675Z",
     "start_time": "2021-03-07T20:55:42.078106Z"
    }
   },
   "outputs": [],
   "source": [
    "npb = np.array(bild_t); npb.shape"
   ]
  },
  {
   "cell_type": "code",
   "execution_count": null,
   "metadata": {
    "ExecuteTime": {
     "end_time": "2021-03-07T20:55:43.287022Z",
     "start_time": "2021-03-07T20:55:43.283394Z"
    }
   },
   "outputs": [],
   "source": [
    "linus = np.zeros((3, npb.shape[1], npb.shape[2]));linus.shape"
   ]
  },
  {
   "cell_type": "code",
   "execution_count": null,
   "metadata": {
    "ExecuteTime": {
     "end_time": "2021-03-07T20:59:59.900460Z",
     "start_time": "2021-03-07T20:59:59.897600Z"
    }
   },
   "outputs": [],
   "source": [
    "linus = []\n",
    "for i in range(3): linus.append(npb[0,:,:])\n",
    "linus = np.array(linus)"
   ]
  },
  {
   "cell_type": "code",
   "execution_count": null,
   "metadata": {
    "ExecuteTime": {
     "end_time": "2021-03-07T21:06:38.441341Z",
     "start_time": "2021-03-07T21:06:38.437829Z"
    }
   },
   "outputs": [],
   "source": [
    "np.stack([bild_t, bild_t, bild_t]).squeeze().shape"
   ]
  },
  {
   "cell_type": "code",
   "execution_count": null,
   "metadata": {
    "ExecuteTime": {
     "end_time": "2021-03-07T21:11:14.279310Z",
     "start_time": "2021-03-07T21:11:14.275893Z"
    }
   },
   "outputs": [],
   "source": [
    "np.stack([bild_t, bild_t]).squeeze().shape\n",
    "#np.stack([np.stack([bild_t, bild_t]).squeeze(), bild_t]).squeeze()"
   ]
  },
  {
   "cell_type": "code",
   "execution_count": null,
   "metadata": {
    "ExecuteTime": {
     "end_time": "2021-03-07T21:13:48.782951Z",
     "start_time": "2021-03-07T21:13:48.515659Z"
    }
   },
   "outputs": [],
   "source": [
    "print_image(np.stack([bild_t, bild_t, bild_t]).squeeze(), y)"
   ]
  },
  {
   "cell_type": "code",
   "execution_count": null,
   "metadata": {
    "ExecuteTime": {
     "end_time": "2021-03-07T21:06:46.251224Z",
     "start_time": "2021-03-07T21:06:45.978913Z"
    }
   },
   "outputs": [],
   "source": [
    "print_image(np.stack([bild_t, bild_t, bild_t]).squeeze(), y)"
   ]
  },
  {
   "cell_type": "code",
   "execution_count": null,
   "metadata": {
    "ExecuteTime": {
     "end_time": "2021-03-07T21:04:28.292866Z",
     "start_time": "2021-03-07T21:04:28.289502Z"
    }
   },
   "outputs": [],
   "source": [
    "np.concatenate([bild_t, bild_t, bild_t]).shape"
   ]
  },
  {
   "cell_type": "code",
   "execution_count": null,
   "metadata": {
    "ExecuteTime": {
     "end_time": "2021-03-07T21:30:32.293421Z",
     "start_time": "2021-03-07T21:30:32.289959Z"
    }
   },
   "outputs": [],
   "source": [
    "def _make3D(t):\n",
    "        #w, h = t.shape[1:]\n",
    "        #new_t = torch.zeros((3, w, h))\n",
    "        #for i in range(3): \n",
    "        #    new_t[i] = t\n",
    "        #return torch.Tensor(new_t)\n",
    "        tt = np.array(t)\n",
    "        new_t = np.stack([tt]*3, axis=0)\n",
    "        return new_t\n",
    "    \n",
    "def _print_image(x):\n",
    "    c, w, h = x.shape\n",
    "    #x = x * SUBSET_STD + SUBSET_MEAN\n",
    "    #plt.title(translate2label(y))\n",
    "    #plt.view\n",
    "    plt.imshow(x.reshape(w, h, c), cmap=\"bone\");\n",
    "#    plt.imshow(x.reshape(w, h, c), cmap=\"bone\");"
   ]
  },
  {
   "cell_type": "code",
   "execution_count": null,
   "metadata": {
    "ExecuteTime": {
     "end_time": "2021-03-07T22:12:34.347982Z",
     "start_time": "2021-03-07T22:12:34.332388Z"
    }
   },
   "outputs": [],
   "source": [
    "bild_t = read_image(\"/home/favi/.datasets/CRX8/images/00000459_057.png\")\n",
    "#bild_t = bild_t.squeeze()"
   ]
  },
  {
   "cell_type": "code",
   "execution_count": null,
   "metadata": {},
   "outputs": [],
   "source": [
    "[[[s,s,s] for s in r] for r in bild_t]\n",
    "\n",
    "for r in bild_t:\n",
    "    for s in r:\n",
    "        [s]*3"
   ]
  },
  {
   "cell_type": "code",
   "execution_count": null,
   "metadata": {
    "ExecuteTime": {
     "end_time": "2021-03-07T22:12:35.976267Z",
     "start_time": "2021-03-07T22:12:35.832935Z"
    }
   },
   "outputs": [],
   "source": [
    "gr = np.repeat(bild_t, 3).view(3, 1024, 1024)\n",
    "_print_image(gr)\n",
    "print(gr.shape)"
   ]
  },
  {
   "cell_type": "code",
   "execution_count": null,
   "metadata": {
    "ExecuteTime": {
     "end_time": "2021-03-07T21:58:29.982644Z",
     "start_time": "2021-03-07T21:58:29.978581Z"
    }
   },
   "outputs": [],
   "source": [
    "bild_t = bild_t[:,:]*3"
   ]
  },
  {
   "cell_type": "code",
   "execution_count": null,
   "metadata": {
    "ExecuteTime": {
     "end_time": "2021-03-07T21:58:35.068069Z",
     "start_time": "2021-03-07T21:58:35.065058Z"
    }
   },
   "outputs": [],
   "source": [
    "bild_t.shape"
   ]
  },
  {
   "cell_type": "code",
   "execution_count": null,
   "metadata": {},
   "outputs": [],
   "source": []
  },
  {
   "cell_type": "code",
   "execution_count": null,
   "metadata": {
    "ExecuteTime": {
     "end_time": "2021-03-07T21:55:47.638047Z",
     "start_time": "2021-03-07T21:55:40.416330Z"
    }
   },
   "outputs": [],
   "source": [
    "test_image = np.array(,dtype=\"u1\")"
   ]
  },
  {
   "cell_type": "code",
   "execution_count": null,
   "metadata": {
    "ExecuteTime": {
     "end_time": "2021-03-07T21:56:34.196878Z",
     "start_time": "2021-03-07T21:56:34.065399Z"
    }
   },
   "outputs": [],
   "source": [
    "plt.imshow(test_image, cmap=\"bone\");"
   ]
  },
  {
   "cell_type": "code",
   "execution_count": null,
   "metadata": {
    "ExecuteTime": {
     "end_time": "2021-03-07T21:52:13.923263Z",
     "start_time": "2021-03-07T21:52:13.914523Z"
    }
   },
   "outputs": [],
   "source": [
    "flat = np.array(bild_t.flatten())\n",
    "arr_size = flat.shape*3\n",
    "zz = np.zeros(arr_size)\n",
    "\n",
    "for i in range(3):\n",
    "    print(flat.shape*i, flat.shape+flat.shape*i)\n",
    "    zz[flat.shape*i: flat.shape+flat.shape*i]\n"
   ]
  },
  {
   "cell_type": "code",
   "execution_count": null,
   "metadata": {
    "ExecuteTime": {
     "end_time": "2021-03-07T21:50:33.404716Z",
     "start_time": "2021-03-07T21:50:33.401648Z"
    }
   },
   "outputs": [],
   "source": [
    "1024*1024*3"
   ]
  },
  {
   "cell_type": "code",
   "execution_count": null,
   "metadata": {
    "ExecuteTime": {
     "end_time": "2021-03-07T21:48:16.344157Z",
     "start_time": "2021-03-07T21:48:16.341112Z"
    }
   },
   "outputs": [],
   "source": [
    "flat.shape"
   ]
  },
  {
   "cell_type": "code",
   "execution_count": null,
   "metadata": {
    "ExecuteTime": {
     "end_time": "2021-03-07T21:42:33.010960Z",
     "start_time": "2021-03-07T21:42:32.997040Z"
    }
   },
   "outputs": [],
   "source": [
    "#np.concatenate([bild_t]*3)\n",
    "#_print_image(np.stack([bild_t]*3))\n",
    "plt.imshow(np.stack([[bild_t]]*3), cmap=\"bone\");"
   ]
  },
  {
   "cell_type": "code",
   "execution_count": null,
   "metadata": {
    "ExecuteTime": {
     "end_time": "2021-03-07T21:35:36.295302Z",
     "start_time": "2021-03-07T21:35:36.279538Z"
    }
   },
   "outputs": [],
   "source": [
    "ttt = torch.zeros(3, 1024, 1024) + bild_t\n",
    "_print_image(ttt)"
   ]
  },
  {
   "cell_type": "code",
   "execution_count": null,
   "metadata": {
    "ExecuteTime": {
     "end_time": "2021-03-07T21:32:09.016426Z",
     "start_time": "2021-03-07T21:32:08.905803Z"
    }
   },
   "outputs": [],
   "source": [
    "tt = _make3D(bild_t)\n",
    "print(bild_t.shape)\n",
    "print(tt.shape)\n",
    "print(tt.squeeze().shape)\n",
    "#tt.reshape(1024, 1024, 3)\n",
    "_print_image(bild_t)\n",
    "#_print_image(tt.squeeze())"
   ]
  },
  {
   "cell_type": "code",
   "execution_count": null,
   "metadata": {
    "ExecuteTime": {
     "end_time": "2021-03-07T21:26:07.377471Z",
     "start_time": "2021-03-07T21:26:07.374003Z"
    }
   },
   "outputs": [],
   "source": [
    "tt[:,1024//3, 1024//3]"
   ]
  },
  {
   "cell_type": "code",
   "execution_count": null,
   "metadata": {},
   "outputs": [],
   "source": []
  },
  {
   "cell_type": "code",
   "execution_count": null,
   "metadata": {
    "ExecuteTime": {
     "end_time": "2021-03-07T20:02:22.582765Z",
     "start_time": "2021-03-07T20:02:22.564027Z"
    }
   },
   "outputs": [],
   "source": [
    "train_df[\"Index_2\"] = list(range(train_df.shape[0]))"
   ]
  },
  {
   "cell_type": "code",
   "execution_count": null,
   "metadata": {
    "ExecuteTime": {
     "end_time": "2021-03-07T20:04:05.155368Z",
     "start_time": "2021-03-07T20:04:05.151766Z"
    }
   },
   "outputs": [],
   "source": [
    "train_df.iloc[2,:].loc[\"Image Index\"]"
   ]
  },
  {
   "cell_type": "code",
   "execution_count": null,
   "metadata": {},
   "outputs": [],
   "source": []
  },
  {
   "cell_type": "code",
   "execution_count": null,
   "metadata": {},
   "outputs": [],
   "source": []
  },
  {
   "cell_type": "code",
   "execution_count": null,
   "metadata": {},
   "outputs": [],
   "source": []
  },
  {
   "cell_type": "code",
   "execution_count": null,
   "metadata": {},
   "outputs": [],
   "source": []
  },
  {
   "cell_type": "code",
   "execution_count": null,
   "metadata": {},
   "outputs": [],
   "source": []
  },
  {
   "cell_type": "code",
   "execution_count": null,
   "metadata": {},
   "outputs": [],
   "source": []
  },
  {
   "cell_type": "code",
   "execution_count": null,
   "metadata": {},
   "outputs": [],
   "source": []
  },
  {
   "cell_type": "code",
   "execution_count": null,
   "metadata": {},
   "outputs": [],
   "source": []
  },
  {
   "cell_type": "code",
   "execution_count": null,
   "metadata": {},
   "outputs": [],
   "source": []
  },
  {
   "cell_type": "code",
   "execution_count": null,
   "metadata": {},
   "outputs": [],
   "source": []
  },
  {
   "cell_type": "code",
   "execution_count": null,
   "metadata": {},
   "outputs": [],
   "source": []
  },
  {
   "cell_type": "code",
   "execution_count": null,
   "metadata": {},
   "outputs": [],
   "source": []
  },
  {
   "cell_type": "code",
   "execution_count": null,
   "metadata": {},
   "outputs": [],
   "source": []
  },
  {
   "cell_type": "code",
   "execution_count": null,
   "metadata": {},
   "outputs": [],
   "source": []
  },
  {
   "cell_type": "code",
   "execution_count": null,
   "metadata": {},
   "outputs": [],
   "source": []
  },
  {
   "cell_type": "code",
   "execution_count": null,
   "metadata": {},
   "outputs": [],
   "source": []
  },
  {
   "cell_type": "code",
   "execution_count": null,
   "metadata": {
    "ExecuteTime": {
     "end_time": "2021-03-07T19:42:47.991369Z",
     "start_time": "2021-03-07T19:42:47.987837Z"
    }
   },
   "outputs": [],
   "source": [
    "def translate2label_(arr):\n",
    "    global labels\n",
    "    idx2lbl = {i: l for i, l in enumerate(labels)}\n",
    "    pos_lbls = [idx2lbl[idx] for idx, v in enumerate(arr) if v == 1]\n",
    "    if len(pos_lbls) == 0: return \"No Finding\"\n",
    "    return \"|\".join(pos_lbls)\n",
    "\n",
    "def get_fast_df(train_df, valid_df, labels):\n",
    "    combined_df = pd.concat([train_df, valid_df], axis=0)\n",
    "\n",
    "    rows = combined_df.values[:,[i for i, c in enumerate(combined_df.columns) if c in labels]]\n",
    "    with Pool() as pool:\n",
    "        row_labels = pool.map(translate2label_, rows)\n",
    "\n",
    "    is_valid = [*[False]*train_df.shape[0], *[True]*valid_df.shape[0]]\n",
    "    \n",
    "    fast_df = {\"idx\": list(combined_df.index), \n",
    "           \"fname\": combined_df.loc[:,\"Image Index\"],\n",
    "           \"labels\": row_labels,\n",
    "           \"is_valid\": is_valid}\n",
    "\n",
    "    fast_df = pd.DataFrame(fast_df)\n",
    "    fast_df.index = fast_df.idx.values\n",
    "    return fast_df.drop(columns=\"idx\")"
   ]
  },
  {
   "cell_type": "code",
   "execution_count": null,
   "metadata": {
    "ExecuteTime": {
     "end_time": "2021-03-07T19:42:50.590280Z",
     "start_time": "2021-03-07T19:42:50.148299Z"
    }
   },
   "outputs": [],
   "source": [
    "combined_df = pd.concat([train_df, valid_df], axis=0)\n",
    "\n",
    "rows = combined_df.values[:,[i for i, c in enumerate(combined_df.columns) if c in labels]]\n",
    "with Pool() as pool:\n",
    "    row_labels = pool.map(translate2label_, rows)\n",
    "\n",
    "is_valid = [*[False]*train_df.shape[0], *[True]*valid_df.shape[0]]"
   ]
  },
  {
   "cell_type": "code",
   "execution_count": null,
   "metadata": {
    "ExecuteTime": {
     "end_time": "2021-03-07T19:42:52.169594Z",
     "start_time": "2021-03-07T19:42:51.585543Z"
    }
   },
   "outputs": [],
   "source": [
    "fast_df = get_fast_df(train_df, valid_df, labels)"
   ]
  },
  {
   "cell_type": "code",
   "execution_count": null,
   "metadata": {
    "ExecuteTime": {
     "end_time": "2021-03-07T19:43:00.464174Z",
     "start_time": "2021-03-07T19:42:53.181834Z"
    }
   },
   "outputs": [],
   "source": [
    "dls = ImageDataLoaders.from_df(fast_df, \n",
    "                               get_data_path(), \n",
    "                               folder=get_image_path().name, \n",
    "                               valid_col='is_valid', \n",
    "                               label_delim='|',\n",
    "                               item_tfms=Resize(460), \n",
    "                               batch_tfms=aug_transforms(size=224)\n",
    "                              )"
   ]
  },
  {
   "cell_type": "code",
   "execution_count": null,
   "metadata": {
    "ExecuteTime": {
     "end_time": "2021-03-07T19:43:02.748514Z",
     "start_time": "2021-03-07T19:43:01.471443Z"
    }
   },
   "outputs": [],
   "source": [
    "dls.show_batch()"
   ]
  },
  {
   "cell_type": "code",
   "execution_count": null,
   "metadata": {
    "ExecuteTime": {
     "end_time": "2021-03-07T19:43:04.159129Z",
     "start_time": "2021-03-07T19:43:03.753806Z"
    }
   },
   "outputs": [],
   "source": [
    "learn = cnn_learner(dls, resnet50, metrics=[partial(accuracy_multi, thresh=0.5), RocAucMulti(sigmoid=False)])"
   ]
  },
  {
   "cell_type": "code",
   "execution_count": null,
   "metadata": {
    "ExecuteTime": {
     "end_time": "2021-03-07T19:43:43.420777Z",
     "start_time": "2021-03-07T19:43:05.172534Z"
    }
   },
   "outputs": [],
   "source": [
    "learn.lr_find()"
   ]
  },
  {
   "cell_type": "code",
   "execution_count": null,
   "metadata": {
    "ExecuteTime": {
     "end_time": "2021-03-07T19:44:01.932676Z",
     "start_time": "2021-03-07T19:44:01.930496Z"
    }
   },
   "outputs": [],
   "source": [
    "lr = 3e-2"
   ]
  },
  {
   "cell_type": "code",
   "execution_count": null,
   "metadata": {
    "ExecuteTime": {
     "start_time": "2021-03-07T19:44:03.217Z"
    }
   },
   "outputs": [],
   "source": [
    "learn.fine_tune(2, 3e-2)"
   ]
  },
  {
   "cell_type": "code",
   "execution_count": null,
   "metadata": {
    "ExecuteTime": {
     "start_time": "2021-03-07T19:44:11.925Z"
    }
   },
   "outputs": [],
   "source": [
    "learn.show_results()"
   ]
  },
  {
   "cell_type": "code",
   "execution_count": null,
   "metadata": {
    "ExecuteTime": {
     "end_time": "2021-03-07T19:38:37.279773Z",
     "start_time": "2021-03-07T19:38:37.276642Z"
    }
   },
   "outputs": [],
   "source": [
    "learn.loss_func"
   ]
  },
  {
   "cell_type": "code",
   "execution_count": null,
   "metadata": {
    "ExecuteTime": {
     "end_time": "2021-03-07T19:38:47.666456Z",
     "start_time": "2021-03-07T19:38:47.661169Z"
    }
   },
   "outputs": [],
   "source": [
    "learn.model"
   ]
  },
  {
   "cell_type": "code",
   "execution_count": null,
   "metadata": {},
   "outputs": [],
   "source": []
  }
 ],
 "metadata": {
  "kernelspec": {
   "display_name": "Python 3",
   "language": "python",
   "name": "python3"
  },
  "language_info": {
   "codemirror_mode": {
    "name": "ipython",
    "version": 3
   },
   "file_extension": ".py",
   "mimetype": "text/x-python",
   "name": "python",
   "nbconvert_exporter": "python",
   "pygments_lexer": "ipython3",
   "version": "3.8.8"
  },
  "varInspector": {
   "cols": {
    "lenName": 16,
    "lenType": 16,
    "lenVar": 40
   },
   "kernels_config": {
    "python": {
     "delete_cmd_postfix": "",
     "delete_cmd_prefix": "del ",
     "library": "var_list.py",
     "varRefreshCmd": "print(var_dic_list())"
    },
    "r": {
     "delete_cmd_postfix": ") ",
     "delete_cmd_prefix": "rm(",
     "library": "var_list.r",
     "varRefreshCmd": "cat(var_dic_list()) "
    }
   },
   "types_to_exclude": [
    "module",
    "function",
    "builtin_function_or_method",
    "instance",
    "_Feature"
   ],
   "window_display": false
  }
 },
 "nbformat": 4,
 "nbformat_minor": 4
}
