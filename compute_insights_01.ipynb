{
 "cells": [
  {
   "cell_type": "code",
   "execution_count": 1,
   "metadata": {
    "ExecuteTime": {
     "end_time": "2021-04-03T21:05:40.033271Z",
     "start_time": "2021-04-03T21:05:37.469219Z"
    }
   },
   "outputs": [],
   "source": [
    "from exp.utils import *\n",
    "from exp.models import *\n",
    "from exp.losses import *\n",
    "from tqdm.notebook import tqdm\n",
    "from multiprocessing import Pool\n",
    "from PIL import Image\n",
    "\n",
    "import torch\n",
    "import torch.nn as NN\n",
    "from torch.utils.data import Dataset, DataLoader\n",
    "from torchvision import datasets, transforms\n",
    "\n",
    "from matplotlib.colors import LinearSegmentedColormap\n",
    "from captum.attr import visualization as viz\n",
    "from captum.attr import IntegratedGradients\n",
    "from captum.attr import GradientShap\n",
    "from captum.attr import DeepLift\n",
    "from captum.attr import Occlusion\n",
    "from captum.attr import NoiseTunnel\n",
    "from captum.attr import visualization as viz\n",
    "from captum.attr import Saliency\n",
    "\n",
    "from ipywidgets import interact"
   ]
  },
  {
   "cell_type": "code",
   "execution_count": null,
   "metadata": {
    "ExecuteTime": {
     "end_time": "2021-03-24T19:36:37.956981Z",
     "start_time": "2021-03-24T19:36:37.950539Z"
    }
   },
   "outputs": [],
   "source": []
  },
  {
   "cell_type": "code",
   "execution_count": 2,
   "metadata": {
    "ExecuteTime": {
     "end_time": "2021-04-03T21:05:40.052669Z",
     "start_time": "2021-04-03T21:05:40.051037Z"
    }
   },
   "outputs": [],
   "source": [
    "picked_labels = [\"Atelectasis\", \"Cardiomegaly\", \"Pneumonia\"]"
   ]
  },
  {
   "cell_type": "code",
   "execution_count": 3,
   "metadata": {
    "ExecuteTime": {
     "end_time": "2021-04-03T21:05:40.069978Z",
     "start_time": "2021-04-03T21:05:40.068697Z"
    }
   },
   "outputs": [],
   "source": [
    "architecure = \"MNASNET1_v2\""
   ]
  },
  {
   "cell_type": "code",
   "execution_count": 4,
   "metadata": {
    "ExecuteTime": {
     "end_time": "2021-04-03T21:18:51.511840Z",
     "start_time": "2021-04-03T21:05:40.084054Z"
    }
   },
   "outputs": [
    {
     "name": "stdout",
     "output_type": "stream",
     "text": [
      "Computing insights for 'Atelectasis'\n",
      "Using the CPU!\n"
     ]
    },
    {
     "data": {
      "application/vnd.jupyter.widget-view+json": {
       "model_id": "6fe2766dc17f4bd38d67eede53ec99ef",
       "version_major": 2,
       "version_minor": 0
      },
      "text/plain": [
       "HBox(children=(HTML(value=''), FloatProgress(value=0.0, max=10.0), HTML(value='')))"
      ]
     },
     "metadata": {},
     "output_type": "display_data"
    },
    {
     "name": "stdout",
     "output_type": "stream",
     "text": [
      "\n"
     ]
    },
    {
     "data": {
      "application/vnd.jupyter.widget-view+json": {
       "model_id": "fe87919d2b43418b8131003d2861f5a6",
       "version_major": 2,
       "version_minor": 0
      },
      "text/plain": [
       "HBox(children=(HTML(value=''), FloatProgress(value=0.0, max=10.0), HTML(value='')))"
      ]
     },
     "metadata": {},
     "output_type": "display_data"
    },
    {
     "name": "stdout",
     "output_type": "stream",
     "text": [
      "\n",
      "Insights saved to '/home/favi/work/crx8/insights/MNASNET1_v2_Atelectasis'\n",
      "\n",
      "Computing insights for 'Cardiomegaly'\n",
      "Using the CPU!\n"
     ]
    },
    {
     "data": {
      "application/vnd.jupyter.widget-view+json": {
       "model_id": "68355967601f463aa3daa7e45d6e975f",
       "version_major": 2,
       "version_minor": 0
      },
      "text/plain": [
       "HBox(children=(HTML(value=''), FloatProgress(value=0.0, max=10.0), HTML(value='')))"
      ]
     },
     "metadata": {},
     "output_type": "display_data"
    },
    {
     "name": "stdout",
     "output_type": "stream",
     "text": [
      "\n"
     ]
    },
    {
     "data": {
      "application/vnd.jupyter.widget-view+json": {
       "model_id": "29dcbbdeed734ec086676c8330158a04",
       "version_major": 2,
       "version_minor": 0
      },
      "text/plain": [
       "HBox(children=(HTML(value=''), FloatProgress(value=0.0, max=10.0), HTML(value='')))"
      ]
     },
     "metadata": {},
     "output_type": "display_data"
    },
    {
     "name": "stdout",
     "output_type": "stream",
     "text": [
      "\n",
      "Insights saved to '/home/favi/work/crx8/insights/MNASNET1_v2_Cardiomegaly'\n",
      "\n",
      "Computing insights for 'Pneumonia'\n",
      "Using the CPU!\n"
     ]
    },
    {
     "data": {
      "application/vnd.jupyter.widget-view+json": {
       "model_id": "491f06cfe02548168d78875d30519ff2",
       "version_major": 2,
       "version_minor": 0
      },
      "text/plain": [
       "HBox(children=(HTML(value=''), FloatProgress(value=0.0, max=10.0), HTML(value='')))"
      ]
     },
     "metadata": {},
     "output_type": "display_data"
    },
    {
     "name": "stdout",
     "output_type": "stream",
     "text": [
      "\n"
     ]
    },
    {
     "data": {
      "application/vnd.jupyter.widget-view+json": {
       "model_id": "9b01ce4e373343488811159c0b54f149",
       "version_major": 2,
       "version_minor": 0
      },
      "text/plain": [
       "HBox(children=(HTML(value=''), FloatProgress(value=0.0, max=10.0), HTML(value='')))"
      ]
     },
     "metadata": {},
     "output_type": "display_data"
    },
    {
     "name": "stdout",
     "output_type": "stream",
     "text": [
      "\n",
      "Insights saved to '/home/favi/work/crx8/insights/MNASNET1_v2_Pneumonia'\n",
      "\n",
      "FERTIG! :D\n"
     ]
    }
   ],
   "source": [
    "for label in picked_labels:\n",
    "    print(f\"Computing insights for '{label}'\")\n",
    "    \n",
    "    seed = 92\n",
    "    n_noises = 1\n",
    "    insight_size = 10\n",
    "    model_name = f\"{architecure}_{label}\"\n",
    "    s = 224\n",
    "    image_size = (s, s)#(224, 224)\n",
    "    labels = get_labels()\n",
    "    bs = 1\n",
    "    device = get_cpu()\n",
    "    \n",
    "    sigmoid = NN.Sigmoid()\n",
    "    model = load_model(model_name)\n",
    "    model.eval();\n",
    "    model = model.to(device)\n",
    "    \n",
    "    seed_everything(seed=seed)\n",
    "\n",
    "    _, _, test_df = get_dataframes(include_labels=labels, \n",
    "                                                 small=False)\n",
    "    test_df = get_binary_df(label, test_df)\n",
    "\n",
    "    _, test_tfs = get_transforms(image_size=image_size)\n",
    "\n",
    "    test_ds  = CRX8_Data(test_df , get_image_path(), label, image_size=image_size, transforms=test_tfs)\n",
    "\n",
    "    test_dl  = DataLoader(test_ds,  batch_size=bs, shuffle=False)\n",
    "    \n",
    "    pos_df = test_df[test_df[label] > 0.5]\n",
    "    neg_df = test_df[test_df[label] < 0.5]\n",
    "    pos_df = pos_df.iloc[:insight_size, :]\n",
    "    neg_df = neg_df.iloc[:insight_size, :]\n",
    "\n",
    "    pos_ds = CRX8_Data(pos_df , get_image_path(), label, image_size=image_size, transforms=test_tfs)\n",
    "    neg_ds = CRX8_Data(neg_df , get_image_path(), label, image_size=image_size, transforms=test_tfs)\n",
    "\n",
    "    pos_dl = DataLoader(pos_ds,  batch_size=bs, shuffle=False)\n",
    "    neg_dl = DataLoader(neg_ds,  batch_size=bs, shuffle=False)\n",
    "    \n",
    "    pos_noise_tunnels, neg_noise_tunnels = [], []\n",
    "    pos_images, neg_images = [], []\n",
    "    pos_probs, neg_probs = [], []\n",
    "    pos_truths, neg_truths = [], []\n",
    "    \n",
    "    model = model.to(device)\n",
    "\n",
    "    # positive examples\n",
    "    for X, y in tqdm(pos_dl):\n",
    "        X, y = X.to(device), y.to(device)\n",
    "\n",
    "        pos_probs = [*pos_probs, *sigmoid(model(X)).cpu().detach().numpy()]\n",
    "        pos_truths = [*pos_truths, *y.cpu().detach().numpy()]\n",
    "\n",
    "        nt = NoiseTunnel(IntegratedGradients(model))\n",
    "        attrs = []\n",
    "        for _ in range(n_noises):\n",
    "            model.zero_grad()\n",
    "            tmp = nt.attribute(X,\n",
    "                               baselines=X * 0, \n",
    "                               nt_type='smoothgrad_sq',\n",
    "                               nt_samples=3, stdevs=0.2)\n",
    "            attrs.append(tmp.squeeze())\n",
    "\n",
    "        attr_ig_nt = torch.zeros((len(attrs), *attrs[0].shape))\n",
    "        for i in range(len(attrs)): attr_ig_nt[i] = attrs[i][0]\n",
    "\n",
    "        attr_ig_nt = attr_ig_nt.mean(axis=0).cpu().detach().numpy()\n",
    "        attr_ig_nt = np.einsum(\"cwh -> whc\", attr_ig_nt)\n",
    "\n",
    "        pos_noise_tunnels = [*pos_noise_tunnels, attr_ig_nt]\n",
    "        pos_images = [*pos_images, np.einsum(\"cwh -> whc\", *X.cpu().detach().numpy())]\n",
    "        pos_noise_tunnels = np.array(pos_noise_tunnels)\n",
    "        pos_images = np.array(pos_images)\n",
    "        pos_probs = np.array(pos_probs)\n",
    "        pos_truths = np.array(pos_truths)\n",
    "\n",
    "\n",
    "    # negative examples\n",
    "    for X, y in tqdm(neg_dl):\n",
    "        X, y = X.to(device), y.to(device)\n",
    "\n",
    "        neg_probs = [*neg_probs, *sigmoid(model(X)).cpu().detach().numpy()]\n",
    "        neg_truths = [*neg_truths, *y.cpu().detach().numpy()]\n",
    "\n",
    "        nt = NoiseTunnel(IntegratedGradients(model))\n",
    "        attr_ig_nt = nt.attribute(X,\n",
    "                               baselines=X * 0, \n",
    "                               nt_type='smoothgrad_sq',\n",
    "                               nt_samples=12, stdevs=0.2)\n",
    "        #attrs = []\n",
    "        #for _ in range(n_noises):\n",
    "        #    model.zero_grad()\n",
    "        #    tmp = nt.attribute(X,\n",
    "        #                       baselines=X * 0, \n",
    "        #                       nt_type='smoothgrad_sq',\n",
    "        #                       nt_samples=13, stdevs=0.2)\n",
    "        #    attrs.append(tmp.squeeze())\n",
    "\n",
    "        #attr_ig_nt = torch.zeros((len(attrs), *attrs[0].shape))\n",
    "        #for i in range(len(attrs)): attr_ig_nt[i] = attrs[i][0]\n",
    "\n",
    "        attr_ig_nt = attr_ig_nt.mean(axis=0).cpu().detach().numpy()\n",
    "        attr_ig_nt = np.einsum(\"cwh -> whc\", attr_ig_nt) \n",
    "\n",
    "        neg_noise_tunnels = [*neg_noise_tunnels, attr_ig_nt]\n",
    "        neg_images = [*neg_images, np.einsum(\"cwh -> whc\", *X.cpu().detach().numpy())]\n",
    "        neg_noise_tunnels = np.array(neg_noise_tunnels)\n",
    "        neg_images = np.array(neg_images)\n",
    "        neg_probs = np.array(neg_probs)\n",
    "        neg_truths = np.array(neg_truths)\n",
    "    \n",
    "    save_insights(pos_images, neg_images, \n",
    "              pos_noise_tunnels, neg_noise_tunnels,\n",
    "              pos_probs, neg_probs, \n",
    "              pos_truths, neg_truths,\n",
    "              model_name)\n",
    "    print()\n",
    "    \n",
    "FERTIG()"
   ]
  },
  {
   "cell_type": "code",
   "execution_count": null,
   "metadata": {},
   "outputs": [],
   "source": []
  },
  {
   "cell_type": "code",
   "execution_count": null,
   "metadata": {},
   "outputs": [],
   "source": []
  },
  {
   "cell_type": "code",
   "execution_count": null,
   "metadata": {},
   "outputs": [],
   "source": []
  },
  {
   "cell_type": "code",
   "execution_count": null,
   "metadata": {
    "ExecuteTime": {
     "end_time": "2021-03-24T19:55:53.781413Z",
     "start_time": "2021-03-24T19:55:53.779842Z"
    }
   },
   "outputs": [],
   "source": [
    "default_cmap = LinearSegmentedColormap.from_list(\"orange\",\n",
    "                                                 [(0, '#000000'), (0.25, '#000000'), (1, '#fc7b02')], \n",
    "                                                 N=256)"
   ]
  },
  {
   "cell_type": "code",
   "execution_count": null,
   "metadata": {
    "ExecuteTime": {
     "end_time": "2021-03-24T19:55:53.906414Z",
     "start_time": "2021-03-24T19:55:53.782027Z"
    }
   },
   "outputs": [],
   "source": [
    "\n",
    "\n",
    "@interact(image=(0, 4), percentage=(1, 99))\n",
    "def drawit(image, percentage):\n",
    "    _=viz.visualize_image_attr(pos_noise_tunnels[image], \n",
    "                             pos_images[image], \n",
    "                             method=\"blended_heat_map\", \n",
    "                             sign=\"absolute_value\", \n",
    "                             outlier_perc=percentage, \n",
    "                             show_colorbar=True,\n",
    "                             cmap=default_cmap,\n",
    "                             title=\"Overlayed Integrated Gradients \\n with SmoothGrad Squared\")"
   ]
  }
 ],
 "metadata": {
  "kernelspec": {
   "display_name": "Python 3",
   "language": "python",
   "name": "python3"
  },
  "language_info": {
   "codemirror_mode": {
    "name": "ipython",
    "version": 3
   },
   "file_extension": ".py",
   "mimetype": "text/x-python",
   "name": "python",
   "nbconvert_exporter": "python",
   "pygments_lexer": "ipython3",
   "version": "3.8.8"
  },
  "varInspector": {
   "cols": {
    "lenName": 16,
    "lenType": 16,
    "lenVar": 40
   },
   "kernels_config": {
    "python": {
     "delete_cmd_postfix": "",
     "delete_cmd_prefix": "del ",
     "library": "var_list.py",
     "varRefreshCmd": "print(var_dic_list())"
    },
    "r": {
     "delete_cmd_postfix": ") ",
     "delete_cmd_prefix": "rm(",
     "library": "var_list.r",
     "varRefreshCmd": "cat(var_dic_list()) "
    }
   },
   "types_to_exclude": [
    "module",
    "function",
    "builtin_function_or_method",
    "instance",
    "_Feature"
   ],
   "window_display": false
  }
 },
 "nbformat": 4,
 "nbformat_minor": 4
}
