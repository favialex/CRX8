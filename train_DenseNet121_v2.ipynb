{
 "cells": [
  {
   "cell_type": "code",
   "execution_count": 1,
   "metadata": {
    "ExecuteTime": {
     "end_time": "2021-03-11T20:03:49.163592Z",
     "start_time": "2021-03-11T20:03:47.833914Z"
    }
   },
   "outputs": [],
   "source": [
    "from exp.utils import *\n",
    "from exp.models import *\n",
    "from tqdm.notebook import tqdm\n",
    "from multiprocessing import Pool\n",
    "\n",
    "import torch\n",
    "import torch.nn as NN\n",
    "from torch.utils.data import Dataset, DataLoader\n",
    "from torchvision import datasets, transforms\n",
    "from torchvision.transforms import ToTensor"
   ]
  },
  {
   "cell_type": "code",
   "execution_count": 2,
   "metadata": {
    "ExecuteTime": {
     "end_time": "2021-03-11T20:03:49.196701Z",
     "start_time": "2021-03-11T20:03:49.194817Z"
    }
   },
   "outputs": [],
   "source": [
    "seed = 92\n",
    "seed_everything(seed)"
   ]
  },
  {
   "cell_type": "code",
   "execution_count": 3,
   "metadata": {
    "ExecuteTime": {
     "end_time": "2021-03-11T20:03:49.333574Z",
     "start_time": "2021-03-11T20:03:49.223299Z"
    }
   },
   "outputs": [
    {
     "name": "stdout",
     "output_type": "stream",
     "text": [
      "Using the GPU!\n"
     ]
    }
   ],
   "source": [
    "model_name = \"py_densenet121_v1\"\n",
    "bs = 16\n",
    "epochs = 10\n",
    "image_size = (228, 228)\n",
    "device = get_device()\n",
    "lr = 3e-3\n",
    "sigmoid = NN.Sigmoid()\n",
    "labels = get_labels()"
   ]
  },
  {
   "cell_type": "code",
   "execution_count": 4,
   "metadata": {
    "ExecuteTime": {
     "end_time": "2021-03-11T20:03:50.152026Z",
     "start_time": "2021-03-11T20:03:49.367212Z"
    }
   },
   "outputs": [
    {
     "name": "stderr",
     "output_type": "stream",
     "text": [
      "/home/favi/work/crx8/exp/utils.py:163: UserWarning: Train-Val-Split currently with patient overlap!\n",
      "  warnings.warn(\"Train-Val-Split currently with patient overlap!\")\n"
     ]
    },
    {
     "data": {
      "text/plain": [
       "((6921, 24), (1730, 24), (2559, 24))"
      ]
     },
     "execution_count": 4,
     "metadata": {},
     "output_type": "execute_result"
    }
   ],
   "source": [
    "train_df, valid_df, test_df = get_dataframes(include_labels=labels, small=True)\n",
    "train_df.shape, valid_df.shape, test_df.shape"
   ]
  },
  {
   "cell_type": "code",
   "execution_count": 5,
   "metadata": {
    "ExecuteTime": {
     "end_time": "2021-03-11T20:03:50.365127Z",
     "start_time": "2021-03-11T20:03:50.360466Z"
    }
   },
   "outputs": [],
   "source": [
    "train_label = train_df[labels].values\n",
    "pos_weights = compute_positive_class_weigths(train_label)"
   ]
  },
  {
   "cell_type": "code",
   "execution_count": 6,
   "metadata": {
    "ExecuteTime": {
     "end_time": "2021-03-11T20:03:50.579259Z",
     "start_time": "2021-03-11T20:03:50.577226Z"
    }
   },
   "outputs": [],
   "source": [
    "train_tfs = transforms.Compose([\n",
    "    transforms.Normalize([SUBSET_MEAN]*3, [SUBSET_STD]*3),\n",
    "    #transforms.RandomHorizontalFlip(p=0.5)\n",
    "])\n",
    "test_tfs = transforms.Compose([\n",
    "    transforms.Normalize([SUBSET_MEAN]*3, [SUBSET_STD]*3),\n",
    "    \n",
    "])"
   ]
  },
  {
   "cell_type": "code",
   "execution_count": 7,
   "metadata": {
    "ExecuteTime": {
     "end_time": "2021-03-11T20:03:50.851296Z",
     "start_time": "2021-03-11T20:03:50.842713Z"
    }
   },
   "outputs": [],
   "source": [
    "train_ds = CRX8_Data(train_df, get_image_path(), labels, image_size=image_size, transforms=train_tfs)\n",
    "valid_ds = CRX8_Data(valid_df, get_image_path(), labels, image_size=image_size, transforms=test_tfs)\n",
    "test_ds  = CRX8_Data(test_df , get_image_path(), labels, image_size=image_size, transforms=test_tfs)"
   ]
  },
  {
   "cell_type": "code",
   "execution_count": 8,
   "metadata": {
    "ExecuteTime": {
     "end_time": "2021-03-11T20:03:51.631655Z",
     "start_time": "2021-03-11T20:03:51.628297Z"
    }
   },
   "outputs": [],
   "source": [
    "train_dl = DataLoader(train_ds, batch_size=bs, shuffle=True)\n",
    "valid_dl = DataLoader(valid_ds, batch_size=bs, shuffle=False)\n",
    "test_dl  = DataLoader(test_ds,  batch_size=bs, shuffle=False)\n",
    "\n",
    "dataloaders = {\n",
    "    \"train\": train_dl,\n",
    "    \"val\": valid_dl,\n",
    "    \"test\": test_dl\n",
    "}"
   ]
  },
  {
   "cell_type": "code",
   "execution_count": 9,
   "metadata": {
    "ExecuteTime": {
     "end_time": "2021-03-11T20:03:51.963381Z",
     "start_time": "2021-03-11T20:03:51.961240Z"
    }
   },
   "outputs": [],
   "source": [
    "#criterion = NN.BCEWithLogitsLoss(pos_weight=pos_weights.to(device), \n",
    "#                                 reduction=\"mean\")\n",
    "criterion = NN.BCEWithLogitsLoss(reduction=\"mean\")"
   ]
  },
  {
   "cell_type": "code",
   "execution_count": 10,
   "metadata": {
    "ExecuteTime": {
     "end_time": "2021-03-11T20:03:53.639375Z",
     "start_time": "2021-03-11T20:03:52.408163Z"
    }
   },
   "outputs": [],
   "source": [
    "model = pretrained_densenet121(labels=labels)\n",
    "model = model.to(device)"
   ]
  },
  {
   "cell_type": "code",
   "execution_count": 11,
   "metadata": {
    "ExecuteTime": {
     "end_time": "2021-03-11T20:03:53.867489Z",
     "start_time": "2021-03-11T20:03:53.865824Z"
    }
   },
   "outputs": [],
   "source": [
    "transfer_optimizer = transfer_learn_setup(model, \"densenet\", lr)"
   ]
  },
  {
   "cell_type": "code",
   "execution_count": 12,
   "metadata": {
    "ExecuteTime": {
     "end_time": "2021-03-11T19:52:37.618290Z",
     "start_time": "2021-03-11T19:51:18.286207Z"
    }
   },
   "outputs": [
    {
     "data": {
      "application/vnd.jupyter.widget-view+json": {
       "model_id": "b21d2517ee474f9fa6c525babdd5fbb4",
       "version_major": 2,
       "version_minor": 0
      },
      "text/plain": [
       "HBox(children=(HTML(value=''), FloatProgress(value=0.0, max=433.0), HTML(value='')))"
      ]
     },
     "metadata": {},
     "output_type": "display_data"
    },
    {
     "name": "stdout",
     "output_type": "stream",
     "text": [
      "\n"
     ]
    },
    {
     "data": {
      "image/png": "[encoded data removed]",
      "text/plain": [
       "<Figure size 432x288 with 1 Axes>"
      ]
     },
     "metadata": {
      "needs_background": "light"
     },
     "output_type": "display_data"
    }
   ],
   "source": [
    "logs,losses = find_lr(model, train_dl, transfer_optimizer, criterion, device=device)\n",
    "i = 10\n",
    "plt.plot(logs[i:-i],losses[i:-i]);"
   ]
  },
  {
   "cell_type": "code",
   "execution_count": 12,
   "metadata": {
    "ExecuteTime": {
     "end_time": "2021-03-11T20:03:56.360036Z",
     "start_time": "2021-03-11T20:03:56.357880Z"
    }
   },
   "outputs": [],
   "source": [
    "lr = 1e-2"
   ]
  },
  {
   "cell_type": "code",
   "execution_count": 13,
   "metadata": {
    "ExecuteTime": {
     "end_time": "2021-03-11T20:03:59.694978Z",
     "start_time": "2021-03-11T20:03:59.692536Z"
    }
   },
   "outputs": [],
   "source": [
    "transfer_optimizer = transfer_learn_setup(model, \"densenet\", lr)"
   ]
  },
  {
   "cell_type": "code",
   "execution_count": 14,
   "metadata": {
    "ExecuteTime": {
     "end_time": "2021-03-11T20:04:01.272040Z",
     "start_time": "2021-03-11T20:04:01.269352Z"
    }
   },
   "outputs": [],
   "source": [
    "logger = Logger()\n",
    "logger.add_metric(\"loss\")\n",
    "logger.add_metric(\"acc\")\n",
    "logger.add_metric(\"auroc\")"
   ]
  },
  {
   "cell_type": "code",
   "execution_count": 15,
   "metadata": {
    "ExecuteTime": {
     "end_time": "2021-03-11T20:04:01.919843Z",
     "start_time": "2021-03-11T20:04:01.917138Z"
    }
   },
   "outputs": [],
   "source": [
    "num_steps = len(train_dl)\n",
    "lr_range = (lr / 10, lr)\n",
    "scheduler = OneCycleLR(transfer_optimizer, num_steps, lr_range)"
   ]
  },
  {
   "cell_type": "code",
   "execution_count": 17,
   "metadata": {
    "ExecuteTime": {
     "end_time": "2021-03-11T20:26:21.501556Z",
     "start_time": "2021-03-11T20:04:03.904334Z"
    },
    "scrolled": false
   },
   "outputs": [
    {
     "data": {
      "application/vnd.jupyter.widget-view+json": {
       "model_id": "457a624fdec14eea94fa5039012a1e70",
       "version_major": 2,
       "version_minor": 0
      },
      "text/plain": [
       "HBox(children=(HTML(value=''), FloatProgress(value=0.0, max=10.0), HTML(value='')))"
      ]
     },
     "metadata": {},
     "output_type": "display_data"
    },
    {
     "data": {
      "text/html": [
       "<div>\n",
       "<style scoped>\n",
       "    .dataframe tbody tr th:only-of-type {\n",
       "        vertical-align: middle;\n",
       "    }\n",
       "\n",
       "    .dataframe tbody tr th {\n",
       "        vertical-align: top;\n",
       "    }\n",
       "\n",
       "    .dataframe thead th {\n",
       "        text-align: right;\n",
       "    }\n",
       "</style>\n",
       "<table border=\"1\" class=\"dataframe\">\n",
       "  <thead>\n",
       "    <tr style=\"text-align: right;\">\n",
       "      <th></th>\n",
       "    </tr>\n",
       "  </thead>\n",
       "  <tbody>\n",
       "  </tbody>\n",
       "</table>\n",
       "</div>"
      ],
      "text/plain": [
       "Empty DataFrame\n",
       "Columns: []\n",
       "Index: []"
      ]
     },
     "metadata": {},
     "output_type": "display_data"
    },
    {
     "data": {
      "application/vnd.jupyter.widget-view+json": {
       "model_id": "1665c968bf5d4b01b1c0dac707ab4d7b",
       "version_major": 2,
       "version_minor": 0
      },
      "text/plain": [
       "HBox(children=(HTML(value=''), FloatProgress(value=0.0, max=433.0), HTML(value='')))"
      ]
     },
     "metadata": {},
     "output_type": "display_data"
    },
    {
     "name": "stdout",
     "output_type": "stream",
     "text": [
      "\n"
     ]
    },
    {
     "data": {
      "application/vnd.jupyter.widget-view+json": {
       "model_id": "e31f32f7baeb4a7e82c13257d696a2c5",
       "version_major": 2,
       "version_minor": 0
      },
      "text/plain": [
       "HBox(children=(HTML(value=''), FloatProgress(value=0.0, max=109.0), HTML(value='')))"
      ]
     },
     "metadata": {},
     "output_type": "display_data"
    },
    {
     "name": "stdout",
     "output_type": "stream",
     "text": [
      "\n"
     ]
    },
    {
     "data": {
      "text/html": [
       "<div>\n",
       "<style scoped>\n",
       "    .dataframe tbody tr th:only-of-type {\n",
       "        vertical-align: middle;\n",
       "    }\n",
       "\n",
       "    .dataframe tbody tr th {\n",
       "        vertical-align: top;\n",
       "    }\n",
       "\n",
       "    .dataframe thead th {\n",
       "        text-align: right;\n",
       "    }\n",
       "</style>\n",
       "<table border=\"1\" class=\"dataframe\">\n",
       "  <thead>\n",
       "    <tr style=\"text-align: right;\">\n",
       "      <th></th>\n",
       "    </tr>\n",
       "  </thead>\n",
       "  <tbody>\n",
       "  </tbody>\n",
       "</table>\n",
       "</div>"
      ],
      "text/plain": [
       "Empty DataFrame\n",
       "Columns: []\n",
       "Index: []"
      ]
     },
     "metadata": {},
     "output_type": "display_data"
    },
    {
     "data": {
      "application/vnd.jupyter.widget-view+json": {
       "model_id": "78b3e56416d0418290089d6b0cd2ea36",
       "version_major": 2,
       "version_minor": 0
      },
      "text/plain": [
       "HBox(children=(HTML(value=''), FloatProgress(value=0.0, max=433.0), HTML(value='')))"
      ]
     },
     "metadata": {},
     "output_type": "display_data"
    },
    {
     "name": "stdout",
     "output_type": "stream",
     "text": [
      "\n"
     ]
    },
    {
     "data": {
      "application/vnd.jupyter.widget-view+json": {
       "model_id": "ffb7dca797eb4534a0c122b892fb767d",
       "version_major": 2,
       "version_minor": 0
      },
      "text/plain": [
       "HBox(children=(HTML(value=''), FloatProgress(value=0.0, max=109.0), HTML(value='')))"
      ]
     },
     "metadata": {},
     "output_type": "display_data"
    },
    {
     "name": "stdout",
     "output_type": "stream",
     "text": [
      "\n"
     ]
    },
    {
     "data": {
      "text/html": [
       "<div>\n",
       "<style scoped>\n",
       "    .dataframe tbody tr th:only-of-type {\n",
       "        vertical-align: middle;\n",
       "    }\n",
       "\n",
       "    .dataframe tbody tr th {\n",
       "        vertical-align: top;\n",
       "    }\n",
       "\n",
       "    .dataframe thead th {\n",
       "        text-align: right;\n",
       "    }\n",
       "</style>\n",
       "<table border=\"1\" class=\"dataframe\">\n",
       "  <thead>\n",
       "    <tr style=\"text-align: right;\">\n",
       "      <th></th>\n",
       "    </tr>\n",
       "  </thead>\n",
       "  <tbody>\n",
       "  </tbody>\n",
       "</table>\n",
       "</div>"
      ],
      "text/plain": [
       "Empty DataFrame\n",
       "Columns: []\n",
       "Index: []"
      ]
     },
     "metadata": {},
     "output_type": "display_data"
    },
    {
     "data": {
      "application/vnd.jupyter.widget-view+json": {
       "model_id": "bc63834230c14023a4ae2bb652a9a4c6",
       "version_major": 2,
       "version_minor": 0
      },
      "text/plain": [
       "HBox(children=(HTML(value=''), FloatProgress(value=0.0, max=433.0), HTML(value='')))"
      ]
     },
     "metadata": {},
     "output_type": "display_data"
    },
    {
     "name": "stdout",
     "output_type": "stream",
     "text": [
      "\n"
     ]
    },
    {
     "data": {
      "application/vnd.jupyter.widget-view+json": {
       "model_id": "c1affbec6e684ad6ad89019733c213b1",
       "version_major": 2,
       "version_minor": 0
      },
      "text/plain": [
       "HBox(children=(HTML(value=''), FloatProgress(value=0.0, max=109.0), HTML(value='')))"
      ]
     },
     "metadata": {},
     "output_type": "display_data"
    },
    {
     "name": "stdout",
     "output_type": "stream",
     "text": [
      "\n"
     ]
    },
    {
     "data": {
      "text/html": [
       "<div>\n",
       "<style scoped>\n",
       "    .dataframe tbody tr th:only-of-type {\n",
       "        vertical-align: middle;\n",
       "    }\n",
       "\n",
       "    .dataframe tbody tr th {\n",
       "        vertical-align: top;\n",
       "    }\n",
       "\n",
       "    .dataframe thead th {\n",
       "        text-align: right;\n",
       "    }\n",
       "</style>\n",
       "<table border=\"1\" class=\"dataframe\">\n",
       "  <thead>\n",
       "    <tr style=\"text-align: right;\">\n",
       "      <th></th>\n",
       "    </tr>\n",
       "  </thead>\n",
       "  <tbody>\n",
       "  </tbody>\n",
       "</table>\n",
       "</div>"
      ],
      "text/plain": [
       "Empty DataFrame\n",
       "Columns: []\n",
       "Index: []"
      ]
     },
     "metadata": {},
     "output_type": "display_data"
    },
    {
     "data": {
      "application/vnd.jupyter.widget-view+json": {
       "model_id": "16a0e5803e7c4ac19fcb6f13f8ae3f86",
       "version_major": 2,
       "version_minor": 0
      },
      "text/plain": [
       "HBox(children=(HTML(value=''), FloatProgress(value=0.0, max=433.0), HTML(value='')))"
      ]
     },
     "metadata": {},
     "output_type": "display_data"
    },
    {
     "name": "stdout",
     "output_type": "stream",
     "text": [
      "\n"
     ]
    },
    {
     "data": {
      "application/vnd.jupyter.widget-view+json": {
       "model_id": "383e8012a82d4cebb1830c1d0d978679",
       "version_major": 2,
       "version_minor": 0
      },
      "text/plain": [
       "HBox(children=(HTML(value=''), FloatProgress(value=0.0, max=109.0), HTML(value='')))"
      ]
     },
     "metadata": {},
     "output_type": "display_data"
    },
    {
     "name": "stdout",
     "output_type": "stream",
     "text": [
      "\n"
     ]
    },
    {
     "data": {
      "text/html": [
       "<div>\n",
       "<style scoped>\n",
       "    .dataframe tbody tr th:only-of-type {\n",
       "        vertical-align: middle;\n",
       "    }\n",
       "\n",
       "    .dataframe tbody tr th {\n",
       "        vertical-align: top;\n",
       "    }\n",
       "\n",
       "    .dataframe thead th {\n",
       "        text-align: right;\n",
       "    }\n",
       "</style>\n",
       "<table border=\"1\" class=\"dataframe\">\n",
       "  <thead>\n",
       "    <tr style=\"text-align: right;\">\n",
       "      <th></th>\n",
       "    </tr>\n",
       "  </thead>\n",
       "  <tbody>\n",
       "  </tbody>\n",
       "</table>\n",
       "</div>"
      ],
      "text/plain": [
       "Empty DataFrame\n",
       "Columns: []\n",
       "Index: []"
      ]
     },
     "metadata": {},
     "output_type": "display_data"
    },
    {
     "data": {
      "application/vnd.jupyter.widget-view+json": {
       "model_id": "599d82fc4e1c4bb99388b62ddff967a4",
       "version_major": 2,
       "version_minor": 0
      },
      "text/plain": [
       "HBox(children=(HTML(value=''), FloatProgress(value=0.0, max=433.0), HTML(value='')))"
      ]
     },
     "metadata": {},
     "output_type": "display_data"
    },
    {
     "name": "stdout",
     "output_type": "stream",
     "text": [
      "\n"
     ]
    },
    {
     "data": {
      "application/vnd.jupyter.widget-view+json": {
       "model_id": "32188f238b7b49dd85544d7d27664984",
       "version_major": 2,
       "version_minor": 0
      },
      "text/plain": [
       "HBox(children=(HTML(value=''), FloatProgress(value=0.0, max=109.0), HTML(value='')))"
      ]
     },
     "metadata": {},
     "output_type": "display_data"
    },
    {
     "name": "stdout",
     "output_type": "stream",
     "text": [
      "\n"
     ]
    },
    {
     "data": {
      "text/html": [
       "<div>\n",
       "<style scoped>\n",
       "    .dataframe tbody tr th:only-of-type {\n",
       "        vertical-align: middle;\n",
       "    }\n",
       "\n",
       "    .dataframe tbody tr th {\n",
       "        vertical-align: top;\n",
       "    }\n",
       "\n",
       "    .dataframe thead th {\n",
       "        text-align: right;\n",
       "    }\n",
       "</style>\n",
       "<table border=\"1\" class=\"dataframe\">\n",
       "  <thead>\n",
       "    <tr style=\"text-align: right;\">\n",
       "      <th></th>\n",
       "    </tr>\n",
       "  </thead>\n",
       "  <tbody>\n",
       "  </tbody>\n",
       "</table>\n",
       "</div>"
      ],
      "text/plain": [
       "Empty DataFrame\n",
       "Columns: []\n",
       "Index: []"
      ]
     },
     "metadata": {},
     "output_type": "display_data"
    },
    {
     "data": {
      "application/vnd.jupyter.widget-view+json": {
       "model_id": "6fa6238419054a3691e7f4d109e27e16",
       "version_major": 2,
       "version_minor": 0
      },
      "text/plain": [
       "HBox(children=(HTML(value=''), FloatProgress(value=0.0, max=433.0), HTML(value='')))"
      ]
     },
     "metadata": {},
     "output_type": "display_data"
    },
    {
     "name": "stdout",
     "output_type": "stream",
     "text": [
      "\n"
     ]
    },
    {
     "data": {
      "application/vnd.jupyter.widget-view+json": {
       "model_id": "dd46acbbafbe40b3a70e6b1d5f16ff3d",
       "version_major": 2,
       "version_minor": 0
      },
      "text/plain": [
       "HBox(children=(HTML(value=''), FloatProgress(value=0.0, max=109.0), HTML(value='')))"
      ]
     },
     "metadata": {},
     "output_type": "display_data"
    },
    {
     "name": "stdout",
     "output_type": "stream",
     "text": [
      "\n"
     ]
    },
    {
     "data": {
      "text/html": [
       "<div>\n",
       "<style scoped>\n",
       "    .dataframe tbody tr th:only-of-type {\n",
       "        vertical-align: middle;\n",
       "    }\n",
       "\n",
       "    .dataframe tbody tr th {\n",
       "        vertical-align: top;\n",
       "    }\n",
       "\n",
       "    .dataframe thead th {\n",
       "        text-align: right;\n",
       "    }\n",
       "</style>\n",
       "<table border=\"1\" class=\"dataframe\">\n",
       "  <thead>\n",
       "    <tr style=\"text-align: right;\">\n",
       "      <th></th>\n",
       "    </tr>\n",
       "  </thead>\n",
       "  <tbody>\n",
       "  </tbody>\n",
       "</table>\n",
       "</div>"
      ],
      "text/plain": [
       "Empty DataFrame\n",
       "Columns: []\n",
       "Index: []"
      ]
     },
     "metadata": {},
     "output_type": "display_data"
    },
    {
     "data": {
      "application/vnd.jupyter.widget-view+json": {
       "model_id": "7b6efbeb5f4d42419c237b19ebbd1e75",
       "version_major": 2,
       "version_minor": 0
      },
      "text/plain": [
       "HBox(children=(HTML(value=''), FloatProgress(value=0.0, max=433.0), HTML(value='')))"
      ]
     },
     "metadata": {},
     "output_type": "display_data"
    },
    {
     "name": "stdout",
     "output_type": "stream",
     "text": [
      "\n"
     ]
    },
    {
     "data": {
      "application/vnd.jupyter.widget-view+json": {
       "model_id": "47c99b45c17c42a08f717a8debc222b1",
       "version_major": 2,
       "version_minor": 0
      },
      "text/plain": [
       "HBox(children=(HTML(value=''), FloatProgress(value=0.0, max=109.0), HTML(value='')))"
      ]
     },
     "metadata": {},
     "output_type": "display_data"
    },
    {
     "name": "stdout",
     "output_type": "stream",
     "text": [
      "\n"
     ]
    },
    {
     "data": {
      "text/html": [
       "<div>\n",
       "<style scoped>\n",
       "    .dataframe tbody tr th:only-of-type {\n",
       "        vertical-align: middle;\n",
       "    }\n",
       "\n",
       "    .dataframe tbody tr th {\n",
       "        vertical-align: top;\n",
       "    }\n",
       "\n",
       "    .dataframe thead th {\n",
       "        text-align: right;\n",
       "    }\n",
       "</style>\n",
       "<table border=\"1\" class=\"dataframe\">\n",
       "  <thead>\n",
       "    <tr style=\"text-align: right;\">\n",
       "      <th></th>\n",
       "    </tr>\n",
       "  </thead>\n",
       "  <tbody>\n",
       "  </tbody>\n",
       "</table>\n",
       "</div>"
      ],
      "text/plain": [
       "Empty DataFrame\n",
       "Columns: []\n",
       "Index: []"
      ]
     },
     "metadata": {},
     "output_type": "display_data"
    },
    {
     "data": {
      "application/vnd.jupyter.widget-view+json": {
       "model_id": "d59fb377643f4a9cb75d7bf12218c1e0",
       "version_major": 2,
       "version_minor": 0
      },
      "text/plain": [
       "HBox(children=(HTML(value=''), FloatProgress(value=0.0, max=433.0), HTML(value='')))"
      ]
     },
     "metadata": {},
     "output_type": "display_data"
    },
    {
     "name": "stdout",
     "output_type": "stream",
     "text": [
      "\n"
     ]
    },
    {
     "data": {
      "application/vnd.jupyter.widget-view+json": {
       "model_id": "2db77eebc9784720bbf313b1f0ca17ad",
       "version_major": 2,
       "version_minor": 0
      },
      "text/plain": [
       "HBox(children=(HTML(value=''), FloatProgress(value=0.0, max=109.0), HTML(value='')))"
      ]
     },
     "metadata": {},
     "output_type": "display_data"
    },
    {
     "name": "stdout",
     "output_type": "stream",
     "text": [
      "\n"
     ]
    },
    {
     "data": {
      "text/html": [
       "<div>\n",
       "<style scoped>\n",
       "    .dataframe tbody tr th:only-of-type {\n",
       "        vertical-align: middle;\n",
       "    }\n",
       "\n",
       "    .dataframe tbody tr th {\n",
       "        vertical-align: top;\n",
       "    }\n",
       "\n",
       "    .dataframe thead th {\n",
       "        text-align: right;\n",
       "    }\n",
       "</style>\n",
       "<table border=\"1\" class=\"dataframe\">\n",
       "  <thead>\n",
       "    <tr style=\"text-align: right;\">\n",
       "      <th></th>\n",
       "    </tr>\n",
       "  </thead>\n",
       "  <tbody>\n",
       "  </tbody>\n",
       "</table>\n",
       "</div>"
      ],
      "text/plain": [
       "Empty DataFrame\n",
       "Columns: []\n",
       "Index: []"
      ]
     },
     "metadata": {},
     "output_type": "display_data"
    },
    {
     "data": {
      "application/vnd.jupyter.widget-view+json": {
       "model_id": "72ff94cfd5f04092a6111f2ef6031485",
       "version_major": 2,
       "version_minor": 0
      },
      "text/plain": [
       "HBox(children=(HTML(value=''), FloatProgress(value=0.0, max=433.0), HTML(value='')))"
      ]
     },
     "metadata": {},
     "output_type": "display_data"
    },
    {
     "name": "stdout",
     "output_type": "stream",
     "text": [
      "\n"
     ]
    },
    {
     "data": {
      "application/vnd.jupyter.widget-view+json": {
       "model_id": "7299971a1e1b46a48f73935fcfe2a49d",
       "version_major": 2,
       "version_minor": 0
      },
      "text/plain": [
       "HBox(children=(HTML(value=''), FloatProgress(value=0.0, max=109.0), HTML(value='')))"
      ]
     },
     "metadata": {},
     "output_type": "display_data"
    },
    {
     "name": "stdout",
     "output_type": "stream",
     "text": [
      "\n"
     ]
    },
    {
     "data": {
      "text/html": [
       "<div>\n",
       "<style scoped>\n",
       "    .dataframe tbody tr th:only-of-type {\n",
       "        vertical-align: middle;\n",
       "    }\n",
       "\n",
       "    .dataframe tbody tr th {\n",
       "        vertical-align: top;\n",
       "    }\n",
       "\n",
       "    .dataframe thead th {\n",
       "        text-align: right;\n",
       "    }\n",
       "</style>\n",
       "<table border=\"1\" class=\"dataframe\">\n",
       "  <thead>\n",
       "    <tr style=\"text-align: right;\">\n",
       "      <th></th>\n",
       "    </tr>\n",
       "  </thead>\n",
       "  <tbody>\n",
       "  </tbody>\n",
       "</table>\n",
       "</div>"
      ],
      "text/plain": [
       "Empty DataFrame\n",
       "Columns: []\n",
       "Index: []"
      ]
     },
     "metadata": {},
     "output_type": "display_data"
    },
    {
     "data": {
      "application/vnd.jupyter.widget-view+json": {
       "model_id": "7ab979ef8e5d4a43b2d135b0970c70ec",
       "version_major": 2,
       "version_minor": 0
      },
      "text/plain": [
       "HBox(children=(HTML(value=''), FloatProgress(value=0.0, max=433.0), HTML(value='')))"
      ]
     },
     "metadata": {},
     "output_type": "display_data"
    },
    {
     "name": "stdout",
     "output_type": "stream",
     "text": [
      "\n"
     ]
    },
    {
     "data": {
      "application/vnd.jupyter.widget-view+json": {
       "model_id": "4b243bb40b894f17b43dca039c3bd06e",
       "version_major": 2,
       "version_minor": 0
      },
      "text/plain": [
       "HBox(children=(HTML(value=''), FloatProgress(value=0.0, max=109.0), HTML(value='')))"
      ]
     },
     "metadata": {},
     "output_type": "display_data"
    },
    {
     "name": "stdout",
     "output_type": "stream",
     "text": [
      "\n",
      "\n"
     ]
    }
   ],
   "source": [
    "model = train_model(model, criterion, transfer_optimizer, scheduler, \n",
    "                    dataloaders, logger, model_name, labels=labels,\n",
    "                    num_epochs=epochs, device=device)"
   ]
  },
  {
   "cell_type": "code",
   "execution_count": 18,
   "metadata": {
    "ExecuteTime": {
     "end_time": "2021-03-11T20:26:21.799060Z",
     "start_time": "2021-03-11T20:26:21.733929Z"
    }
   },
   "outputs": [
    {
     "data": {
      "image/png": "[encoded data removed]",
      "text/plain": [
       "<Figure size 432x288 with 1 Axes>"
      ]
     },
     "metadata": {
      "needs_background": "light"
     },
     "output_type": "display_data"
    }
   ],
   "source": [
    "logger.plot_losses()"
   ]
  },
  {
   "cell_type": "code",
   "execution_count": 19,
   "metadata": {
    "ExecuteTime": {
     "end_time": "2021-03-11T20:26:22.100135Z",
     "start_time": "2021-03-11T20:26:22.035768Z"
    }
   },
   "outputs": [
    {
     "data": {
      "image/png": "[encoded data removed]",
      "text/plain": [
       "<Figure size 432x288 with 1 Axes>"
      ]
     },
     "metadata": {
      "needs_background": "light"
     },
     "output_type": "display_data"
    }
   ],
   "source": [
    "logger.plot_acc()"
   ]
  },
  {
   "cell_type": "code",
   "execution_count": 20,
   "metadata": {
    "ExecuteTime": {
     "end_time": "2021-03-11T20:26:22.340097Z",
     "start_time": "2021-03-11T20:26:22.327379Z"
    }
   },
   "outputs": [
    {
     "data": {
      "text/html": [
       "<div>\n",
       "<style scoped>\n",
       "    .dataframe tbody tr th:only-of-type {\n",
       "        vertical-align: middle;\n",
       "    }\n",
       "\n",
       "    .dataframe tbody tr th {\n",
       "        vertical-align: top;\n",
       "    }\n",
       "\n",
       "    .dataframe thead th {\n",
       "        text-align: right;\n",
       "    }\n",
       "</style>\n",
       "<table border=\"1\" class=\"dataframe\">\n",
       "  <thead>\n",
       "    <tr style=\"text-align: right;\">\n",
       "      <th></th>\n",
       "      <th>py_densenet121_v1_e0</th>\n",
       "      <th>py_densenet121_v1_e0</th>\n",
       "      <th>py_densenet121_v1_e1</th>\n",
       "      <th>py_densenet121_v1_e2</th>\n",
       "      <th>py_densenet121_v1_e3</th>\n",
       "      <th>py_densenet121_v1_e4</th>\n",
       "      <th>py_densenet121_v1_e5</th>\n",
       "      <th>py_densenet121_v1_e6</th>\n",
       "      <th>py_densenet121_v1_e7</th>\n",
       "      <th>py_densenet121_v1_e8</th>\n",
       "      <th>py_densenet121_v1_e9</th>\n",
       "      <th>CheXNet</th>\n",
       "    </tr>\n",
       "  </thead>\n",
       "  <tbody>\n",
       "    <tr>\n",
       "      <th>Effusion</th>\n",
       "      <td>0.679131</td>\n",
       "      <td>0.679131</td>\n",
       "      <td>0.696750</td>\n",
       "      <td>0.696295</td>\n",
       "      <td>0.690306</td>\n",
       "      <td>0.694885</td>\n",
       "      <td>0.691413</td>\n",
       "      <td>0.692634</td>\n",
       "      <td>0.689764</td>\n",
       "      <td>0.690014</td>\n",
       "      <td>0.683953</td>\n",
       "      <td>0.8638</td>\n",
       "    </tr>\n",
       "    <tr>\n",
       "      <th>Infiltration</th>\n",
       "      <td>0.608348</td>\n",
       "      <td>0.608348</td>\n",
       "      <td>0.620465</td>\n",
       "      <td>0.619563</td>\n",
       "      <td>0.616483</td>\n",
       "      <td>0.616850</td>\n",
       "      <td>0.609722</td>\n",
       "      <td>0.609146</td>\n",
       "      <td>0.604842</td>\n",
       "      <td>0.604610</td>\n",
       "      <td>0.606352</td>\n",
       "      <td>0.7345</td>\n",
       "    </tr>\n",
       "    <tr>\n",
       "      <th>Edema</th>\n",
       "      <td>0.617822</td>\n",
       "      <td>0.617822</td>\n",
       "      <td>0.699801</td>\n",
       "      <td>0.707182</td>\n",
       "      <td>0.705489</td>\n",
       "      <td>0.685243</td>\n",
       "      <td>0.678787</td>\n",
       "      <td>0.660211</td>\n",
       "      <td>0.661046</td>\n",
       "      <td>0.671158</td>\n",
       "      <td>0.682399</td>\n",
       "      <td>0.8878</td>\n",
       "    </tr>\n",
       "    <tr>\n",
       "      <th>Nodule</th>\n",
       "      <td>0.540292</td>\n",
       "      <td>0.540292</td>\n",
       "      <td>0.524113</td>\n",
       "      <td>0.518212</td>\n",
       "      <td>0.497592</td>\n",
       "      <td>0.520974</td>\n",
       "      <td>0.524157</td>\n",
       "      <td>0.512469</td>\n",
       "      <td>0.515311</td>\n",
       "      <td>0.497476</td>\n",
       "      <td>0.511760</td>\n",
       "      <td>0.7802</td>\n",
       "    </tr>\n",
       "    <tr>\n",
       "      <th>Consolidation</th>\n",
       "      <td>0.669917</td>\n",
       "      <td>0.669917</td>\n",
       "      <td>0.672440</td>\n",
       "      <td>0.677786</td>\n",
       "      <td>0.683774</td>\n",
       "      <td>0.658810</td>\n",
       "      <td>0.662690</td>\n",
       "      <td>0.659167</td>\n",
       "      <td>0.657774</td>\n",
       "      <td>0.638405</td>\n",
       "      <td>0.651619</td>\n",
       "      <td>0.7901</td>\n",
       "    </tr>\n",
       "    <tr>\n",
       "      <th>Fibrosis</th>\n",
       "      <td>0.647725</td>\n",
       "      <td>0.647725</td>\n",
       "      <td>0.649383</td>\n",
       "      <td>0.656161</td>\n",
       "      <td>0.668184</td>\n",
       "      <td>0.635702</td>\n",
       "      <td>0.622335</td>\n",
       "      <td>0.608528</td>\n",
       "      <td>0.603114</td>\n",
       "      <td>0.606115</td>\n",
       "      <td>0.592937</td>\n",
       "      <td>0.8047</td>\n",
       "    </tr>\n",
       "    <tr>\n",
       "      <th>Atelectasis</th>\n",
       "      <td>0.663367</td>\n",
       "      <td>0.663367</td>\n",
       "      <td>0.660586</td>\n",
       "      <td>0.664080</td>\n",
       "      <td>0.648842</td>\n",
       "      <td>0.638797</td>\n",
       "      <td>0.637510</td>\n",
       "      <td>0.630184</td>\n",
       "      <td>0.628470</td>\n",
       "      <td>0.614519</td>\n",
       "      <td>0.628717</td>\n",
       "      <td>0.8094</td>\n",
       "    </tr>\n",
       "    <tr>\n",
       "      <th>Emphysema</th>\n",
       "      <td>0.558672</td>\n",
       "      <td>0.558672</td>\n",
       "      <td>0.611041</td>\n",
       "      <td>0.622718</td>\n",
       "      <td>0.635711</td>\n",
       "      <td>0.644379</td>\n",
       "      <td>0.646643</td>\n",
       "      <td>0.652588</td>\n",
       "      <td>0.643772</td>\n",
       "      <td>0.652496</td>\n",
       "      <td>0.633760</td>\n",
       "      <td>0.9371</td>\n",
       "    </tr>\n",
       "    <tr>\n",
       "      <th>Mass</th>\n",
       "      <td>0.529949</td>\n",
       "      <td>0.529949</td>\n",
       "      <td>0.546515</td>\n",
       "      <td>0.570339</td>\n",
       "      <td>0.557274</td>\n",
       "      <td>0.566365</td>\n",
       "      <td>0.571035</td>\n",
       "      <td>0.560210</td>\n",
       "      <td>0.573656</td>\n",
       "      <td>0.577670</td>\n",
       "      <td>0.566076</td>\n",
       "      <td>0.8676</td>\n",
       "    </tr>\n",
       "    <tr>\n",
       "      <th>Pneumonia</th>\n",
       "      <td>0.464991</td>\n",
       "      <td>0.464991</td>\n",
       "      <td>0.505168</td>\n",
       "      <td>0.520037</td>\n",
       "      <td>0.519865</td>\n",
       "      <td>0.500326</td>\n",
       "      <td>0.506301</td>\n",
       "      <td>0.541362</td>\n",
       "      <td>0.515436</td>\n",
       "      <td>0.514165</td>\n",
       "      <td>0.514886</td>\n",
       "      <td>0.7680</td>\n",
       "    </tr>\n",
       "    <tr>\n",
       "      <th>Pneumothorax</th>\n",
       "      <td>0.586431</td>\n",
       "      <td>0.586431</td>\n",
       "      <td>0.601357</td>\n",
       "      <td>0.604092</td>\n",
       "      <td>0.605786</td>\n",
       "      <td>0.601455</td>\n",
       "      <td>0.599034</td>\n",
       "      <td>0.592738</td>\n",
       "      <td>0.587126</td>\n",
       "      <td>0.575088</td>\n",
       "      <td>0.579821</td>\n",
       "      <td>0.8887</td>\n",
       "    </tr>\n",
       "    <tr>\n",
       "      <th>Hernia</th>\n",
       "      <td>0.496622</td>\n",
       "      <td>0.496622</td>\n",
       "      <td>0.543524</td>\n",
       "      <td>0.352056</td>\n",
       "      <td>0.435051</td>\n",
       "      <td>0.449334</td>\n",
       "      <td>0.393553</td>\n",
       "      <td>0.460529</td>\n",
       "      <td>0.474619</td>\n",
       "      <td>0.424242</td>\n",
       "      <td>0.481760</td>\n",
       "      <td>0.9164</td>\n",
       "    </tr>\n",
       "    <tr>\n",
       "      <th>Cardiomegaly</th>\n",
       "      <td>0.613537</td>\n",
       "      <td>0.613537</td>\n",
       "      <td>0.637816</td>\n",
       "      <td>0.638978</td>\n",
       "      <td>0.643816</td>\n",
       "      <td>0.640972</td>\n",
       "      <td>0.642255</td>\n",
       "      <td>0.650753</td>\n",
       "      <td>0.656025</td>\n",
       "      <td>0.662077</td>\n",
       "      <td>0.669915</td>\n",
       "      <td>0.9248</td>\n",
       "    </tr>\n",
       "    <tr>\n",
       "      <th>Pleural_Thickening</th>\n",
       "      <td>0.621041</td>\n",
       "      <td>0.621041</td>\n",
       "      <td>0.592786</td>\n",
       "      <td>0.591092</td>\n",
       "      <td>0.573520</td>\n",
       "      <td>0.553596</td>\n",
       "      <td>0.545834</td>\n",
       "      <td>0.517958</td>\n",
       "      <td>0.527642</td>\n",
       "      <td>0.529096</td>\n",
       "      <td>0.513420</td>\n",
       "      <td>0.8062</td>\n",
       "    </tr>\n",
       "  </tbody>\n",
       "</table>\n",
       "</div>"
      ],
      "text/plain": [
       "                    py_densenet121_v1_e0  py_densenet121_v1_e0  \\\n",
       "Effusion                        0.679131              0.679131   \n",
       "Infiltration                    0.608348              0.608348   \n",
       "Edema                           0.617822              0.617822   \n",
       "Nodule                          0.540292              0.540292   \n",
       "Consolidation                   0.669917              0.669917   \n",
       "Fibrosis                        0.647725              0.647725   \n",
       "Atelectasis                     0.663367              0.663367   \n",
       "Emphysema                       0.558672              0.558672   \n",
       "Mass                            0.529949              0.529949   \n",
       "Pneumonia                       0.464991              0.464991   \n",
       "Pneumothorax                    0.586431              0.586431   \n",
       "Hernia                          0.496622              0.496622   \n",
       "Cardiomegaly                    0.613537              0.613537   \n",
       "Pleural_Thickening              0.621041              0.621041   \n",
       "\n",
       "                    py_densenet121_v1_e1  py_densenet121_v1_e2  \\\n",
       "Effusion                        0.696750              0.696295   \n",
       "Infiltration                    0.620465              0.619563   \n",
       "Edema                           0.699801              0.707182   \n",
       "Nodule                          0.524113              0.518212   \n",
       "Consolidation                   0.672440              0.677786   \n",
       "Fibrosis                        0.649383              0.656161   \n",
       "Atelectasis                     0.660586              0.664080   \n",
       "Emphysema                       0.611041              0.622718   \n",
       "Mass                            0.546515              0.570339   \n",
       "Pneumonia                       0.505168              0.520037   \n",
       "Pneumothorax                    0.601357              0.604092   \n",
       "Hernia                          0.543524              0.352056   \n",
       "Cardiomegaly                    0.637816              0.638978   \n",
       "Pleural_Thickening              0.592786              0.591092   \n",
       "\n",
       "                    py_densenet121_v1_e3  py_densenet121_v1_e4  \\\n",
       "Effusion                        0.690306              0.694885   \n",
       "Infiltration                    0.616483              0.616850   \n",
       "Edema                           0.705489              0.685243   \n",
       "Nodule                          0.497592              0.520974   \n",
       "Consolidation                   0.683774              0.658810   \n",
       "Fibrosis                        0.668184              0.635702   \n",
       "Atelectasis                     0.648842              0.638797   \n",
       "Emphysema                       0.635711              0.644379   \n",
       "Mass                            0.557274              0.566365   \n",
       "Pneumonia                       0.519865              0.500326   \n",
       "Pneumothorax                    0.605786              0.601455   \n",
       "Hernia                          0.435051              0.449334   \n",
       "Cardiomegaly                    0.643816              0.640972   \n",
       "Pleural_Thickening              0.573520              0.553596   \n",
       "\n",
       "                    py_densenet121_v1_e5  py_densenet121_v1_e6  \\\n",
       "Effusion                        0.691413              0.692634   \n",
       "Infiltration                    0.609722              0.609146   \n",
       "Edema                           0.678787              0.660211   \n",
       "Nodule                          0.524157              0.512469   \n",
       "Consolidation                   0.662690              0.659167   \n",
       "Fibrosis                        0.622335              0.608528   \n",
       "Atelectasis                     0.637510              0.630184   \n",
       "Emphysema                       0.646643              0.652588   \n",
       "Mass                            0.571035              0.560210   \n",
       "Pneumonia                       0.506301              0.541362   \n",
       "Pneumothorax                    0.599034              0.592738   \n",
       "Hernia                          0.393553              0.460529   \n",
       "Cardiomegaly                    0.642255              0.650753   \n",
       "Pleural_Thickening              0.545834              0.517958   \n",
       "\n",
       "                    py_densenet121_v1_e7  py_densenet121_v1_e8  \\\n",
       "Effusion                        0.689764              0.690014   \n",
       "Infiltration                    0.604842              0.604610   \n",
       "Edema                           0.661046              0.671158   \n",
       "Nodule                          0.515311              0.497476   \n",
       "Consolidation                   0.657774              0.638405   \n",
       "Fibrosis                        0.603114              0.606115   \n",
       "Atelectasis                     0.628470              0.614519   \n",
       "Emphysema                       0.643772              0.652496   \n",
       "Mass                            0.573656              0.577670   \n",
       "Pneumonia                       0.515436              0.514165   \n",
       "Pneumothorax                    0.587126              0.575088   \n",
       "Hernia                          0.474619              0.424242   \n",
       "Cardiomegaly                    0.656025              0.662077   \n",
       "Pleural_Thickening              0.527642              0.529096   \n",
       "\n",
       "                    py_densenet121_v1_e9  CheXNet  \n",
       "Effusion                        0.683953   0.8638  \n",
       "Infiltration                    0.606352   0.7345  \n",
       "Edema                           0.682399   0.8878  \n",
       "Nodule                          0.511760   0.7802  \n",
       "Consolidation                   0.651619   0.7901  \n",
       "Fibrosis                        0.592937   0.8047  \n",
       "Atelectasis                     0.628717   0.8094  \n",
       "Emphysema                       0.633760   0.9371  \n",
       "Mass                            0.566076   0.8676  \n",
       "Pneumonia                       0.514886   0.7680  \n",
       "Pneumothorax                    0.579821   0.8887  \n",
       "Hernia                          0.481760   0.9164  \n",
       "Cardiomegaly                    0.669915   0.9248  \n",
       "Pleural_Thickening              0.513420   0.8062  "
      ]
     },
     "execution_count": 20,
     "metadata": {},
     "output_type": "execute_result"
    }
   ],
   "source": [
    "logger.plot_auroc()"
   ]
  },
  {
   "cell_type": "code",
   "execution_count": 21,
   "metadata": {
    "ExecuteTime": {
     "end_time": "2021-03-11T20:26:58.308454Z",
     "start_time": "2021-03-11T20:26:58.304301Z"
    }
   },
   "outputs": [],
   "source": [
    "fine_optimizer = fine_tune_setup(model, lr)"
   ]
  },
  {
   "cell_type": "code",
   "execution_count": 23,
   "metadata": {
    "ExecuteTime": {
     "end_time": "2021-03-11T20:28:41.805605Z",
     "start_time": "2021-03-11T20:28:41.736523Z"
    }
   },
   "outputs": [
    {
     "data": {
      "image/png": "[encoded data removed]",
      "text/plain": [
       "<Figure size 432x288 with 1 Axes>"
      ]
     },
     "metadata": {
      "needs_background": "light"
     },
     "output_type": "display_data"
    }
   ],
   "source": [
    "#logs,losses = find_lr(model, train_dl, fine_optimizer, criterion, device=device)\n",
    "i = 1\n",
    "plt.plot(logs[i:-i],losses[i:-i]);"
   ]
  },
  {
   "cell_type": "code",
   "execution_count": 24,
   "metadata": {
    "ExecuteTime": {
     "end_time": "2021-03-11T20:28:57.788196Z",
     "start_time": "2021-03-11T20:28:57.786119Z"
    }
   },
   "outputs": [],
   "source": [
    "lr = 3e-6"
   ]
  },
  {
   "cell_type": "code",
   "execution_count": 25,
   "metadata": {
    "ExecuteTime": {
     "end_time": "2021-03-11T20:28:59.500260Z",
     "start_time": "2021-03-11T20:28:59.494616Z"
    }
   },
   "outputs": [],
   "source": [
    "fine_optimizer = fine_tune_setup(model, lr)\n",
    "num_steps = len(train_dl)\n",
    "lr_range = (lr / 10, lr)\n",
    "scheduler = OneCycleLR(fine_optimizer, num_steps, lr_range)"
   ]
  },
  {
   "cell_type": "code",
   "execution_count": 26,
   "metadata": {
    "ExecuteTime": {
     "end_time": "2021-03-11T20:29:02.315335Z",
     "start_time": "2021-03-11T20:29:02.312663Z"
    }
   },
   "outputs": [],
   "source": [
    "logger = Logger()\n",
    "logger.add_metric(\"loss\")\n",
    "logger.add_metric(\"acc\")\n",
    "logger.add_metric(\"auroc\")"
   ]
  },
  {
   "cell_type": "code",
   "execution_count": 27,
   "metadata": {
    "ExecuteTime": {
     "end_time": "2021-03-11T20:52:22.475289Z",
     "start_time": "2021-03-11T20:29:03.493811Z"
    },
    "scrolled": false
   },
   "outputs": [
    {
     "data": {
      "application/vnd.jupyter.widget-view+json": {
       "model_id": "a53fd051962b4e729ba81efacdb9ba65",
       "version_major": 2,
       "version_minor": 0
      },
      "text/plain": [
       "HBox(children=(HTML(value=''), FloatProgress(value=0.0, max=10.0), HTML(value='')))"
      ]
     },
     "metadata": {},
     "output_type": "display_data"
    },
    {
     "data": {
      "text/html": [
       "<div>\n",
       "<style scoped>\n",
       "    .dataframe tbody tr th:only-of-type {\n",
       "        vertical-align: middle;\n",
       "    }\n",
       "\n",
       "    .dataframe tbody tr th {\n",
       "        vertical-align: top;\n",
       "    }\n",
       "\n",
       "    .dataframe thead th {\n",
       "        text-align: right;\n",
       "    }\n",
       "</style>\n",
       "<table border=\"1\" class=\"dataframe\">\n",
       "  <thead>\n",
       "    <tr style=\"text-align: right;\">\n",
       "      <th></th>\n",
       "    </tr>\n",
       "  </thead>\n",
       "  <tbody>\n",
       "  </tbody>\n",
       "</table>\n",
       "</div>"
      ],
      "text/plain": [
       "Empty DataFrame\n",
       "Columns: []\n",
       "Index: []"
      ]
     },
     "metadata": {},
     "output_type": "display_data"
    },
    {
     "data": {
      "application/vnd.jupyter.widget-view+json": {
       "model_id": "530bd7c4bab14ecaa6e7fd62a1f163d5",
       "version_major": 2,
       "version_minor": 0
      },
      "text/plain": [
       "HBox(children=(HTML(value=''), FloatProgress(value=0.0, max=433.0), HTML(value='')))"
      ]
     },
     "metadata": {},
     "output_type": "display_data"
    },
    {
     "name": "stdout",
     "output_type": "stream",
     "text": [
      "\n"
     ]
    },
    {
     "data": {
      "application/vnd.jupyter.widget-view+json": {
       "model_id": "4f3989979e84490ea519c55de8569780",
       "version_major": 2,
       "version_minor": 0
      },
      "text/plain": [
       "HBox(children=(HTML(value=''), FloatProgress(value=0.0, max=109.0), HTML(value='')))"
      ]
     },
     "metadata": {},
     "output_type": "display_data"
    },
    {
     "name": "stdout",
     "output_type": "stream",
     "text": [
      "\n"
     ]
    },
    {
     "data": {
      "text/html": [
       "<div>\n",
       "<style scoped>\n",
       "    .dataframe tbody tr th:only-of-type {\n",
       "        vertical-align: middle;\n",
       "    }\n",
       "\n",
       "    .dataframe tbody tr th {\n",
       "        vertical-align: top;\n",
       "    }\n",
       "\n",
       "    .dataframe thead th {\n",
       "        text-align: right;\n",
       "    }\n",
       "</style>\n",
       "<table border=\"1\" class=\"dataframe\">\n",
       "  <thead>\n",
       "    <tr style=\"text-align: right;\">\n",
       "      <th></th>\n",
       "    </tr>\n",
       "  </thead>\n",
       "  <tbody>\n",
       "  </tbody>\n",
       "</table>\n",
       "</div>"
      ],
      "text/plain": [
       "Empty DataFrame\n",
       "Columns: []\n",
       "Index: []"
      ]
     },
     "metadata": {},
     "output_type": "display_data"
    },
    {
     "data": {
      "application/vnd.jupyter.widget-view+json": {
       "model_id": "de7e0ce1531147c19467d83a34de617c",
       "version_major": 2,
       "version_minor": 0
      },
      "text/plain": [
       "HBox(children=(HTML(value=''), FloatProgress(value=0.0, max=433.0), HTML(value='')))"
      ]
     },
     "metadata": {},
     "output_type": "display_data"
    },
    {
     "name": "stdout",
     "output_type": "stream",
     "text": [
      "\n"
     ]
    },
    {
     "data": {
      "application/vnd.jupyter.widget-view+json": {
       "model_id": "436c486d2461441f9f551cae2dcb82e4",
       "version_major": 2,
       "version_minor": 0
      },
      "text/plain": [
       "HBox(children=(HTML(value=''), FloatProgress(value=0.0, max=109.0), HTML(value='')))"
      ]
     },
     "metadata": {},
     "output_type": "display_data"
    },
    {
     "name": "stdout",
     "output_type": "stream",
     "text": [
      "\n"
     ]
    },
    {
     "data": {
      "text/html": [
       "<div>\n",
       "<style scoped>\n",
       "    .dataframe tbody tr th:only-of-type {\n",
       "        vertical-align: middle;\n",
       "    }\n",
       "\n",
       "    .dataframe tbody tr th {\n",
       "        vertical-align: top;\n",
       "    }\n",
       "\n",
       "    .dataframe thead th {\n",
       "        text-align: right;\n",
       "    }\n",
       "</style>\n",
       "<table border=\"1\" class=\"dataframe\">\n",
       "  <thead>\n",
       "    <tr style=\"text-align: right;\">\n",
       "      <th></th>\n",
       "    </tr>\n",
       "  </thead>\n",
       "  <tbody>\n",
       "  </tbody>\n",
       "</table>\n",
       "</div>"
      ],
      "text/plain": [
       "Empty DataFrame\n",
       "Columns: []\n",
       "Index: []"
      ]
     },
     "metadata": {},
     "output_type": "display_data"
    },
    {
     "data": {
      "application/vnd.jupyter.widget-view+json": {
       "model_id": "d13ad8e04b7e44e6bb3c4054a554f1f4",
       "version_major": 2,
       "version_minor": 0
      },
      "text/plain": [
       "HBox(children=(HTML(value=''), FloatProgress(value=0.0, max=433.0), HTML(value='')))"
      ]
     },
     "metadata": {},
     "output_type": "display_data"
    },
    {
     "name": "stdout",
     "output_type": "stream",
     "text": [
      "\n"
     ]
    },
    {
     "data": {
      "application/vnd.jupyter.widget-view+json": {
       "model_id": "3ce1baef09e44672877a9b9f054fb79f",
       "version_major": 2,
       "version_minor": 0
      },
      "text/plain": [
       "HBox(children=(HTML(value=''), FloatProgress(value=0.0, max=109.0), HTML(value='')))"
      ]
     },
     "metadata": {},
     "output_type": "display_data"
    },
    {
     "name": "stdout",
     "output_type": "stream",
     "text": [
      "\n"
     ]
    },
    {
     "data": {
      "text/html": [
       "<div>\n",
       "<style scoped>\n",
       "    .dataframe tbody tr th:only-of-type {\n",
       "        vertical-align: middle;\n",
       "    }\n",
       "\n",
       "    .dataframe tbody tr th {\n",
       "        vertical-align: top;\n",
       "    }\n",
       "\n",
       "    .dataframe thead th {\n",
       "        text-align: right;\n",
       "    }\n",
       "</style>\n",
       "<table border=\"1\" class=\"dataframe\">\n",
       "  <thead>\n",
       "    <tr style=\"text-align: right;\">\n",
       "      <th></th>\n",
       "    </tr>\n",
       "  </thead>\n",
       "  <tbody>\n",
       "  </tbody>\n",
       "</table>\n",
       "</div>"
      ],
      "text/plain": [
       "Empty DataFrame\n",
       "Columns: []\n",
       "Index: []"
      ]
     },
     "metadata": {},
     "output_type": "display_data"
    },
    {
     "data": {
      "application/vnd.jupyter.widget-view+json": {
       "model_id": "383e256e751e4e73912a5c4576c8c71c",
       "version_major": 2,
       "version_minor": 0
      },
      "text/plain": [
       "HBox(children=(HTML(value=''), FloatProgress(value=0.0, max=433.0), HTML(value='')))"
      ]
     },
     "metadata": {},
     "output_type": "display_data"
    },
    {
     "name": "stdout",
     "output_type": "stream",
     "text": [
      "\n"
     ]
    },
    {
     "data": {
      "application/vnd.jupyter.widget-view+json": {
       "model_id": "66ab667575484d9a848ba5aaa04f13a9",
       "version_major": 2,
       "version_minor": 0
      },
      "text/plain": [
       "HBox(children=(HTML(value=''), FloatProgress(value=0.0, max=109.0), HTML(value='')))"
      ]
     },
     "metadata": {},
     "output_type": "display_data"
    },
    {
     "name": "stdout",
     "output_type": "stream",
     "text": [
      "\n"
     ]
    },
    {
     "data": {
      "text/html": [
       "<div>\n",
       "<style scoped>\n",
       "    .dataframe tbody tr th:only-of-type {\n",
       "        vertical-align: middle;\n",
       "    }\n",
       "\n",
       "    .dataframe tbody tr th {\n",
       "        vertical-align: top;\n",
       "    }\n",
       "\n",
       "    .dataframe thead th {\n",
       "        text-align: right;\n",
       "    }\n",
       "</style>\n",
       "<table border=\"1\" class=\"dataframe\">\n",
       "  <thead>\n",
       "    <tr style=\"text-align: right;\">\n",
       "      <th></th>\n",
       "    </tr>\n",
       "  </thead>\n",
       "  <tbody>\n",
       "  </tbody>\n",
       "</table>\n",
       "</div>"
      ],
      "text/plain": [
       "Empty DataFrame\n",
       "Columns: []\n",
       "Index: []"
      ]
     },
     "metadata": {},
     "output_type": "display_data"
    },
    {
     "data": {
      "application/vnd.jupyter.widget-view+json": {
       "model_id": "3ae36d3e8aef41b89fc8d2b3845b3427",
       "version_major": 2,
       "version_minor": 0
      },
      "text/plain": [
       "HBox(children=(HTML(value=''), FloatProgress(value=0.0, max=433.0), HTML(value='')))"
      ]
     },
     "metadata": {},
     "output_type": "display_data"
    },
    {
     "name": "stdout",
     "output_type": "stream",
     "text": [
      "\n"
     ]
    },
    {
     "data": {
      "application/vnd.jupyter.widget-view+json": {
       "model_id": "e50f351a793345aea4b333314e89e4d9",
       "version_major": 2,
       "version_minor": 0
      },
      "text/plain": [
       "HBox(children=(HTML(value=''), FloatProgress(value=0.0, max=109.0), HTML(value='')))"
      ]
     },
     "metadata": {},
     "output_type": "display_data"
    },
    {
     "name": "stdout",
     "output_type": "stream",
     "text": [
      "\n"
     ]
    },
    {
     "data": {
      "text/html": [
       "<div>\n",
       "<style scoped>\n",
       "    .dataframe tbody tr th:only-of-type {\n",
       "        vertical-align: middle;\n",
       "    }\n",
       "\n",
       "    .dataframe tbody tr th {\n",
       "        vertical-align: top;\n",
       "    }\n",
       "\n",
       "    .dataframe thead th {\n",
       "        text-align: right;\n",
       "    }\n",
       "</style>\n",
       "<table border=\"1\" class=\"dataframe\">\n",
       "  <thead>\n",
       "    <tr style=\"text-align: right;\">\n",
       "      <th></th>\n",
       "    </tr>\n",
       "  </thead>\n",
       "  <tbody>\n",
       "  </tbody>\n",
       "</table>\n",
       "</div>"
      ],
      "text/plain": [
       "Empty DataFrame\n",
       "Columns: []\n",
       "Index: []"
      ]
     },
     "metadata": {},
     "output_type": "display_data"
    },
    {
     "data": {
      "application/vnd.jupyter.widget-view+json": {
       "model_id": "1f143a59004d48c1bff43a85086baff6",
       "version_major": 2,
       "version_minor": 0
      },
      "text/plain": [
       "HBox(children=(HTML(value=''), FloatProgress(value=0.0, max=433.0), HTML(value='')))"
      ]
     },
     "metadata": {},
     "output_type": "display_data"
    },
    {
     "name": "stdout",
     "output_type": "stream",
     "text": [
      "\n"
     ]
    },
    {
     "data": {
      "application/vnd.jupyter.widget-view+json": {
       "model_id": "7059d88004594d32a1a110a7b21cc3d2",
       "version_major": 2,
       "version_minor": 0
      },
      "text/plain": [
       "HBox(children=(HTML(value=''), FloatProgress(value=0.0, max=109.0), HTML(value='')))"
      ]
     },
     "metadata": {},
     "output_type": "display_data"
    },
    {
     "name": "stdout",
     "output_type": "stream",
     "text": [
      "\n"
     ]
    },
    {
     "data": {
      "text/html": [
       "<div>\n",
       "<style scoped>\n",
       "    .dataframe tbody tr th:only-of-type {\n",
       "        vertical-align: middle;\n",
       "    }\n",
       "\n",
       "    .dataframe tbody tr th {\n",
       "        vertical-align: top;\n",
       "    }\n",
       "\n",
       "    .dataframe thead th {\n",
       "        text-align: right;\n",
       "    }\n",
       "</style>\n",
       "<table border=\"1\" class=\"dataframe\">\n",
       "  <thead>\n",
       "    <tr style=\"text-align: right;\">\n",
       "      <th></th>\n",
       "    </tr>\n",
       "  </thead>\n",
       "  <tbody>\n",
       "  </tbody>\n",
       "</table>\n",
       "</div>"
      ],
      "text/plain": [
       "Empty DataFrame\n",
       "Columns: []\n",
       "Index: []"
      ]
     },
     "metadata": {},
     "output_type": "display_data"
    },
    {
     "data": {
      "application/vnd.jupyter.widget-view+json": {
       "model_id": "c88a24865b404160bfd205cd55adecbc",
       "version_major": 2,
       "version_minor": 0
      },
      "text/plain": [
       "HBox(children=(HTML(value=''), FloatProgress(value=0.0, max=433.0), HTML(value='')))"
      ]
     },
     "metadata": {},
     "output_type": "display_data"
    },
    {
     "name": "stdout",
     "output_type": "stream",
     "text": [
      "\n"
     ]
    },
    {
     "data": {
      "application/vnd.jupyter.widget-view+json": {
       "model_id": "2e1d860bfdf64e19920dfadf353f4f82",
       "version_major": 2,
       "version_minor": 0
      },
      "text/plain": [
       "HBox(children=(HTML(value=''), FloatProgress(value=0.0, max=109.0), HTML(value='')))"
      ]
     },
     "metadata": {},
     "output_type": "display_data"
    },
    {
     "name": "stdout",
     "output_type": "stream",
     "text": [
      "\n"
     ]
    },
    {
     "data": {
      "text/html": [
       "<div>\n",
       "<style scoped>\n",
       "    .dataframe tbody tr th:only-of-type {\n",
       "        vertical-align: middle;\n",
       "    }\n",
       "\n",
       "    .dataframe tbody tr th {\n",
       "        vertical-align: top;\n",
       "    }\n",
       "\n",
       "    .dataframe thead th {\n",
       "        text-align: right;\n",
       "    }\n",
       "</style>\n",
       "<table border=\"1\" class=\"dataframe\">\n",
       "  <thead>\n",
       "    <tr style=\"text-align: right;\">\n",
       "      <th></th>\n",
       "    </tr>\n",
       "  </thead>\n",
       "  <tbody>\n",
       "  </tbody>\n",
       "</table>\n",
       "</div>"
      ],
      "text/plain": [
       "Empty DataFrame\n",
       "Columns: []\n",
       "Index: []"
      ]
     },
     "metadata": {},
     "output_type": "display_data"
    },
    {
     "data": {
      "application/vnd.jupyter.widget-view+json": {
       "model_id": "b650dae7ad6941bf86505733604a30f5",
       "version_major": 2,
       "version_minor": 0
      },
      "text/plain": [
       "HBox(children=(HTML(value=''), FloatProgress(value=0.0, max=433.0), HTML(value='')))"
      ]
     },
     "metadata": {},
     "output_type": "display_data"
    },
    {
     "name": "stdout",
     "output_type": "stream",
     "text": [
      "\n"
     ]
    },
    {
     "data": {
      "application/vnd.jupyter.widget-view+json": {
       "model_id": "c45b329edc5e4b2a8dcd285e537d90b1",
       "version_major": 2,
       "version_minor": 0
      },
      "text/plain": [
       "HBox(children=(HTML(value=''), FloatProgress(value=0.0, max=109.0), HTML(value='')))"
      ]
     },
     "metadata": {},
     "output_type": "display_data"
    },
    {
     "name": "stdout",
     "output_type": "stream",
     "text": [
      "\n"
     ]
    },
    {
     "data": {
      "text/html": [
       "<div>\n",
       "<style scoped>\n",
       "    .dataframe tbody tr th:only-of-type {\n",
       "        vertical-align: middle;\n",
       "    }\n",
       "\n",
       "    .dataframe tbody tr th {\n",
       "        vertical-align: top;\n",
       "    }\n",
       "\n",
       "    .dataframe thead th {\n",
       "        text-align: right;\n",
       "    }\n",
       "</style>\n",
       "<table border=\"1\" class=\"dataframe\">\n",
       "  <thead>\n",
       "    <tr style=\"text-align: right;\">\n",
       "      <th></th>\n",
       "    </tr>\n",
       "  </thead>\n",
       "  <tbody>\n",
       "  </tbody>\n",
       "</table>\n",
       "</div>"
      ],
      "text/plain": [
       "Empty DataFrame\n",
       "Columns: []\n",
       "Index: []"
      ]
     },
     "metadata": {},
     "output_type": "display_data"
    },
    {
     "data": {
      "application/vnd.jupyter.widget-view+json": {
       "model_id": "c8f16ebc1314475197961b956fad250b",
       "version_major": 2,
       "version_minor": 0
      },
      "text/plain": [
       "HBox(children=(HTML(value=''), FloatProgress(value=0.0, max=433.0), HTML(value='')))"
      ]
     },
     "metadata": {},
     "output_type": "display_data"
    },
    {
     "name": "stdout",
     "output_type": "stream",
     "text": [
      "\n"
     ]
    },
    {
     "data": {
      "application/vnd.jupyter.widget-view+json": {
       "model_id": "089858b06bc7400b8d5719d3b0022a62",
       "version_major": 2,
       "version_minor": 0
      },
      "text/plain": [
       "HBox(children=(HTML(value=''), FloatProgress(value=0.0, max=109.0), HTML(value='')))"
      ]
     },
     "metadata": {},
     "output_type": "display_data"
    },
    {
     "name": "stdout",
     "output_type": "stream",
     "text": [
      "\n"
     ]
    },
    {
     "data": {
      "text/html": [
       "<div>\n",
       "<style scoped>\n",
       "    .dataframe tbody tr th:only-of-type {\n",
       "        vertical-align: middle;\n",
       "    }\n",
       "\n",
       "    .dataframe tbody tr th {\n",
       "        vertical-align: top;\n",
       "    }\n",
       "\n",
       "    .dataframe thead th {\n",
       "        text-align: right;\n",
       "    }\n",
       "</style>\n",
       "<table border=\"1\" class=\"dataframe\">\n",
       "  <thead>\n",
       "    <tr style=\"text-align: right;\">\n",
       "      <th></th>\n",
       "    </tr>\n",
       "  </thead>\n",
       "  <tbody>\n",
       "  </tbody>\n",
       "</table>\n",
       "</div>"
      ],
      "text/plain": [
       "Empty DataFrame\n",
       "Columns: []\n",
       "Index: []"
      ]
     },
     "metadata": {},
     "output_type": "display_data"
    },
    {
     "data": {
      "application/vnd.jupyter.widget-view+json": {
       "model_id": "9f49769825864546a09b8c7ca6db9e21",
       "version_major": 2,
       "version_minor": 0
      },
      "text/plain": [
       "HBox(children=(HTML(value=''), FloatProgress(value=0.0, max=433.0), HTML(value='')))"
      ]
     },
     "metadata": {},
     "output_type": "display_data"
    },
    {
     "name": "stdout",
     "output_type": "stream",
     "text": [
      "\n"
     ]
    },
    {
     "data": {
      "application/vnd.jupyter.widget-view+json": {
       "model_id": "6f61c22c2d3c4885ba20870c5cbb06eb",
       "version_major": 2,
       "version_minor": 0
      },
      "text/plain": [
       "HBox(children=(HTML(value=''), FloatProgress(value=0.0, max=109.0), HTML(value='')))"
      ]
     },
     "metadata": {},
     "output_type": "display_data"
    },
    {
     "name": "stdout",
     "output_type": "stream",
     "text": [
      "\n",
      "\n"
     ]
    }
   ],
   "source": [
    "model = train_model(model, criterion, fine_optimizer, scheduler, \n",
    "                    dataloaders, logger, model_name, labels=labels,\n",
    "                    num_epochs=epochs, device=device)"
   ]
  },
  {
   "cell_type": "code",
   "execution_count": 28,
   "metadata": {
    "ExecuteTime": {
     "end_time": "2021-03-11T20:54:14.237352Z",
     "start_time": "2021-03-11T20:54:14.126941Z"
    }
   },
   "outputs": [
    {
     "data": {
      "image/png": "[encoded data removed]",
      "text/plain": [
       "<Figure size 432x288 with 1 Axes>"
      ]
     },
     "metadata": {
      "needs_background": "light"
     },
     "output_type": "display_data"
    }
   ],
   "source": [
    "logger.plot_losses()"
   ]
  },
  {
   "cell_type": "code",
   "execution_count": 29,
   "metadata": {
    "ExecuteTime": {
     "end_time": "2021-03-11T20:54:14.543763Z",
     "start_time": "2021-03-11T20:54:14.468044Z"
    }
   },
   "outputs": [
    {
     "data": {
      "image/png": "[encoded data removed]",
      "text/plain": [
       "<Figure size 432x288 with 1 Axes>"
      ]
     },
     "metadata": {
      "needs_background": "light"
     },
     "output_type": "display_data"
    }
   ],
   "source": [
    "logger.plot_acc()"
   ]
  },
  {
   "cell_type": "code",
   "execution_count": 30,
   "metadata": {
    "ExecuteTime": {
     "end_time": "2021-03-11T20:54:15.310829Z",
     "start_time": "2021-03-11T20:54:15.291998Z"
    }
   },
   "outputs": [
    {
     "data": {
      "text/html": [
       "<div>\n",
       "<style scoped>\n",
       "    .dataframe tbody tr th:only-of-type {\n",
       "        vertical-align: middle;\n",
       "    }\n",
       "\n",
       "    .dataframe tbody tr th {\n",
       "        vertical-align: top;\n",
       "    }\n",
       "\n",
       "    .dataframe thead th {\n",
       "        text-align: right;\n",
       "    }\n",
       "</style>\n",
       "<table border=\"1\" class=\"dataframe\">\n",
       "  <thead>\n",
       "    <tr style=\"text-align: right;\">\n",
       "      <th></th>\n",
       "      <th>py_densenet121_v1_e0</th>\n",
       "      <th>py_densenet121_v1_e0</th>\n",
       "      <th>py_densenet121_v1_e1</th>\n",
       "      <th>py_densenet121_v1_e2</th>\n",
       "      <th>py_densenet121_v1_e3</th>\n",
       "      <th>py_densenet121_v1_e4</th>\n",
       "      <th>py_densenet121_v1_e5</th>\n",
       "      <th>py_densenet121_v1_e6</th>\n",
       "      <th>py_densenet121_v1_e7</th>\n",
       "      <th>py_densenet121_v1_e8</th>\n",
       "      <th>py_densenet121_v1_e9</th>\n",
       "      <th>CheXNet</th>\n",
       "    </tr>\n",
       "  </thead>\n",
       "  <tbody>\n",
       "    <tr>\n",
       "      <th>Effusion</th>\n",
       "      <td>0.611099</td>\n",
       "      <td>0.611099</td>\n",
       "      <td>0.624823</td>\n",
       "      <td>0.625373</td>\n",
       "      <td>0.632844</td>\n",
       "      <td>0.638394</td>\n",
       "      <td>0.647567</td>\n",
       "      <td>0.646767</td>\n",
       "      <td>0.651123</td>\n",
       "      <td>0.659966</td>\n",
       "      <td>0.672229</td>\n",
       "      <td>0.8638</td>\n",
       "    </tr>\n",
       "    <tr>\n",
       "      <th>Infiltration</th>\n",
       "      <td>0.542700</td>\n",
       "      <td>0.542700</td>\n",
       "      <td>0.538099</td>\n",
       "      <td>0.552955</td>\n",
       "      <td>0.555018</td>\n",
       "      <td>0.554527</td>\n",
       "      <td>0.558889</td>\n",
       "      <td>0.563840</td>\n",
       "      <td>0.561574</td>\n",
       "      <td>0.573101</td>\n",
       "      <td>0.581311</td>\n",
       "      <td>0.7345</td>\n",
       "    </tr>\n",
       "    <tr>\n",
       "      <th>Edema</th>\n",
       "      <td>0.535685</td>\n",
       "      <td>0.535685</td>\n",
       "      <td>0.522097</td>\n",
       "      <td>0.553697</td>\n",
       "      <td>0.546158</td>\n",
       "      <td>0.580241</td>\n",
       "      <td>0.555322</td>\n",
       "      <td>0.590646</td>\n",
       "      <td>0.582634</td>\n",
       "      <td>0.601594</td>\n",
       "      <td>0.612067</td>\n",
       "      <td>0.8878</td>\n",
       "    </tr>\n",
       "    <tr>\n",
       "      <th>Nodule</th>\n",
       "      <td>0.563343</td>\n",
       "      <td>0.563343</td>\n",
       "      <td>0.564124</td>\n",
       "      <td>0.562721</td>\n",
       "      <td>0.567885</td>\n",
       "      <td>0.576318</td>\n",
       "      <td>0.570984</td>\n",
       "      <td>0.566156</td>\n",
       "      <td>0.573656</td>\n",
       "      <td>0.563176</td>\n",
       "      <td>0.547149</td>\n",
       "      <td>0.7802</td>\n",
       "    </tr>\n",
       "    <tr>\n",
       "      <th>Consolidation</th>\n",
       "      <td>0.584643</td>\n",
       "      <td>0.584643</td>\n",
       "      <td>0.616071</td>\n",
       "      <td>0.628369</td>\n",
       "      <td>0.617321</td>\n",
       "      <td>0.652667</td>\n",
       "      <td>0.660190</td>\n",
       "      <td>0.642417</td>\n",
       "      <td>0.660179</td>\n",
       "      <td>0.663429</td>\n",
       "      <td>0.686107</td>\n",
       "      <td>0.7901</td>\n",
       "    </tr>\n",
       "    <tr>\n",
       "      <th>Fibrosis</th>\n",
       "      <td>0.612766</td>\n",
       "      <td>0.612766</td>\n",
       "      <td>0.607143</td>\n",
       "      <td>0.612620</td>\n",
       "      <td>0.592496</td>\n",
       "      <td>0.598770</td>\n",
       "      <td>0.597406</td>\n",
       "      <td>0.605842</td>\n",
       "      <td>0.597616</td>\n",
       "      <td>0.586894</td>\n",
       "      <td>0.602107</td>\n",
       "      <td>0.8047</td>\n",
       "    </tr>\n",
       "    <tr>\n",
       "      <th>Atelectasis</th>\n",
       "      <td>0.514798</td>\n",
       "      <td>0.514798</td>\n",
       "      <td>0.528726</td>\n",
       "      <td>0.538775</td>\n",
       "      <td>0.547584</td>\n",
       "      <td>0.556624</td>\n",
       "      <td>0.567401</td>\n",
       "      <td>0.566527</td>\n",
       "      <td>0.577154</td>\n",
       "      <td>0.578047</td>\n",
       "      <td>0.593608</td>\n",
       "      <td>0.8094</td>\n",
       "    </tr>\n",
       "    <tr>\n",
       "      <th>Emphysema</th>\n",
       "      <td>0.538556</td>\n",
       "      <td>0.538556</td>\n",
       "      <td>0.580076</td>\n",
       "      <td>0.566199</td>\n",
       "      <td>0.547519</td>\n",
       "      <td>0.559592</td>\n",
       "      <td>0.566770</td>\n",
       "      <td>0.569107</td>\n",
       "      <td>0.567635</td>\n",
       "      <td>0.574223</td>\n",
       "      <td>0.589756</td>\n",
       "      <td>0.9371</td>\n",
       "    </tr>\n",
       "    <tr>\n",
       "      <th>Mass</th>\n",
       "      <td>0.542909</td>\n",
       "      <td>0.542909</td>\n",
       "      <td>0.538088</td>\n",
       "      <td>0.545195</td>\n",
       "      <td>0.543145</td>\n",
       "      <td>0.547264</td>\n",
       "      <td>0.557741</td>\n",
       "      <td>0.567209</td>\n",
       "      <td>0.566024</td>\n",
       "      <td>0.566956</td>\n",
       "      <td>0.580290</td>\n",
       "      <td>0.8676</td>\n",
       "    </tr>\n",
       "    <tr>\n",
       "      <th>Pneumonia</th>\n",
       "      <td>0.451358</td>\n",
       "      <td>0.451358</td>\n",
       "      <td>0.432025</td>\n",
       "      <td>0.404828</td>\n",
       "      <td>0.423337</td>\n",
       "      <td>0.460595</td>\n",
       "      <td>0.442189</td>\n",
       "      <td>0.418701</td>\n",
       "      <td>0.442327</td>\n",
       "      <td>0.408605</td>\n",
       "      <td>0.431647</td>\n",
       "      <td>0.7680</td>\n",
       "    </tr>\n",
       "    <tr>\n",
       "      <th>Pneumothorax</th>\n",
       "      <td>0.471750</td>\n",
       "      <td>0.471750</td>\n",
       "      <td>0.485493</td>\n",
       "      <td>0.470166</td>\n",
       "      <td>0.473574</td>\n",
       "      <td>0.468309</td>\n",
       "      <td>0.505216</td>\n",
       "      <td>0.477069</td>\n",
       "      <td>0.512988</td>\n",
       "      <td>0.486795</td>\n",
       "      <td>0.500505</td>\n",
       "      <td>0.8887</td>\n",
       "    </tr>\n",
       "    <tr>\n",
       "      <th>Hernia</th>\n",
       "      <td>0.674966</td>\n",
       "      <td>0.674966</td>\n",
       "      <td>0.704497</td>\n",
       "      <td>0.703725</td>\n",
       "      <td>0.680757</td>\n",
       "      <td>0.696970</td>\n",
       "      <td>0.728238</td>\n",
       "      <td>0.682687</td>\n",
       "      <td>0.632503</td>\n",
       "      <td>0.674580</td>\n",
       "      <td>0.674001</td>\n",
       "      <td>0.9164</td>\n",
       "    </tr>\n",
       "    <tr>\n",
       "      <th>Cardiomegaly</th>\n",
       "      <td>0.451738</td>\n",
       "      <td>0.451738</td>\n",
       "      <td>0.481704</td>\n",
       "      <td>0.477664</td>\n",
       "      <td>0.489075</td>\n",
       "      <td>0.497763</td>\n",
       "      <td>0.514949</td>\n",
       "      <td>0.514949</td>\n",
       "      <td>0.538360</td>\n",
       "      <td>0.530643</td>\n",
       "      <td>0.524123</td>\n",
       "      <td>0.9248</td>\n",
       "    </tr>\n",
       "    <tr>\n",
       "      <th>Pleural_Thickening</th>\n",
       "      <td>0.532496</td>\n",
       "      <td>0.532496</td>\n",
       "      <td>0.539146</td>\n",
       "      <td>0.539108</td>\n",
       "      <td>0.542206</td>\n",
       "      <td>0.524532</td>\n",
       "      <td>0.533950</td>\n",
       "      <td>0.544696</td>\n",
       "      <td>0.531422</td>\n",
       "      <td>0.540297</td>\n",
       "      <td>0.556365</td>\n",
       "      <td>0.8062</td>\n",
       "    </tr>\n",
       "  </tbody>\n",
       "</table>\n",
       "</div>"
      ],
      "text/plain": [
       "                    py_densenet121_v1_e0  py_densenet121_v1_e0  \\\n",
       "Effusion                        0.611099              0.611099   \n",
       "Infiltration                    0.542700              0.542700   \n",
       "Edema                           0.535685              0.535685   \n",
       "Nodule                          0.563343              0.563343   \n",
       "Consolidation                   0.584643              0.584643   \n",
       "Fibrosis                        0.612766              0.612766   \n",
       "Atelectasis                     0.514798              0.514798   \n",
       "Emphysema                       0.538556              0.538556   \n",
       "Mass                            0.542909              0.542909   \n",
       "Pneumonia                       0.451358              0.451358   \n",
       "Pneumothorax                    0.471750              0.471750   \n",
       "Hernia                          0.674966              0.674966   \n",
       "Cardiomegaly                    0.451738              0.451738   \n",
       "Pleural_Thickening              0.532496              0.532496   \n",
       "\n",
       "                    py_densenet121_v1_e1  py_densenet121_v1_e2  \\\n",
       "Effusion                        0.624823              0.625373   \n",
       "Infiltration                    0.538099              0.552955   \n",
       "Edema                           0.522097              0.553697   \n",
       "Nodule                          0.564124              0.562721   \n",
       "Consolidation                   0.616071              0.628369   \n",
       "Fibrosis                        0.607143              0.612620   \n",
       "Atelectasis                     0.528726              0.538775   \n",
       "Emphysema                       0.580076              0.566199   \n",
       "Mass                            0.538088              0.545195   \n",
       "Pneumonia                       0.432025              0.404828   \n",
       "Pneumothorax                    0.485493              0.470166   \n",
       "Hernia                          0.704497              0.703725   \n",
       "Cardiomegaly                    0.481704              0.477664   \n",
       "Pleural_Thickening              0.539146              0.539108   \n",
       "\n",
       "                    py_densenet121_v1_e3  py_densenet121_v1_e4  \\\n",
       "Effusion                        0.632844              0.638394   \n",
       "Infiltration                    0.555018              0.554527   \n",
       "Edema                           0.546158              0.580241   \n",
       "Nodule                          0.567885              0.576318   \n",
       "Consolidation                   0.617321              0.652667   \n",
       "Fibrosis                        0.592496              0.598770   \n",
       "Atelectasis                     0.547584              0.556624   \n",
       "Emphysema                       0.547519              0.559592   \n",
       "Mass                            0.543145              0.547264   \n",
       "Pneumonia                       0.423337              0.460595   \n",
       "Pneumothorax                    0.473574              0.468309   \n",
       "Hernia                          0.680757              0.696970   \n",
       "Cardiomegaly                    0.489075              0.497763   \n",
       "Pleural_Thickening              0.542206              0.524532   \n",
       "\n",
       "                    py_densenet121_v1_e5  py_densenet121_v1_e6  \\\n",
       "Effusion                        0.647567              0.646767   \n",
       "Infiltration                    0.558889              0.563840   \n",
       "Edema                           0.555322              0.590646   \n",
       "Nodule                          0.570984              0.566156   \n",
       "Consolidation                   0.660190              0.642417   \n",
       "Fibrosis                        0.597406              0.605842   \n",
       "Atelectasis                     0.567401              0.566527   \n",
       "Emphysema                       0.566770              0.569107   \n",
       "Mass                            0.557741              0.567209   \n",
       "Pneumonia                       0.442189              0.418701   \n",
       "Pneumothorax                    0.505216              0.477069   \n",
       "Hernia                          0.728238              0.682687   \n",
       "Cardiomegaly                    0.514949              0.514949   \n",
       "Pleural_Thickening              0.533950              0.544696   \n",
       "\n",
       "                    py_densenet121_v1_e7  py_densenet121_v1_e8  \\\n",
       "Effusion                        0.651123              0.659966   \n",
       "Infiltration                    0.561574              0.573101   \n",
       "Edema                           0.582634              0.601594   \n",
       "Nodule                          0.573656              0.563176   \n",
       "Consolidation                   0.660179              0.663429   \n",
       "Fibrosis                        0.597616              0.586894   \n",
       "Atelectasis                     0.577154              0.578047   \n",
       "Emphysema                       0.567635              0.574223   \n",
       "Mass                            0.566024              0.566956   \n",
       "Pneumonia                       0.442327              0.408605   \n",
       "Pneumothorax                    0.512988              0.486795   \n",
       "Hernia                          0.632503              0.674580   \n",
       "Cardiomegaly                    0.538360              0.530643   \n",
       "Pleural_Thickening              0.531422              0.540297   \n",
       "\n",
       "                    py_densenet121_v1_e9  CheXNet  \n",
       "Effusion                        0.672229   0.8638  \n",
       "Infiltration                    0.581311   0.7345  \n",
       "Edema                           0.612067   0.8878  \n",
       "Nodule                          0.547149   0.7802  \n",
       "Consolidation                   0.686107   0.7901  \n",
       "Fibrosis                        0.602107   0.8047  \n",
       "Atelectasis                     0.593608   0.8094  \n",
       "Emphysema                       0.589756   0.9371  \n",
       "Mass                            0.580290   0.8676  \n",
       "Pneumonia                       0.431647   0.7680  \n",
       "Pneumothorax                    0.500505   0.8887  \n",
       "Hernia                          0.674001   0.9164  \n",
       "Cardiomegaly                    0.524123   0.9248  \n",
       "Pleural_Thickening              0.556365   0.8062  "
      ]
     },
     "execution_count": 30,
     "metadata": {},
     "output_type": "execute_result"
    }
   ],
   "source": [
    "logger.plot_auroc()"
   ]
  },
  {
   "cell_type": "code",
   "execution_count": null,
   "metadata": {},
   "outputs": [],
   "source": []
  },
  {
   "cell_type": "code",
   "execution_count": null,
   "metadata": {},
   "outputs": [],
   "source": []
  },
  {
   "cell_type": "code",
   "execution_count": null,
   "metadata": {},
   "outputs": [],
   "source": []
  },
  {
   "cell_type": "code",
   "execution_count": null,
   "metadata": {},
   "outputs": [],
   "source": []
  },
  {
   "cell_type": "code",
   "execution_count": null,
   "metadata": {},
   "outputs": [],
   "source": []
  }
 ],
 "metadata": {
  "kernelspec": {
   "display_name": "Python 3",
   "language": "python",
   "name": "python3"
  },
  "language_info": {
   "codemirror_mode": {
    "name": "ipython",
    "version": 3
   },
   "file_extension": ".py",
   "mimetype": "text/x-python",
   "name": "python",
   "nbconvert_exporter": "python",
   "pygments_lexer": "ipython3",
   "version": "3.8.8"
  },
  "varInspector": {
   "cols": {
    "lenName": 16,
    "lenType": 16,
    "lenVar": 40
   },
   "kernels_config": {
    "python": {
     "delete_cmd_postfix": "",
     "delete_cmd_prefix": "del ",
     "library": "var_list.py",
     "varRefreshCmd": "print(var_dic_list())"
    },
    "r": {
     "delete_cmd_postfix": ") ",
     "delete_cmd_prefix": "rm(",
     "library": "var_list.r",
     "varRefreshCmd": "cat(var_dic_list()) "
    }
   },
   "types_to_exclude": [
    "module",
    "function",
    "builtin_function_or_method",
    "instance",
    "_Feature"
   ],
   "window_display": false
  }
 },
 "nbformat": 4,
 "nbformat_minor": 4
}
