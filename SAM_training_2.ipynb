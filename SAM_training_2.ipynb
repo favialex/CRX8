{
 "cells": [
  {
   "cell_type": "code",
   "execution_count": 1,
   "metadata": {
    "ExecuteTime": {
     "end_time": "2021-03-25T01:16:04.927997Z",
     "start_time": "2021-03-25T01:16:03.505302Z"
    }
   },
   "outputs": [],
   "source": [
    "from exp.utils import *\n",
    "from exp.models import *\n",
    "from exp.losses import *\n",
    "from tqdm.notebook import tqdm\n",
    "from multiprocessing import Pool\n",
    "\n",
    "import torch\n",
    "import torch.nn as NN\n",
    "from torch.utils.data import Dataset, DataLoader\n",
    "from torchvision import datasets, transforms"
   ]
  },
  {
   "cell_type": "code",
   "execution_count": 2,
   "metadata": {
    "ExecuteTime": {
     "end_time": "2021-03-25T01:16:04.938193Z",
     "start_time": "2021-03-25T01:16:04.935672Z"
    }
   },
   "outputs": [],
   "source": [
    "picked_labels = [\"Atelectasis\"]#[\"Atelectasis\", \"Cardiomegaly\", \"Pneumonia\"]\n",
    "already_pretrained_labels = [\"Atelectasis\"]#[\"Cardiomegaly\", \"Pneumonia\"]\n",
    "already_pretrained_lrs = [1e-8]#[1e-10, 1e-10]\n",
    "already_pretrained = {k:v for k,v in zip(already_pretrained_labels, already_pretrained_lrs)}\n",
    "already_trained = []#[\"Atelectasis\"]\n",
    "train_labels = [l for l in picked_labels if l not in already_trained]"
   ]
  },
  {
   "cell_type": "code",
   "execution_count": 3,
   "metadata": {
    "ExecuteTime": {
     "end_time": "2021-03-25T06:30:52.577119Z",
     "start_time": "2021-03-25T01:16:04.946783Z"
    },
    "scrolled": false
   },
   "outputs": [
    {
     "name": "stdout",
     "output_type": "stream",
     "text": [
      "Training model to classify 'Atelectasis'\n",
      "Using the GPU!\n"
     ]
    },
    {
     "name": "stderr",
     "output_type": "stream",
     "text": [
      "/home/favi/work/crx8/exp/utils.py:179: UserWarning: Train-Val-Split currently with patient overlap!\n",
      "  warnings.warn(\"Train-Val-Split currently with patient overlap!\")\n"
     ]
    },
    {
     "name": "stdout",
     "output_type": "stream",
     "text": [
      "(69219, 24) (17305, 24) (25596, 24)\n",
      "tensor([0.0956]) tensor([0.9044])\n",
      "Epoch 1:\n"
     ]
    },
    {
     "data": {
      "application/vnd.jupyter.widget-view+json": {
       "model_id": "c5739138d1254b63ba2fe237f6c39045",
       "version_major": 2,
       "version_minor": 0
      },
      "text/plain": [
       "HBox(children=(HTML(value=''), FloatProgress(value=0.0, max=4327.0), HTML(value='')))"
      ]
     },
     "metadata": {},
     "output_type": "display_data"
    },
    {
     "name": "stdout",
     "output_type": "stream",
     "text": [
      "\n",
      "Train: Loss: 0.115, Acc: 0.565, AUROC: 0.637\n"
     ]
    },
    {
     "data": {
      "application/vnd.jupyter.widget-view+json": {
       "model_id": "791a1bb22f35441ba82d56a29134b918",
       "version_major": 2,
       "version_minor": 0
      },
      "text/plain": [
       "HBox(children=(HTML(value=''), FloatProgress(value=0.0, max=1082.0), HTML(value='')))"
      ]
     },
     "metadata": {},
     "output_type": "display_data"
    },
    {
     "name": "stdout",
     "output_type": "stream",
     "text": [
      "\n",
      "Val: Loss: 0.115, Acc: 0.481, AUROC: 0.640\n",
      "Saved model with loss 0.1153\n",
      "Epoch 2:\n"
     ]
    },
    {
     "data": {
      "application/vnd.jupyter.widget-view+json": {
       "model_id": "8096b132d97e4bdc877738dadfd447c1",
       "version_major": 2,
       "version_minor": 0
      },
      "text/plain": [
       "HBox(children=(HTML(value=''), FloatProgress(value=0.0, max=4327.0), HTML(value='')))"
      ]
     },
     "metadata": {},
     "output_type": "display_data"
    },
    {
     "name": "stdout",
     "output_type": "stream",
     "text": [
      "\n",
      "Train: Loss: 0.115, Acc: 0.565, AUROC: 0.637\n"
     ]
    },
    {
     "data": {
      "application/vnd.jupyter.widget-view+json": {
       "model_id": "5b124138d34f4414906e8e461ac80027",
       "version_major": 2,
       "version_minor": 0
      },
      "text/plain": [
       "HBox(children=(HTML(value=''), FloatProgress(value=0.0, max=1082.0), HTML(value='')))"
      ]
     },
     "metadata": {},
     "output_type": "display_data"
    },
    {
     "name": "stdout",
     "output_type": "stream",
     "text": [
      "\n",
      "Val: Loss: 0.115, Acc: 0.507, AUROC: 0.641\n",
      "Resetted model to previous best.\n",
      "Lowered lr to 1e-09\n",
      "Epoch 3:\n"
     ]
    },
    {
     "data": {
      "application/vnd.jupyter.widget-view+json": {
       "model_id": "af94ec2370bb4d7981f1eed8a2ded03a",
       "version_major": 2,
       "version_minor": 0
      },
      "text/plain": [
       "HBox(children=(HTML(value=''), FloatProgress(value=0.0, max=4327.0), HTML(value='')))"
      ]
     },
     "metadata": {},
     "output_type": "display_data"
    },
    {
     "name": "stdout",
     "output_type": "stream",
     "text": [
      "\n",
      "Train: Loss: 0.115, Acc: 0.565, AUROC: 0.641\n"
     ]
    },
    {
     "data": {
      "application/vnd.jupyter.widget-view+json": {
       "model_id": "e140c4d75d1645949d77f6e4aa9edefb",
       "version_major": 2,
       "version_minor": 0
      },
      "text/plain": [
       "HBox(children=(HTML(value=''), FloatProgress(value=0.0, max=1082.0), HTML(value='')))"
      ]
     },
     "metadata": {},
     "output_type": "display_data"
    },
    {
     "name": "stdout",
     "output_type": "stream",
     "text": [
      "\n",
      "Val: Loss: 0.116, Acc: 0.476, AUROC: 0.630\n",
      "Resetted model to previous best.\n",
      "Lowered lr to 1e-10\n",
      "Epoch 4:\n"
     ]
    },
    {
     "data": {
      "application/vnd.jupyter.widget-view+json": {
       "model_id": "631f4646ef814b1bb1a70d4c555785be",
       "version_major": 2,
       "version_minor": 0
      },
      "text/plain": [
       "HBox(children=(HTML(value=''), FloatProgress(value=0.0, max=4327.0), HTML(value='')))"
      ]
     },
     "metadata": {},
     "output_type": "display_data"
    },
    {
     "name": "stdout",
     "output_type": "stream",
     "text": [
      "\n",
      "Train: Loss: 0.115, Acc: 0.566, AUROC: 0.640\n"
     ]
    },
    {
     "data": {
      "application/vnd.jupyter.widget-view+json": {
       "model_id": "01328e80c40c47c5b3cc9e917e874b2c",
       "version_major": 2,
       "version_minor": 0
      },
      "text/plain": [
       "HBox(children=(HTML(value=''), FloatProgress(value=0.0, max=1082.0), HTML(value='')))"
      ]
     },
     "metadata": {},
     "output_type": "display_data"
    },
    {
     "name": "stdout",
     "output_type": "stream",
     "text": [
      "\n",
      "Val: Loss: 0.115, Acc: 0.508, AUROC: 0.648\n",
      "Saved model with loss 0.1149\n",
      "Epoch 5:\n"
     ]
    },
    {
     "data": {
      "application/vnd.jupyter.widget-view+json": {
       "model_id": "1c4597b390984a7abc0e2291217c8eb0",
       "version_major": 2,
       "version_minor": 0
      },
      "text/plain": [
       "HBox(children=(HTML(value=''), FloatProgress(value=0.0, max=4327.0), HTML(value='')))"
      ]
     },
     "metadata": {},
     "output_type": "display_data"
    },
    {
     "name": "stdout",
     "output_type": "stream",
     "text": [
      "\n",
      "Train: Loss: 0.115, Acc: 0.564, AUROC: 0.638\n"
     ]
    },
    {
     "data": {
      "application/vnd.jupyter.widget-view+json": {
       "model_id": "14ea68dcd3a741b1bf264f64904fb6c0",
       "version_major": 2,
       "version_minor": 0
      },
      "text/plain": [
       "HBox(children=(HTML(value=''), FloatProgress(value=0.0, max=1082.0), HTML(value='')))"
      ]
     },
     "metadata": {},
     "output_type": "display_data"
    },
    {
     "name": "stdout",
     "output_type": "stream",
     "text": [
      "\n",
      "Val: Loss: 0.117, Acc: 0.502, AUROC: 0.630\n",
      "Resetted model to previous best.\n",
      "Lowered lr to 1.0000000000000001e-11\n",
      "Epoch 6:\n"
     ]
    },
    {
     "data": {
      "application/vnd.jupyter.widget-view+json": {
       "model_id": "84dcc3ca66f24b769b878ee4a1fa3f04",
       "version_major": 2,
       "version_minor": 0
      },
      "text/plain": [
       "HBox(children=(HTML(value=''), FloatProgress(value=0.0, max=4327.0), HTML(value='')))"
      ]
     },
     "metadata": {},
     "output_type": "display_data"
    },
    {
     "name": "stdout",
     "output_type": "stream",
     "text": [
      "\n",
      "Train: Loss: 0.115, Acc: 0.567, AUROC: 0.640\n"
     ]
    },
    {
     "data": {
      "application/vnd.jupyter.widget-view+json": {
       "model_id": "84baadf443d64fbcbbf365d871cc7165",
       "version_major": 2,
       "version_minor": 0
      },
      "text/plain": [
       "HBox(children=(HTML(value=''), FloatProgress(value=0.0, max=1082.0), HTML(value='')))"
      ]
     },
     "metadata": {},
     "output_type": "display_data"
    },
    {
     "name": "stdout",
     "output_type": "stream",
     "text": [
      "\n",
      "Val: Loss: 0.115, Acc: 0.487, AUROC: 0.642\n",
      "Resetted model to previous best.\n",
      "Lowered lr to 1.0000000000000002e-12\n",
      "Epoch 7:\n"
     ]
    },
    {
     "data": {
      "application/vnd.jupyter.widget-view+json": {
       "model_id": "62ab9d91cf144b6eb22dc0a7f3e605de",
       "version_major": 2,
       "version_minor": 0
      },
      "text/plain": [
       "HBox(children=(HTML(value=''), FloatProgress(value=0.0, max=4327.0), HTML(value='')))"
      ]
     },
     "metadata": {},
     "output_type": "display_data"
    },
    {
     "name": "stdout",
     "output_type": "stream",
     "text": [
      "\n",
      "Train: Loss: 0.115, Acc: 0.566, AUROC: 0.639\n"
     ]
    },
    {
     "data": {
      "application/vnd.jupyter.widget-view+json": {
       "model_id": "50c603b9ef8b409c9eaa52011fbeef6b",
       "version_major": 2,
       "version_minor": 0
      },
      "text/plain": [
       "HBox(children=(HTML(value=''), FloatProgress(value=0.0, max=1082.0), HTML(value='')))"
      ]
     },
     "metadata": {},
     "output_type": "display_data"
    },
    {
     "name": "stdout",
     "output_type": "stream",
     "text": [
      "\n",
      "Val: Loss: 0.116, Acc: 0.590, AUROC: 0.635\n",
      "Resetted model to previous best.\n",
      "Lowered lr to 1.0000000000000002e-13\n",
      "Epoch 8:\n"
     ]
    },
    {
     "data": {
      "application/vnd.jupyter.widget-view+json": {
       "model_id": "7b370524abcd48898452a380818950af",
       "version_major": 2,
       "version_minor": 0
      },
      "text/plain": [
       "HBox(children=(HTML(value=''), FloatProgress(value=0.0, max=4327.0), HTML(value='')))"
      ]
     },
     "metadata": {},
     "output_type": "display_data"
    },
    {
     "name": "stdout",
     "output_type": "stream",
     "text": [
      "\n",
      "Train: Loss: 0.115, Acc: 0.563, AUROC: 0.636\n"
     ]
    },
    {
     "data": {
      "application/vnd.jupyter.widget-view+json": {
       "model_id": "8d7e5be7bbc64ca88a1fcc4f88fdcbdd",
       "version_major": 2,
       "version_minor": 0
      },
      "text/plain": [
       "HBox(children=(HTML(value=''), FloatProgress(value=0.0, max=1082.0), HTML(value='')))"
      ]
     },
     "metadata": {},
     "output_type": "display_data"
    },
    {
     "name": "stdout",
     "output_type": "stream",
     "text": [
      "\n",
      "Val: Loss: 0.116, Acc: 0.465, AUROC: 0.631\n",
      "Resetted model to previous best.\n",
      "Lowered lr to 1.0000000000000002e-14\n",
      "Learning rate is basically zero. Stopping training.\n",
      "FERTIG! :D\n"
     ]
    }
   ],
   "source": [
    "for label in sorted(train_labels):\n",
    "    print(f\"Training model to classify '{label}'\")\n",
    "    \n",
    "    # Seed\n",
    "    seed = 92\n",
    "    seed_everything(seed)\n",
    "    \n",
    "    # Inital setup\n",
    "    model_name = f\"DenseNet121_v2_{label}\"#f\"sam_densenet_v1_{label}\"\n",
    "    model_type = \"densenet\"\n",
    "    bs = 16\n",
    "    lr = 1e-3\n",
    "    epochs = 50\n",
    "    image_size = (224, 224)\n",
    "    device = get_device()\n",
    "    labels = get_labels()\n",
    "    \n",
    "    # Load data\n",
    "    train_df, valid_df, test_df = get_dataframes(include_labels=labels, \n",
    "                                                 small=False)\n",
    "    print(train_df.shape, valid_df.shape, test_df.shape)\n",
    "    train_df = get_binary_df(label, train_df)\n",
    "    valid_df = get_binary_df(label, valid_df)\n",
    "    test_df = get_binary_df(label, test_df)\n",
    "    \n",
    "    # Compute label weights\n",
    "    train_label = train_df[[label]].values\n",
    "    neg_weights, pos_weights = compute_class_freqs(train_label)\n",
    "    neg_weights, pos_weights = torch.Tensor(neg_weights), torch.Tensor(pos_weights)\n",
    "    print(neg_weights, pos_weights)\n",
    "    \n",
    "    # Get transforms\n",
    "    train_tfs, test_tfs = get_transforms(image_size=image_size)\n",
    "    \n",
    "    # Create datasets\n",
    "    train_ds = CRX8_Data(train_df, get_image_path(), label, image_size=image_size, transforms=train_tfs)\n",
    "    valid_ds = CRX8_Data(valid_df, get_image_path(), label, image_size=image_size, transforms=test_tfs)\n",
    "    test_ds  = CRX8_Data(test_df , get_image_path(), label, image_size=image_size, transforms=test_tfs)\n",
    "    \n",
    "    # Create dataloaders\n",
    "    train_dl = DataLoader(train_ds, batch_size=bs, shuffle=True)\n",
    "    valid_dl = DataLoader(valid_ds, batch_size=bs, shuffle=False)\n",
    "    test_dl  = DataLoader(test_ds,  batch_size=bs, shuffle=False)\n",
    "    dataloaders = {\n",
    "        \"train\": train_dl,\n",
    "        \"val\": valid_dl,\n",
    "        \"test\": test_dl\n",
    "    }\n",
    "    \n",
    "    # Load imagenet-pretrained model\n",
    "    if label in list(already_pretrained.keys()):\n",
    "        model = load_model(model_name)\n",
    "        lr = already_pretrained[label]\n",
    "    else:\n",
    "        model = pretrained_densenet121()\n",
    "    model = model.to(device)\n",
    "    \n",
    "    \n",
    "    \n",
    "    # Get criterion and optimizer\n",
    "    criterion = get_weighted_loss_with_logits(pos_weights.to(device), \n",
    "                                              neg_weights.to(device))\n",
    "    sam_optimizer = SAM(model.parameters(), torch.optim.Adam, lr=lr)\n",
    "    \n",
    "    # Train model\n",
    "    model, history = fit(model, criterion, sam_optimizer, \n",
    "                         dataloaders, model_name, epochs, \n",
    "                         lr, sam=True, with_reset=True, metric=\"loss\", patience=1)\n",
    "\n",
    "FERTIG()"
   ]
  },
  {
   "cell_type": "code",
   "execution_count": null,
   "metadata": {},
   "outputs": [],
   "source": []
  },
  {
   "cell_type": "code",
   "execution_count": null,
   "metadata": {},
   "outputs": [],
   "source": []
  }
 ],
 "metadata": {
  "kernelspec": {
   "display_name": "Python 3",
   "language": "python",
   "name": "python3"
  },
  "language_info": {
   "codemirror_mode": {
    "name": "ipython",
    "version": 3
   },
   "file_extension": ".py",
   "mimetype": "text/x-python",
   "name": "python",
   "nbconvert_exporter": "python",
   "pygments_lexer": "ipython3",
   "version": "3.8.8"
  },
  "varInspector": {
   "cols": {
    "lenName": 16,
    "lenType": 16,
    "lenVar": 40
   },
   "kernels_config": {
    "python": {
     "delete_cmd_postfix": "",
     "delete_cmd_prefix": "del ",
     "library": "var_list.py",
     "varRefreshCmd": "print(var_dic_list())"
    },
    "r": {
     "delete_cmd_postfix": ") ",
     "delete_cmd_prefix": "rm(",
     "library": "var_list.r",
     "varRefreshCmd": "cat(var_dic_list()) "
    }
   },
   "types_to_exclude": [
    "module",
    "function",
    "builtin_function_or_method",
    "instance",
    "_Feature"
   ],
   "window_display": false
  }
 },
 "nbformat": 4,
 "nbformat_minor": 4
}
