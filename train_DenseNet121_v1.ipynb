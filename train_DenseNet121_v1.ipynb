{
 "cells": [
  {
   "cell_type": "code",
   "execution_count": 1,
   "metadata": {
    "ExecuteTime": {
     "end_time": "2021-03-10T21:59:11.555365Z",
     "start_time": "2021-03-10T21:59:10.827082Z"
    }
   },
   "outputs": [],
   "source": [
    "from exp.utils import *\n",
    "from tqdm.notebook import tqdm\n",
    "from multiprocessing import Pool\n",
    "\n",
    "import torch\n",
    "import torch.nn as NN\n",
    "from torch.utils.data import Dataset, DataLoader\n",
    "from torchvision import datasets, transforms\n",
    "from torchvision.transforms import ToTensor"
   ]
  },
  {
   "cell_type": "code",
   "execution_count": 2,
   "metadata": {
    "ExecuteTime": {
     "end_time": "2021-03-10T21:59:11.558153Z",
     "start_time": "2021-03-10T21:59:11.556272Z"
    }
   },
   "outputs": [],
   "source": [
    "seed = 92\n",
    "seed_everything(seed)"
   ]
  },
  {
   "cell_type": "code",
   "execution_count": 3,
   "metadata": {
    "ExecuteTime": {
     "end_time": "2021-03-10T21:59:11.563126Z",
     "start_time": "2021-03-10T21:59:11.559104Z"
    }
   },
   "outputs": [],
   "source": [
    "sigmoid = NN.Sigmoid()"
   ]
  },
  {
   "cell_type": "code",
   "execution_count": 4,
   "metadata": {
    "ExecuteTime": {
     "end_time": "2021-03-10T21:59:11.567068Z",
     "start_time": "2021-03-10T21:59:11.564257Z"
    }
   },
   "outputs": [],
   "source": [
    "model_name = \"py_test_01\"\n",
    "bs = 16\n",
    "epochs = 5\n",
    "image_size = (228, 228)"
   ]
  },
  {
   "cell_type": "code",
   "execution_count": 5,
   "metadata": {
    "ExecuteTime": {
     "end_time": "2021-03-10T21:59:11.585057Z",
     "start_time": "2021-03-10T21:59:11.567968Z"
    }
   },
   "outputs": [
    {
     "name": "stdout",
     "output_type": "stream",
     "text": [
      "Using the GPU!\n"
     ]
    }
   ],
   "source": [
    "device = get_device()"
   ]
  },
  {
   "cell_type": "code",
   "execution_count": 6,
   "metadata": {
    "ExecuteTime": {
     "end_time": "2021-03-10T21:59:11.691885Z",
     "start_time": "2021-03-10T21:59:11.585953Z"
    }
   },
   "outputs": [],
   "source": [
    "labels = get_labels()"
   ]
  },
  {
   "cell_type": "code",
   "execution_count": 7,
   "metadata": {
    "ExecuteTime": {
     "end_time": "2021-03-10T21:59:12.375740Z",
     "start_time": "2021-03-10T21:59:11.692786Z"
    }
   },
   "outputs": [
    {
     "name": "stderr",
     "output_type": "stream",
     "text": [
      "/home/favi/work/crx8/exp/utils.py:127: UserWarning: Train-Val-Split currently with patient overlap!\n",
      "  warnings.warn(\"Train-Val-Split currently with patient overlap!\")\n"
     ]
    }
   ],
   "source": [
    "train_df, valid_df, test_df = get_dataframes(small=False)"
   ]
  },
  {
   "cell_type": "code",
   "execution_count": 8,
   "metadata": {
    "ExecuteTime": {
     "end_time": "2021-03-10T21:59:12.384686Z",
     "start_time": "2021-03-10T21:59:12.376709Z"
    }
   },
   "outputs": [],
   "source": [
    "train_label = train_df[labels].values\n",
    "pos_weights = compute_positive_class_weigths(train_label)"
   ]
  },
  {
   "cell_type": "code",
   "execution_count": 9,
   "metadata": {
    "ExecuteTime": {
     "end_time": "2021-03-10T21:59:12.388647Z",
     "start_time": "2021-03-10T21:59:12.386376Z"
    }
   },
   "outputs": [],
   "source": [
    "train_tfs = transforms.Compose([\n",
    "    transforms.Normalize([SUBSET_MEAN]*3, [SUBSET_STD]*3),\n",
    "    transforms.Resize(image_size),\n",
    "    transforms.RandomHorizontalFlip(p=0.5)\n",
    "])\n",
    "test_tfs = transforms.Compose([\n",
    "    transforms.Normalize([SUBSET_MEAN]*3, [SUBSET_STD]*3),\n",
    "    transforms.Resize(image_size),\n",
    "])"
   ]
  },
  {
   "cell_type": "code",
   "execution_count": 10,
   "metadata": {
    "ExecuteTime": {
     "end_time": "2021-03-10T21:59:12.417296Z",
     "start_time": "2021-03-10T21:59:12.389773Z"
    }
   },
   "outputs": [],
   "source": [
    "train_ds = CRX8_Data(train_df, get_image_path(), labels, transforms=train_tfs)\n",
    "valid_ds = CRX8_Data(valid_df, get_image_path(), labels, transforms=test_tfs)\n",
    "test_ds  = CRX8_Data(test_df , get_image_path(), labels, transforms=test_tfs)"
   ]
  },
  {
   "cell_type": "code",
   "execution_count": 11,
   "metadata": {
    "ExecuteTime": {
     "end_time": "2021-03-10T21:59:12.420357Z",
     "start_time": "2021-03-10T21:59:12.418178Z"
    }
   },
   "outputs": [],
   "source": [
    "train_dl = DataLoader(train_ds, batch_size=bs, shuffle=True)\n",
    "valid_dl = DataLoader(valid_ds, batch_size=bs, shuffle=False)\n",
    "test_dl  = DataLoader(test_ds,  batch_size=bs, shuffle=False)\n",
    "\n",
    "dataloaders = {\n",
    "    \"train\": train_dl,\n",
    "    \"val\": valid_dl,\n",
    "    \"test\": test_dl\n",
    "}"
   ]
  },
  {
   "cell_type": "code",
   "execution_count": 12,
   "metadata": {
    "ExecuteTime": {
     "end_time": "2021-03-10T21:59:13.455674Z",
     "start_time": "2021-03-10T21:59:12.421182Z"
    }
   },
   "outputs": [],
   "source": [
    "criterion = NN.BCEWithLogitsLoss(pos_weight=pos_weights.to(device), reduction=\"sum\")"
   ]
  },
  {
   "cell_type": "code",
   "execution_count": 13,
   "metadata": {
    "ExecuteTime": {
     "end_time": "2021-03-10T21:59:13.458965Z",
     "start_time": "2021-03-10T21:59:13.456626Z"
    }
   },
   "outputs": [],
   "source": [
    "import torchvision.models as models\n",
    "def pretrained_resnet34():\n",
    "    model = models.resnet34(pretrained=True)\n",
    "    model.fc = NN.Linear(512, len(labels))\n",
    "    return model\n",
    "\n",
    "def pretrained_densenet121():\n",
    "    model = models.densenet121(pretrained=True)\n",
    "    model.classifier = NN.Linear(1024, len(labels))\n",
    "    return model"
   ]
  },
  {
   "cell_type": "code",
   "execution_count": 14,
   "metadata": {
    "ExecuteTime": {
     "end_time": "2021-03-10T21:59:13.663111Z",
     "start_time": "2021-03-10T21:59:13.459795Z"
    }
   },
   "outputs": [],
   "source": [
    "model = pretrained_densenet121()\n",
    "model = model.to(device)"
   ]
  },
  {
   "cell_type": "code",
   "execution_count": 15,
   "metadata": {
    "ExecuteTime": {
     "end_time": "2021-03-10T21:59:13.666433Z",
     "start_time": "2021-03-10T21:59:13.663910Z"
    }
   },
   "outputs": [],
   "source": [
    "optimizer = torch.optim.Adam(model.parameters(),lr=lr)"
   ]
  },
  {
   "cell_type": "code",
   "execution_count": 16,
   "metadata": {
    "ExecuteTime": {
     "end_time": "2021-03-10T22:26:43.863743Z",
     "start_time": "2021-03-10T21:59:13.667151Z"
    }
   },
   "outputs": [
    {
     "data": {
      "application/vnd.jupyter.widget-view+json": {
       "model_id": "ca53410712a9414b8dbbd68709324426",
       "version_major": 2,
       "version_minor": 0
      },
      "text/plain": [
       "HBox(children=(HTML(value=''), FloatProgress(value=0.0, max=4327.0), HTML(value='')))"
      ]
     },
     "metadata": {},
     "output_type": "display_data"
    },
    {
     "name": "stdout",
     "output_type": "stream",
     "text": [
      "\n"
     ]
    },
    {
     "data": {
      "text/plain": [
       "[<matplotlib.lines.Line2D at 0x7fc2e4c27100>]"
      ]
     },
     "execution_count": 16,
     "metadata": {},
     "output_type": "execute_result"
    },
    {
     "data": {
      "image/png": "[encoded data removed]",
      "text/plain": [
       "<Figure size 432x288 with 1 Axes>"
      ]
     },
     "metadata": {
      "needs_background": "light"
     },
     "output_type": "display_data"
    }
   ],
   "source": [
    "logs,losses = find_lr(model, train_dl, optimizer, criterion, device=device)\n",
    "plt.plot(logs[10:-5],losses[10:-5])"
   ]
  },
  {
   "cell_type": "code",
   "execution_count": 17,
   "metadata": {
    "ExecuteTime": {
     "end_time": "2021-03-10T22:27:18.516644Z",
     "start_time": "2021-03-10T22:27:18.514704Z"
    }
   },
   "outputs": [],
   "source": [
    "lr = 1e-4"
   ]
  },
  {
   "cell_type": "code",
   "execution_count": 18,
   "metadata": {
    "ExecuteTime": {
     "end_time": "2021-03-10T22:27:19.499887Z",
     "start_time": "2021-03-10T22:27:19.496528Z"
    }
   },
   "outputs": [],
   "source": [
    "optimizer = torch.optim.Adam(model.parameters(),lr=lr)"
   ]
  },
  {
   "cell_type": "code",
   "execution_count": 19,
   "metadata": {
    "ExecuteTime": {
     "end_time": "2021-03-10T22:27:21.477886Z",
     "start_time": "2021-03-10T22:27:21.475373Z"
    }
   },
   "outputs": [],
   "source": [
    "logger = Logger()\n",
    "logger.add_metric(\"loss\")\n",
    "logger.add_metric(\"acc\")\n",
    "logger.add_metric(\"auroc\")"
   ]
  },
  {
   "cell_type": "code",
   "execution_count": 20,
   "metadata": {
    "ExecuteTime": {
     "end_time": "2021-03-10T22:27:22.455475Z",
     "start_time": "2021-03-10T22:27:22.453628Z"
    }
   },
   "outputs": [],
   "source": [
    "num_steps = len(train_dl) * epochs\n",
    "lr_range = (lr / 10, lr)\n",
    "scheduler = OneCycleLR(optimizer, num_steps, lr_range)"
   ]
  },
  {
   "cell_type": "code",
   "execution_count": null,
   "metadata": {
    "ExecuteTime": {
     "end_time": "2021-03-10T21:54:11.188697Z",
     "start_time": "2021-03-10T21:34:28.612339Z"
    }
   },
   "outputs": [],
   "source": [
    "model = train_model(model, criterion, optimizer, scheduler, \n",
    "                    dataloaders, logger, model_name,\n",
    "                    num_epochs=epochs, device=device)"
   ]
  },
  {
   "cell_type": "code",
   "execution_count": null,
   "metadata": {
    "ExecuteTime": {
     "end_time": "2021-03-10T21:54:35.268483Z",
     "start_time": "2021-03-10T21:54:35.190642Z"
    }
   },
   "outputs": [],
   "source": [
    "logger.plot_losses()"
   ]
  },
  {
   "cell_type": "code",
   "execution_count": null,
   "metadata": {
    "ExecuteTime": {
     "end_time": "2021-03-10T21:54:45.840193Z",
     "start_time": "2021-03-10T21:54:45.742962Z"
    }
   },
   "outputs": [],
   "source": [
    "logger.plot_acc()"
   ]
  },
  {
   "cell_type": "code",
   "execution_count": null,
   "metadata": {
    "ExecuteTime": {
     "end_time": "2021-03-10T21:54:55.112670Z",
     "start_time": "2021-03-10T21:54:55.097805Z"
    }
   },
   "outputs": [],
   "source": [
    "logger.plot_auroc()"
   ]
  },
  {
   "cell_type": "code",
   "execution_count": null,
   "metadata": {},
   "outputs": [],
   "source": []
  },
  {
   "cell_type": "code",
   "execution_count": null,
   "metadata": {},
   "outputs": [],
   "source": []
  },
  {
   "cell_type": "code",
   "execution_count": null,
   "metadata": {},
   "outputs": [],
   "source": []
  }
 ],
 "metadata": {
  "kernelspec": {
   "display_name": "Python 3",
   "language": "python",
   "name": "python3"
  },
  "language_info": {
   "codemirror_mode": {
    "name": "ipython",
    "version": 3
   },
   "file_extension": ".py",
   "mimetype": "text/x-python",
   "name": "python",
   "nbconvert_exporter": "python",
   "pygments_lexer": "ipython3",
   "version": "3.8.8"
  },
  "varInspector": {
   "cols": {
    "lenName": 16,
    "lenType": 16,
    "lenVar": 40
   },
   "kernels_config": {
    "python": {
     "delete_cmd_postfix": "",
     "delete_cmd_prefix": "del ",
     "library": "var_list.py",
     "varRefreshCmd": "print(var_dic_list())"
    },
    "r": {
     "delete_cmd_postfix": ") ",
     "delete_cmd_prefix": "rm(",
     "library": "var_list.r",
     "varRefreshCmd": "cat(var_dic_list()) "
    }
   },
   "types_to_exclude": [
    "module",
    "function",
    "builtin_function_or_method",
    "instance",
    "_Feature"
   ],
   "window_display": false
  }
 },
 "nbformat": 4,
 "nbformat_minor": 4
}
