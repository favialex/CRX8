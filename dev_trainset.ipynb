{
 "cells": [
  {
   "cell_type": "code",
   "execution_count": 4,
   "metadata": {
    "ExecuteTime": {
     "end_time": "2021-05-21T09:49:57.993205Z",
     "start_time": "2021-05-21T09:49:57.991007Z"
    }
   },
   "outputs": [],
   "source": [
    "from exp.utils import *"
   ]
  },
  {
   "cell_type": "code",
   "execution_count": 5,
   "metadata": {
    "ExecuteTime": {
     "end_time": "2021-05-21T09:49:58.503961Z",
     "start_time": "2021-05-21T09:49:58.499576Z"
    }
   },
   "outputs": [],
   "source": [
    "seed = 92\n",
    "seed_everything(seed=seed)"
   ]
  },
  {
   "cell_type": "code",
   "execution_count": 10,
   "metadata": {
    "ExecuteTime": {
     "end_time": "2021-05-21T09:52:17.463679Z",
     "start_time": "2021-05-21T09:52:17.362194Z"
    }
   },
   "outputs": [
    {
     "data": {
      "text/plain": [
       "['Pneumonia',\n",
       " 'Atelectasis',\n",
       " 'Pneumothorax',\n",
       " 'Pleural_Thickening',\n",
       " 'Cardiomegaly',\n",
       " 'Hernia',\n",
       " 'Infiltration',\n",
       " 'Fibrosis',\n",
       " 'Mass',\n",
       " 'Edema',\n",
       " 'Nodule',\n",
       " 'Effusion',\n",
       " 'Emphysema',\n",
       " 'Consolidation']"
      ]
     },
     "execution_count": 10,
     "metadata": {},
     "output_type": "execute_result"
    }
   ],
   "source": [
    "labels = get_labels()\n",
    "labels"
   ]
  },
  {
   "cell_type": "code",
   "execution_count": 6,
   "metadata": {
    "ExecuteTime": {
     "end_time": "2021-05-21T09:51:20.472566Z",
     "start_time": "2021-05-21T09:51:19.641409Z"
    }
   },
   "outputs": [],
   "source": [
    "train, val, test = get_dataframes(reduced=False)"
   ]
  },
  {
   "cell_type": "code",
   "execution_count": 11,
   "metadata": {
    "ExecuteTime": {
     "end_time": "2021-05-21T09:52:31.409999Z",
     "start_time": "2021-05-21T09:52:31.406018Z"
    }
   },
   "outputs": [],
   "source": [
    "train_lbls = train[labels].values"
   ]
  },
  {
   "cell_type": "code",
   "execution_count": 13,
   "metadata": {
    "ExecuteTime": {
     "end_time": "2021-05-21T09:56:55.462080Z",
     "start_time": "2021-05-21T09:56:55.418996Z"
    }
   },
   "outputs": [],
   "source": [
    "loi = \"Pneumonia\"\n",
    "loi_idx = [i for i, l in enumerate(labels) if l == loi][0]\n",
    "\n",
    "cmg_pos = []\n",
    "\n",
    "for r in range(train_lbls.shape[0]):\n",
    "    if train_lbls[r, loi_idx] == 1 and train_lbls[r].sum() == 1:\n",
    "        cmg_pos.append(r)\n",
    "    "
   ]
  },
  {
   "cell_type": "code",
   "execution_count": 18,
   "metadata": {
    "ExecuteTime": {
     "end_time": "2021-05-21T09:58:07.538928Z",
     "start_time": "2021-05-21T09:58:07.520685Z"
    }
   },
   "outputs": [
    {
     "data": {
      "text/html": [
       "<div>\n",
       "<style scoped>\n",
       "    .dataframe tbody tr th:only-of-type {\n",
       "        vertical-align: middle;\n",
       "    }\n",
       "\n",
       "    .dataframe tbody tr th {\n",
       "        vertical-align: top;\n",
       "    }\n",
       "\n",
       "    .dataframe thead th {\n",
       "        text-align: right;\n",
       "    }\n",
       "</style>\n",
       "<table border=\"1\" class=\"dataframe\">\n",
       "  <thead>\n",
       "    <tr style=\"text-align: right;\">\n",
       "      <th></th>\n",
       "      <th>Image Index</th>\n",
       "      <th>Pneumothorax</th>\n",
       "      <th>Nodule</th>\n",
       "      <th>Consolidation</th>\n",
       "      <th>Hernia</th>\n",
       "      <th>Infiltration</th>\n",
       "      <th>No Finding</th>\n",
       "      <th>Pneumonia</th>\n",
       "      <th>Mass</th>\n",
       "      <th>Cardiomegaly</th>\n",
       "      <th>...</th>\n",
       "      <th>Atelectasis</th>\n",
       "      <th>Follow-up #</th>\n",
       "      <th>Patient ID</th>\n",
       "      <th>Patient Age</th>\n",
       "      <th>Patient Gender</th>\n",
       "      <th>View Position</th>\n",
       "      <th>OriginalImage[Width</th>\n",
       "      <th>Height]</th>\n",
       "      <th>OriginalImagePixelSpacing[x</th>\n",
       "      <th>y]</th>\n",
       "    </tr>\n",
       "  </thead>\n",
       "  <tbody>\n",
       "    <tr>\n",
       "      <th>40492</th>\n",
       "      <td>00010531_073.png</td>\n",
       "      <td>0.0</td>\n",
       "      <td>0.0</td>\n",
       "      <td>0.0</td>\n",
       "      <td>0.0</td>\n",
       "      <td>0.0</td>\n",
       "      <td>0.0</td>\n",
       "      <td>1.0</td>\n",
       "      <td>0.0</td>\n",
       "      <td>0.0</td>\n",
       "      <td>...</td>\n",
       "      <td>0.0</td>\n",
       "      <td>53</td>\n",
       "      <td>10531</td>\n",
       "      <td>26</td>\n",
       "      <td>F</td>\n",
       "      <td>PA</td>\n",
       "      <td>2794</td>\n",
       "      <td>2422</td>\n",
       "      <td>0.143</td>\n",
       "      <td>0.143</td>\n",
       "    </tr>\n",
       "    <tr>\n",
       "      <th>40519</th>\n",
       "      <td>00010531_012.png</td>\n",
       "      <td>0.0</td>\n",
       "      <td>0.0</td>\n",
       "      <td>0.0</td>\n",
       "      <td>0.0</td>\n",
       "      <td>0.0</td>\n",
       "      <td>0.0</td>\n",
       "      <td>1.0</td>\n",
       "      <td>0.0</td>\n",
       "      <td>0.0</td>\n",
       "      <td>...</td>\n",
       "      <td>0.0</td>\n",
       "      <td>80</td>\n",
       "      <td>10531</td>\n",
       "      <td>28</td>\n",
       "      <td>F</td>\n",
       "      <td>AP</td>\n",
       "      <td>3056</td>\n",
       "      <td>2544</td>\n",
       "      <td>0.139</td>\n",
       "      <td>0.139</td>\n",
       "    </tr>\n",
       "    <tr>\n",
       "      <th>102831</th>\n",
       "      <td>00027415_064.png</td>\n",
       "      <td>0.0</td>\n",
       "      <td>0.0</td>\n",
       "      <td>0.0</td>\n",
       "      <td>0.0</td>\n",
       "      <td>0.0</td>\n",
       "      <td>0.0</td>\n",
       "      <td>1.0</td>\n",
       "      <td>0.0</td>\n",
       "      <td>0.0</td>\n",
       "      <td>...</td>\n",
       "      <td>0.0</td>\n",
       "      <td>64</td>\n",
       "      <td>27415</td>\n",
       "      <td>23</td>\n",
       "      <td>M</td>\n",
       "      <td>AP</td>\n",
       "      <td>3056</td>\n",
       "      <td>2544</td>\n",
       "      <td>0.139</td>\n",
       "      <td>0.139</td>\n",
       "    </tr>\n",
       "    <tr>\n",
       "      <th>29285</th>\n",
       "      <td>00007624_024.png</td>\n",
       "      <td>0.0</td>\n",
       "      <td>0.0</td>\n",
       "      <td>0.0</td>\n",
       "      <td>0.0</td>\n",
       "      <td>0.0</td>\n",
       "      <td>0.0</td>\n",
       "      <td>1.0</td>\n",
       "      <td>0.0</td>\n",
       "      <td>0.0</td>\n",
       "      <td>...</td>\n",
       "      <td>0.0</td>\n",
       "      <td>24</td>\n",
       "      <td>7624</td>\n",
       "      <td>25</td>\n",
       "      <td>M</td>\n",
       "      <td>AP</td>\n",
       "      <td>2500</td>\n",
       "      <td>2048</td>\n",
       "      <td>0.168</td>\n",
       "      <td>0.168</td>\n",
       "    </tr>\n",
       "    <tr>\n",
       "      <th>54333</th>\n",
       "      <td>00013641_048.png</td>\n",
       "      <td>0.0</td>\n",
       "      <td>0.0</td>\n",
       "      <td>0.0</td>\n",
       "      <td>0.0</td>\n",
       "      <td>0.0</td>\n",
       "      <td>0.0</td>\n",
       "      <td>1.0</td>\n",
       "      <td>0.0</td>\n",
       "      <td>0.0</td>\n",
       "      <td>...</td>\n",
       "      <td>0.0</td>\n",
       "      <td>48</td>\n",
       "      <td>13641</td>\n",
       "      <td>39</td>\n",
       "      <td>M</td>\n",
       "      <td>AP</td>\n",
       "      <td>2500</td>\n",
       "      <td>2048</td>\n",
       "      <td>0.168</td>\n",
       "      <td>0.168</td>\n",
       "    </tr>\n",
       "    <tr>\n",
       "      <th>67907</th>\n",
       "      <td>00016778_028.png</td>\n",
       "      <td>0.0</td>\n",
       "      <td>0.0</td>\n",
       "      <td>0.0</td>\n",
       "      <td>0.0</td>\n",
       "      <td>0.0</td>\n",
       "      <td>0.0</td>\n",
       "      <td>1.0</td>\n",
       "      <td>0.0</td>\n",
       "      <td>0.0</td>\n",
       "      <td>...</td>\n",
       "      <td>0.0</td>\n",
       "      <td>35</td>\n",
       "      <td>16778</td>\n",
       "      <td>26</td>\n",
       "      <td>M</td>\n",
       "      <td>AP</td>\n",
       "      <td>3056</td>\n",
       "      <td>2544</td>\n",
       "      <td>0.139</td>\n",
       "      <td>0.139</td>\n",
       "    </tr>\n",
       "    <tr>\n",
       "      <th>44941</th>\n",
       "      <td>00011553_006.png</td>\n",
       "      <td>0.0</td>\n",
       "      <td>0.0</td>\n",
       "      <td>0.0</td>\n",
       "      <td>0.0</td>\n",
       "      <td>0.0</td>\n",
       "      <td>0.0</td>\n",
       "      <td>1.0</td>\n",
       "      <td>0.0</td>\n",
       "      <td>0.0</td>\n",
       "      <td>...</td>\n",
       "      <td>0.0</td>\n",
       "      <td>6</td>\n",
       "      <td>11553</td>\n",
       "      <td>8</td>\n",
       "      <td>M</td>\n",
       "      <td>AP</td>\n",
       "      <td>2500</td>\n",
       "      <td>2048</td>\n",
       "      <td>0.168</td>\n",
       "      <td>0.168</td>\n",
       "    </tr>\n",
       "    <tr>\n",
       "      <th>44942</th>\n",
       "      <td>00011553_007.png</td>\n",
       "      <td>0.0</td>\n",
       "      <td>0.0</td>\n",
       "      <td>0.0</td>\n",
       "      <td>0.0</td>\n",
       "      <td>0.0</td>\n",
       "      <td>0.0</td>\n",
       "      <td>1.0</td>\n",
       "      <td>0.0</td>\n",
       "      <td>0.0</td>\n",
       "      <td>...</td>\n",
       "      <td>0.0</td>\n",
       "      <td>7</td>\n",
       "      <td>11553</td>\n",
       "      <td>8</td>\n",
       "      <td>M</td>\n",
       "      <td>AP</td>\n",
       "      <td>2500</td>\n",
       "      <td>2048</td>\n",
       "      <td>0.168</td>\n",
       "      <td>0.168</td>\n",
       "    </tr>\n",
       "    <tr>\n",
       "      <th>44980</th>\n",
       "      <td>00011553_045.png</td>\n",
       "      <td>0.0</td>\n",
       "      <td>0.0</td>\n",
       "      <td>0.0</td>\n",
       "      <td>0.0</td>\n",
       "      <td>0.0</td>\n",
       "      <td>0.0</td>\n",
       "      <td>1.0</td>\n",
       "      <td>0.0</td>\n",
       "      <td>0.0</td>\n",
       "      <td>...</td>\n",
       "      <td>0.0</td>\n",
       "      <td>45</td>\n",
       "      <td>11553</td>\n",
       "      <td>9</td>\n",
       "      <td>M</td>\n",
       "      <td>AP</td>\n",
       "      <td>2048</td>\n",
       "      <td>2500</td>\n",
       "      <td>0.168</td>\n",
       "      <td>0.168</td>\n",
       "    </tr>\n",
       "    <tr>\n",
       "      <th>33375</th>\n",
       "      <td>00008745_034.png</td>\n",
       "      <td>0.0</td>\n",
       "      <td>0.0</td>\n",
       "      <td>0.0</td>\n",
       "      <td>0.0</td>\n",
       "      <td>0.0</td>\n",
       "      <td>0.0</td>\n",
       "      <td>1.0</td>\n",
       "      <td>0.0</td>\n",
       "      <td>0.0</td>\n",
       "      <td>...</td>\n",
       "      <td>0.0</td>\n",
       "      <td>34</td>\n",
       "      <td>8745</td>\n",
       "      <td>45</td>\n",
       "      <td>M</td>\n",
       "      <td>AP</td>\n",
       "      <td>2500</td>\n",
       "      <td>2048</td>\n",
       "      <td>0.168</td>\n",
       "      <td>0.168</td>\n",
       "    </tr>\n",
       "  </tbody>\n",
       "</table>\n",
       "<p>10 rows × 25 columns</p>\n",
       "</div>"
      ],
      "text/plain": [
       "             Image Index  Pneumothorax  Nodule  Consolidation  Hernia  \\\n",
       "40492   00010531_073.png           0.0     0.0            0.0     0.0   \n",
       "40519   00010531_012.png           0.0     0.0            0.0     0.0   \n",
       "102831  00027415_064.png           0.0     0.0            0.0     0.0   \n",
       "29285   00007624_024.png           0.0     0.0            0.0     0.0   \n",
       "54333   00013641_048.png           0.0     0.0            0.0     0.0   \n",
       "67907   00016778_028.png           0.0     0.0            0.0     0.0   \n",
       "44941   00011553_006.png           0.0     0.0            0.0     0.0   \n",
       "44942   00011553_007.png           0.0     0.0            0.0     0.0   \n",
       "44980   00011553_045.png           0.0     0.0            0.0     0.0   \n",
       "33375   00008745_034.png           0.0     0.0            0.0     0.0   \n",
       "\n",
       "        Infiltration  No Finding  Pneumonia  Mass  Cardiomegaly  ...  \\\n",
       "40492            0.0         0.0        1.0   0.0           0.0  ...   \n",
       "40519            0.0         0.0        1.0   0.0           0.0  ...   \n",
       "102831           0.0         0.0        1.0   0.0           0.0  ...   \n",
       "29285            0.0         0.0        1.0   0.0           0.0  ...   \n",
       "54333            0.0         0.0        1.0   0.0           0.0  ...   \n",
       "67907            0.0         0.0        1.0   0.0           0.0  ...   \n",
       "44941            0.0         0.0        1.0   0.0           0.0  ...   \n",
       "44942            0.0         0.0        1.0   0.0           0.0  ...   \n",
       "44980            0.0         0.0        1.0   0.0           0.0  ...   \n",
       "33375            0.0         0.0        1.0   0.0           0.0  ...   \n",
       "\n",
       "        Atelectasis  Follow-up #  Patient ID  Patient Age  Patient Gender  \\\n",
       "40492           0.0           53       10531           26               F   \n",
       "40519           0.0           80       10531           28               F   \n",
       "102831          0.0           64       27415           23               M   \n",
       "29285           0.0           24        7624           25               M   \n",
       "54333           0.0           48       13641           39               M   \n",
       "67907           0.0           35       16778           26               M   \n",
       "44941           0.0            6       11553            8               M   \n",
       "44942           0.0            7       11553            8               M   \n",
       "44980           0.0           45       11553            9               M   \n",
       "33375           0.0           34        8745           45               M   \n",
       "\n",
       "        View Position  OriginalImage[Width  Height]  \\\n",
       "40492              PA                 2794     2422   \n",
       "40519              AP                 3056     2544   \n",
       "102831             AP                 3056     2544   \n",
       "29285              AP                 2500     2048   \n",
       "54333              AP                 2500     2048   \n",
       "67907              AP                 3056     2544   \n",
       "44941              AP                 2500     2048   \n",
       "44942              AP                 2500     2048   \n",
       "44980              AP                 2048     2500   \n",
       "33375              AP                 2500     2048   \n",
       "\n",
       "        OriginalImagePixelSpacing[x     y]  \n",
       "40492                         0.143  0.143  \n",
       "40519                         0.139  0.139  \n",
       "102831                        0.139  0.139  \n",
       "29285                         0.168  0.168  \n",
       "54333                         0.168  0.168  \n",
       "67907                         0.139  0.139  \n",
       "44941                         0.168  0.168  \n",
       "44942                         0.168  0.168  \n",
       "44980                         0.168  0.168  \n",
       "33375                         0.168  0.168  \n",
       "\n",
       "[10 rows x 25 columns]"
      ]
     },
     "execution_count": 18,
     "metadata": {},
     "output_type": "execute_result"
    }
   ],
   "source": [
    "train.iloc[cmg_pos[:10],:]"
   ]
  },
  {
   "cell_type": "code",
   "execution_count": 20,
   "metadata": {
    "ExecuteTime": {
     "end_time": "2021-05-21T10:00:01.793649Z",
     "start_time": "2021-05-21T10:00:01.790886Z"
    }
   },
   "outputs": [
    {
     "ename": "SyntaxError",
     "evalue": "invalid syntax (<ipython-input-20-635ccd437fee>, line 1)",
     "output_type": "error",
     "traceback": [
      "\u001b[0;36m  File \u001b[0;32m\"<ipython-input-20-635ccd437fee>\"\u001b[0;36m, line \u001b[0;32m1\u001b[0m\n\u001b[0;31m    show_image(get_image_path()/00007624_024.png)\u001b[0m\n\u001b[0m                                             ^\u001b[0m\n\u001b[0;31mSyntaxError\u001b[0m\u001b[0;31m:\u001b[0m invalid syntax\n"
     ]
    }
   ],
   "source": [
    "show_image(get_image_path()/00007624_024.png)"
   ]
  },
  {
   "cell_type": "code",
   "execution_count": null,
   "metadata": {},
   "outputs": [],
   "source": []
  }
 ],
 "metadata": {
  "kernelspec": {
   "display_name": "Python 3",
   "language": "python",
   "name": "python3"
  },
  "language_info": {
   "codemirror_mode": {
    "name": "ipython",
    "version": 3
   },
   "file_extension": ".py",
   "mimetype": "text/x-python",
   "name": "python",
   "nbconvert_exporter": "python",
   "pygments_lexer": "ipython3",
   "version": "3.8.8"
  },
  "varInspector": {
   "cols": {
    "lenName": 16,
    "lenType": 16,
    "lenVar": 40
   },
   "kernels_config": {
    "python": {
     "delete_cmd_postfix": "",
     "delete_cmd_prefix": "del ",
     "library": "var_list.py",
     "varRefreshCmd": "print(var_dic_list())"
    },
    "r": {
     "delete_cmd_postfix": ") ",
     "delete_cmd_prefix": "rm(",
     "library": "var_list.r",
     "varRefreshCmd": "cat(var_dic_list()) "
    }
   },
   "types_to_exclude": [
    "module",
    "function",
    "builtin_function_or_method",
    "instance",
    "_Feature"
   ],
   "window_display": false
  }
 },
 "nbformat": 4,
 "nbformat_minor": 4
}
