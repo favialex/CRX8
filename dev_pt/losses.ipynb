{
 "cells": [
  {
   "cell_type": "code",
   "execution_count": null,
   "metadata": {},
   "outputs": [],
   "source": [
    "#export\n",
    "\n",
    "import torch\n",
    "import torch.nn as NN"
   ]
  },
  {
   "cell_type": "code",
   "execution_count": null,
   "metadata": {},
   "outputs": [],
   "source": [
    "#export\n",
    "class CustomLoss:\n",
    "    def __init__(self, reduction=\"mean\", quadratic=False):\n",
    "        self.sigmoid = NN.Sigmoid()\n",
    "        self.kl = NN.KLDivLoss(reduction=reduction)\n",
    "        self.cel = NN.BCEWithLogitsLoss(reduction=reduction)\n",
    "        self.quadratic = quadratic\n",
    "    def __call__(self, X, y):\n",
    "        comb_loss = self.kl(self.sigmoid(X), y) + self.cel(X, y)\n",
    "        if self.quadratic: return torch.pow(comb_loss, 2.)\n",
    "        return comb_loss"
   ]
  },
  {
   "cell_type": "code",
   "execution_count": null,
   "metadata": {},
   "outputs": [],
   "source": [
    "#export\n",
    "def get_weighted_loss(pos_weights, neg_weights, epsilon=1e-7, reduced=True):\n",
    "    def weighted_loss(y_pred, y_true):\n",
    "        loss = 0.0\n",
    "        for i in range(len(pos_weights)):\n",
    "            if reduced:\n",
    "                loss_pos = torch.mean(-pos_weights[i] * y_true[:, i] * torch.log(y_pred[:, i] + epsilon))\n",
    "                loss_neg = torch.mean(-neg_weights[i] * (1 - y_true[:, i]) * torch.log(1 - y_pred[:, i] + epsilon))\n",
    "            else:\n",
    "                loss_pos = -pos_weights[i] * y_true[:, i] * torch.log(y_pred[:, i] + epsilon)\n",
    "                loss_neg = -neg_weights[i] * (1 - y_true[:, i]) * torch.log(1 - y_pred[:, i] + epsilon)\n",
    "            loss += loss_pos + loss_neg\n",
    "        return loss\n",
    "    return weighted_loss"
   ]
  },
  {
   "cell_type": "code",
   "execution_count": null,
   "metadata": {},
   "outputs": [],
   "source": [
    "#export\n",
    "def get_weighted_loss_with_logits(pos_weights, neg_weights, epsilon=1e-7, reduced=True):\n",
    "    def weighted_loss(y_pred, y_true):\n",
    "        y_pred = NN.Sigmoid()(y_pred)\n",
    "        loss = 0.0\n",
    "        for i in range(len(pos_weights)):\n",
    "            if reduced:\n",
    "                loss_pos = torch.mean(-pos_weights[i] * y_true[:, i] * torch.log(y_pred[:, i] + epsilon))\n",
    "                loss_neg = torch.mean(-neg_weights[i] * (1 - y_true[:, i]) * torch.log(1 - y_pred[:, i] + epsilon))\n",
    "            else:\n",
    "                loss_pos = -pos_weights[i] * y_true[:, i] * torch.log(y_pred[:, i] + epsilon)\n",
    "                loss_neg = -neg_weights[i] * (1 - y_true[:, i]) * torch.log(1 - y_pred[:, i] + epsilon)\n",
    "            loss += loss_pos + loss_neg\n",
    "        return loss\n",
    "    return weighted_loss"
   ]
  },
  {
   "cell_type": "code",
   "execution_count": null,
   "metadata": {},
   "outputs": [],
   "source": [
    "#export\n",
    "def get_weighted_loss_with_logits_and_punishment(pos_weights, neg_weights, epsilon=1e-7):\n",
    "    def weighted_loss(y_pred, y_true):\n",
    "        y_pred = NN.Sigmoid()(y_pred)\n",
    "        cel_loss = 0.0\n",
    "        for i in range(len(pos_weights)):\n",
    "            cel_loss_pos = -pos_weights[i] * y_true[:, i] * torch.log(y_pred[:, i] + epsilon)\n",
    "            cel_loss_neg = -neg_weights[i] * (1 - y_true[:, i]) * torch.log(1 - y_pred[:, i] + epsilon)\n",
    "            cel_loss += cel_loss_pos + cel_loss_neg\n",
    "        pred_loss = torch.pow(2 * torch.abs(torch.abs(y_pred - 0.5) - 0.5), 2)\n",
    "        loss = cel_loss.mean() + pred_loss.mean()\n",
    "        return loss\n",
    "    return weighted_loss"
   ]
  }
 ],
 "metadata": {
  "kernelspec": {
   "display_name": "Python 3",
   "language": "python",
   "name": "python3"
  },
  "language_info": {
   "codemirror_mode": {
    "name": "ipython",
    "version": 3
   },
   "file_extension": ".py",
   "mimetype": "text/x-python",
   "name": "python",
   "nbconvert_exporter": "python",
   "pygments_lexer": "ipython3",
   "version": "3.8.8"
  },
  "varInspector": {
   "cols": {
    "lenName": 16,
    "lenType": 16,
    "lenVar": 40
   },
   "kernels_config": {
    "python": {
     "delete_cmd_postfix": "",
     "delete_cmd_prefix": "del ",
     "library": "var_list.py",
     "varRefreshCmd": "print(var_dic_list())"
    },
    "r": {
     "delete_cmd_postfix": ") ",
     "delete_cmd_prefix": "rm(",
     "library": "var_list.r",
     "varRefreshCmd": "cat(var_dic_list()) "
    }
   },
   "types_to_exclude": [
    "module",
    "function",
    "builtin_function_or_method",
    "instance",
    "_Feature"
   ],
   "window_display": false
  }
 },
 "nbformat": 4,
 "nbformat_minor": 4
}
