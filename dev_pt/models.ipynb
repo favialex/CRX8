{
 "cells": [
  {
   "cell_type": "code",
   "execution_count": null,
   "metadata": {},
   "outputs": [],
   "source": [
    "#export\n",
    "\n",
    "from exp.utils import *\n",
    "\n",
    "import torch\n",
    "import torch.nn as NN\n",
    "import torchvision.models as models"
   ]
  },
  {
   "cell_type": "code",
   "execution_count": null,
   "metadata": {},
   "outputs": [],
   "source": [
    "#export\n",
    "def pretrained_mobilenet():\n",
    "    # MobileNet v2\n",
    "    model = models.mobilenet_v2(pretrained=True)\n",
    "    model.classifier[1] = NN.Linear(1280, 1)\n",
    "    return model"
   ]
  },
  {
   "cell_type": "code",
   "execution_count": null,
   "metadata": {},
   "outputs": [],
   "source": [
    "#export\n",
    "def pretrained_resnet34():\n",
    "    model = models.resnet34(pretrained=True)\n",
    "    model.fc = NN.Linear(512, 1)\n",
    "    return model"
   ]
  },
  {
   "cell_type": "code",
   "execution_count": null,
   "metadata": {},
   "outputs": [],
   "source": [
    "#export\n",
    "def pretrained_resnet18():\n",
    "    model = models.resnet18(pretrained=True)\n",
    "    model.fc = NN.Linear(512, 1)\n",
    "    return model"
   ]
  },
  {
   "cell_type": "code",
   "execution_count": null,
   "metadata": {},
   "outputs": [],
   "source": [
    "#export\n",
    "def pretrained_resnet50():\n",
    "    model = models.resnet50(pretrained=True)\n",
    "    model.fc = NN.Linear(2048, 1)\n",
    "    return model"
   ]
  },
  {
   "cell_type": "code",
   "execution_count": null,
   "metadata": {},
   "outputs": [],
   "source": [
    "#export\n",
    "def pretrained_mnasnet1_0():\n",
    "    model = models.mnasnet1_0(pretrained=True, progress=True)\n",
    "    model.classifier[1] = NN.Linear(1280, 1)\n",
    "    return model\n",
    "\n",
    "def pretrained_mnasnet0_5():\n",
    "    model = models.mnasnet0_5(pretrained=True, progress=True)\n",
    "    model.classifier[1] = NN.Linear(1280, 1)\n",
    "    return model"
   ]
  },
  {
   "cell_type": "code",
   "execution_count": null,
   "metadata": {},
   "outputs": [],
   "source": [
    "#export\n",
    "def untrained_mnasnet1_0():\n",
    "    model = models.mnasnet1_0(pretrained=False, progress=True)\n",
    "    model.classifier[1] = NN.Linear(1280, 1)\n",
    "    return model"
   ]
  },
  {
   "cell_type": "code",
   "execution_count": null,
   "metadata": {},
   "outputs": [],
   "source": [
    "#export\n",
    "def pretrained_densenet121():\n",
    "    model = models.densenet121(pretrained=True)\n",
    "    model.classifier = NN.Linear(1024, 1)\n",
    "    #model = NN.Sequential(\n",
    "    #    *models.densenet121(pretrained=True).features[:-1],\n",
    "    #    NN.Linear(1024, len(labels)))\n",
    "    return model"
   ]
  },
  {
   "cell_type": "code",
   "execution_count": null,
   "metadata": {},
   "outputs": [],
   "source": [
    "#export\n",
    "def transfer_learn_setup(model, lr, model_type):\n",
    "    for param in model.parameters(): param.requires_grad = False\n",
    "    if \"densenet\" in model_type.lower(): \n",
    "        for param in model.classifier.parameters(): param.requires_grad = True\n",
    "        return model, torch.optim.Adam(model.classifier.parameters(), lr=lr)\n",
    "    if \"resnet\" in model_type.lower():\n",
    "        for param in model.fc.parameters(): param.requires_grad = True\n",
    "        return model, torch.optim.Adam(model.fc.parameters(), lr=lr)\n",
    "\n",
    "    \n",
    "    #model_len = len(list(model.parameters()))\n",
    "    #for i, param in enumerate(model.parameters()): \n",
    "    #    if i < model_len - 2: param.requires_grad = False\n",
    "    #    else: param.requires_grad = True\n",
    "    #return model, torch.optim.Adam(model.parameters(), lr=lr)"
   ]
  },
  {
   "cell_type": "code",
   "execution_count": null,
   "metadata": {},
   "outputs": [],
   "source": [
    "#export\n",
    "def fine_tune_setup(model, lr):\n",
    "    for param in model.parameters(): param.requires_grad = True\n",
    "    return model, torch.optim.Adam(model.parameters(),lr=lr)"
   ]
  },
  {
   "cell_type": "code",
   "execution_count": null,
   "metadata": {},
   "outputs": [],
   "source": []
  },
  {
   "cell_type": "code",
   "execution_count": null,
   "metadata": {},
   "outputs": [],
   "source": []
  }
 ],
 "metadata": {
  "kernelspec": {
   "display_name": "Python 3",
   "language": "python",
   "name": "python3"
  },
  "language_info": {
   "codemirror_mode": {
    "name": "ipython",
    "version": 3
   },
   "file_extension": ".py",
   "mimetype": "text/x-python",
   "name": "python",
   "nbconvert_exporter": "python",
   "pygments_lexer": "ipython3",
   "version": "3.8.8"
  },
  "varInspector": {
   "cols": {
    "lenName": 16,
    "lenType": 16,
    "lenVar": 40
   },
   "kernels_config": {
    "python": {
     "delete_cmd_postfix": "",
     "delete_cmd_prefix": "del ",
     "library": "var_list.py",
     "varRefreshCmd": "print(var_dic_list())"
    },
    "r": {
     "delete_cmd_postfix": ") ",
     "delete_cmd_prefix": "rm(",
     "library": "var_list.r",
     "varRefreshCmd": "cat(var_dic_list()) "
    }
   },
   "types_to_exclude": [
    "module",
    "function",
    "builtin_function_or_method",
    "instance",
    "_Feature"
   ],
   "window_display": false
  }
 },
 "nbformat": 4,
 "nbformat_minor": 4
}
