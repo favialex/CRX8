{
 "cells": [
  {
   "cell_type": "code",
   "execution_count": 1,
   "metadata": {
    "ExecuteTime": {
     "end_time": "2021-03-24T21:04:22.483471Z",
     "start_time": "2021-03-24T21:04:21.058702Z"
    }
   },
   "outputs": [],
   "source": [
    "from exp.utils import *\n",
    "from exp.models import *\n",
    "from exp.losses import *\n",
    "from tqdm.notebook import tqdm\n",
    "from multiprocessing import Pool\n",
    "from PIL import Image\n",
    "\n",
    "import torch\n",
    "import torch.nn as NN\n",
    "from torch.utils.data import Dataset, DataLoader\n",
    "from torchvision import datasets, transforms\n",
    "\n",
    "from matplotlib.colors import LinearSegmentedColormap\n",
    "from captum.attr import visualization as viz\n",
    "from captum.attr import IntegratedGradients\n",
    "from captum.attr import GradientShap\n",
    "from captum.attr import DeepLift\n",
    "from captum.attr import Occlusion\n",
    "from captum.attr import NoiseTunnel\n",
    "from captum.attr import visualization as viz\n",
    "from captum.attr import Saliency\n",
    "\n",
    "from ipywidgets import interact"
   ]
  },
  {
   "cell_type": "code",
   "execution_count": null,
   "metadata": {
    "ExecuteTime": {
     "end_time": "2021-03-24T20:24:59.982608Z",
     "start_time": "2021-03-24T20:24:59.979118Z"
    }
   },
   "outputs": [],
   "source": [
    "model_name,\"_\".join(model_name.split(\"_\")[:-1])"
   ]
  },
  {
   "cell_type": "code",
   "execution_count": null,
   "metadata": {
    "ExecuteTime": {
     "end_time": "2021-03-24T20:26:22.584879Z",
     "start_time": "2021-03-24T20:26:22.581182Z"
    }
   },
   "outputs": [],
   "source": [
    "get_insights_path(model_name).parent.ls()"
   ]
  },
  {
   "cell_type": "code",
   "execution_count": 2,
   "metadata": {
    "ExecuteTime": {
     "end_time": "2021-03-24T21:04:26.211389Z",
     "start_time": "2021-03-24T21:04:26.209200Z"
    }
   },
   "outputs": [],
   "source": [
    "model_name = f\"DenseNet121_v1_Atelectasis\""
   ]
  },
  {
   "cell_type": "code",
   "execution_count": 23,
   "metadata": {
    "ExecuteTime": {
     "end_time": "2021-03-24T21:12:05.388242Z",
     "start_time": "2021-03-24T21:12:05.378289Z"
    }
   },
   "outputs": [],
   "source": [
    "\n",
    "\n",
    "def get_insights_path(model_name):\n",
    "    wd = get_working_dir()\n",
    "    dirs = [f.stem for f in wd.ls() if f.is_dir()]\n",
    "    if \"insights\" not in dirs:\n",
    "        (wd/\"insights\").mkdir(mode=0o777, parents=False, exist_ok=False)\n",
    "    d = wd/\"insights\"\n",
    "    dirs = [f.stem for f in d.ls() if f.is_dir()]\n",
    "    if model_name not in dirs:\n",
    "        (d/model_name).mkdir(mode=0o777, parents=False, exist_ok=False)\n",
    "    return d/model_name\n",
    "\n",
    "def load_model_metrics(model_name):\n",
    "    model_stem = \"_\".join(model_name.split(\"_\")[:-1])\n",
    "    parent_dir = get_insights_path(model_name).parent\n",
    "    stem_dirs = [d for d in parent_dir.ls() if d.is_dir()]\n",
    "    for idx, stem_dir in enumerate(stem_dirs):\n",
    "        extracted_label = stem_dir.name.split(\"_\")[-1]\n",
    "        complete_model_name = stem_dir/model_metrics_name(f\"{model_stem}_{extracted_label}\")\n",
    "        if idx == 0:\n",
    "            metrics = load_metrics(complete_model_name)\n",
    "        else:\n",
    "            metrics = pd.concat([metrics, load_metrics(complete_model_name)], axis=1)\n",
    "    return metrics\n",
    "\n",
    "def load_metrics(model_name):\n",
    "    absolute_path = len(str(model_name).split(\"/\")) > 1\n",
    "    if not absolute_path:\n",
    "        ipath = get_insights_path(model_name)\n",
    "        saved_metrics = pd.read_csv(str(ipath/model_metrics_name(model_name)))\n",
    "    else:\n",
    "        saved_metrics = pd.read_csv(str(model_name))\n",
    "    tmp = saved_metrics[\"Unnamed: 0\"].values\n",
    "    saved_metrics = saved_metrics.drop(columns=\"Unnamed: 0\")\n",
    "    saved_metrics.index = tmp\n",
    "    return saved_metrics\n",
    "\n",
    "def save_metrics(model_metrics, model_name):\n",
    "    ipath = get_insights_path(model_name)\n",
    "    model_metrics.to_csv(str(ipath/model_metrics_name(model_name)))\n",
    "    print(f\"Saved metrics to '{model_metrics_name(model_name)}'\")\n",
    "    #print(f\"Saved metrics to '{str(ipath/model_metrics_name(model_name))}'\")\n",
    "    "
   ]
  },
  {
   "cell_type": "code",
   "execution_count": 21,
   "metadata": {
    "ExecuteTime": {
     "end_time": "2021-03-24T21:11:04.697058Z",
     "start_time": "2021-03-24T21:11:04.693913Z"
    }
   },
   "outputs": [
    {
     "data": {
      "text/plain": [
       "False"
      ]
     },
     "execution_count": 21,
     "metadata": {},
     "output_type": "execute_result"
    }
   ],
   "source": [
    " len(str(\"DenseNet121_v1_Atelectasis\").split(\"/\")) > 1"
   ]
  },
  {
   "cell_type": "code",
   "execution_count": 24,
   "metadata": {
    "ExecuteTime": {
     "end_time": "2021-03-24T21:12:08.044965Z",
     "start_time": "2021-03-24T21:12:08.031114Z"
    }
   },
   "outputs": [
    {
     "data": {
      "text/html": [
       "<div>\n",
       "<style scoped>\n",
       "    .dataframe tbody tr th:only-of-type {\n",
       "        vertical-align: middle;\n",
       "    }\n",
       "\n",
       "    .dataframe tbody tr th {\n",
       "        vertical-align: top;\n",
       "    }\n",
       "\n",
       "    .dataframe thead th {\n",
       "        text-align: right;\n",
       "    }\n",
       "</style>\n",
       "<table border=\"1\" class=\"dataframe\">\n",
       "  <thead>\n",
       "    <tr style=\"text-align: right;\">\n",
       "      <th></th>\n",
       "      <th>DenseNet121_v1_Atelectasis</th>\n",
       "      <th>DenseNet121_v1_Pneumonia</th>\n",
       "      <th>DenseNet121_v1_Cardiomegaly</th>\n",
       "    </tr>\n",
       "  </thead>\n",
       "  <tbody>\n",
       "    <tr>\n",
       "      <th>loss</th>\n",
       "      <td>0.124008</td>\n",
       "      <td>0.031240</td>\n",
       "      <td>0.035327</td>\n",
       "    </tr>\n",
       "    <tr>\n",
       "      <th>acc</th>\n",
       "      <td>0.737295</td>\n",
       "      <td>0.482408</td>\n",
       "      <td>0.827209</td>\n",
       "    </tr>\n",
       "    <tr>\n",
       "      <th>auroc</th>\n",
       "      <td>0.694895</td>\n",
       "      <td>0.561636</td>\n",
       "      <td>0.874979</td>\n",
       "    </tr>\n",
       "    <tr>\n",
       "      <th>threshold</th>\n",
       "      <td>0.634645</td>\n",
       "      <td>0.506866</td>\n",
       "      <td>0.748586</td>\n",
       "    </tr>\n",
       "  </tbody>\n",
       "</table>\n",
       "</div>"
      ],
      "text/plain": [
       "           DenseNet121_v1_Atelectasis  DenseNet121_v1_Pneumonia  \\\n",
       "loss                         0.124008                  0.031240   \n",
       "acc                          0.737295                  0.482408   \n",
       "auroc                        0.694895                  0.561636   \n",
       "threshold                    0.634645                  0.506866   \n",
       "\n",
       "           DenseNet121_v1_Cardiomegaly  \n",
       "loss                          0.035327  \n",
       "acc                           0.827209  \n",
       "auroc                         0.874979  \n",
       "threshold                     0.748586  "
      ]
     },
     "execution_count": 24,
     "metadata": {},
     "output_type": "execute_result"
    }
   ],
   "source": [
    "load_model_metrics(model_name)"
   ]
  },
  {
   "cell_type": "code",
   "execution_count": null,
   "metadata": {
    "ExecuteTime": {
     "end_time": "2021-03-24T20:47:44.785596Z",
     "start_time": "2021-03-24T20:47:44.776353Z"
    }
   },
   "outputs": [],
   "source": [
    "load_metrics(model_name)"
   ]
  },
  {
   "cell_type": "code",
   "execution_count": null,
   "metadata": {},
   "outputs": [],
   "source": [
    "DenseNet121_v1_Atelectasis/DenseNet121_v1_Pneumonia_metrics.csv/DenseNet121_v1_Pneumonia_metrics.csv"
   ]
  },
  {
   "cell_type": "code",
   "execution_count": 3,
   "metadata": {
    "ExecuteTime": {
     "end_time": "2021-03-24T20:56:30.561002Z",
     "start_time": "2021-03-24T20:56:30.558822Z"
    }
   },
   "outputs": [],
   "source": [
    "picked_labels = [\"Atelectasis\", \"Cardiomegaly\", \"Pneumonia\"]"
   ]
  },
  {
   "cell_type": "code",
   "execution_count": 13,
   "metadata": {
    "ExecuteTime": {
     "end_time": "2021-03-24T21:03:35.507651Z",
     "start_time": "2021-03-24T21:02:29.864657Z"
    }
   },
   "outputs": [
    {
     "name": "stdout",
     "output_type": "stream",
     "text": [
      "Computing metrics for 'Atelectasis'\n",
      "DenseNet121_v1_Atelectasis\n",
      "Using the GPU!\n"
     ]
    },
    {
     "name": "stderr",
     "output_type": "stream",
     "text": [
      "/home/favi/work/crx8/exp/utils.py:179: UserWarning: Train-Val-Split currently with patient overlap!\n",
      "  warnings.warn(\"Train-Val-Split currently with patient overlap!\")\n"
     ]
    },
    {
     "data": {
      "application/vnd.jupyter.widget-view+json": {
       "model_id": "3894363aa36e4e4a9bd99ef6bd9b4559",
       "version_major": 2,
       "version_minor": 0
      },
      "text/plain": [
       "HBox(children=(HTML(value=''), FloatProgress(value=0.0, max=80.0), HTML(value='')))"
      ]
     },
     "metadata": {},
     "output_type": "display_data"
    },
    {
     "name": "stdout",
     "output_type": "stream",
     "text": [
      "\n",
      "Val: Loss: 0.124, Acc: 0.737, AUROC: 0.695\n",
      "Saved metrics to '/home/favi/work/crx8/insights/DenseNet121_v1_Atelectasis/DenseNet121_v1_Atelectasis_metrics.csv'\n",
      "Computing metrics for 'Cardiomegaly'\n",
      "DenseNet121_v1_Cardiomegaly\n",
      "Using the GPU!\n"
     ]
    },
    {
     "data": {
      "application/vnd.jupyter.widget-view+json": {
       "model_id": "f258fe14a7ea401d937d6bdd817cd542",
       "version_major": 2,
       "version_minor": 0
      },
      "text/plain": [
       "HBox(children=(HTML(value=''), FloatProgress(value=0.0, max=80.0), HTML(value='')))"
      ]
     },
     "metadata": {},
     "output_type": "display_data"
    },
    {
     "name": "stdout",
     "output_type": "stream",
     "text": [
      "\n",
      "Val: Loss: 0.035, Acc: 0.827, AUROC: 0.875\n",
      "Saved metrics to '/home/favi/work/crx8/insights/DenseNet121_v1_Cardiomegaly/DenseNet121_v1_Cardiomegaly_metrics.csv'\n",
      "Computing metrics for 'Pneumonia'\n",
      "DenseNet121_v1_Pneumonia\n",
      "Using the GPU!\n"
     ]
    },
    {
     "data": {
      "application/vnd.jupyter.widget-view+json": {
       "model_id": "7217687e9fec4d83a9d8d27fddd8eee1",
       "version_major": 2,
       "version_minor": 0
      },
      "text/plain": [
       "HBox(children=(HTML(value=''), FloatProgress(value=0.0, max=80.0), HTML(value='')))"
      ]
     },
     "metadata": {},
     "output_type": "display_data"
    },
    {
     "name": "stdout",
     "output_type": "stream",
     "text": [
      "\n",
      "Val: Loss: 0.031, Acc: 0.482, AUROC: 0.562\n",
      "Saved metrics to '/home/favi/work/crx8/insights/DenseNet121_v1_Pneumonia/DenseNet121_v1_Pneumonia_metrics.csv'\n",
      "FERTIG! :D\n"
     ]
    }
   ],
   "source": [
    "for label in picked_labels:\n",
    "    print(f\"Computing metrics for '{label}'\")\n",
    "    \n",
    "    seed = 92\n",
    "    model_name = f\"DenseNet121_v1_{label}\"\n",
    "    print(model_name)\n",
    "    s = 224\n",
    "    image_size = (s, s)\n",
    "    labels = get_labels()\n",
    "    bs = 16\n",
    "    device = get_device()\n",
    "    \n",
    "    sigmoid = NN.Sigmoid()\n",
    "    model = load_model(model_name)\n",
    "    model.eval();\n",
    "    model = model.to(device)\n",
    "    \n",
    "    seed_everything(seed=seed)\n",
    "    \n",
    "    train_df, _, test_df = get_dataframes(include_labels=labels, \n",
    "                                             small=True, small_fraction=0.05)\n",
    "\n",
    "    train_df = get_binary_df(label, train_df)\n",
    "    test_df = get_binary_df(label, test_df)\n",
    "\n",
    "    train_label = train_df[[label]].values\n",
    "    neg_weights, pos_weights = compute_class_freqs(train_label)\n",
    "    neg_weights, pos_weights = torch.Tensor(neg_weights), torch.Tensor(pos_weights)\n",
    "\n",
    "    _, test_tfs = get_transforms(image_size=image_size)\n",
    "\n",
    "    test_ds  = CRX8_Data(test_df , get_image_path(), label, image_size=image_size, transforms=test_tfs)\n",
    "\n",
    "    test_dl  = DataLoader(test_ds,  batch_size=bs, shuffle=False)\n",
    "\n",
    "    criterion = get_weighted_loss_with_logits(pos_weights.to(device), \n",
    "                                              neg_weights.to(device))\n",
    "\n",
    "    history = validate(model, \n",
    "             criterion, \n",
    "             test_dl, \n",
    "             model_name,\n",
    "             device=device)\n",
    "    \n",
    "    tmp = history\n",
    "    tmp[\"loss\"] = tmp[\"loss\"].mean()\n",
    "    tmp = {k:[v] for k, v in tmp.items()}\n",
    "    model_metrics = pd.DataFrame(tmp.values(), index=tmp.keys(), columns=[model_name])\n",
    "    save_metrics(model_metrics, model_name)\n",
    "    \n",
    "FERTIG()"
   ]
  },
  {
   "cell_type": "code",
   "execution_count": null,
   "metadata": {
    "ExecuteTime": {
     "end_time": "2021-03-24T20:20:58.886236Z",
     "start_time": "2021-03-24T20:20:35.983Z"
    }
   },
   "outputs": [],
   "source": [
    "model_metrics"
   ]
  },
  {
   "cell_type": "code",
   "execution_count": null,
   "metadata": {
    "ExecuteTime": {
     "end_time": "2021-03-24T20:19:54.722846Z",
     "start_time": "2021-03-24T20:19:54.718900Z"
    }
   },
   "outputs": [],
   "source": [
    "save_metrics(model_metrics, model_name)"
   ]
  },
  {
   "cell_type": "code",
   "execution_count": null,
   "metadata": {
    "ExecuteTime": {
     "end_time": "2021-03-24T20:19:56.841083Z",
     "start_time": "2021-03-24T20:19:56.832785Z"
    }
   },
   "outputs": [],
   "source": [
    "load_metrics(model_name)"
   ]
  },
  {
   "cell_type": "code",
   "execution_count": null,
   "metadata": {
    "ExecuteTime": {
     "end_time": "2021-03-24T20:11:54.971893Z",
     "start_time": "2021-03-24T20:11:54.967813Z"
    }
   },
   "outputs": [],
   "source": [
    "[f.name for f in get_insights_path(model_name).ls()]"
   ]
  },
  {
   "cell_type": "code",
   "execution_count": null,
   "metadata": {
    "ExecuteTime": {
     "end_time": "2021-03-24T20:12:04.803006Z",
     "start_time": "2021-03-24T20:12:04.799908Z"
    }
   },
   "outputs": [],
   "source": [
    "model_metrics_name(model_name)"
   ]
  },
  {
   "cell_type": "code",
   "execution_count": null,
   "metadata": {},
   "outputs": [],
   "source": []
  },
  {
   "cell_type": "code",
   "execution_count": null,
   "metadata": {
    "ExecuteTime": {
     "end_time": "2021-03-24T18:21:56.439174Z",
     "start_time": "2021-03-24T18:21:56.436966Z"
    }
   },
   "outputs": [],
   "source": [
    "seed = 92"
   ]
  },
  {
   "cell_type": "code",
   "execution_count": null,
   "metadata": {
    "ExecuteTime": {
     "end_time": "2021-03-24T18:00:03.833778Z",
     "start_time": "2021-03-24T18:00:03.731389Z"
    }
   },
   "outputs": [],
   "source": [
    "label = \"Atelectasis\"\n",
    "model_name = f\"DenseNet121_v1_{label}\"\n",
    "s = 224\n",
    "image_size = (s, s)#(224, 224)\n",
    "labels = get_labels()\n",
    "bs = 16\n",
    "device = get_device()\n",
    "#cpu = get_cpu()"
   ]
  },
  {
   "cell_type": "code",
   "execution_count": null,
   "metadata": {
    "ExecuteTime": {
     "end_time": "2021-03-24T18:00:05.740072Z",
     "start_time": "2021-03-24T18:00:04.658268Z"
    }
   },
   "outputs": [],
   "source": [
    "seed_everything(seed=seed)\n",
    "\n",
    "train_df, valid_df, test_df = get_dataframes(include_labels=labels, \n",
    "                                             small=False)\n",
    "print(train_df.shape, valid_df.shape, test_df.shape)\n",
    "train_df = get_binary_df(label, train_df)\n",
    "valid_df = get_binary_df(label, valid_df)\n",
    "test_df = get_binary_df(label, test_df)\n",
    "\n",
    "train_label = train_df[[label]].values\n",
    "neg_weights, pos_weights = compute_class_freqs(train_label)\n",
    "neg_weights, pos_weights = torch.Tensor(neg_weights), torch.Tensor(pos_weights)\n",
    "print(neg_weights, pos_weights)\n",
    "\n",
    "train_tfs, test_tfs = get_transforms(image_size=image_size)\n",
    "\n",
    "train_ds = CRX8_Data(train_df, get_image_path(), label, image_size=image_size, transforms=train_tfs)\n",
    "valid_ds = CRX8_Data(valid_df, get_image_path(), label, image_size=image_size, transforms=test_tfs)\n",
    "test_ds  = CRX8_Data(test_df , get_image_path(), label, image_size=image_size, transforms=test_tfs)\n",
    "\n",
    "train_dl = DataLoader(train_ds, batch_size=bs, shuffle=True)\n",
    "valid_dl = DataLoader(valid_ds, batch_size=bs, shuffle=False)\n",
    "test_dl  = DataLoader(test_ds,  batch_size=bs, shuffle=False)\n",
    "dataloaders = {\n",
    "    \"train\": train_dl,\n",
    "    \"val\": valid_dl,\n",
    "    \"test\": test_dl\n",
    "}\n",
    "\n",
    "criterion = get_weighted_loss_with_logits(pos_weights.to(device), \n",
    "                                          neg_weights.to(device))"
   ]
  },
  {
   "cell_type": "code",
   "execution_count": null,
   "metadata": {
    "ExecuteTime": {
     "end_time": "2021-03-24T18:22:14.127559Z",
     "start_time": "2021-03-24T18:22:11.629277Z"
    }
   },
   "outputs": [],
   "source": [
    "model = load_model(model_name)\n",
    "model.eval();\n",
    "model = model.to(device)"
   ]
  },
  {
   "cell_type": "code",
   "execution_count": null,
   "metadata": {
    "ExecuteTime": {
     "end_time": "2021-03-24T18:22:14.187853Z",
     "start_time": "2021-03-24T18:22:14.186393Z"
    }
   },
   "outputs": [],
   "source": [
    "sigmoid = NN.Sigmoid()"
   ]
  },
  {
   "cell_type": "code",
   "execution_count": null,
   "metadata": {
    "ExecuteTime": {
     "end_time": "2021-03-24T17:56:49.475357Z",
     "start_time": "2021-03-24T17:56:49.472919Z"
    }
   },
   "outputs": [],
   "source": [
    "images, probabilities, truths = [], [], []"
   ]
  },
  {
   "cell_type": "code",
   "execution_count": null,
   "metadata": {
    "ExecuteTime": {
     "end_time": "2021-03-24T17:40:44.780217Z",
     "start_time": "2021-03-24T17:40:44.487865Z"
    }
   },
   "outputs": [],
   "source": [
    "running_loss, running_y_hat, running_y = [], [], []\n",
    "\n",
    "with torch.no_grad():\n",
    "\n",
    "    datalooper = tqdm(test_dl)\n",
    "    for X, y in datalooper:\n",
    "        X, y = X.to(device), y.to(device)\n",
    "        logits = model(X)\n",
    "        predictions = sigmoid(logits)\n",
    "        \n",
    "        images = [*images, *X.cpu().detach().numpy()]\n",
    "        running_y_hat = [*running_y_hat, *predictions.cpu().detach().numpy()]\n",
    "        running_y = [*running_y, *y.cpu().detach().numpy()]\n",
    "        break\n",
    "\n",
    "images = np.array(images)\n",
    "running_y_hat = np.array(running_y_hat)\n",
    "running_y = np.array(running_y)\n",
    "\n",
    "auroc, threshold = auroc_score(running_y_hat, running_y, model_name)\n",
    "acc = accuracy_score(running_y, (running_y_hat>threshold))"
   ]
  },
  {
   "cell_type": "code",
   "execution_count": null,
   "metadata": {
    "ExecuteTime": {
     "end_time": "2021-03-24T17:40:50.966236Z",
     "start_time": "2021-03-24T17:40:50.962614Z"
    }
   },
   "outputs": [],
   "source": [
    "acc, threshold, auroc"
   ]
  },
  {
   "cell_type": "code",
   "execution_count": null,
   "metadata": {
    "ExecuteTime": {
     "end_time": "2021-03-24T17:40:58.833768Z",
     "start_time": "2021-03-24T17:40:58.831250Z"
    }
   },
   "outputs": [],
   "source": [
    "thruths = running_y.reshape(running_y.shape[0])\n",
    "probabilities = running_y_hat.reshape(running_y_hat.shape[0])"
   ]
  },
  {
   "cell_type": "code",
   "execution_count": null,
   "metadata": {
    "ExecuteTime": {
     "end_time": "2021-03-24T17:49:05.948879Z",
     "start_time": "2021-03-24T17:49:05.945078Z"
    }
   },
   "outputs": [],
   "source": [
    "images = np.array(images)\n",
    "images.shape"
   ]
  },
  {
   "cell_type": "code",
   "execution_count": null,
   "metadata": {
    "ExecuteTime": {
     "end_time": "2021-03-24T18:22:07.780438Z",
     "start_time": "2021-03-24T18:22:07.676016Z"
    }
   },
   "outputs": [],
   "source": [
    "label = \"Atelectasis\"\n",
    "model_name = f\"DenseNet121_v1_{label}\"\n",
    "s = 224\n",
    "image_size = (s, s)#(224, 224)\n",
    "labels = get_labels()\n",
    "bs = 1\n",
    "device = get_cpu()"
   ]
  },
  {
   "cell_type": "code",
   "execution_count": null,
   "metadata": {
    "ExecuteTime": {
     "end_time": "2021-03-24T18:22:18.342964Z",
     "start_time": "2021-03-24T18:22:17.245164Z"
    }
   },
   "outputs": [],
   "source": [
    "seed_everything(seed=seed)\n",
    "\n",
    "train_df, valid_df, test_df = get_dataframes(include_labels=labels, \n",
    "                                             small=False)\n",
    "print(train_df.shape, valid_df.shape, test_df.shape)\n",
    "train_df = get_binary_df(label, train_df)\n",
    "valid_df = get_binary_df(label, valid_df)\n",
    "test_df = get_binary_df(label, test_df)\n",
    "\n",
    "train_label = train_df[[label]].values\n",
    "neg_weights, pos_weights = compute_class_freqs(train_label)\n",
    "neg_weights, pos_weights = torch.Tensor(neg_weights), torch.Tensor(pos_weights)\n",
    "print(neg_weights, pos_weights)\n",
    "\n",
    "train_tfs, test_tfs = get_transforms(image_size=image_size)\n",
    "\n",
    "train_ds = CRX8_Data(train_df, get_image_path(), label, image_size=image_size, transforms=train_tfs)\n",
    "valid_ds = CRX8_Data(valid_df, get_image_path(), label, image_size=image_size, transforms=test_tfs)\n",
    "test_ds  = CRX8_Data(test_df , get_image_path(), label, image_size=image_size, transforms=test_tfs)\n",
    "\n",
    "train_dl = DataLoader(train_ds, batch_size=bs, shuffle=True)\n",
    "valid_dl = DataLoader(valid_ds, batch_size=bs, shuffle=False)\n",
    "test_dl  = DataLoader(test_ds,  batch_size=bs, shuffle=False)\n",
    "dataloaders = {\n",
    "    \"train\": train_dl,\n",
    "    \"val\": valid_dl,\n",
    "    \"test\": test_dl\n",
    "}\n",
    "\n",
    "criterion = get_weighted_loss_with_logits(pos_weights.to(device), \n",
    "                                          neg_weights.to(device))"
   ]
  },
  {
   "cell_type": "code",
   "execution_count": null,
   "metadata": {
    "ExecuteTime": {
     "end_time": "2021-03-24T18:22:18.530987Z",
     "start_time": "2021-03-24T18:22:18.529268Z"
    }
   },
   "outputs": [],
   "source": [
    "default_cmap = LinearSegmentedColormap.from_list(\"orange\",\n",
    "                                                 [(0, '#000000'), (0.25, '#000000'), (1, '#fc7b02')], \n",
    "                                                 N=256)"
   ]
  },
  {
   "cell_type": "code",
   "execution_count": null,
   "metadata": {
    "ExecuteTime": {
     "end_time": "2021-03-24T18:22:23.517596Z",
     "start_time": "2021-03-24T18:22:23.500380Z"
    }
   },
   "outputs": [],
   "source": [
    "pos_df = test_df[test_df[label] > 0.5]\n",
    "neg_df = test_df[test_df[label] < 0.5]\n",
    "pos_df = pos_df.iloc[:5, :]\n",
    "neg_df = neg_df.iloc[:5, :]\n",
    "\n",
    "pos_ds = CRX8_Data(pos_df , get_image_path(), label, image_size=image_size, transforms=test_tfs)\n",
    "neg_ds = CRX8_Data(neg_df , get_image_path(), label, image_size=image_size, transforms=test_tfs)\n",
    "\n",
    "pos_dl = DataLoader(pos_ds,  batch_size=bs, shuffle=False)\n",
    "neg_dl = DataLoader(neg_ds,  batch_size=bs, shuffle=False)"
   ]
  },
  {
   "cell_type": "code",
   "execution_count": null,
   "metadata": {
    "ExecuteTime": {
     "end_time": "2021-03-24T18:25:33.052326Z",
     "start_time": "2021-03-24T18:25:33.050019Z"
    }
   },
   "outputs": [],
   "source": [
    "pos_noise_tunnels, neg_noise_tunnels = [], []\n",
    "pos_images, neg_images = [], []"
   ]
  },
  {
   "cell_type": "code",
   "execution_count": null,
   "metadata": {
    "ExecuteTime": {
     "end_time": "2021-03-24T18:26:44.756235Z",
     "start_time": "2021-03-24T18:25:33.521569Z"
    }
   },
   "outputs": [],
   "source": [
    "model = model.to(device)\n",
    "\n",
    "for X, y in tqdm(pos_dl):\n",
    "    X, y = X.to(device), y.to(device)\n",
    "    \n",
    "    \n",
    "    nt = NoiseTunnel(IntegratedGradients(model))\n",
    "    attrs = []\n",
    "    for _ in range(1):\n",
    "        model.zero_grad()\n",
    "        tmp = nt.attribute(X,\n",
    "                           baselines=X * 0, \n",
    "                           nt_type='smoothgrad_sq',\n",
    "                           nt_samples=3, stdevs=0.2)\n",
    "        attrs.append(tmp.squeeze())\n",
    "    \n",
    "    attr_ig_nt = torch.zeros((len(attrs), *attrs[0].shape))\n",
    "    for i in range(len(attrs)): attr_ig_nt[i] = attrs[i][0]\n",
    "\n",
    "    attr_ig_nt = attr_ig_nt.mean(axis=0).cpu().detach().numpy()\n",
    "    attr_ig_nt = np.einsum(\"cwh -> whc\", attr_ig_nt) #np.transpose(attr_ig_nt, (1, 2, 0))\n",
    "    \n",
    "    pos_noise_tunnels = [*pos_noise_tunnels, attr_ig_nt]\n",
    "    pos_images = [*pos_images, np.einsum(\"cwh -> whc\", *X.cpu().detach().numpy())]"
   ]
  },
  {
   "cell_type": "code",
   "execution_count": null,
   "metadata": {
    "ExecuteTime": {
     "end_time": "2021-03-24T18:26:45.125343Z",
     "start_time": "2021-03-24T18:26:45.103337Z"
    }
   },
   "outputs": [],
   "source": [
    "pos_noise_tunnels = np.array(pos_noise_tunnels)\n",
    "pos_images = np.array(pos_images)"
   ]
  },
  {
   "cell_type": "code",
   "execution_count": null,
   "metadata": {
    "ExecuteTime": {
     "end_time": "2021-03-24T18:26:45.458847Z",
     "start_time": "2021-03-24T18:26:45.456585Z"
    }
   },
   "outputs": [],
   "source": [
    "pos_noise_tunnels.shape, pos_images.shape"
   ]
  },
  {
   "cell_type": "code",
   "execution_count": null,
   "metadata": {
    "ExecuteTime": {
     "end_time": "2021-03-24T18:30:20.874797Z",
     "start_time": "2021-03-24T18:30:20.707737Z"
    }
   },
   "outputs": [],
   "source": [
    "\n",
    "\n",
    "@interact(image=(0, 4), percentage=(1, 99))\n",
    "def drawit(image, percentage):\n",
    "    _=viz.visualize_image_attr(pos_noise_tunnels[image], \n",
    "                             pos_images[image], \n",
    "                             method=\"blended_heat_map\", \n",
    "                             sign=\"absolute_value\", \n",
    "                             outlier_perc=percentage, \n",
    "                             show_colorbar=True,\n",
    "                             cmap=default_cmap,\n",
    "                             title=\"Overlayed Integrated Gradients \\n with SmoothGrad Squared\")"
   ]
  },
  {
   "cell_type": "code",
   "execution_count": null,
   "metadata": {
    "ExecuteTime": {
     "end_time": "2021-03-24T18:38:41.667048Z",
     "start_time": "2021-03-24T18:38:41.662625Z"
    }
   },
   "outputs": [],
   "source": [
    "[f.stem for f in get_working_dir().ls() if f.is_dir()]"
   ]
  },
  {
   "cell_type": "code",
   "execution_count": null,
   "metadata": {
    "ExecuteTime": {
     "end_time": "2021-03-24T18:36:28.145122Z",
     "start_time": "2021-03-24T18:36:28.142354Z"
    }
   },
   "outputs": [],
   "source": []
  },
  {
   "cell_type": "code",
   "execution_count": null,
   "metadata": {
    "ExecuteTime": {
     "end_time": "2021-03-24T19:08:22.023999Z",
     "start_time": "2021-03-24T19:08:22.017781Z"
    }
   },
   "outputs": [],
   "source": [
    "pos_images_name = lambda m: f\"{m}_pos_images.npy\"\n",
    "neg_images_name = lambda m: f\"{m}_neg_images.npy\"\n",
    "\n",
    "pos_nt_name = lambda m: f\"{m}_pos_noisetunnnels.npy\"\n",
    "neg_nt_name = lambda m: f\"{m}_neg_noisetunnnels.npy\"\n",
    "\n",
    "def get_insights_path(model_name):\n",
    "    wd = get_working_dir()\n",
    "    dirs = [f.stem for f in wd.ls() if f.is_dir()]\n",
    "    if \"insights\" not in dirs:\n",
    "        (wd/\"insights\").mkdir(mode=0o777, parents=False, exist_ok=False)\n",
    "    d = wd/\"insights\"\n",
    "    dirs = [f.stem for f in d.ls() if f.is_dir()]\n",
    "    if model_name not in dirs:\n",
    "        (d/model_name).mkdir(mode=0o777, parents=False, exist_ok=False)\n",
    "    return d/model_name\n",
    "\n",
    "def save_insights(pos_images, neg_images, pos_grads, neg_grads, model_name):\n",
    "    ipath = get_insights_path(model_name)\n",
    "    np.save(ipath/pos_images_name(model_name), pos_images)\n",
    "    np.save(ipath/neg_images_name(model_name), neg_images)\n",
    "    np.save(ipath/pos_nt_name(model_name), pos_grads)\n",
    "    np.save(ipath/neg_nt_name(model_name), neg_grads)"
   ]
  },
  {
   "cell_type": "code",
   "execution_count": null,
   "metadata": {
    "ExecuteTime": {
     "end_time": "2021-03-24T19:07:04.655617Z",
     "start_time": "2021-03-24T19:07:04.652220Z"
    }
   },
   "outputs": [],
   "source": []
  },
  {
   "cell_type": "code",
   "execution_count": null,
   "metadata": {
    "ExecuteTime": {
     "end_time": "2021-03-24T19:02:22.011641Z",
     "start_time": "2021-03-24T19:02:22.007799Z"
    }
   },
   "outputs": [],
   "source": [
    "mp = get_insights_path(model_name)\n",
    "mp"
   ]
  },
  {
   "cell_type": "code",
   "execution_count": null,
   "metadata": {
    "ExecuteTime": {
     "end_time": "2021-03-24T18:43:13.877232Z",
     "start_time": "2021-03-24T18:43:13.874523Z"
    }
   },
   "outputs": [],
   "source": [
    "(get_working_dir()/\"skjdf\").mkdir(mode=0o777, parents=False, exist_ok=False)"
   ]
  },
  {
   "cell_type": "code",
   "execution_count": null,
   "metadata": {
    "ExecuteTime": {
     "end_time": "2021-03-24T18:43:18.421970Z",
     "start_time": "2021-03-24T18:43:18.192410Z"
    }
   },
   "outputs": [],
   "source": [
    "!ls"
   ]
  },
  {
   "cell_type": "code",
   "execution_count": null,
   "metadata": {
    "ExecuteTime": {
     "end_time": "2021-03-24T19:07:38.527199Z",
     "start_time": "2021-03-24T19:07:38.519560Z"
    }
   },
   "outputs": [],
   "source": [
    "ipath = get_insights_path(model_name)\n",
    "np.save(ipath/pos_images_name(model_name), pos_images)\n",
    "ipath/pos_images_name(model_name)"
   ]
  },
  {
   "cell_type": "code",
   "execution_count": null,
   "metadata": {},
   "outputs": [],
   "source": []
  }
 ],
 "metadata": {
  "kernelspec": {
   "display_name": "Python 3",
   "language": "python",
   "name": "python3"
  },
  "language_info": {
   "codemirror_mode": {
    "name": "ipython",
    "version": 3
   },
   "file_extension": ".py",
   "mimetype": "text/x-python",
   "name": "python",
   "nbconvert_exporter": "python",
   "pygments_lexer": "ipython3",
   "version": "3.8.8"
  },
  "varInspector": {
   "cols": {
    "lenName": 16,
    "lenType": 16,
    "lenVar": 40
   },
   "kernels_config": {
    "python": {
     "delete_cmd_postfix": "",
     "delete_cmd_prefix": "del ",
     "library": "var_list.py",
     "varRefreshCmd": "print(var_dic_list())"
    },
    "r": {
     "delete_cmd_postfix": ") ",
     "delete_cmd_prefix": "rm(",
     "library": "var_list.r",
     "varRefreshCmd": "cat(var_dic_list()) "
    }
   },
   "types_to_exclude": [
    "module",
    "function",
    "builtin_function_or_method",
    "instance",
    "_Feature"
   ],
   "window_display": false
  }
 },
 "nbformat": 4,
 "nbformat_minor": 4
}
