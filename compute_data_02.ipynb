{
 "cells": [
  {
   "cell_type": "code",
   "execution_count": 1,
   "metadata": {
    "ExecuteTime": {
     "end_time": "2021-03-25T09:42:51.922543Z",
     "start_time": "2021-03-25T09:42:49.772898Z"
    }
   },
   "outputs": [],
   "source": [
    "from exp.utils import *\n",
    "from exp.models import *\n",
    "from exp.losses import *\n",
    "from tqdm.notebook import tqdm\n",
    "from multiprocessing import Pool\n",
    "from PIL import Image\n",
    "\n",
    "import torch\n",
    "import torch.nn as NN\n",
    "from torch.utils.data import Dataset, DataLoader\n",
    "from torchvision import datasets, transforms\n",
    "\n",
    "from matplotlib.colors import LinearSegmentedColormap\n",
    "from captum.attr import visualization as viz\n",
    "from captum.attr import IntegratedGradients\n",
    "from captum.attr import GradientShap\n",
    "from captum.attr import DeepLift\n",
    "from captum.attr import Occlusion\n",
    "from captum.attr import NoiseTunnel\n",
    "from captum.attr import visualization as viz\n",
    "from captum.attr import Saliency\n",
    "\n",
    "from ipywidgets import interact"
   ]
  },
  {
   "cell_type": "code",
   "execution_count": 2,
   "metadata": {
    "ExecuteTime": {
     "end_time": "2021-03-25T09:42:52.854641Z",
     "start_time": "2021-03-25T09:42:52.852530Z"
    }
   },
   "outputs": [],
   "source": [
    "picked_labels = [\"Atelectasis\", \"Cardiomegaly\", \"Pneumonia\"]"
   ]
  },
  {
   "cell_type": "code",
   "execution_count": 4,
   "metadata": {
    "ExecuteTime": {
     "end_time": "2021-03-25T09:50:22.907641Z",
     "start_time": "2021-03-25T09:43:02.577166Z"
    }
   },
   "outputs": [
    {
     "name": "stdout",
     "output_type": "stream",
     "text": [
      "Computing metrics for 'Atelectasis'\n",
      "DenseNet121_v2_Atelectasis\n",
      "Using the GPU!\n"
     ]
    },
    {
     "name": "stderr",
     "output_type": "stream",
     "text": [
      "/home/favi/work/crx8/exp/utils.py:179: UserWarning: Train-Val-Split currently with patient overlap!\n",
      "  warnings.warn(\"Train-Val-Split currently with patient overlap!\")\n"
     ]
    },
    {
     "data": {
      "application/vnd.jupyter.widget-view+json": {
       "model_id": "c8a4faa6a1114895b2d81bd5d1025d81",
       "version_major": 2,
       "version_minor": 0
      },
      "text/plain": [
       "HBox(children=(HTML(value=''), FloatProgress(value=0.0, max=1600.0), HTML(value='')))"
      ]
     },
     "metadata": {},
     "output_type": "display_data"
    },
    {
     "name": "stdout",
     "output_type": "stream",
     "text": [
      "\n",
      "Val: Loss: 0.135, Acc: 0.704, AUROC: 0.588\n",
      "Saved metrics to 'DenseNet121_v2_Atelectasis_metrics.csv'\n",
      "FERTIG! :D\n"
     ]
    }
   ],
   "source": [
    "#for label in picked_labels:\n",
    "for label in [\"Atelectasis\"]:\n",
    "    print(f\"Computing metrics for '{label}'\")\n",
    "    \n",
    "    seed = 92\n",
    "    model_name = f\"DenseNet121_v2_{label}\"\n",
    "    print(model_name)\n",
    "    s = 224\n",
    "    image_size = (s, s)\n",
    "    labels = get_labels()\n",
    "    bs = 16\n",
    "    device = get_device()\n",
    "    \n",
    "    sigmoid = NN.Sigmoid()\n",
    "    model = load_model(model_name)\n",
    "    model.eval();\n",
    "    model = model.to(device)\n",
    "    \n",
    "    seed_everything(seed=seed)\n",
    "    \n",
    "    train_df, _, test_df = get_dataframes(include_labels=labels, \n",
    "                                             small=False)\n",
    "\n",
    "    train_df = get_binary_df(label, train_df)\n",
    "    test_df = get_binary_df(label, test_df)\n",
    "\n",
    "    train_label = train_df[[label]].values\n",
    "    neg_weights, pos_weights = compute_class_freqs(train_label)\n",
    "    neg_weights, pos_weights = torch.Tensor(neg_weights), torch.Tensor(pos_weights)\n",
    "\n",
    "    _, test_tfs = get_transforms(image_size=image_size)\n",
    "\n",
    "    test_ds  = CRX8_Data(test_df , get_image_path(), label, image_size=image_size, transforms=test_tfs)\n",
    "\n",
    "    test_dl  = DataLoader(test_ds,  batch_size=bs, shuffle=False)\n",
    "\n",
    "    criterion = get_weighted_loss_with_logits(pos_weights.to(device), \n",
    "                                              neg_weights.to(device))\n",
    "\n",
    "    history = validate(model, \n",
    "             criterion, \n",
    "             test_dl, \n",
    "             model_name,\n",
    "             device=device)\n",
    "    \n",
    "    tmp = history\n",
    "    tmp[\"loss\"] = tmp[\"loss\"].mean()\n",
    "    tmp = {k:[v] for k, v in tmp.items()}\n",
    "    model_metrics = pd.DataFrame(tmp.values(), index=tmp.keys(), columns=[model_name])\n",
    "    save_metrics(model_metrics, model_name)\n",
    "    \n",
    "FERTIG()"
   ]
  },
  {
   "cell_type": "code",
   "execution_count": 4,
   "metadata": {
    "ExecuteTime": {
     "end_time": "2021-03-24T21:38:49.973737Z",
     "start_time": "2021-03-24T21:38:49.962377Z"
    }
   },
   "outputs": [
    {
     "data": {
      "text/html": [
       "<div>\n",
       "<style scoped>\n",
       "    .dataframe tbody tr th:only-of-type {\n",
       "        vertical-align: middle;\n",
       "    }\n",
       "\n",
       "    .dataframe tbody tr th {\n",
       "        vertical-align: top;\n",
       "    }\n",
       "\n",
       "    .dataframe thead th {\n",
       "        text-align: right;\n",
       "    }\n",
       "</style>\n",
       "<table border=\"1\" class=\"dataframe\">\n",
       "  <thead>\n",
       "    <tr style=\"text-align: right;\">\n",
       "      <th></th>\n",
       "      <th>DenseNet121_v1_Atelectasis</th>\n",
       "      <th>DenseNet121_v1_Pneumonia</th>\n",
       "      <th>DenseNet121_v1_Cardiomegaly</th>\n",
       "    </tr>\n",
       "  </thead>\n",
       "  <tbody>\n",
       "    <tr>\n",
       "      <th>loss</th>\n",
       "      <td>0.119989</td>\n",
       "      <td>0.024459</td>\n",
       "      <td>0.026605</td>\n",
       "    </tr>\n",
       "    <tr>\n",
       "      <th>acc</th>\n",
       "      <td>0.629512</td>\n",
       "      <td>0.420847</td>\n",
       "      <td>0.750625</td>\n",
       "    </tr>\n",
       "    <tr>\n",
       "      <th>auroc</th>\n",
       "      <td>0.722531</td>\n",
       "      <td>0.549110</td>\n",
       "      <td>0.845857</td>\n",
       "    </tr>\n",
       "    <tr>\n",
       "      <th>threshold</th>\n",
       "      <td>0.572989</td>\n",
       "      <td>0.504202</td>\n",
       "      <td>0.616187</td>\n",
       "    </tr>\n",
       "  </tbody>\n",
       "</table>\n",
       "</div>"
      ],
      "text/plain": [
       "           DenseNet121_v1_Atelectasis  DenseNet121_v1_Pneumonia  \\\n",
       "loss                         0.119989                  0.024459   \n",
       "acc                          0.629512                  0.420847   \n",
       "auroc                        0.722531                  0.549110   \n",
       "threshold                    0.572989                  0.504202   \n",
       "\n",
       "           DenseNet121_v1_Cardiomegaly  \n",
       "loss                          0.026605  \n",
       "acc                           0.750625  \n",
       "auroc                         0.845857  \n",
       "threshold                     0.616187  "
      ]
     },
     "execution_count": 4,
     "metadata": {},
     "output_type": "execute_result"
    }
   ],
   "source": [
    "load_model_metrics(model_name)"
   ]
  },
  {
   "cell_type": "code",
   "execution_count": 9,
   "metadata": {
    "ExecuteTime": {
     "end_time": "2021-03-25T09:55:58.828573Z",
     "start_time": "2021-03-25T09:55:58.820080Z"
    }
   },
   "outputs": [
    {
     "data": {
      "text/html": [
       "<div>\n",
       "<style scoped>\n",
       "    .dataframe tbody tr th:only-of-type {\n",
       "        vertical-align: middle;\n",
       "    }\n",
       "\n",
       "    .dataframe tbody tr th {\n",
       "        vertical-align: top;\n",
       "    }\n",
       "\n",
       "    .dataframe thead th {\n",
       "        text-align: right;\n",
       "    }\n",
       "</style>\n",
       "<table border=\"1\" class=\"dataframe\">\n",
       "  <thead>\n",
       "    <tr style=\"text-align: right;\">\n",
       "      <th></th>\n",
       "      <th>DenseNet121_v2_Atelectasis</th>\n",
       "    </tr>\n",
       "  </thead>\n",
       "  <tbody>\n",
       "    <tr>\n",
       "      <th>loss</th>\n",
       "      <td>0.135231</td>\n",
       "    </tr>\n",
       "    <tr>\n",
       "      <th>acc</th>\n",
       "      <td>0.704329</td>\n",
       "    </tr>\n",
       "    <tr>\n",
       "      <th>auroc</th>\n",
       "      <td>0.588102</td>\n",
       "    </tr>\n",
       "    <tr>\n",
       "      <th>threshold</th>\n",
       "      <td>0.541800</td>\n",
       "    </tr>\n",
       "  </tbody>\n",
       "</table>\n",
       "</div>"
      ],
      "text/plain": [
       "           DenseNet121_v2_Atelectasis\n",
       "loss                         0.135231\n",
       "acc                          0.704329\n",
       "auroc                        0.588102\n",
       "threshold                    0.541800"
      ]
     },
     "execution_count": 9,
     "metadata": {},
     "output_type": "execute_result"
    }
   ],
   "source": [
    "load_metrics(model_name)"
   ]
  },
  {
   "cell_type": "code",
   "execution_count": null,
   "metadata": {},
   "outputs": [],
   "source": []
  }
 ],
 "metadata": {
  "kernelspec": {
   "display_name": "Python 3",
   "language": "python",
   "name": "python3"
  },
  "language_info": {
   "codemirror_mode": {
    "name": "ipython",
    "version": 3
   },
   "file_extension": ".py",
   "mimetype": "text/x-python",
   "name": "python",
   "nbconvert_exporter": "python",
   "pygments_lexer": "ipython3",
   "version": "3.8.8"
  },
  "varInspector": {
   "cols": {
    "lenName": 16,
    "lenType": 16,
    "lenVar": 40
   },
   "kernels_config": {
    "python": {
     "delete_cmd_postfix": "",
     "delete_cmd_prefix": "del ",
     "library": "var_list.py",
     "varRefreshCmd": "print(var_dic_list())"
    },
    "r": {
     "delete_cmd_postfix": ") ",
     "delete_cmd_prefix": "rm(",
     "library": "var_list.r",
     "varRefreshCmd": "cat(var_dic_list()) "
    }
   },
   "types_to_exclude": [
    "module",
    "function",
    "builtin_function_or_method",
    "instance",
    "_Feature"
   ],
   "window_display": false
  }
 },
 "nbformat": 4,
 "nbformat_minor": 4
}
