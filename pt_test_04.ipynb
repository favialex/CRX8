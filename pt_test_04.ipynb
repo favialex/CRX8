{
 "cells": [
  {
   "cell_type": "code",
   "execution_count": 1,
   "metadata": {
    "ExecuteTime": {
     "end_time": "2021-03-11T18:59:15.595782Z",
     "start_time": "2021-03-11T18:59:14.269411Z"
    }
   },
   "outputs": [],
   "source": [
    "from exp.utils import *\n",
    "from exp.models import *\n",
    "from tqdm.notebook import tqdm\n",
    "from multiprocessing import Pool\n",
    "\n",
    "import torch\n",
    "import torch.nn as NN\n",
    "from torch.utils.data import Dataset, DataLoader\n",
    "from torchvision import datasets, transforms\n",
    "from torchvision.transforms import ToTensor"
   ]
  },
  {
   "cell_type": "code",
   "execution_count": 2,
   "metadata": {
    "ExecuteTime": {
     "end_time": "2021-03-11T18:59:15.693278Z",
     "start_time": "2021-03-11T18:59:15.690986Z"
    }
   },
   "outputs": [],
   "source": [
    "seed = 92\n",
    "seed_everything(seed)"
   ]
  },
  {
   "cell_type": "code",
   "execution_count": 3,
   "metadata": {
    "ExecuteTime": {
     "end_time": "2021-03-11T18:59:15.800193Z",
     "start_time": "2021-03-11T18:59:15.784418Z"
    }
   },
   "outputs": [
    {
     "name": "stdout",
     "output_type": "stream",
     "text": [
      "Using the GPU!\n"
     ]
    }
   ],
   "source": [
    "model_name = \"py_test_pneumonia_01\"\n",
    "bs = 16\n",
    "epochs = 5\n",
    "image_size = (228, 228)\n",
    "device = get_device()\n",
    "lr = 3e-3"
   ]
  },
  {
   "cell_type": "code",
   "execution_count": 4,
   "metadata": {
    "ExecuteTime": {
     "end_time": "2021-03-11T18:59:15.903093Z",
     "start_time": "2021-03-11T18:59:15.901382Z"
    }
   },
   "outputs": [],
   "source": [
    "sigmoid = NN.Sigmoid()"
   ]
  },
  {
   "cell_type": "code",
   "execution_count": 5,
   "metadata": {
    "ExecuteTime": {
     "end_time": "2021-03-11T18:59:16.101667Z",
     "start_time": "2021-03-11T18:59:16.000822Z"
    }
   },
   "outputs": [],
   "source": [
    "#labels = [\"Pneumonia\"]\n",
    "labels = get_labels()"
   ]
  },
  {
   "cell_type": "code",
   "execution_count": 6,
   "metadata": {
    "ExecuteTime": {
     "end_time": "2021-03-11T18:59:16.985257Z",
     "start_time": "2021-03-11T18:59:16.205051Z"
    }
   },
   "outputs": [
    {
     "name": "stderr",
     "output_type": "stream",
     "text": [
      "/home/favi/work/crx8/exp/utils.py:161: UserWarning: Train-Val-Split currently with patient overlap!\n",
      "  warnings.warn(\"Train-Val-Split currently with patient overlap!\")\n"
     ]
    },
    {
     "data": {
      "text/plain": [
       "((69219, 24), (17305, 24), (25596, 24))"
      ]
     },
     "execution_count": 6,
     "metadata": {},
     "output_type": "execute_result"
    }
   ],
   "source": [
    "train_df, valid_df, test_df = get_dataframes(include_labels=labels, small=False)\n",
    "train_df.shape, valid_df.shape, test_df.shape"
   ]
  },
  {
   "cell_type": "code",
   "execution_count": null,
   "metadata": {
    "ExecuteTime": {
     "end_time": "2021-03-11T17:54:10.126279Z",
     "start_time": "2021-03-11T17:54:09.568004Z"
    }
   },
   "outputs": [],
   "source": [
    "tr, te = get_label_dfs()"
   ]
  },
  {
   "cell_type": "code",
   "execution_count": 45,
   "metadata": {
    "ExecuteTime": {
     "end_time": "2021-03-11T19:12:05.816280Z",
     "start_time": "2021-03-11T19:12:05.780202Z"
    }
   },
   "outputs": [
    {
     "data": {
      "text/html": [
       "<div>\n",
       "<style scoped>\n",
       "    .dataframe tbody tr th:only-of-type {\n",
       "        vertical-align: middle;\n",
       "    }\n",
       "\n",
       "    .dataframe tbody tr th {\n",
       "        vertical-align: top;\n",
       "    }\n",
       "\n",
       "    .dataframe thead th {\n",
       "        text-align: right;\n",
       "    }\n",
       "</style>\n",
       "<table border=\"1\" class=\"dataframe\">\n",
       "  <thead>\n",
       "    <tr style=\"text-align: right;\">\n",
       "      <th></th>\n",
       "      <th>Image Index</th>\n",
       "      <th>Hernia</th>\n",
       "      <th>Effusion</th>\n",
       "      <th>Infiltration</th>\n",
       "      <th>Mass</th>\n",
       "      <th>Nodule</th>\n",
       "      <th>Atelectasis</th>\n",
       "      <th>Pneumonia</th>\n",
       "      <th>Consolidation</th>\n",
       "      <th>Emphysema</th>\n",
       "      <th>...</th>\n",
       "      <th>Cardiomegaly</th>\n",
       "      <th>Follow-up #</th>\n",
       "      <th>Patient ID</th>\n",
       "      <th>Patient Age</th>\n",
       "      <th>Patient Gender</th>\n",
       "      <th>View Position</th>\n",
       "      <th>OriginalImage[Width</th>\n",
       "      <th>Height]</th>\n",
       "      <th>OriginalImagePixelSpacing[x</th>\n",
       "      <th>y]</th>\n",
       "    </tr>\n",
       "  </thead>\n",
       "  <tbody>\n",
       "    <tr>\n",
       "      <th>0</th>\n",
       "      <td>00000001_000.png</td>\n",
       "      <td>0.0</td>\n",
       "      <td>0.0</td>\n",
       "      <td>0.0</td>\n",
       "      <td>0.0</td>\n",
       "      <td>0.0</td>\n",
       "      <td>0.0</td>\n",
       "      <td>0.0</td>\n",
       "      <td>0.0</td>\n",
       "      <td>0.0</td>\n",
       "      <td>...</td>\n",
       "      <td>1.0</td>\n",
       "      <td>0</td>\n",
       "      <td>1</td>\n",
       "      <td>57</td>\n",
       "      <td>M</td>\n",
       "      <td>PA</td>\n",
       "      <td>2682</td>\n",
       "      <td>2749</td>\n",
       "      <td>0.143</td>\n",
       "      <td>0.143</td>\n",
       "    </tr>\n",
       "    <tr>\n",
       "      <th>1</th>\n",
       "      <td>00000001_001.png</td>\n",
       "      <td>0.0</td>\n",
       "      <td>0.0</td>\n",
       "      <td>0.0</td>\n",
       "      <td>0.0</td>\n",
       "      <td>0.0</td>\n",
       "      <td>0.0</td>\n",
       "      <td>0.0</td>\n",
       "      <td>0.0</td>\n",
       "      <td>1.0</td>\n",
       "      <td>...</td>\n",
       "      <td>1.0</td>\n",
       "      <td>1</td>\n",
       "      <td>1</td>\n",
       "      <td>58</td>\n",
       "      <td>M</td>\n",
       "      <td>PA</td>\n",
       "      <td>2894</td>\n",
       "      <td>2729</td>\n",
       "      <td>0.143</td>\n",
       "      <td>0.143</td>\n",
       "    </tr>\n",
       "    <tr>\n",
       "      <th>2</th>\n",
       "      <td>00000001_002.png</td>\n",
       "      <td>0.0</td>\n",
       "      <td>1.0</td>\n",
       "      <td>0.0</td>\n",
       "      <td>0.0</td>\n",
       "      <td>0.0</td>\n",
       "      <td>0.0</td>\n",
       "      <td>0.0</td>\n",
       "      <td>0.0</td>\n",
       "      <td>0.0</td>\n",
       "      <td>...</td>\n",
       "      <td>1.0</td>\n",
       "      <td>2</td>\n",
       "      <td>1</td>\n",
       "      <td>58</td>\n",
       "      <td>M</td>\n",
       "      <td>PA</td>\n",
       "      <td>2500</td>\n",
       "      <td>2048</td>\n",
       "      <td>0.168</td>\n",
       "      <td>0.168</td>\n",
       "    </tr>\n",
       "    <tr>\n",
       "      <th>3</th>\n",
       "      <td>00000002_000.png</td>\n",
       "      <td>0.0</td>\n",
       "      <td>0.0</td>\n",
       "      <td>0.0</td>\n",
       "      <td>0.0</td>\n",
       "      <td>0.0</td>\n",
       "      <td>0.0</td>\n",
       "      <td>0.0</td>\n",
       "      <td>0.0</td>\n",
       "      <td>0.0</td>\n",
       "      <td>...</td>\n",
       "      <td>0.0</td>\n",
       "      <td>0</td>\n",
       "      <td>2</td>\n",
       "      <td>80</td>\n",
       "      <td>M</td>\n",
       "      <td>PA</td>\n",
       "      <td>2500</td>\n",
       "      <td>2048</td>\n",
       "      <td>0.171</td>\n",
       "      <td>0.171</td>\n",
       "    </tr>\n",
       "    <tr>\n",
       "      <th>12</th>\n",
       "      <td>00000004_000.png</td>\n",
       "      <td>0.0</td>\n",
       "      <td>0.0</td>\n",
       "      <td>0.0</td>\n",
       "      <td>1.0</td>\n",
       "      <td>1.0</td>\n",
       "      <td>0.0</td>\n",
       "      <td>0.0</td>\n",
       "      <td>0.0</td>\n",
       "      <td>0.0</td>\n",
       "      <td>...</td>\n",
       "      <td>0.0</td>\n",
       "      <td>0</td>\n",
       "      <td>4</td>\n",
       "      <td>82</td>\n",
       "      <td>M</td>\n",
       "      <td>AP</td>\n",
       "      <td>2500</td>\n",
       "      <td>2048</td>\n",
       "      <td>0.168</td>\n",
       "      <td>0.168</td>\n",
       "    </tr>\n",
       "    <tr>\n",
       "      <th>...</th>\n",
       "      <td>...</td>\n",
       "      <td>...</td>\n",
       "      <td>...</td>\n",
       "      <td>...</td>\n",
       "      <td>...</td>\n",
       "      <td>...</td>\n",
       "      <td>...</td>\n",
       "      <td>...</td>\n",
       "      <td>...</td>\n",
       "      <td>...</td>\n",
       "      <td>...</td>\n",
       "      <td>...</td>\n",
       "      <td>...</td>\n",
       "      <td>...</td>\n",
       "      <td>...</td>\n",
       "      <td>...</td>\n",
       "      <td>...</td>\n",
       "      <td>...</td>\n",
       "      <td>...</td>\n",
       "      <td>...</td>\n",
       "      <td>...</td>\n",
       "    </tr>\n",
       "    <tr>\n",
       "      <th>112113</th>\n",
       "      <td>00030800_000.png</td>\n",
       "      <td>0.0</td>\n",
       "      <td>0.0</td>\n",
       "      <td>0.0</td>\n",
       "      <td>0.0</td>\n",
       "      <td>0.0</td>\n",
       "      <td>0.0</td>\n",
       "      <td>0.0</td>\n",
       "      <td>0.0</td>\n",
       "      <td>0.0</td>\n",
       "      <td>...</td>\n",
       "      <td>0.0</td>\n",
       "      <td>0</td>\n",
       "      <td>30800</td>\n",
       "      <td>33</td>\n",
       "      <td>F</td>\n",
       "      <td>PA</td>\n",
       "      <td>2048</td>\n",
       "      <td>2500</td>\n",
       "      <td>0.168</td>\n",
       "      <td>0.168</td>\n",
       "    </tr>\n",
       "    <tr>\n",
       "      <th>112116</th>\n",
       "      <td>00030802_000.png</td>\n",
       "      <td>0.0</td>\n",
       "      <td>0.0</td>\n",
       "      <td>0.0</td>\n",
       "      <td>0.0</td>\n",
       "      <td>0.0</td>\n",
       "      <td>0.0</td>\n",
       "      <td>0.0</td>\n",
       "      <td>0.0</td>\n",
       "      <td>0.0</td>\n",
       "      <td>...</td>\n",
       "      <td>0.0</td>\n",
       "      <td>0</td>\n",
       "      <td>30802</td>\n",
       "      <td>28</td>\n",
       "      <td>M</td>\n",
       "      <td>PA</td>\n",
       "      <td>2048</td>\n",
       "      <td>2500</td>\n",
       "      <td>0.168</td>\n",
       "      <td>0.168</td>\n",
       "    </tr>\n",
       "    <tr>\n",
       "      <th>112117</th>\n",
       "      <td>00030803_000.png</td>\n",
       "      <td>0.0</td>\n",
       "      <td>0.0</td>\n",
       "      <td>0.0</td>\n",
       "      <td>0.0</td>\n",
       "      <td>0.0</td>\n",
       "      <td>0.0</td>\n",
       "      <td>0.0</td>\n",
       "      <td>0.0</td>\n",
       "      <td>0.0</td>\n",
       "      <td>...</td>\n",
       "      <td>0.0</td>\n",
       "      <td>0</td>\n",
       "      <td>30803</td>\n",
       "      <td>42</td>\n",
       "      <td>F</td>\n",
       "      <td>PA</td>\n",
       "      <td>2048</td>\n",
       "      <td>2500</td>\n",
       "      <td>0.168</td>\n",
       "      <td>0.168</td>\n",
       "    </tr>\n",
       "    <tr>\n",
       "      <th>112118</th>\n",
       "      <td>00030804_000.png</td>\n",
       "      <td>0.0</td>\n",
       "      <td>0.0</td>\n",
       "      <td>0.0</td>\n",
       "      <td>0.0</td>\n",
       "      <td>0.0</td>\n",
       "      <td>0.0</td>\n",
       "      <td>0.0</td>\n",
       "      <td>0.0</td>\n",
       "      <td>0.0</td>\n",
       "      <td>...</td>\n",
       "      <td>0.0</td>\n",
       "      <td>0</td>\n",
       "      <td>30804</td>\n",
       "      <td>29</td>\n",
       "      <td>F</td>\n",
       "      <td>PA</td>\n",
       "      <td>2048</td>\n",
       "      <td>2500</td>\n",
       "      <td>0.168</td>\n",
       "      <td>0.168</td>\n",
       "    </tr>\n",
       "    <tr>\n",
       "      <th>112119</th>\n",
       "      <td>00030805_000.png</td>\n",
       "      <td>0.0</td>\n",
       "      <td>0.0</td>\n",
       "      <td>0.0</td>\n",
       "      <td>0.0</td>\n",
       "      <td>0.0</td>\n",
       "      <td>0.0</td>\n",
       "      <td>0.0</td>\n",
       "      <td>0.0</td>\n",
       "      <td>0.0</td>\n",
       "      <td>...</td>\n",
       "      <td>0.0</td>\n",
       "      <td>0</td>\n",
       "      <td>30805</td>\n",
       "      <td>26</td>\n",
       "      <td>M</td>\n",
       "      <td>PA</td>\n",
       "      <td>2048</td>\n",
       "      <td>2500</td>\n",
       "      <td>0.171</td>\n",
       "      <td>0.171</td>\n",
       "    </tr>\n",
       "  </tbody>\n",
       "</table>\n",
       "<p>112120 rows × 24 columns</p>\n",
       "</div>"
      ],
      "text/plain": [
       "             Image Index  Hernia  Effusion  Infiltration  Mass  Nodule  \\\n",
       "0       00000001_000.png     0.0       0.0           0.0   0.0     0.0   \n",
       "1       00000001_001.png     0.0       0.0           0.0   0.0     0.0   \n",
       "2       00000001_002.png     0.0       1.0           0.0   0.0     0.0   \n",
       "3       00000002_000.png     0.0       0.0           0.0   0.0     0.0   \n",
       "12      00000004_000.png     0.0       0.0           0.0   1.0     1.0   \n",
       "...                  ...     ...       ...           ...   ...     ...   \n",
       "112113  00030800_000.png     0.0       0.0           0.0   0.0     0.0   \n",
       "112116  00030802_000.png     0.0       0.0           0.0   0.0     0.0   \n",
       "112117  00030803_000.png     0.0       0.0           0.0   0.0     0.0   \n",
       "112118  00030804_000.png     0.0       0.0           0.0   0.0     0.0   \n",
       "112119  00030805_000.png     0.0       0.0           0.0   0.0     0.0   \n",
       "\n",
       "        Atelectasis  Pneumonia  Consolidation  Emphysema  ...  Cardiomegaly  \\\n",
       "0               0.0        0.0            0.0        0.0  ...           1.0   \n",
       "1               0.0        0.0            0.0        1.0  ...           1.0   \n",
       "2               0.0        0.0            0.0        0.0  ...           1.0   \n",
       "3               0.0        0.0            0.0        0.0  ...           0.0   \n",
       "12              0.0        0.0            0.0        0.0  ...           0.0   \n",
       "...             ...        ...            ...        ...  ...           ...   \n",
       "112113          0.0        0.0            0.0        0.0  ...           0.0   \n",
       "112116          0.0        0.0            0.0        0.0  ...           0.0   \n",
       "112117          0.0        0.0            0.0        0.0  ...           0.0   \n",
       "112118          0.0        0.0            0.0        0.0  ...           0.0   \n",
       "112119          0.0        0.0            0.0        0.0  ...           0.0   \n",
       "\n",
       "        Follow-up #  Patient ID  Patient Age  Patient Gender  View Position  \\\n",
       "0                 0           1           57               M             PA   \n",
       "1                 1           1           58               M             PA   \n",
       "2                 2           1           58               M             PA   \n",
       "3                 0           2           80               M             PA   \n",
       "12                0           4           82               M             AP   \n",
       "...             ...         ...          ...             ...            ...   \n",
       "112113            0       30800           33               F             PA   \n",
       "112116            0       30802           28               M             PA   \n",
       "112117            0       30803           42               F             PA   \n",
       "112118            0       30804           29               F             PA   \n",
       "112119            0       30805           26               M             PA   \n",
       "\n",
       "        OriginalImage[Width  Height] OriginalImagePixelSpacing[x     y]  \n",
       "0                      2682     2749                       0.143  0.143  \n",
       "1                      2894     2729                       0.143  0.143  \n",
       "2                      2500     2048                       0.168  0.168  \n",
       "3                      2500     2048                       0.171  0.171  \n",
       "12                     2500     2048                       0.168  0.168  \n",
       "...                     ...      ...                         ...    ...  \n",
       "112113                 2048     2500                       0.168  0.168  \n",
       "112116                 2048     2500                       0.168  0.168  \n",
       "112117                 2048     2500                       0.168  0.168  \n",
       "112118                 2048     2500                       0.168  0.168  \n",
       "112119                 2048     2500                       0.171  0.171  \n",
       "\n",
       "[112120 rows x 24 columns]"
      ]
     },
     "execution_count": 45,
     "metadata": {},
     "output_type": "execute_result"
    }
   ],
   "source": [
    "LABEL_DF"
   ]
  },
  {
   "cell_type": "code",
   "execution_count": 50,
   "metadata": {
    "ExecuteTime": {
     "end_time": "2021-03-11T19:16:14.065170Z",
     "start_time": "2021-03-11T19:16:14.063015Z"
    }
   },
   "outputs": [],
   "source": [
    "LABEL_DF = None"
   ]
  },
  {
   "cell_type": "code",
   "execution_count": 51,
   "metadata": {
    "ExecuteTime": {
     "end_time": "2021-03-11T19:16:55.705162Z",
     "start_time": "2021-03-11T19:16:55.701945Z"
    }
   },
   "outputs": [],
   "source": [
    "def load_label_df():\n",
    "    global LABEL_DF\n",
    "    if LABEL_DF is None: \n",
    "        LABEL_DF = pd.read_csv(get_data_path()/\"Data_Entry_2017_v2020.csv\")\n",
    "        to_drop = [c for c in LABEL_DF.columns if c not in [\"Image Index\", \"Finding Labels\"]]\n",
    "        LABEL_DF = LABEL_DF.drop(columns=to_drop)\n",
    "    return LABEL_DF"
   ]
  },
  {
   "cell_type": "code",
   "execution_count": 49,
   "metadata": {
    "ExecuteTime": {
     "end_time": "2021-03-11T19:15:48.183103Z",
     "start_time": "2021-03-11T19:15:48.098415Z"
    }
   },
   "outputs": [
    {
     "data": {
      "text/html": [
       "<div>\n",
       "<style scoped>\n",
       "    .dataframe tbody tr th:only-of-type {\n",
       "        vertical-align: middle;\n",
       "    }\n",
       "\n",
       "    .dataframe tbody tr th {\n",
       "        vertical-align: top;\n",
       "    }\n",
       "\n",
       "    .dataframe thead th {\n",
       "        text-align: right;\n",
       "    }\n",
       "</style>\n",
       "<table border=\"1\" class=\"dataframe\">\n",
       "  <thead>\n",
       "    <tr style=\"text-align: right;\">\n",
       "      <th></th>\n",
       "      <th>Image Index</th>\n",
       "      <th>Finding Labels</th>\n",
       "    </tr>\n",
       "  </thead>\n",
       "  <tbody>\n",
       "    <tr>\n",
       "      <th>0</th>\n",
       "      <td>00000001_000.png</td>\n",
       "      <td>Cardiomegaly</td>\n",
       "    </tr>\n",
       "    <tr>\n",
       "      <th>1</th>\n",
       "      <td>00000001_001.png</td>\n",
       "      <td>Cardiomegaly|Emphysema</td>\n",
       "    </tr>\n",
       "    <tr>\n",
       "      <th>2</th>\n",
       "      <td>00000001_002.png</td>\n",
       "      <td>Cardiomegaly|Effusion</td>\n",
       "    </tr>\n",
       "    <tr>\n",
       "      <th>3</th>\n",
       "      <td>00000002_000.png</td>\n",
       "      <td>No Finding</td>\n",
       "    </tr>\n",
       "    <tr>\n",
       "      <th>4</th>\n",
       "      <td>00000003_001.png</td>\n",
       "      <td>Hernia</td>\n",
       "    </tr>\n",
       "    <tr>\n",
       "      <th>...</th>\n",
       "      <td>...</td>\n",
       "      <td>...</td>\n",
       "    </tr>\n",
       "    <tr>\n",
       "      <th>112115</th>\n",
       "      <td>00030801_001.png</td>\n",
       "      <td>Mass|Pneumonia</td>\n",
       "    </tr>\n",
       "    <tr>\n",
       "      <th>112116</th>\n",
       "      <td>00030802_000.png</td>\n",
       "      <td>No Finding</td>\n",
       "    </tr>\n",
       "    <tr>\n",
       "      <th>112117</th>\n",
       "      <td>00030803_000.png</td>\n",
       "      <td>No Finding</td>\n",
       "    </tr>\n",
       "    <tr>\n",
       "      <th>112118</th>\n",
       "      <td>00030804_000.png</td>\n",
       "      <td>No Finding</td>\n",
       "    </tr>\n",
       "    <tr>\n",
       "      <th>112119</th>\n",
       "      <td>00030805_000.png</td>\n",
       "      <td>No Finding</td>\n",
       "    </tr>\n",
       "  </tbody>\n",
       "</table>\n",
       "<p>112120 rows × 2 columns</p>\n",
       "</div>"
      ],
      "text/plain": [
       "             Image Index          Finding Labels\n",
       "0       00000001_000.png            Cardiomegaly\n",
       "1       00000001_001.png  Cardiomegaly|Emphysema\n",
       "2       00000001_002.png   Cardiomegaly|Effusion\n",
       "3       00000002_000.png              No Finding\n",
       "4       00000003_001.png                  Hernia\n",
       "...                  ...                     ...\n",
       "112115  00030801_001.png          Mass|Pneumonia\n",
       "112116  00030802_000.png              No Finding\n",
       "112117  00030803_000.png              No Finding\n",
       "112118  00030804_000.png              No Finding\n",
       "112119  00030805_000.png              No Finding\n",
       "\n",
       "[112120 rows x 2 columns]"
      ]
     },
     "execution_count": 49,
     "metadata": {},
     "output_type": "execute_result"
    }
   ],
   "source": [
    "data = pd.read_csv(get_data_path()/\"Data_Entry_2017_v2020.csv\")\n",
    "to_drop = [c for c in data.columns if c not in [\"Image Index\", \"Finding Labels\"]]\n",
    "data = data.drop(columns=to_drop)\n",
    "\n",
    "data"
   ]
  },
  {
   "cell_type": "code",
   "execution_count": 10,
   "metadata": {
    "ExecuteTime": {
     "end_time": "2021-03-11T18:59:55.212163Z",
     "start_time": "2021-03-11T18:59:55.123373Z"
    }
   },
   "outputs": [],
   "source": [
    "tete = pd.read_csv(get_data_path()/\"Data_Entry_2017_v2020.csv\")\n",
    "comp = pd.concat([train_df, valid_df, test_df], axis=0)"
   ]
  },
  {
   "cell_type": "code",
   "execution_count": 52,
   "metadata": {
    "ExecuteTime": {
     "end_time": "2021-03-11T19:17:39.543914Z",
     "start_time": "2021-03-11T19:17:39.541227Z"
    }
   },
   "outputs": [],
   "source": [
    "def image2label(fn):\n",
    "    label_df = load_label_df()\n",
    "    return label_df[label_df[\"Image Index\"] == fn][\"Finding Labels\"]"
   ]
  },
  {
   "cell_type": "code",
   "execution_count": 53,
   "metadata": {
    "ExecuteTime": {
     "end_time": "2021-03-11T19:17:45.761700Z",
     "start_time": "2021-03-11T19:17:45.757814Z"
    }
   },
   "outputs": [],
   "source": [
    "def translate2label(arr, labels=None):\n",
    "    arr = arr.values[0]\n",
    "    print(arr.shape)\n",
    "    if labels is None: labels = get_labels()\n",
    "    idx2lbl = {i: l for i, l in enumerate(labels)}\n",
    "    pos_lbls = [idx2lbl[idx] for idx, v in enumerate(arr) if v == 1]\n",
    "    print(pos_lbls)\n",
    "    if len(pos_lbls) == 0: return \"No Finding\"\n",
    "    return \"|\".join(pos_lbls)"
   ]
  },
  {
   "cell_type": "code",
   "execution_count": 57,
   "metadata": {
    "ExecuteTime": {
     "end_time": "2021-03-11T19:18:07.725621Z",
     "start_time": "2021-03-11T19:18:07.492256Z"
    }
   },
   "outputs": [
    {
     "name": "stdout",
     "output_type": "stream",
     "text": [
      "Label before: Atelectasis\n",
      "(14,)\n",
      "['Atelectasis']\n",
      "label after: Atelectasis\n"
     ]
    },
    {
     "data": {
      "text/html": [
       "<div>\n",
       "<style scoped>\n",
       "    .dataframe tbody tr th:only-of-type {\n",
       "        vertical-align: middle;\n",
       "    }\n",
       "\n",
       "    .dataframe tbody tr th {\n",
       "        vertical-align: top;\n",
       "    }\n",
       "\n",
       "    .dataframe thead th {\n",
       "        text-align: right;\n",
       "    }\n",
       "</style>\n",
       "<table border=\"1\" class=\"dataframe\">\n",
       "  <thead>\n",
       "    <tr style=\"text-align: right;\">\n",
       "      <th></th>\n",
       "      <th>Hernia</th>\n",
       "      <th>Effusion</th>\n",
       "      <th>Infiltration</th>\n",
       "      <th>Mass</th>\n",
       "      <th>Nodule</th>\n",
       "      <th>Atelectasis</th>\n",
       "      <th>Pneumonia</th>\n",
       "      <th>Consolidation</th>\n",
       "      <th>Emphysema</th>\n",
       "      <th>Fibrosis</th>\n",
       "      <th>Pneumothorax</th>\n",
       "      <th>Pleural_Thickening</th>\n",
       "      <th>Edema</th>\n",
       "      <th>Cardiomegaly</th>\n",
       "    </tr>\n",
       "  </thead>\n",
       "  <tbody>\n",
       "    <tr>\n",
       "      <th>75938</th>\n",
       "      <td>0.0</td>\n",
       "      <td>0.0</td>\n",
       "      <td>0.0</td>\n",
       "      <td>0.0</td>\n",
       "      <td>0.0</td>\n",
       "      <td>1.0</td>\n",
       "      <td>0.0</td>\n",
       "      <td>0.0</td>\n",
       "      <td>0.0</td>\n",
       "      <td>0.0</td>\n",
       "      <td>0.0</td>\n",
       "      <td>0.0</td>\n",
       "      <td>0.0</td>\n",
       "      <td>0.0</td>\n",
       "    </tr>\n",
       "  </tbody>\n",
       "</table>\n",
       "</div>"
      ],
      "text/plain": [
       "       Hernia  Effusion  Infiltration  Mass  Nodule  Atelectasis  Pneumonia  \\\n",
       "75938     0.0       0.0           0.0   0.0     0.0          1.0        0.0   \n",
       "\n",
       "       Consolidation  Emphysema  Fibrosis  Pneumothorax  Pleural_Thickening  \\\n",
       "75938            0.0        0.0       0.0           0.0                 0.0   \n",
       "\n",
       "       Edema  Cardiomegaly  \n",
       "75938    0.0           0.0  "
      ]
     },
     "execution_count": 57,
     "metadata": {},
     "output_type": "execute_result"
    },
    {
     "data": {
      "image/png": "[encoded data removed]",
      "text/plain": [
       "<Figure size 432x288 with 1 Axes>"
      ]
     },
     "metadata": {
      "needs_background": "light"
     },
     "output_type": "display_data"
    }
   ],
   "source": [
    "idx = np.random.choice(tete.shape[0])\n",
    "rand_im = tete.iloc[idx, 0]\n",
    "show_image(get_image_path()/rand_im)\n",
    "print(\"Label before:\", tete.iloc[idx, 1])\n",
    "\n",
    "abc = comp[comp[\"Image Index\"] == rand_im][labels]\n",
    "print(\"label after:\", translate2label(abc))\n",
    "abc"
   ]
  },
  {
   "cell_type": "code",
   "execution_count": 20,
   "metadata": {
    "ExecuteTime": {
     "end_time": "2021-03-11T19:03:21.391163Z",
     "start_time": "2021-03-11T19:03:21.357176Z"
    }
   },
   "outputs": [
    {
     "data": {
      "text/html": [
       "<div>\n",
       "<style scoped>\n",
       "    .dataframe tbody tr th:only-of-type {\n",
       "        vertical-align: middle;\n",
       "    }\n",
       "\n",
       "    .dataframe tbody tr th {\n",
       "        vertical-align: top;\n",
       "    }\n",
       "\n",
       "    .dataframe thead th {\n",
       "        text-align: right;\n",
       "    }\n",
       "</style>\n",
       "<table border=\"1\" class=\"dataframe\">\n",
       "  <thead>\n",
       "    <tr style=\"text-align: right;\">\n",
       "      <th></th>\n",
       "      <th>Image Index</th>\n",
       "      <th>Follow-up #</th>\n",
       "      <th>Patient ID</th>\n",
       "      <th>Patient Age</th>\n",
       "      <th>Patient Gender</th>\n",
       "      <th>View Position</th>\n",
       "      <th>OriginalImage[Width</th>\n",
       "      <th>Height]</th>\n",
       "      <th>OriginalImagePixelSpacing[x</th>\n",
       "      <th>y]</th>\n",
       "      <th>...</th>\n",
       "      <th>Nodule</th>\n",
       "      <th>Atelectasis</th>\n",
       "      <th>Pneumonia</th>\n",
       "      <th>Consolidation</th>\n",
       "      <th>Emphysema</th>\n",
       "      <th>Fibrosis</th>\n",
       "      <th>Pneumothorax</th>\n",
       "      <th>Pleural_Thickening</th>\n",
       "      <th>Edema</th>\n",
       "      <th>Cardiomegaly</th>\n",
       "    </tr>\n",
       "  </thead>\n",
       "  <tbody>\n",
       "    <tr>\n",
       "      <th>1705</th>\n",
       "      <td>00000459_057.png</td>\n",
       "      <td>30</td>\n",
       "      <td>459</td>\n",
       "      <td>55</td>\n",
       "      <td>F</td>\n",
       "      <td>PA</td>\n",
       "      <td>2698</td>\n",
       "      <td>2845</td>\n",
       "      <td>0.143000</td>\n",
       "      <td>0.143000</td>\n",
       "      <td>...</td>\n",
       "      <td>0.0</td>\n",
       "      <td>0.0</td>\n",
       "      <td>0.0</td>\n",
       "      <td>0.0</td>\n",
       "      <td>0.0</td>\n",
       "      <td>0.0</td>\n",
       "      <td>0.0</td>\n",
       "      <td>0.0</td>\n",
       "      <td>0.0</td>\n",
       "      <td>0.0</td>\n",
       "    </tr>\n",
       "    <tr>\n",
       "      <th>87289</th>\n",
       "      <td>00021552_011.png</td>\n",
       "      <td>24</td>\n",
       "      <td>21552</td>\n",
       "      <td>53</td>\n",
       "      <td>M</td>\n",
       "      <td>PA</td>\n",
       "      <td>2021</td>\n",
       "      <td>2021</td>\n",
       "      <td>0.194311</td>\n",
       "      <td>0.194311</td>\n",
       "      <td>...</td>\n",
       "      <td>0.0</td>\n",
       "      <td>0.0</td>\n",
       "      <td>0.0</td>\n",
       "      <td>0.0</td>\n",
       "      <td>0.0</td>\n",
       "      <td>0.0</td>\n",
       "      <td>0.0</td>\n",
       "      <td>0.0</td>\n",
       "      <td>0.0</td>\n",
       "      <td>0.0</td>\n",
       "    </tr>\n",
       "    <tr>\n",
       "      <th>73238</th>\n",
       "      <td>00018029_000.png</td>\n",
       "      <td>0</td>\n",
       "      <td>18029</td>\n",
       "      <td>66</td>\n",
       "      <td>M</td>\n",
       "      <td>PA</td>\n",
       "      <td>2870</td>\n",
       "      <td>2991</td>\n",
       "      <td>0.143000</td>\n",
       "      <td>0.143000</td>\n",
       "      <td>...</td>\n",
       "      <td>0.0</td>\n",
       "      <td>0.0</td>\n",
       "      <td>0.0</td>\n",
       "      <td>0.0</td>\n",
       "      <td>0.0</td>\n",
       "      <td>0.0</td>\n",
       "      <td>0.0</td>\n",
       "      <td>0.0</td>\n",
       "      <td>0.0</td>\n",
       "      <td>0.0</td>\n",
       "    </tr>\n",
       "    <tr>\n",
       "      <th>1564</th>\n",
       "      <td>00000416_005.png</td>\n",
       "      <td>5</td>\n",
       "      <td>416</td>\n",
       "      <td>67</td>\n",
       "      <td>F</td>\n",
       "      <td>PA</td>\n",
       "      <td>2992</td>\n",
       "      <td>2991</td>\n",
       "      <td>0.143000</td>\n",
       "      <td>0.143000</td>\n",
       "      <td>...</td>\n",
       "      <td>0.0</td>\n",
       "      <td>0.0</td>\n",
       "      <td>0.0</td>\n",
       "      <td>0.0</td>\n",
       "      <td>0.0</td>\n",
       "      <td>0.0</td>\n",
       "      <td>1.0</td>\n",
       "      <td>0.0</td>\n",
       "      <td>0.0</td>\n",
       "      <td>0.0</td>\n",
       "    </tr>\n",
       "    <tr>\n",
       "      <th>67357</th>\n",
       "      <td>00016630_011.png</td>\n",
       "      <td>10</td>\n",
       "      <td>16630</td>\n",
       "      <td>30</td>\n",
       "      <td>M</td>\n",
       "      <td>AP</td>\n",
       "      <td>2500</td>\n",
       "      <td>2048</td>\n",
       "      <td>0.168000</td>\n",
       "      <td>0.168000</td>\n",
       "      <td>...</td>\n",
       "      <td>0.0</td>\n",
       "      <td>0.0</td>\n",
       "      <td>0.0</td>\n",
       "      <td>0.0</td>\n",
       "      <td>0.0</td>\n",
       "      <td>0.0</td>\n",
       "      <td>0.0</td>\n",
       "      <td>0.0</td>\n",
       "      <td>0.0</td>\n",
       "      <td>0.0</td>\n",
       "    </tr>\n",
       "    <tr>\n",
       "      <th>...</th>\n",
       "      <td>...</td>\n",
       "      <td>...</td>\n",
       "      <td>...</td>\n",
       "      <td>...</td>\n",
       "      <td>...</td>\n",
       "      <td>...</td>\n",
       "      <td>...</td>\n",
       "      <td>...</td>\n",
       "      <td>...</td>\n",
       "      <td>...</td>\n",
       "      <td>...</td>\n",
       "      <td>...</td>\n",
       "      <td>...</td>\n",
       "      <td>...</td>\n",
       "      <td>...</td>\n",
       "      <td>...</td>\n",
       "      <td>...</td>\n",
       "      <td>...</td>\n",
       "      <td>...</td>\n",
       "      <td>...</td>\n",
       "      <td>...</td>\n",
       "    </tr>\n",
       "    <tr>\n",
       "      <th>112113</th>\n",
       "      <td>00030800_000.png</td>\n",
       "      <td>0</td>\n",
       "      <td>30800</td>\n",
       "      <td>33</td>\n",
       "      <td>F</td>\n",
       "      <td>PA</td>\n",
       "      <td>2048</td>\n",
       "      <td>2500</td>\n",
       "      <td>0.168000</td>\n",
       "      <td>0.168000</td>\n",
       "      <td>...</td>\n",
       "      <td>0.0</td>\n",
       "      <td>0.0</td>\n",
       "      <td>0.0</td>\n",
       "      <td>0.0</td>\n",
       "      <td>0.0</td>\n",
       "      <td>0.0</td>\n",
       "      <td>0.0</td>\n",
       "      <td>0.0</td>\n",
       "      <td>0.0</td>\n",
       "      <td>0.0</td>\n",
       "    </tr>\n",
       "    <tr>\n",
       "      <th>112116</th>\n",
       "      <td>00030802_000.png</td>\n",
       "      <td>0</td>\n",
       "      <td>30802</td>\n",
       "      <td>28</td>\n",
       "      <td>M</td>\n",
       "      <td>PA</td>\n",
       "      <td>2048</td>\n",
       "      <td>2500</td>\n",
       "      <td>0.168000</td>\n",
       "      <td>0.168000</td>\n",
       "      <td>...</td>\n",
       "      <td>0.0</td>\n",
       "      <td>0.0</td>\n",
       "      <td>0.0</td>\n",
       "      <td>0.0</td>\n",
       "      <td>0.0</td>\n",
       "      <td>0.0</td>\n",
       "      <td>0.0</td>\n",
       "      <td>0.0</td>\n",
       "      <td>0.0</td>\n",
       "      <td>0.0</td>\n",
       "    </tr>\n",
       "    <tr>\n",
       "      <th>112117</th>\n",
       "      <td>00030803_000.png</td>\n",
       "      <td>0</td>\n",
       "      <td>30803</td>\n",
       "      <td>42</td>\n",
       "      <td>F</td>\n",
       "      <td>PA</td>\n",
       "      <td>2048</td>\n",
       "      <td>2500</td>\n",
       "      <td>0.168000</td>\n",
       "      <td>0.168000</td>\n",
       "      <td>...</td>\n",
       "      <td>0.0</td>\n",
       "      <td>0.0</td>\n",
       "      <td>0.0</td>\n",
       "      <td>0.0</td>\n",
       "      <td>0.0</td>\n",
       "      <td>0.0</td>\n",
       "      <td>0.0</td>\n",
       "      <td>0.0</td>\n",
       "      <td>0.0</td>\n",
       "      <td>0.0</td>\n",
       "    </tr>\n",
       "    <tr>\n",
       "      <th>112118</th>\n",
       "      <td>00030804_000.png</td>\n",
       "      <td>0</td>\n",
       "      <td>30804</td>\n",
       "      <td>29</td>\n",
       "      <td>F</td>\n",
       "      <td>PA</td>\n",
       "      <td>2048</td>\n",
       "      <td>2500</td>\n",
       "      <td>0.168000</td>\n",
       "      <td>0.168000</td>\n",
       "      <td>...</td>\n",
       "      <td>0.0</td>\n",
       "      <td>0.0</td>\n",
       "      <td>0.0</td>\n",
       "      <td>0.0</td>\n",
       "      <td>0.0</td>\n",
       "      <td>0.0</td>\n",
       "      <td>0.0</td>\n",
       "      <td>0.0</td>\n",
       "      <td>0.0</td>\n",
       "      <td>0.0</td>\n",
       "    </tr>\n",
       "    <tr>\n",
       "      <th>112119</th>\n",
       "      <td>00030805_000.png</td>\n",
       "      <td>0</td>\n",
       "      <td>30805</td>\n",
       "      <td>26</td>\n",
       "      <td>M</td>\n",
       "      <td>PA</td>\n",
       "      <td>2048</td>\n",
       "      <td>2500</td>\n",
       "      <td>0.171000</td>\n",
       "      <td>0.171000</td>\n",
       "      <td>...</td>\n",
       "      <td>0.0</td>\n",
       "      <td>0.0</td>\n",
       "      <td>0.0</td>\n",
       "      <td>0.0</td>\n",
       "      <td>0.0</td>\n",
       "      <td>0.0</td>\n",
       "      <td>0.0</td>\n",
       "      <td>0.0</td>\n",
       "      <td>0.0</td>\n",
       "      <td>0.0</td>\n",
       "    </tr>\n",
       "  </tbody>\n",
       "</table>\n",
       "<p>112120 rows × 24 columns</p>\n",
       "</div>"
      ],
      "text/plain": [
       "             Image Index  Follow-up #  Patient ID  Patient Age Patient Gender  \\\n",
       "1705    00000459_057.png           30         459           55              F   \n",
       "87289   00021552_011.png           24       21552           53              M   \n",
       "73238   00018029_000.png            0       18029           66              M   \n",
       "1564    00000416_005.png            5         416           67              F   \n",
       "67357   00016630_011.png           10       16630           30              M   \n",
       "...                  ...          ...         ...          ...            ...   \n",
       "112113  00030800_000.png            0       30800           33              F   \n",
       "112116  00030802_000.png            0       30802           28              M   \n",
       "112117  00030803_000.png            0       30803           42              F   \n",
       "112118  00030804_000.png            0       30804           29              F   \n",
       "112119  00030805_000.png            0       30805           26              M   \n",
       "\n",
       "       View Position  OriginalImage[Width  Height]  \\\n",
       "1705              PA                 2698     2845   \n",
       "87289             PA                 2021     2021   \n",
       "73238             PA                 2870     2991   \n",
       "1564              PA                 2992     2991   \n",
       "67357             AP                 2500     2048   \n",
       "...              ...                  ...      ...   \n",
       "112113            PA                 2048     2500   \n",
       "112116            PA                 2048     2500   \n",
       "112117            PA                 2048     2500   \n",
       "112118            PA                 2048     2500   \n",
       "112119            PA                 2048     2500   \n",
       "\n",
       "        OriginalImagePixelSpacing[x        y]  ...  Nodule  Atelectasis  \\\n",
       "1705                       0.143000  0.143000  ...     0.0          0.0   \n",
       "87289                      0.194311  0.194311  ...     0.0          0.0   \n",
       "73238                      0.143000  0.143000  ...     0.0          0.0   \n",
       "1564                       0.143000  0.143000  ...     0.0          0.0   \n",
       "67357                      0.168000  0.168000  ...     0.0          0.0   \n",
       "...                             ...       ...  ...     ...          ...   \n",
       "112113                     0.168000  0.168000  ...     0.0          0.0   \n",
       "112116                     0.168000  0.168000  ...     0.0          0.0   \n",
       "112117                     0.168000  0.168000  ...     0.0          0.0   \n",
       "112118                     0.168000  0.168000  ...     0.0          0.0   \n",
       "112119                     0.171000  0.171000  ...     0.0          0.0   \n",
       "\n",
       "        Pneumonia  Consolidation  Emphysema  Fibrosis  Pneumothorax  \\\n",
       "1705          0.0            0.0        0.0       0.0           0.0   \n",
       "87289         0.0            0.0        0.0       0.0           0.0   \n",
       "73238         0.0            0.0        0.0       0.0           0.0   \n",
       "1564          0.0            0.0        0.0       0.0           1.0   \n",
       "67357         0.0            0.0        0.0       0.0           0.0   \n",
       "...           ...            ...        ...       ...           ...   \n",
       "112113        0.0            0.0        0.0       0.0           0.0   \n",
       "112116        0.0            0.0        0.0       0.0           0.0   \n",
       "112117        0.0            0.0        0.0       0.0           0.0   \n",
       "112118        0.0            0.0        0.0       0.0           0.0   \n",
       "112119        0.0            0.0        0.0       0.0           0.0   \n",
       "\n",
       "        Pleural_Thickening  Edema  Cardiomegaly  \n",
       "1705                   0.0    0.0           0.0  \n",
       "87289                  0.0    0.0           0.0  \n",
       "73238                  0.0    0.0           0.0  \n",
       "1564                   0.0    0.0           0.0  \n",
       "67357                  0.0    0.0           0.0  \n",
       "...                    ...    ...           ...  \n",
       "112113                 0.0    0.0           0.0  \n",
       "112116                 0.0    0.0           0.0  \n",
       "112117                 0.0    0.0           0.0  \n",
       "112118                 0.0    0.0           0.0  \n",
       "112119                 0.0    0.0           0.0  \n",
       "\n",
       "[112120 rows x 24 columns]"
      ]
     },
     "execution_count": 20,
     "metadata": {},
     "output_type": "execute_result"
    }
   ],
   "source": [
    "comp"
   ]
  },
  {
   "cell_type": "code",
   "execution_count": null,
   "metadata": {},
   "outputs": [],
   "source": []
  },
  {
   "cell_type": "code",
   "execution_count": null,
   "metadata": {},
   "outputs": [],
   "source": []
  },
  {
   "cell_type": "code",
   "execution_count": null,
   "metadata": {},
   "outputs": [],
   "source": []
  },
  {
   "cell_type": "code",
   "execution_count": null,
   "metadata": {},
   "outputs": [],
   "source": []
  },
  {
   "cell_type": "code",
   "execution_count": null,
   "metadata": {},
   "outputs": [],
   "source": []
  },
  {
   "cell_type": "code",
   "execution_count": null,
   "metadata": {
    "ExecuteTime": {
     "end_time": "2021-03-11T16:39:28.225906Z",
     "start_time": "2021-03-11T16:39:28.221479Z"
    }
   },
   "outputs": [],
   "source": [
    "train_label = train_df[labels].values\n",
    "pos_weights = compute_positive_class_weigths(train_label)"
   ]
  },
  {
   "cell_type": "code",
   "execution_count": null,
   "metadata": {
    "ExecuteTime": {
     "end_time": "2021-03-11T16:39:28.850317Z",
     "start_time": "2021-03-11T16:39:28.848485Z"
    }
   },
   "outputs": [],
   "source": [
    "train_tfs = transforms.Compose([\n",
    "    transforms.Normalize([SUBSET_MEAN]*3, [SUBSET_STD]*3),\n",
    "    #transforms.RandomHorizontalFlip(p=0.5)\n",
    "])\n",
    "test_tfs = transforms.Compose([\n",
    "    transforms.Normalize([SUBSET_MEAN]*3, [SUBSET_STD]*3),\n",
    "    \n",
    "])"
   ]
  },
  {
   "cell_type": "code",
   "execution_count": null,
   "metadata": {
    "ExecuteTime": {
     "end_time": "2021-03-11T16:39:29.478244Z",
     "start_time": "2021-03-11T16:39:29.473442Z"
    }
   },
   "outputs": [],
   "source": [
    "train_ds = CRX8_Data(train_df, get_image_path(), labels, image_size=image_size, transforms=train_tfs)\n",
    "valid_ds = CRX8_Data(valid_df, get_image_path(), labels, image_size=image_size, transforms=test_tfs)\n",
    "test_ds  = CRX8_Data(test_df , get_image_path(), labels, image_size=image_size, transforms=test_tfs)"
   ]
  },
  {
   "cell_type": "code",
   "execution_count": null,
   "metadata": {
    "ExecuteTime": {
     "end_time": "2021-03-11T16:39:30.105253Z",
     "start_time": "2021-03-11T16:39:30.103224Z"
    }
   },
   "outputs": [],
   "source": [
    "train_dl = DataLoader(train_ds, batch_size=bs, shuffle=True)\n",
    "valid_dl = DataLoader(valid_ds, batch_size=bs, shuffle=False)\n",
    "test_dl  = DataLoader(test_ds,  batch_size=bs, shuffle=False)\n",
    "\n",
    "dataloaders = {\n",
    "    \"train\": train_dl,\n",
    "    \"val\": valid_dl,\n",
    "    \"test\": test_dl\n",
    "}"
   ]
  },
  {
   "cell_type": "code",
   "execution_count": null,
   "metadata": {
    "ExecuteTime": {
     "end_time": "2021-03-11T16:41:02.853995Z",
     "start_time": "2021-03-11T16:41:02.851442Z"
    }
   },
   "outputs": [],
   "source": [
    "#export\n",
    "def show_image(fn):\n",
    "    im = plt_image.imread(fn)\n",
    "    plt.imshow(im, cmap=\"bone\");"
   ]
  },
  {
   "cell_type": "code",
   "execution_count": null,
   "metadata": {
    "ExecuteTime": {
     "end_time": "2021-03-11T16:41:03.682370Z",
     "start_time": "2021-03-11T16:41:03.680334Z"
    }
   },
   "outputs": [],
   "source": [
    "dd = train_df[train_df[\"Hernia\"] ]"
   ]
  },
  {
   "cell_type": "code",
   "execution_count": null,
   "metadata": {
    "ExecuteTime": {
     "end_time": "2021-03-11T16:44:04.688512Z",
     "start_time": "2021-03-11T16:44:04.474297Z"
    }
   },
   "outputs": [],
   "source": [
    "i = 0\n",
    "fn = train_df[\"Image Index\"].iloc[i]\n",
    "display(train_df.iloc[i].loc[labels])\n",
    "print(translate2label(train_df[labels].iloc[i]))\n",
    "show_image(get_image_path()/fn)"
   ]
  },
  {
   "cell_type": "code",
   "execution_count": null,
   "metadata": {},
   "outputs": [],
   "source": []
  },
  {
   "cell_type": "code",
   "execution_count": null,
   "metadata": {},
   "outputs": [],
   "source": []
  },
  {
   "cell_type": "code",
   "execution_count": null,
   "metadata": {},
   "outputs": [],
   "source": []
  },
  {
   "cell_type": "code",
   "execution_count": null,
   "metadata": {
    "ExecuteTime": {
     "end_time": "2021-03-11T16:35:55.558696Z",
     "start_time": "2021-03-11T16:35:50.990748Z"
    },
    "scrolled": false
   },
   "outputs": [],
   "source": [
    "X, y = get_batch(10, train_dl)\n",
    "print_batch(X, y)"
   ]
  },
  {
   "cell_type": "code",
   "execution_count": null,
   "metadata": {
    "ExecuteTime": {
     "end_time": "2021-03-11T15:46:24.872994Z",
     "start_time": "2021-03-11T15:46:23.825280Z"
    }
   },
   "outputs": [],
   "source": [
    "criterion = NN.BCEWithLogitsLoss(pos_weight=pos_weights.to(device), reduction=\"sum\")"
   ]
  },
  {
   "cell_type": "code",
   "execution_count": null,
   "metadata": {
    "ExecuteTime": {
     "end_time": "2021-03-11T15:46:25.796017Z",
     "start_time": "2021-03-11T15:46:25.582006Z"
    }
   },
   "outputs": [],
   "source": [
    "model = pretrained_densenet121(labels=labels)\n",
    "model = model.to(device)"
   ]
  },
  {
   "cell_type": "code",
   "execution_count": null,
   "metadata": {
    "ExecuteTime": {
     "end_time": "2021-03-11T15:46:26.584070Z",
     "start_time": "2021-03-11T15:46:26.581679Z"
    }
   },
   "outputs": [],
   "source": [
    "#export\n",
    "def transfer_learn_setup(model, modelname, lr):\n",
    "    if \"densenet\" in modelname.lower():\n",
    "        return torch.optim.Adam(model.classifier.parameters(),lr=lr)\n",
    "    elif \"resnet\" in modelname.lower():\n",
    "        return torch.optim.Adam(model.fc.parameters(),lr=lr)\n",
    "\n",
    "#export\n",
    "def fine_tune_setup(model, lr):\n",
    "    return torch.optim.Adam(model.parameters(),lr=lr)"
   ]
  },
  {
   "cell_type": "code",
   "execution_count": null,
   "metadata": {
    "ExecuteTime": {
     "end_time": "2021-03-11T15:46:28.790150Z",
     "start_time": "2021-03-11T15:46:28.787705Z"
    }
   },
   "outputs": [],
   "source": [
    "transfer_optimizer = transfer_learn_setup(model, \"densenet\", lr)"
   ]
  },
  {
   "cell_type": "code",
   "execution_count": null,
   "metadata": {
    "ExecuteTime": {
     "end_time": "2021-03-11T14:32:21.224533Z",
     "start_time": "2021-03-11T14:32:21.216525Z"
    }
   },
   "outputs": [],
   "source": []
  },
  {
   "cell_type": "code",
   "execution_count": null,
   "metadata": {
    "ExecuteTime": {
     "end_time": "2021-03-11T15:46:30.268650Z",
     "start_time": "2021-03-11T15:46:30.263527Z"
    }
   },
   "outputs": [],
   "source": [
    "layers = get_layers(model)\n",
    "f\"Last layer: {layers[-1][1]}\""
   ]
  },
  {
   "cell_type": "code",
   "execution_count": null,
   "metadata": {
    "ExecuteTime": {
     "end_time": "2021-03-11T15:46:31.058014Z",
     "start_time": "2021-03-11T15:46:31.056665Z"
    }
   },
   "outputs": [],
   "source": [
    "#optimizer = torch.optim.Adam(model.parameters(),lr=lr)"
   ]
  },
  {
   "cell_type": "code",
   "execution_count": null,
   "metadata": {
    "ExecuteTime": {
     "end_time": "2021-03-11T15:47:44.855861Z",
     "start_time": "2021-03-11T15:46:32.197089Z"
    }
   },
   "outputs": [],
   "source": [
    "logs,losses = find_lr(model, train_dl, transfer_optimizer, criterion, device=device)\n",
    "i = 10\n",
    "plt.plot(logs[i:-i],losses[i:-i]);"
   ]
  },
  {
   "cell_type": "code",
   "execution_count": null,
   "metadata": {
    "ExecuteTime": {
     "end_time": "2021-03-11T15:50:25.895630Z",
     "start_time": "2021-03-11T15:50:25.893551Z"
    }
   },
   "outputs": [],
   "source": [
    "lr = 3e-5"
   ]
  },
  {
   "cell_type": "code",
   "execution_count": null,
   "metadata": {
    "ExecuteTime": {
     "end_time": "2021-03-11T15:50:27.324953Z",
     "start_time": "2021-03-11T15:50:27.322596Z"
    }
   },
   "outputs": [],
   "source": [
    "transfer_optimizer = transfer_learn_setup(model, \"densenet\", lr)"
   ]
  },
  {
   "cell_type": "code",
   "execution_count": null,
   "metadata": {
    "ExecuteTime": {
     "end_time": "2021-03-11T15:50:28.263272Z",
     "start_time": "2021-03-11T15:50:28.260943Z"
    }
   },
   "outputs": [],
   "source": [
    "logger = Logger()\n",
    "logger.add_metric(\"loss\")\n",
    "logger.add_metric(\"acc\")\n",
    "logger.add_metric(\"auroc\")"
   ]
  },
  {
   "cell_type": "code",
   "execution_count": null,
   "metadata": {
    "ExecuteTime": {
     "end_time": "2021-03-11T15:50:29.218543Z",
     "start_time": "2021-03-11T15:50:29.216716Z"
    }
   },
   "outputs": [],
   "source": [
    "num_steps = len(train_dl)\n",
    "lr_range = (lr / 10, lr)\n",
    "scheduler = OneCycleLR(transfer_optimizer, num_steps, lr_range)"
   ]
  },
  {
   "cell_type": "code",
   "execution_count": null,
   "metadata": {
    "ExecuteTime": {
     "end_time": "2021-03-11T16:01:43.614219Z",
     "start_time": "2021-03-11T15:50:33.579780Z"
    }
   },
   "outputs": [],
   "source": [
    "model = train_model(model, criterion, transfer_optimizer, scheduler, \n",
    "                    dataloaders, logger, model_name, labels=labels,\n",
    "                    num_epochs=epochs, device=device)"
   ]
  },
  {
   "cell_type": "code",
   "execution_count": null,
   "metadata": {
    "ExecuteTime": {
     "end_time": "2021-03-11T16:01:44.477192Z",
     "start_time": "2021-03-11T16:01:44.407441Z"
    }
   },
   "outputs": [],
   "source": [
    "logger.plot_losses()"
   ]
  },
  {
   "cell_type": "code",
   "execution_count": null,
   "metadata": {
    "ExecuteTime": {
     "end_time": "2021-03-11T16:01:45.346533Z",
     "start_time": "2021-03-11T16:01:45.273084Z"
    }
   },
   "outputs": [],
   "source": [
    "logger.plot_acc()"
   ]
  },
  {
   "cell_type": "code",
   "execution_count": null,
   "metadata": {
    "ExecuteTime": {
     "end_time": "2021-03-11T16:01:46.179960Z",
     "start_time": "2021-03-11T16:01:46.171009Z"
    }
   },
   "outputs": [],
   "source": [
    "logger.plot_auroc()"
   ]
  },
  {
   "cell_type": "code",
   "execution_count": null,
   "metadata": {
    "ExecuteTime": {
     "end_time": "2021-03-11T16:03:24.164139Z",
     "start_time": "2021-03-11T16:03:24.159670Z"
    }
   },
   "outputs": [],
   "source": [
    "logger.state[\"val_auroc\"][4][0].mean()"
   ]
  },
  {
   "cell_type": "code",
   "execution_count": null,
   "metadata": {
    "ExecuteTime": {
     "end_time": "2021-03-11T16:09:33.204719Z",
     "start_time": "2021-03-11T16:09:33.199503Z"
    }
   },
   "outputs": [],
   "source": [
    "fine_optimizer = fine_tune_setup(model, lr)"
   ]
  },
  {
   "cell_type": "code",
   "execution_count": null,
   "metadata": {
    "ExecuteTime": {
     "end_time": "2021-03-11T16:09:12.701710Z",
     "start_time": "2021-03-11T16:09:12.629975Z"
    }
   },
   "outputs": [],
   "source": [
    "#logs,losses = find_lr(model, train_dl, fine_optimizer, criterion, device=device)\n",
    "i = 1\n",
    "plt.plot(logs[i:-i],losses[i:-i]);"
   ]
  },
  {
   "cell_type": "code",
   "execution_count": null,
   "metadata": {
    "ExecuteTime": {
     "end_time": "2021-03-11T16:09:29.001462Z",
     "start_time": "2021-03-11T16:09:28.999328Z"
    }
   },
   "outputs": [],
   "source": [
    "lr = 1e-4"
   ]
  },
  {
   "cell_type": "code",
   "execution_count": null,
   "metadata": {
    "ExecuteTime": {
     "end_time": "2021-03-11T16:10:31.128548Z",
     "start_time": "2021-03-11T16:10:31.123854Z"
    }
   },
   "outputs": [],
   "source": [
    "fine_optimizer = fine_tune_setup(model, lr)\n",
    "num_steps = len(train_dl)\n",
    "lr_range = (lr / 10, lr)\n",
    "scheduler = OneCycleLR(fine_optimizer, num_steps, lr_range)"
   ]
  },
  {
   "cell_type": "code",
   "execution_count": null,
   "metadata": {
    "ExecuteTime": {
     "end_time": "2021-03-11T16:22:36.172078Z",
     "start_time": "2021-03-11T16:10:56.871763Z"
    }
   },
   "outputs": [],
   "source": [
    "model = train_model(model, criterion, fine_optimizer, scheduler, \n",
    "                    dataloaders, logger, model_name, labels=labels,\n",
    "                    num_epochs=epochs, device=device)"
   ]
  },
  {
   "cell_type": "code",
   "execution_count": null,
   "metadata": {
    "ExecuteTime": {
     "end_time": "2021-03-11T16:22:58.365592Z",
     "start_time": "2021-03-11T16:22:58.302776Z"
    }
   },
   "outputs": [],
   "source": [
    "logger.plot_losses()"
   ]
  },
  {
   "cell_type": "code",
   "execution_count": null,
   "metadata": {
    "ExecuteTime": {
     "end_time": "2021-03-11T16:23:07.650024Z",
     "start_time": "2021-03-11T16:23:07.511786Z"
    }
   },
   "outputs": [],
   "source": [
    "logger.plot_acc()"
   ]
  },
  {
   "cell_type": "code",
   "execution_count": null,
   "metadata": {
    "ExecuteTime": {
     "end_time": "2021-03-11T16:23:34.629977Z",
     "start_time": "2021-03-11T16:23:34.612063Z"
    }
   },
   "outputs": [],
   "source": [
    "logger.plot_auroc()"
   ]
  },
  {
   "cell_type": "code",
   "execution_count": null,
   "metadata": {},
   "outputs": [],
   "source": []
  },
  {
   "cell_type": "code",
   "execution_count": null,
   "metadata": {},
   "outputs": [],
   "source": []
  },
  {
   "cell_type": "code",
   "execution_count": null,
   "metadata": {},
   "outputs": [],
   "source": []
  },
  {
   "cell_type": "code",
   "execution_count": null,
   "metadata": {},
   "outputs": [],
   "source": []
  },
  {
   "cell_type": "code",
   "execution_count": null,
   "metadata": {
    "ExecuteTime": {
     "end_time": "2021-03-11T14:46:15.248984Z",
     "start_time": "2021-03-11T14:46:14.939289Z"
    }
   },
   "outputs": [],
   "source": [
    "X, y = get_batch(0, train_dl)"
   ]
  },
  {
   "cell_type": "code",
   "execution_count": null,
   "metadata": {
    "ExecuteTime": {
     "end_time": "2021-03-11T15:26:42.375282Z",
     "start_time": "2021-03-11T15:26:42.370039Z"
    }
   },
   "outputs": [],
   "source": [
    "#export\n",
    "def print_batch(X, y):\n",
    "    assert X.shape[0] % 2 == 0\n",
    "    X = X * SUBSET_STD + SUBSET_MEAN\n",
    "    x_dim = int(X.shape[0] / 2)\n",
    "    y_dim = int(X.shape[0] / x_dim)\n",
    "    \n",
    "    axes = []\n",
    "    figure = plt.figure(figsize=(2*x_dim, 20*y_dim))\n",
    "    i = 0\n",
    "    for y_idx in range(y_dim):\n",
    "        for x_idx in range(x_dim):\n",
    "            axes.append(figure.add_subplot(x_dim, y_dim, i+1))\n",
    "            axes[-1].set_title(translate2label(y[i]))\n",
    "            plt.imshow(X[i].reshape(X[i].shape[1], X[i].shape[2], X[i].shape[0]))\n",
    "            i += 1\n",
    "    figure.tight_layout()\n",
    "    plt.show()"
   ]
  },
  {
   "cell_type": "code",
   "execution_count": null,
   "metadata": {
    "ExecuteTime": {
     "end_time": "2021-03-11T15:35:40.584827Z",
     "start_time": "2021-03-11T15:35:40.577072Z"
    }
   },
   "outputs": [],
   "source": [
    "#export\n",
    "class CRX8_Data(Dataset):\n",
    "    \n",
    "    def __init__(self, df, image_path, labels, image_size=None, transforms=None):\n",
    "        self.df = df\n",
    "        self.image_size = image_size\n",
    "        #if image_size is not None:\n",
    "        #    self.resizer = transforms.Resize(image_size)\n",
    "        self.image_path = image_path\n",
    "        self.len = df.shape[0]\n",
    "        self.labels = labels\n",
    "        self.transforms = transforms\n",
    "        self.df[\"Index_2\"] = list(range(self.df.shape[0]))\n",
    "        \n",
    "    def __len__(self): return self.len\n",
    "    \n",
    "    def _resize(self, im):\n",
    "        return transforms.Resize(self.image_size)(im)\n",
    "\n",
    "    def __getitem__(self, idx):\n",
    "        img_path = self._get_image_path(idx)     \n",
    "        image = read_image(img_path)\n",
    "        if self.image_size is not None: image = self._resize(image)\n",
    "        image = self._make3D(image)\n",
    "        label = self.df.iloc[idx,:].loc[self.labels].values\n",
    "        if self.transforms: image = self.transforms(image)\n",
    "\n",
    "        return image.float(), torch.Tensor(label.astype(np.float)).float()\n",
    "    \n",
    "    def _make3D(self, t):\n",
    "        reshaped = np.repeat(t[0,:,:].float(), 3).view(3, t.shape[1], t.shape[2])\n",
    "        reshaped /= 255.\n",
    "        return reshaped\n",
    "    \n",
    "    def _get_image_path(self, idx):\n",
    "        return str(self.image_path/self.df.iloc[idx].loc[\"Image Index\"]) "
   ]
  },
  {
   "cell_type": "code",
   "execution_count": null,
   "metadata": {
    "ExecuteTime": {
     "end_time": "2021-03-11T15:35:41.263230Z",
     "start_time": "2021-03-11T15:35:41.260973Z"
    }
   },
   "outputs": [],
   "source": [
    "train_ds = CRX8_Data(train_df, get_image_path(), labels, image_size=image_size, transforms=train_tfs)\n",
    "train_dl = DataLoader(train_ds, batch_size=bs, shuffle=True)"
   ]
  },
  {
   "cell_type": "code",
   "execution_count": null,
   "metadata": {
    "ExecuteTime": {
     "end_time": "2021-03-11T15:00:21.098730Z",
     "start_time": "2021-03-11T15:00:21.093359Z"
    }
   },
   "outputs": [],
   "source": [
    "array_info(im, with_hist=False)"
   ]
  },
  {
   "cell_type": "code",
   "execution_count": null,
   "metadata": {
    "ExecuteTime": {
     "end_time": "2021-03-11T15:32:32.751540Z",
     "start_time": "2021-03-11T15:32:32.638696Z"
    }
   },
   "outputs": [],
   "source": [
    "im = read_image(train_ds._get_image_path(0))\n",
    "#im = train_ds.__getitem__(0)[0]\n",
    "print(im.shape)\n",
    "#im = (im + 2)/4\n",
    "plt.imshow(im.reshape(im.shape[1], im.shape[2], im.shape[0]), cmap=\"gray\");\n",
    "#plt.imshow(im, cmap=\"gray\");"
   ]
  },
  {
   "cell_type": "code",
   "execution_count": null,
   "metadata": {
    "ExecuteTime": {
     "end_time": "2021-03-11T15:25:25.623452Z",
     "start_time": "2021-03-11T15:25:25.541706Z"
    }
   },
   "outputs": [],
   "source": [
    "im = transforms.Resize(image_size)(im)\n",
    "plt.imshow(im.reshape(im.shape[1], im.shape[2], im.shape[0]), cmap=\"gray\");"
   ]
  },
  {
   "cell_type": "code",
   "execution_count": null,
   "metadata": {
    "ExecuteTime": {
     "end_time": "2021-03-11T15:25:46.859394Z",
     "start_time": "2021-03-11T15:25:46.774297Z"
    }
   },
   "outputs": [],
   "source": [
    "im = train_ds._make3D(im)\n",
    "print(im.shape)\n",
    "im = transforms.Resize(image_size)(im.reshape(im.shape[1], im.shape[2], im.shape[0]))\n",
    "im = im.reshape(im.shape[1], im.shape[2], im.shape[0])\n",
    "print(im.shape)\n",
    "plt.imshow(im.reshape(im.shape[1], im.shape[2], im.shape[0]), cmap=\"gray\");"
   ]
  },
  {
   "cell_type": "code",
   "execution_count": null,
   "metadata": {},
   "outputs": [],
   "source": []
  },
  {
   "cell_type": "code",
   "execution_count": null,
   "metadata": {},
   "outputs": [],
   "source": []
  },
  {
   "cell_type": "code",
   "execution_count": null,
   "metadata": {
    "ExecuteTime": {
     "end_time": "2021-03-11T15:36:03.438156Z",
     "start_time": "2021-03-11T15:36:03.253843Z"
    }
   },
   "outputs": [],
   "source": [
    "print_image(*train_ds.__getitem__(0))"
   ]
  },
  {
   "cell_type": "code",
   "execution_count": null,
   "metadata": {
    "ExecuteTime": {
     "end_time": "2021-03-11T14:59:24.615310Z",
     "start_time": "2021-03-11T14:59:24.430535Z"
    }
   },
   "outputs": [],
   "source": [
    "print_image(X[0], y[0])"
   ]
  },
  {
   "cell_type": "code",
   "execution_count": null,
   "metadata": {
    "ExecuteTime": {
     "end_time": "2021-03-11T14:51:16.687820Z",
     "start_time": "2021-03-11T14:51:13.532112Z"
    }
   },
   "outputs": [],
   "source": [
    "print_batch(X, y)"
   ]
  },
  {
   "cell_type": "code",
   "execution_count": null,
   "metadata": {
    "ExecuteTime": {
     "end_time": "2021-03-11T15:26:55.893404Z",
     "start_time": "2021-03-11T15:26:55.890767Z"
    }
   },
   "outputs": [],
   "source": [
    "#export\n",
    "def get_batch(idx, dl):\n",
    "    assert idx < len(dl)\n",
    "    for i, data in enumerate(dl):\n",
    "        if i == idx: return data"
   ]
  },
  {
   "cell_type": "code",
   "execution_count": null,
   "metadata": {},
   "outputs": [],
   "source": []
  },
  {
   "cell_type": "code",
   "execution_count": null,
   "metadata": {},
   "outputs": [],
   "source": []
  },
  {
   "cell_type": "code",
   "execution_count": null,
   "metadata": {
    "ExecuteTime": {
     "end_time": "2021-03-11T12:40:42.077696Z",
     "start_time": "2021-03-11T12:40:41.332949Z"
    }
   },
   "outputs": [],
   "source": [
    "df, _, _ = get_dataframes(small=True, small_fraction=0.5, include_labels=labels)"
   ]
  },
  {
   "cell_type": "code",
   "execution_count": null,
   "metadata": {
    "ExecuteTime": {
     "end_time": "2021-03-11T12:40:45.159311Z",
     "start_time": "2021-03-11T12:40:45.156288Z"
    }
   },
   "outputs": [],
   "source": [
    "df.shape"
   ]
  },
  {
   "cell_type": "code",
   "execution_count": null,
   "metadata": {
    "ExecuteTime": {
     "end_time": "2021-03-11T12:40:50.822225Z",
     "start_time": "2021-03-11T12:40:50.799989Z"
    }
   },
   "outputs": [],
   "source": [
    "df"
   ]
  },
  {
   "cell_type": "code",
   "execution_count": null,
   "metadata": {
    "ExecuteTime": {
     "end_time": "2021-03-11T12:39:00.750777Z",
     "start_time": "2021-03-11T12:39:00.748622Z"
    }
   },
   "outputs": [],
   "source": [
    "labels = [\"Effusion\", \"Hernia\"]"
   ]
  },
  {
   "cell_type": "code",
   "execution_count": null,
   "metadata": {
    "ExecuteTime": {
     "end_time": "2021-03-11T12:39:01.524032Z",
     "start_time": "2021-03-11T12:39:01.473261Z"
    }
   },
   "outputs": [],
   "source": [
    "df[df[labels].sum(axis=1, numeric_only=True) > 0]"
   ]
  },
  {
   "cell_type": "code",
   "execution_count": null,
   "metadata": {
    "ExecuteTime": {
     "end_time": "2021-03-11T12:38:25.370992Z",
     "start_time": "2021-03-11T12:38:25.369025Z"
    }
   },
   "outputs": [],
   "source": [
    "#df[df[labels].sum(axis=1, numeric_only=True) > 0]"
   ]
  },
  {
   "cell_type": "code",
   "execution_count": null,
   "metadata": {},
   "outputs": [],
   "source": []
  }
 ],
 "metadata": {
  "kernelspec": {
   "display_name": "Python 3",
   "language": "python",
   "name": "python3"
  },
  "language_info": {
   "codemirror_mode": {
    "name": "ipython",
    "version": 3
   },
   "file_extension": ".py",
   "mimetype": "text/x-python",
   "name": "python",
   "nbconvert_exporter": "python",
   "pygments_lexer": "ipython3",
   "version": "3.8.8"
  },
  "varInspector": {
   "cols": {
    "lenName": 16,
    "lenType": 16,
    "lenVar": 40
   },
   "kernels_config": {
    "python": {
     "delete_cmd_postfix": "",
     "delete_cmd_prefix": "del ",
     "library": "var_list.py",
     "varRefreshCmd": "print(var_dic_list())"
    },
    "r": {
     "delete_cmd_postfix": ") ",
     "delete_cmd_prefix": "rm(",
     "library": "var_list.r",
     "varRefreshCmd": "cat(var_dic_list()) "
    }
   },
   "types_to_exclude": [
    "module",
    "function",
    "builtin_function_or_method",
    "instance",
    "_Feature"
   ],
   "window_display": false
  }
 },
 "nbformat": 4,
 "nbformat_minor": 5
}
