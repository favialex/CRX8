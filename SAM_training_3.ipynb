{
 "cells": [
  {
   "cell_type": "code",
   "execution_count": null,
   "metadata": {
    "ExecuteTime": {
     "end_time": "2021-03-26T14:42:11.229318Z",
     "start_time": "2021-03-26T14:42:09.820570Z"
    }
   },
   "outputs": [],
   "source": [
    "from exp.utils import *\n",
    "from exp.models import *\n",
    "from exp.losses import *\n",
    "from tqdm.notebook import tqdm\n",
    "from multiprocessing import Pool\n",
    "\n",
    "import torch\n",
    "import torch.nn as NN\n",
    "from torch.utils.data import Dataset, DataLoader\n",
    "from torchvision import datasets, transforms"
   ]
  },
  {
   "cell_type": "code",
   "execution_count": null,
   "metadata": {
    "ExecuteTime": {
     "end_time": "2021-03-26T14:42:11.244970Z",
     "start_time": "2021-03-26T14:42:11.242602Z"
    }
   },
   "outputs": [],
   "source": [
    "picked_labels = [\"Atelectasis\"]#[\"Atelectasis\", \"Cardiomegaly\", \"Pneumonia\"]\n",
    "already_pretrained_labels = []#[\"Atelectasis\"]#[\"Cardiomegaly\", \"Pneumonia\"]\n",
    "already_pretrained_lrs = []#[1e-8]#[1e-10, 1e-10]\n",
    "already_pretrained = {k:v for k,v in zip(already_pretrained_labels, already_pretrained_lrs)}\n",
    "already_trained = []#[\"Atelectasis\"]\n",
    "train_labels = [l for l in picked_labels if l not in already_trained]"
   ]
  },
  {
   "cell_type": "code",
   "execution_count": null,
   "metadata": {
    "ExecuteTime": {
     "end_time": "2021-03-26T14:44:35.034660Z",
     "start_time": "2021-03-26T14:43:38.874572Z"
    },
    "scrolled": false
   },
   "outputs": [],
   "source": [
    "for label in sorted(train_labels):\n",
    "    print(f\"Training model to classify '{label}'\")\n",
    "    \n",
    "    # Seed\n",
    "    seed = 92\n",
    "    seed_everything(seed)\n",
    "    \n",
    "    # Inital setup\n",
    "    model_name = f\"DenseNet121_v3_{label}\"#f\"sam_densenet_v1_{label}\"\n",
    "    model_type = \"densenet\"\n",
    "    bs = 16\n",
    "    lr = 1e-3\n",
    "    epochs = 50\n",
    "    patience = 2\n",
    "    with_reset = False\n",
    "    image_size = (224, 224)\n",
    "    device = get_device()\n",
    "    labels = get_labels()\n",
    "    \n",
    "    # Load data\n",
    "    train_df, valid_df, test_df = get_dataframes(include_labels=labels, \n",
    "                                                 small=False)\n",
    "    print(train_df.shape, valid_df.shape, test_df.shape)\n",
    "    train_df = get_binary_df(label, train_df)\n",
    "    valid_df = get_binary_df(label, valid_df)\n",
    "    test_df = get_binary_df(label, test_df)\n",
    "    \n",
    "    # Compute label weights\n",
    "    train_label = train_df[[label]].values\n",
    "    neg_weights, pos_weights = compute_class_freqs(train_label)\n",
    "    neg_weights, pos_weights = torch.Tensor(neg_weights), torch.Tensor(pos_weights)\n",
    "    print(neg_weights, pos_weights)\n",
    "    \n",
    "    # Get transforms\n",
    "    train_tfs, test_tfs = get_transforms(image_size=image_size)\n",
    "    \n",
    "    # Create datasets\n",
    "    train_ds = CRX8_Data(train_df, get_image_path(), label, image_size=image_size, transforms=train_tfs)\n",
    "    valid_ds = CRX8_Data(valid_df, get_image_path(), label, image_size=image_size, transforms=test_tfs)\n",
    "    test_ds  = CRX8_Data(test_df , get_image_path(), label, image_size=image_size, transforms=test_tfs)\n",
    "    \n",
    "    # Create dataloaders\n",
    "    train_dl = DataLoader(train_ds, batch_size=bs, shuffle=True)\n",
    "    valid_dl = DataLoader(valid_ds, batch_size=bs, shuffle=False)\n",
    "    test_dl  = DataLoader(test_ds,  batch_size=bs, shuffle=False)\n",
    "    dataloaders = {\n",
    "        \"train\": train_dl,\n",
    "        \"val\": valid_dl,\n",
    "        \"test\": test_dl\n",
    "    }\n",
    "    \n",
    "    # Load imagenet-pretrained model\n",
    "    if label in list(already_pretrained.keys()):\n",
    "        model = load_model(model_name)\n",
    "        lr = already_pretrained[label]\n",
    "    else:\n",
    "        model = pretrained_densenet121()\n",
    "    model = model.to(device)\n",
    "    \n",
    "    \n",
    "    \n",
    "    # Get criterion and optimizer\n",
    "    criterion = get_weighted_loss_with_logits(pos_weights.to(device), \n",
    "                                              neg_weights.to(device))\n",
    "    sam_optimizer = SAM(model.parameters(), torch.optim.Adam, lr=lr)\n",
    "    \n",
    "    # Train model\n",
    "    model, history = fit(model, criterion, sam_optimizer, \n",
    "                         dataloaders, model_name, epochs, \n",
    "                         lr, sam=True, with_reset=with_reset, metric=\"loss\", patience=patience)\n",
    "\n",
    "FERTIG()"
   ]
  },
  {
   "cell_type": "code",
   "execution_count": null,
   "metadata": {},
   "outputs": [],
   "source": []
  },
  {
   "cell_type": "code",
   "execution_count": null,
   "metadata": {},
   "outputs": [],
   "source": []
  }
 ],
 "metadata": {
  "kernelspec": {
   "display_name": "Python 3",
   "language": "python",
   "name": "python3"
  },
  "language_info": {
   "codemirror_mode": {
    "name": "ipython",
    "version": 3
   },
   "file_extension": ".py",
   "mimetype": "text/x-python",
   "name": "python",
   "nbconvert_exporter": "python",
   "pygments_lexer": "ipython3",
   "version": "3.8.8"
  },
  "varInspector": {
   "cols": {
    "lenName": 16,
    "lenType": 16,
    "lenVar": 40
   },
   "kernels_config": {
    "python": {
     "delete_cmd_postfix": "",
     "delete_cmd_prefix": "del ",
     "library": "var_list.py",
     "varRefreshCmd": "print(var_dic_list())"
    },
    "r": {
     "delete_cmd_postfix": ") ",
     "delete_cmd_prefix": "rm(",
     "library": "var_list.r",
     "varRefreshCmd": "cat(var_dic_list()) "
    }
   },
   "types_to_exclude": [
    "module",
    "function",
    "builtin_function_or_method",
    "instance",
    "_Feature"
   ],
   "window_display": false
  }
 },
 "nbformat": 4,
 "nbformat_minor": 4
}
