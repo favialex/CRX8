{
 "cells": [
  {
   "cell_type": "code",
   "execution_count": null,
   "metadata": {
    "ExecuteTime": {
     "end_time": "2021-03-10T19:50:12.812689Z",
     "start_time": "2021-03-10T19:50:12.081834Z"
    }
   },
   "outputs": [],
   "source": [
    "from exp.utils import *\n",
    "from tqdm.notebook import tqdm\n",
    "from multiprocessing import Pool\n",
    "\n",
    "import torch\n",
    "import torch.nn as NN\n",
    "from torch.utils.data import Dataset, DataLoader\n",
    "from torchvision import datasets, transforms\n",
    "from torchvision.transforms import ToTensor"
   ]
  },
  {
   "cell_type": "code",
   "execution_count": null,
   "metadata": {
    "ExecuteTime": {
     "end_time": "2021-03-10T19:50:12.946371Z",
     "start_time": "2021-03-10T19:50:12.944742Z"
    }
   },
   "outputs": [],
   "source": [
    "sigmoid = NN.Sigmoid()"
   ]
  },
  {
   "cell_type": "code",
   "execution_count": null,
   "metadata": {
    "ExecuteTime": {
     "end_time": "2021-03-10T19:50:13.087981Z",
     "start_time": "2021-03-10T19:50:13.086378Z"
    }
   },
   "outputs": [],
   "source": [
    "model_name = \"py_test_01\""
   ]
  },
  {
   "cell_type": "code",
   "execution_count": null,
   "metadata": {
    "ExecuteTime": {
     "end_time": "2021-03-10T19:50:13.240860Z",
     "start_time": "2021-03-10T19:50:13.223586Z"
    }
   },
   "outputs": [],
   "source": [
    "if torch.cuda.is_available():\n",
    "    device = torch.device(\"cuda:0\")\n",
    "    print(\"Using the GPU!\")\n",
    "else:\n",
    "    device = torch.device(\"cpu\")\n",
    "    print(\"Using the CPU!\")"
   ]
  },
  {
   "cell_type": "code",
   "execution_count": null,
   "metadata": {
    "ExecuteTime": {
     "end_time": "2021-03-10T19:50:16.555899Z",
     "start_time": "2021-03-10T19:50:16.553735Z"
    }
   },
   "outputs": [],
   "source": [
    "bs = 16"
   ]
  },
  {
   "cell_type": "code",
   "execution_count": null,
   "metadata": {
    "ExecuteTime": {
     "end_time": "2021-03-10T19:50:17.348120Z",
     "start_time": "2021-03-10T19:50:17.241695Z"
    }
   },
   "outputs": [],
   "source": [
    "labels = get_labels()"
   ]
  },
  {
   "cell_type": "code",
   "execution_count": null,
   "metadata": {
    "ExecuteTime": {
     "end_time": "2021-03-10T19:50:19.396977Z",
     "start_time": "2021-03-10T19:50:18.714368Z"
    }
   },
   "outputs": [],
   "source": [
    "train_df, valid_df, test_df = get_dataframes(small=True)"
   ]
  },
  {
   "cell_type": "code",
   "execution_count": null,
   "metadata": {
    "ExecuteTime": {
     "end_time": "2021-03-10T19:50:20.384651Z",
     "start_time": "2021-03-10T19:50:20.379506Z"
    }
   },
   "outputs": [],
   "source": [
    "train_label = train_df[labels].values\n",
    "pos_weights = compute_positive_class_weigths(train_label)"
   ]
  },
  {
   "cell_type": "code",
   "execution_count": null,
   "metadata": {
    "ExecuteTime": {
     "end_time": "2021-03-10T19:50:21.366434Z",
     "start_time": "2021-03-10T19:50:21.364407Z"
    }
   },
   "outputs": [],
   "source": [
    "train_tfs = transforms.Compose([\n",
    "    transforms.Normalize([SUBSET_MEAN]*3, [SUBSET_STD]*3),\n",
    "    transforms.RandomHorizontalFlip(p=0.5)\n",
    "])\n",
    "test_tfs = transforms.Compose([\n",
    "    transforms.Normalize([SUBSET_MEAN]*3, [SUBSET_STD]*3)\n",
    "    \n",
    "])"
   ]
  },
  {
   "cell_type": "code",
   "execution_count": null,
   "metadata": {
    "ExecuteTime": {
     "end_time": "2021-03-10T19:50:22.334339Z",
     "start_time": "2021-03-10T19:50:22.329681Z"
    }
   },
   "outputs": [],
   "source": [
    "train_ds = CRX8_Data(train_df, get_image_path(), labels, transforms=train_tfs)\n",
    "valid_ds = CRX8_Data(valid_df, get_image_path(), labels, transforms=test_tfs)\n",
    "test_ds  = CRX8_Data(test_df , get_image_path(), labels, transforms=test_tfs)"
   ]
  },
  {
   "cell_type": "code",
   "execution_count": null,
   "metadata": {
    "ExecuteTime": {
     "end_time": "2021-03-10T19:50:23.315044Z",
     "start_time": "2021-03-10T19:50:23.313176Z"
    }
   },
   "outputs": [],
   "source": [
    "train_dl = DataLoader(train_ds, batch_size=bs, shuffle=True)\n",
    "valid_dl = DataLoader(valid_ds, batch_size=bs, shuffle=False)\n",
    "test_dl  = DataLoader(test_ds,  batch_size=bs, shuffle=False)"
   ]
  },
  {
   "cell_type": "code",
   "execution_count": null,
   "metadata": {
    "ExecuteTime": {
     "end_time": "2021-03-10T19:50:25.342009Z",
     "start_time": "2021-03-10T19:50:24.298259Z"
    }
   },
   "outputs": [],
   "source": [
    "criterion = NN.BCEWithLogitsLoss(pos_weight=pos_weights.to(device), reduction=\"sum\")"
   ]
  },
  {
   "cell_type": "code",
   "execution_count": null,
   "metadata": {
    "ExecuteTime": {
     "end_time": "2021-03-10T19:50:26.585700Z",
     "start_time": "2021-03-10T19:50:26.322434Z"
    }
   },
   "outputs": [],
   "source": [
    "import torchvision.models as models\n",
    "net = models.resnet18(pretrained=True)\n",
    "net.fc = NN.Linear(512, len(get_labels()))\n",
    "net = net.to(device)"
   ]
  },
  {
   "cell_type": "code",
   "execution_count": null,
   "metadata": {
    "ExecuteTime": {
     "end_time": "2021-03-10T19:50:27.597355Z",
     "start_time": "2021-03-10T19:50:27.595286Z"
    }
   },
   "outputs": [],
   "source": [
    "optimizer = torch.optim.Adam(net.parameters(),lr=1e-1)"
   ]
  },
  {
   "cell_type": "code",
   "execution_count": null,
   "metadata": {
    "ExecuteTime": {
     "end_time": "2021-03-10T19:50:38.053227Z",
     "start_time": "2021-03-10T19:50:38.051411Z"
    }
   },
   "outputs": [],
   "source": [
    "#logs,losses = find_lr(net, train_dl, optimizer, criterion, device=device)\n",
    "#plt.plot(logs[10:-5],losses[10:-5])"
   ]
  },
  {
   "cell_type": "code",
   "execution_count": null,
   "metadata": {
    "ExecuteTime": {
     "end_time": "2021-03-10T19:50:39.163873Z",
     "start_time": "2021-03-10T19:50:39.161993Z"
    }
   },
   "outputs": [],
   "source": [
    "lr = 1e-3"
   ]
  },
  {
   "cell_type": "code",
   "execution_count": null,
   "metadata": {
    "ExecuteTime": {
     "end_time": "2021-03-10T19:50:43.969640Z",
     "start_time": "2021-03-10T19:50:43.967291Z"
    }
   },
   "outputs": [],
   "source": [
    "dataloaders = {\n",
    "    \"train\": train_dl,\n",
    "    \"val\": valid_dl,\n",
    "    \"test\": test_dl\n",
    "}"
   ]
  },
  {
   "cell_type": "code",
   "execution_count": null,
   "metadata": {
    "ExecuteTime": {
     "end_time": "2021-03-10T19:50:50.484764Z",
     "start_time": "2021-03-10T19:50:50.481979Z"
    }
   },
   "outputs": [],
   "source": [
    "epochs = 5\n",
    "num_steps = len(train_dl) * epochs\n",
    "lr_range = (lr / 10, lr)\n",
    "\n",
    "\n",
    "scheduler = OneCycleLR(optimizer, num_steps, lr_range)"
   ]
  },
  {
   "cell_type": "code",
   "execution_count": null,
   "metadata": {},
   "outputs": [],
   "source": []
  },
  {
   "cell_type": "code",
   "execution_count": null,
   "metadata": {
    "ExecuteTime": {
     "end_time": "2021-03-10T18:22:30.958109Z",
     "start_time": "2021-03-10T18:22:30.950590Z"
    }
   },
   "outputs": [],
   "source": [
    "steps, lrs, moms = [], [], []\n",
    "\n",
    "scheduler.num_steps, scheduler.num_cycle_steps\n",
    "\n",
    "for i in range(scheduler.num_steps*2):\n",
    "    steps.append(i)\n",
    "    lrs.append(scheduler.get_lr())\n",
    "    moms.append(scheduler.get_momentum())\n",
    "    scheduler.step()\n",
    "    if i == scheduler.num_steps: scheduler.reset()\n",
    "\n",
    "#scheduler.get_lr(), scheduler.get_momentum() "
   ]
  },
  {
   "cell_type": "code",
   "execution_count": null,
   "metadata": {
    "ExecuteTime": {
     "end_time": "2021-03-10T18:22:33.426909Z",
     "start_time": "2021-03-10T18:22:33.350517Z"
    }
   },
   "outputs": [],
   "source": [
    "plt.plot(steps, lrs)"
   ]
  },
  {
   "cell_type": "code",
   "execution_count": null,
   "metadata": {
    "ExecuteTime": {
     "end_time": "2021-03-10T18:22:37.419092Z",
     "start_time": "2021-03-10T18:22:37.350918Z"
    }
   },
   "outputs": [],
   "source": [
    "plt.plot(steps, moms)"
   ]
  },
  {
   "cell_type": "code",
   "execution_count": null,
   "metadata": {},
   "outputs": [],
   "source": []
  },
  {
   "cell_type": "code",
   "execution_count": null,
   "metadata": {
    "ExecuteTime": {
     "end_time": "2021-03-10T19:50:56.250507Z",
     "start_time": "2021-03-10T19:50:56.244275Z"
    }
   },
   "outputs": [],
   "source": [
    "class Logger:\n",
    "    def __init__(self):\n",
    "        self.state = {}\n",
    "    \n",
    "    def get_name(self, phase, name): return f\"{phase}_{name}\"\n",
    "    \n",
    "    def add_metric(self, name, phases=[\"train\", \"val\"]):\n",
    "        for phase in phases: self.state[self.get_name(phase, name)] = []\n",
    "\n",
    "    def add_value(self, name, value, phase):\n",
    "        self.state[self.get_name(phase, name)].append(value)\n",
    "    \n",
    "    def _plot_values(self, name):\n",
    "        train_name = self.get_name(\"train\", name)\n",
    "        val_name = self.get_name(\"val\", name)\n",
    "        plt.plot(\n",
    "            list(range(len(self.state[train_name]))), \n",
    "            self.state[train_name]);\n",
    "        plt.plot(\n",
    "            list(range(len(self.state[val_name]))), \n",
    "            self.state[val_name]);\n",
    "    \n",
    "    def plot_losses(self):\n",
    "        self._plot_values(\"loss\")\n",
    "    \n",
    "    def plot_acc(self):\n",
    "        self._plot_values(\"acc\")\n",
    "    \n",
    "    def plot_auroc(self, phase=\"val\"):\n",
    "        name = self.get_name(phase, \"auroc\")\n",
    "        df = self.state[name][0][0]\n",
    "        for data, _ in self.state[name]:\n",
    "            df = pd.concat([df, data], axis=1)\n",
    "        return add_chexnet(df)"
   ]
  },
  {
   "cell_type": "code",
   "execution_count": null,
   "metadata": {
    "ExecuteTime": {
     "end_time": "2021-03-10T19:50:58.672515Z",
     "start_time": "2021-03-10T19:50:58.669912Z"
    }
   },
   "outputs": [],
   "source": [
    "logger = Logger()\n",
    "logger.add_metric(\"loss\")\n",
    "logger.add_metric(\"acc\")\n",
    "logger.add_metric(\"auroc\")"
   ]
  },
  {
   "cell_type": "code",
   "execution_count": null,
   "metadata": {},
   "outputs": [],
   "source": []
  },
  {
   "cell_type": "code",
   "execution_count": null,
   "metadata": {
    "ExecuteTime": {
     "end_time": "2021-03-10T19:51:00.761169Z",
     "start_time": "2021-03-10T19:51:00.756038Z"
    }
   },
   "outputs": [],
   "source": [
    "from sklearn.metrics import roc_auc_score, roc_curve, auc\n",
    "def auroc_score(y_hat, y, model_name):\n",
    "    labels = get_labels()\n",
    "    score = {l:[] for l in labels}\n",
    "    label_thresholds = {}\n",
    "    for l_idx, l in enumerate(labels):\n",
    "        fpr, tpr, thresholds = roc_curve(y[:, l_idx], y_hat[:, l_idx])\n",
    "        auc_value = auc(fpr, tpr)\n",
    "        score[l].append(auc_value)\n",
    "        label_thresholds[l] = thresholds[np.argmax(tpr - fpr)]\n",
    "    df = pd.DataFrame(score.values(), index=score.keys(), columns=[model_name])\n",
    "    return df, label_thresholds"
   ]
  },
  {
   "cell_type": "code",
   "execution_count": null,
   "metadata": {
    "ExecuteTime": {
     "end_time": "2021-03-10T19:51:01.983503Z",
     "start_time": "2021-03-10T19:51:01.977756Z"
    }
   },
   "outputs": [],
   "source": [
    "#export\n",
    "def train_model(model, criterion, optimizer, scheduler, dataloaders, logger, \n",
    "                num_epochs=25, device=torch.device(\"cuda:0\")):\n",
    "    since = time.time()\n",
    "    model.to(device)\n",
    "    best_model_wts = copy.deepcopy(model.state_dict())\n",
    "    best_acc = 0.0\n",
    "    running_acc = 0\n",
    "    rabeta = 0.9\n",
    "\n",
    "    for epoch in tqdm(range(num_epochs)):\n",
    "        for phase in ['train', 'val']:\n",
    "            if phase == 'train': model.train()  \n",
    "            else: model.eval()   \n",
    "\n",
    "            running_loss = 0.0\n",
    "            running_corrects = 0\n",
    "            \n",
    "            y_hat, y = [], []\n",
    "\n",
    "            # Iterate over data.\n",
    "            for inputs, labels in tqdm(dataloaders[phase]):\n",
    "                inputs = inputs.to(device)\n",
    "                labels = labels.to(device)\n",
    "\n",
    "                optimizer.zero_grad()\n",
    "\n",
    "                with torch.set_grad_enabled(phase == 'train'):\n",
    "                    outputs = model(inputs)\n",
    "                    sigmoid_outputs = sigmoid(outputs)\n",
    "                    thresholded = sigmoid_outputs >= 0.5\n",
    "                    loss = criterion(outputs, labels)\n",
    "                \n",
    "                    if phase == 'train':\n",
    "                        loss.backward()\n",
    "                        optimizer.step()\n",
    "                    \n",
    "                    y_hat = [*y_hat, *sigmoid_outputs.cpu().detach().numpy()]\n",
    "                    y = [*y, *labels.cpu().detach().numpy()]\n",
    "\n",
    "                running_loss += loss.item() * inputs.size(0)\n",
    "                running_corrects += (thresholded == labels).sum() / labels.numel()\n",
    "                \n",
    "            if phase == 'train': scheduler.step()\n",
    "\n",
    "            epoch_loss = running_loss / len(dataloaders[phase].dataset)\n",
    "            epoch_acc = running_corrects.double() / len(dataloaders[phase].dataset)\n",
    "            epoch_auroc = auroc_score(np.array(y_hat), np.array(y), f\"{model_name}_e{epoch}\")\n",
    "            \n",
    "            logger.add_value(\"loss\",  epoch_loss,  phase)\n",
    "            logger.add_value(\"acc\",   epoch_acc,   phase)\n",
    "            logger.add_value(\"auroc\", epoch_auroc, phase)\n",
    "\n",
    "            # deep copy the model\n",
    "            if phase == 'val' and epoch_acc > best_acc:\n",
    "                best_acc = epoch_acc\n",
    "                best_model_wts = copy.deepcopy(model.state_dict())\n",
    "        \n",
    "        scheduler.reset()\n",
    "\n",
    "    # load best model weights\n",
    "    model.load_state_dict(best_model_wts)\n",
    "    \n",
    "    return model"
   ]
  },
  {
   "cell_type": "code",
   "execution_count": null,
   "metadata": {
    "ExecuteTime": {
     "end_time": "2021-03-10T20:26:27.952776Z",
     "start_time": "2021-03-10T19:51:03.219306Z"
    }
   },
   "outputs": [],
   "source": [
    "net = train_model(net, criterion, optimizer, scheduler, dataloaders, logger,\n",
    "                  num_epochs=epochs, device=device)"
   ]
  },
  {
   "cell_type": "code",
   "execution_count": null,
   "metadata": {
    "ExecuteTime": {
     "end_time": "2021-03-10T19:46:09.360435Z",
     "start_time": "2021-03-10T19:46:09.357981Z"
    }
   },
   "outputs": [],
   "source": [
    "for k,v in logger.state.items():\n",
    "    print(k)"
   ]
  },
  {
   "cell_type": "code",
   "execution_count": null,
   "metadata": {
    "ExecuteTime": {
     "end_time": "2021-03-10T20:47:58.181635Z",
     "start_time": "2021-03-10T20:47:58.102132Z"
    }
   },
   "outputs": [],
   "source": [
    "logger.plot_losses()"
   ]
  },
  {
   "cell_type": "code",
   "execution_count": null,
   "metadata": {
    "ExecuteTime": {
     "end_time": "2021-03-10T20:49:41.727367Z",
     "start_time": "2021-03-10T20:49:41.723949Z"
    }
   },
   "outputs": [],
   "source": [
    "type(logger.state[\"train_auroc\"][0])"
   ]
  },
  {
   "cell_type": "code",
   "execution_count": null,
   "metadata": {
    "ExecuteTime": {
     "end_time": "2021-03-10T20:54:17.029439Z",
     "start_time": "2021-03-10T20:54:17.014974Z"
    }
   },
   "outputs": [],
   "source": [
    "df = logger.state[\"train_auroc\"][0][0]\n",
    "for data, _ in logger.state[\"train_auroc\"]:\n",
    "    df = pd.concat([df, data], axis=1)\n",
    "add_chexnet(df)"
   ]
  },
  {
   "cell_type": "code",
   "execution_count": null,
   "metadata": {
    "ExecuteTime": {
     "end_time": "2021-03-10T19:44:25.723093Z",
     "start_time": "2021-03-10T19:44:25.646864Z"
    }
   },
   "outputs": [],
   "source": [
    "plt.plot(\n",
    "    list(range(len(logger.state[\"train_loss\"]))), \n",
    "    logger.state[\"train_loss\"])\n",
    "plt.plot(\n",
    "    list(range(len(logger.state[\"val_loss\"]))), \n",
    "    logger.state[\"val_loss\"])"
   ]
  },
  {
   "cell_type": "code",
   "execution_count": null,
   "metadata": {},
   "outputs": [],
   "source": [
    "plt.plot(\n",
    "    list(range(len(logger.state[\"train_loss\"]))), \n",
    "    logger.state[\"train_loss\"])\n",
    "plt.plot(\n",
    "    list(range(len(logger.state[\"val_loss\"]))), \n",
    "    logger.state[\"val_loss\"])"
   ]
  },
  {
   "cell_type": "code",
   "execution_count": null,
   "metadata": {},
   "outputs": [],
   "source": []
  },
  {
   "cell_type": "code",
   "execution_count": null,
   "metadata": {},
   "outputs": [],
   "source": []
  },
  {
   "cell_type": "code",
   "execution_count": null,
   "metadata": {},
   "outputs": [],
   "source": []
  },
  {
   "cell_type": "code",
   "execution_count": null,
   "metadata": {},
   "outputs": [],
   "source": []
  },
  {
   "cell_type": "code",
   "execution_count": null,
   "metadata": {},
   "outputs": [],
   "source": []
  },
  {
   "cell_type": "code",
   "execution_count": null,
   "metadata": {},
   "outputs": [],
   "source": []
  },
  {
   "cell_type": "code",
   "execution_count": null,
   "metadata": {},
   "outputs": [],
   "source": []
  },
  {
   "cell_type": "code",
   "execution_count": null,
   "metadata": {},
   "outputs": [],
   "source": []
  },
  {
   "cell_type": "code",
   "execution_count": null,
   "metadata": {},
   "outputs": [],
   "source": []
  },
  {
   "cell_type": "code",
   "execution_count": null,
   "metadata": {
    "ExecuteTime": {
     "end_time": "2021-03-10T18:10:28.548299Z",
     "start_time": "2021-03-10T18:10:28.543204Z"
    }
   },
   "outputs": [],
   "source": [
    "def evaluate_model(model, dl, criterion, model_name):\n",
    "    y_hat, y = [], []\n",
    "    test_loss = 0.\n",
    "    \n",
    "    for X_batch, y_batch in tqdm(dl):\n",
    "        X_batch, y_batch = X_batch.to(device), y_batch.to(device)\n",
    "        \n",
    "        logits = model(X_batch)\n",
    "        \n",
    "        criterion(logits, y_batch).item()\n",
    "        test_loss += criterion(logits, y_batch).item()\n",
    "        \n",
    "        y_hat_batch = sigmoid(logits).cpu().detach().numpy()\n",
    "        y_hat = [*y_hat, *y_hat_batch]\n",
    "        y = [*y, *y_batch.cpu().detach().numpy()]\n",
    "    \n",
    "    test_loss /= len(dl.dataset)\n",
    "    test_auroc, label_thresholds = auroc_score(np.array(y_hat), np.array(y), model_name)\n",
    "    \n",
    "    return test_loss, test_auroc, label_thresholds"
   ]
  },
  {
   "cell_type": "code",
   "execution_count": null,
   "metadata": {
    "ExecuteTime": {
     "end_time": "2021-03-10T18:10:32.507951Z",
     "start_time": "2021-03-10T18:10:29.562837Z"
    }
   },
   "outputs": [],
   "source": [
    "test_loss, test_auroc, label_thresholds = evaluate_model(net,  test_dl, criterion, model_name)"
   ]
  },
  {
   "cell_type": "code",
   "execution_count": null,
   "metadata": {
    "ExecuteTime": {
     "end_time": "2021-03-10T18:10:53.266814Z",
     "start_time": "2021-03-10T18:10:53.263639Z"
    }
   },
   "outputs": [],
   "source": [
    "test_loss*32*8"
   ]
  },
  {
   "cell_type": "code",
   "execution_count": null,
   "metadata": {
    "ExecuteTime": {
     "end_time": "2021-03-10T18:09:02.119774Z",
     "start_time": "2021-03-10T18:09:02.111325Z"
    }
   },
   "outputs": [],
   "source": [
    "add_chexnet(test_auroc)"
   ]
  },
  {
   "cell_type": "code",
   "execution_count": null,
   "metadata": {
    "ExecuteTime": {
     "end_time": "2021-03-10T18:02:39.580965Z",
     "start_time": "2021-03-10T18:02:39.577483Z"
    }
   },
   "outputs": [],
   "source": [
    "test_auroc"
   ]
  },
  {
   "cell_type": "code",
   "execution_count": null,
   "metadata": {
    "ExecuteTime": {
     "end_time": "2021-03-10T18:02:53.527771Z",
     "start_time": "2021-03-10T18:02:53.524075Z"
    }
   },
   "outputs": [],
   "source": [
    "label_thresholds"
   ]
  },
  {
   "cell_type": "code",
   "execution_count": null,
   "metadata": {},
   "outputs": [],
   "source": []
  },
  {
   "cell_type": "code",
   "execution_count": null,
   "metadata": {
    "ExecuteTime": {
     "end_time": "2021-03-10T18:06:36.245756Z",
     "start_time": "2021-03-10T18:06:36.243618Z"
    }
   },
   "outputs": [],
   "source": [
    "from sklearn.metrics import multilabel_confusion_matrix"
   ]
  },
  {
   "cell_type": "code",
   "execution_count": null,
   "metadata": {},
   "outputs": [],
   "source": []
  },
  {
   "cell_type": "code",
   "execution_count": null,
   "metadata": {},
   "outputs": [],
   "source": []
  },
  {
   "cell_type": "code",
   "execution_count": null,
   "metadata": {},
   "outputs": [],
   "source": []
  },
  {
   "cell_type": "code",
   "execution_count": null,
   "metadata": {
    "ExecuteTime": {
     "end_time": "2021-03-10T18:04:05.367443Z",
     "start_time": "2021-03-10T18:04:05.364643Z"
    }
   },
   "outputs": [],
   "source": [
    "y_hat = torch.rand((899, 14))\n",
    "y = torch.rand((899, 14)) > 0.5"
   ]
  },
  {
   "cell_type": "code",
   "execution_count": null,
   "metadata": {
    "ExecuteTime": {
     "end_time": "2021-03-10T18:07:02.741226Z",
     "start_time": "2021-03-10T18:07:02.735343Z"
    }
   },
   "outputs": [],
   "source": [
    "multilabel_confusion_matrix(y_hat > 0.5, y)"
   ]
  },
  {
   "cell_type": "code",
   "execution_count": null,
   "metadata": {
    "ExecuteTime": {
     "end_time": "2021-03-10T17:36:13.794548Z",
     "start_time": "2021-03-10T17:36:13.683329Z"
    }
   },
   "outputs": [],
   "source": [
    "auroc_score(y_hat, y)"
   ]
  },
  {
   "cell_type": "code",
   "execution_count": null,
   "metadata": {
    "ExecuteTime": {
     "end_time": "2021-03-10T17:20:08.154765Z",
     "start_time": "2021-03-10T17:20:08.150897Z"
    }
   },
   "outputs": [],
   "source": [
    "a = [[-1, 0],[1, 2]]\n",
    "b = [[3, 4]]\n",
    "\n",
    "a = [*a, *b]\n",
    "a"
   ]
  },
  {
   "cell_type": "code",
   "execution_count": null,
   "metadata": {},
   "outputs": [],
   "source": []
  }
 ],
 "metadata": {
  "kernelspec": {
   "display_name": "Python 3",
   "language": "python",
   "name": "python3"
  },
  "language_info": {
   "codemirror_mode": {
    "name": "ipython",
    "version": 3
   },
   "file_extension": ".py",
   "mimetype": "text/x-python",
   "name": "python",
   "nbconvert_exporter": "python",
   "pygments_lexer": "ipython3",
   "version": "3.8.8"
  },
  "varInspector": {
   "cols": {
    "lenName": 16,
    "lenType": 16,
    "lenVar": 40
   },
   "kernels_config": {
    "python": {
     "delete_cmd_postfix": "",
     "delete_cmd_prefix": "del ",
     "library": "var_list.py",
     "varRefreshCmd": "print(var_dic_list())"
    },
    "r": {
     "delete_cmd_postfix": ") ",
     "delete_cmd_prefix": "rm(",
     "library": "var_list.r",
     "varRefreshCmd": "cat(var_dic_list()) "
    }
   },
   "types_to_exclude": [
    "module",
    "function",
    "builtin_function_or_method",
    "instance",
    "_Feature"
   ],
   "window_display": false
  }
 },
 "nbformat": 4,
 "nbformat_minor": 4
}
