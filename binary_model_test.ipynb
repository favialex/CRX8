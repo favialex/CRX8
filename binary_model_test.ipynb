{
 "cells": [
  {
   "cell_type": "code",
   "execution_count": 1,
   "metadata": {
    "ExecuteTime": {
     "end_time": "2021-03-17T22:10:05.748994Z",
     "start_time": "2021-03-17T22:10:04.428640Z"
    }
   },
   "outputs": [],
   "source": [
    "from exp.utils import *\n",
    "from exp.models import *\n",
    "from exp.losses import *\n",
    "from tqdm.notebook import tqdm\n",
    "from multiprocessing import Pool\n",
    "\n",
    "import torch\n",
    "import torch.nn as NN\n",
    "from torch.utils.data import Dataset, DataLoader\n",
    "from torchvision import datasets, transforms\n",
    "from torchvision.transforms import ToTensor"
   ]
  },
  {
   "cell_type": "code",
   "execution_count": 2,
   "metadata": {
    "ExecuteTime": {
     "end_time": "2021-03-17T22:10:05.761092Z",
     "start_time": "2021-03-17T22:10:05.758967Z"
    }
   },
   "outputs": [],
   "source": [
    "seed = 92\n",
    "seed_everything(seed)"
   ]
  },
  {
   "cell_type": "code",
   "execution_count": 3,
   "metadata": {
    "ExecuteTime": {
     "end_time": "2021-03-17T22:10:05.886844Z",
     "start_time": "2021-03-17T22:10:05.774296Z"
    }
   },
   "outputs": [
    {
     "name": "stdout",
     "output_type": "stream",
     "text": [
      "Using the GPU!\n"
     ]
    }
   ],
   "source": [
    "model_name = \"test_training_v4_pneumonia\"\n",
    "model_type = \"densenet\"\n",
    "bs = 16\n",
    "image_size = (224, 224)\n",
    "device = get_device()\n",
    "labels = get_labels()"
   ]
  },
  {
   "cell_type": "code",
   "execution_count": 4,
   "metadata": {
    "ExecuteTime": {
     "end_time": "2021-03-17T22:10:05.899254Z",
     "start_time": "2021-03-17T22:10:05.897553Z"
    }
   },
   "outputs": [],
   "source": [
    "label = \"Cardiomegaly\""
   ]
  },
  {
   "cell_type": "code",
   "execution_count": 5,
   "metadata": {
    "ExecuteTime": {
     "end_time": "2021-03-17T22:10:12.752822Z",
     "start_time": "2021-03-17T22:10:11.959881Z"
    }
   },
   "outputs": [
    {
     "name": "stderr",
     "output_type": "stream",
     "text": [
      "/home/favi/work/crx8/exp/utils.py:174: UserWarning: Train-Val-Split currently with patient overlap!\n",
      "  warnings.warn(\"Train-Val-Split currently with patient overlap!\")\n"
     ]
    },
    {
     "data": {
      "text/plain": [
       "((6921, 24), (1730, 24), (2559, 24))"
      ]
     },
     "execution_count": 5,
     "metadata": {},
     "output_type": "execute_result"
    }
   ],
   "source": [
    "train_df, valid_df, test_df = get_dataframes(include_labels=labels, small=True, small_fraction=0.1)\n",
    "train_df.shape, valid_df.shape, test_df.shape"
   ]
  },
  {
   "cell_type": "code",
   "execution_count": 6,
   "metadata": {
    "ExecuteTime": {
     "end_time": "2021-03-17T22:10:13.953945Z",
     "start_time": "2021-03-17T22:10:13.653520Z"
    }
   },
   "outputs": [],
   "source": [
    "train_df = get_binary_df(label, train_df)\n",
    "valid_df = get_binary_df(label, valid_df)\n",
    "test_df = get_binary_df(label, test_df)"
   ]
  },
  {
   "cell_type": "code",
   "execution_count": 7,
   "metadata": {
    "ExecuteTime": {
     "end_time": "2021-03-17T22:10:14.139405Z",
     "start_time": "2021-03-17T22:10:14.136391Z"
    }
   },
   "outputs": [],
   "source": [
    "train_label = train_df[[label]].values\n",
    "#pos_weights = compute_positive_class_weigths(train_label)\n",
    "neg_weights, pos_weights = compute_class_freqs(train_label)\n",
    "neg_weights, pos_weights = torch.Tensor(neg_weights), torch.Tensor(pos_weights)"
   ]
  },
  {
   "cell_type": "code",
   "execution_count": 8,
   "metadata": {
    "ExecuteTime": {
     "end_time": "2021-03-17T22:10:14.382325Z",
     "start_time": "2021-03-17T22:10:14.378984Z"
    }
   },
   "outputs": [
    {
     "data": {
      "text/plain": [
       "(tensor([0.0176]), tensor([0.9824]))"
      ]
     },
     "execution_count": 8,
     "metadata": {},
     "output_type": "execute_result"
    }
   ],
   "source": [
    "neg_weights, pos_weights"
   ]
  },
  {
   "cell_type": "code",
   "execution_count": 9,
   "metadata": {
    "ExecuteTime": {
     "end_time": "2021-03-17T22:10:14.846493Z",
     "start_time": "2021-03-17T22:10:14.844318Z"
    }
   },
   "outputs": [],
   "source": [
    "train_tfs, test_tfs = get_transforms(image_size=image_size)"
   ]
  },
  {
   "cell_type": "code",
   "execution_count": 10,
   "metadata": {
    "ExecuteTime": {
     "end_time": "2021-03-17T22:10:15.603038Z",
     "start_time": "2021-03-17T22:10:15.594445Z"
    }
   },
   "outputs": [],
   "source": [
    "train_ds = CRX8_Data(train_df, get_image_path(), label, image_size=image_size, transforms=train_tfs)\n",
    "valid_ds = CRX8_Data(valid_df, get_image_path(), label, image_size=image_size, transforms=test_tfs)\n",
    "test_ds  = CRX8_Data(test_df , get_image_path(), label, image_size=image_size, transforms=test_tfs)"
   ]
  },
  {
   "cell_type": "code",
   "execution_count": 11,
   "metadata": {
    "ExecuteTime": {
     "end_time": "2021-03-17T22:10:16.163673Z",
     "start_time": "2021-03-17T22:10:16.160425Z"
    }
   },
   "outputs": [],
   "source": [
    "train_dl = DataLoader(train_ds, batch_size=bs, shuffle=True)\n",
    "valid_dl = DataLoader(valid_ds, batch_size=bs, shuffle=False)\n",
    "test_dl  = DataLoader(test_ds,  batch_size=bs, shuffle=False)\n",
    "\n",
    "dataloaders = {\n",
    "    \"train\": train_dl,\n",
    "    \"val\": valid_dl,\n",
    "    \"test\": test_dl\n",
    "}"
   ]
  },
  {
   "cell_type": "code",
   "execution_count": 12,
   "metadata": {
    "ExecuteTime": {
     "end_time": "2021-03-17T22:10:18.643884Z",
     "start_time": "2021-03-17T22:10:17.631174Z"
    }
   },
   "outputs": [],
   "source": [
    "criterion = get_weighted_loss_with_logits(pos_weights.to(device), neg_weights.to(device))\n",
    "#criterion = NN.BCEWithLogitsLoss(reduction=\"mean\", pos_weight=pos_weights.to(device))\n",
    "#criterion = NN.BCEWithLogitsLoss()#reduction=\"mean\", pos_weight=pos_weights.to(device))\n",
    "#criterion = CustomLoss(reduction=\"sum\", quadratic=False)"
   ]
  },
  {
   "cell_type": "code",
   "execution_count": 13,
   "metadata": {
    "ExecuteTime": {
     "end_time": "2021-03-17T22:10:21.186964Z",
     "start_time": "2021-03-17T22:10:20.985632Z"
    }
   },
   "outputs": [],
   "source": [
    "model = pretrained_densenet121()\n",
    "model = model.to(device)"
   ]
  },
  {
   "cell_type": "code",
   "execution_count": 14,
   "metadata": {
    "ExecuteTime": {
     "end_time": "2021-03-17T14:17:58.748176Z",
     "start_time": "2021-03-17T14:17:58.746200Z"
    }
   },
   "outputs": [],
   "source": [
    "#model"
   ]
  },
  {
   "cell_type": "code",
   "execution_count": 15,
   "metadata": {
    "ExecuteTime": {
     "end_time": "2021-03-17T14:18:00.934859Z",
     "start_time": "2021-03-17T14:18:00.930927Z"
    }
   },
   "outputs": [],
   "source": [
    "model, transfer_optimizer = transfer_learn_setup(model, 1e-1, model_type)"
   ]
  },
  {
   "cell_type": "code",
   "execution_count": 16,
   "metadata": {
    "ExecuteTime": {
     "end_time": "2021-03-17T14:22:14.016571Z",
     "start_time": "2021-03-17T14:18:01.224271Z"
    }
   },
   "outputs": [
    {
     "data": {
      "application/vnd.jupyter.widget-view+json": {
       "model_id": "89ac740d7cc8427390cbc9e1e7028d6f",
       "version_major": 2,
       "version_minor": 0
      },
      "text/plain": [
       "HBox(children=(HTML(value=''), FloatProgress(value=0.0, max=1082.0), HTML(value='')))"
      ]
     },
     "metadata": {},
     "output_type": "display_data"
    },
    {
     "name": "stdout",
     "output_type": "stream",
     "text": [
      "\n"
     ]
    },
    {
     "data": {
      "image/png": "[encoded data removed]",
      "text/plain": [
       "<Figure size 432x288 with 1 Axes>"
      ]
     },
     "metadata": {
      "needs_background": "light"
     },
     "output_type": "display_data"
    }
   ],
   "source": [
    "logs,losses = find_lr(model, train_dl, transfer_optimizer, criterion, device=device)\n",
    "i = 10\n",
    "plt.plot(logs[i:-i],losses[i:-i]);"
   ]
  },
  {
   "cell_type": "code",
   "execution_count": 15,
   "metadata": {
    "ExecuteTime": {
     "end_time": "2021-03-17T21:49:39.043936Z",
     "start_time": "2021-03-17T21:49:39.041830Z"
    }
   },
   "outputs": [],
   "source": [
    "lr = 3e-4"
   ]
  },
  {
   "cell_type": "code",
   "execution_count": 21,
   "metadata": {
    "ExecuteTime": {
     "end_time": "2021-03-17T21:52:42.520725Z",
     "start_time": "2021-03-17T21:52:42.348776Z"
    }
   },
   "outputs": [],
   "source": [
    "model = pretrained_densenet121()\n",
    "model = model.to(device)"
   ]
  },
  {
   "cell_type": "code",
   "execution_count": null,
   "metadata": {
    "ExecuteTime": {
     "end_time": "2021-03-17T12:32:05.141696Z",
     "start_time": "2021-03-17T12:32:05.137763Z"
    }
   },
   "outputs": [],
   "source": [
    "model, transfer_optimizer = transfer_learn_setup(model, lr, model_type)"
   ]
  },
  {
   "cell_type": "code",
   "execution_count": null,
   "metadata": {
    "ExecuteTime": {
     "end_time": "2021-03-17T12:32:05.404973Z",
     "start_time": "2021-03-17T12:32:05.403420Z"
    }
   },
   "outputs": [],
   "source": [
    "scheduler = get_one_cycle_scheduler(train_dl, lr, transfer_optimizer)"
   ]
  },
  {
   "cell_type": "code",
   "execution_count": null,
   "metadata": {
    "ExecuteTime": {
     "end_time": "2021-03-17T12:32:06.025772Z",
     "start_time": "2021-03-17T12:32:06.023691Z"
    }
   },
   "outputs": [],
   "source": [
    "transfer_epochs = 5"
   ]
  },
  {
   "cell_type": "code",
   "execution_count": null,
   "metadata": {
    "ExecuteTime": {
     "end_time": "2021-03-17T12:32:07.290688Z",
     "start_time": "2021-03-17T12:32:07.288628Z"
    }
   },
   "outputs": [],
   "source": [
    "#torch.cos(torch.Tensor([3.141]))"
   ]
  },
  {
   "cell_type": "code",
   "execution_count": null,
   "metadata": {
    "ExecuteTime": {
     "end_time": "2021-03-17T13:04:42.162345Z",
     "start_time": "2021-03-17T12:32:07.618586Z"
    },
    "scrolled": false
   },
   "outputs": [],
   "source": [
    "model, history = fit(model, criterion, transfer_optimizer, \n",
    "                     scheduler, dataloaders, model_name,\n",
    "                     transfer_epochs,lr, metric=\"loss\")"
   ]
  },
  {
   "cell_type": "code",
   "execution_count": 25,
   "metadata": {
    "ExecuteTime": {
     "end_time": "2021-03-17T22:01:38.441004Z",
     "start_time": "2021-03-17T22:01:38.436977Z"
    }
   },
   "outputs": [],
   "source": []
  },
  {
   "cell_type": "code",
   "execution_count": null,
   "metadata": {
    "ExecuteTime": {
     "end_time": "2021-03-17T12:24:10.299745Z",
     "start_time": "2021-03-17T12:24:10.224201Z"
    }
   },
   "outputs": [],
   "source": [
    "plot_history(history)"
   ]
  },
  {
   "cell_type": "code",
   "execution_count": null,
   "metadata": {
    "ExecuteTime": {
     "end_time": "2021-03-17T12:24:14.388463Z",
     "start_time": "2021-03-17T12:24:14.324030Z"
    }
   },
   "outputs": [],
   "source": [
    "plot_history(history, mode=\"train\")"
   ]
  },
  {
   "cell_type": "code",
   "execution_count": null,
   "metadata": {
    "ExecuteTime": {
     "end_time": "2021-03-17T13:10:29.428039Z",
     "start_time": "2021-03-17T13:10:29.365352Z"
    }
   },
   "outputs": [],
   "source": [
    "model = load_model(model_name)\n",
    "model = model.to(device)"
   ]
  },
  {
   "cell_type": "code",
   "execution_count": 16,
   "metadata": {
    "ExecuteTime": {
     "end_time": "2021-03-17T21:49:41.964280Z",
     "start_time": "2021-03-17T21:49:41.958387Z"
    }
   },
   "outputs": [],
   "source": [
    "model, fine_optimizer = fine_tune_setup(model, lr)"
   ]
  },
  {
   "cell_type": "code",
   "execution_count": null,
   "metadata": {
    "ExecuteTime": {
     "end_time": "2021-03-17T13:14:22.547396Z",
     "start_time": "2021-03-17T13:10:49.783214Z"
    }
   },
   "outputs": [],
   "source": [
    "logs,losses = find_lr(model, train_dl, fine_optimizer, criterion, device=device)\n",
    "i = 10\n",
    "plt.plot(logs[i:-i],losses[i:-i]);"
   ]
  },
  {
   "cell_type": "code",
   "execution_count": null,
   "metadata": {
    "ExecuteTime": {
     "end_time": "2021-03-17T13:16:54.794454Z",
     "start_time": "2021-03-17T13:16:54.712383Z"
    }
   },
   "outputs": [],
   "source": [
    "lr = 3e-5\n",
    "model = load_model(model_name)\n",
    "model = model.to(device)"
   ]
  },
  {
   "cell_type": "code",
   "execution_count": null,
   "metadata": {
    "ExecuteTime": {
     "end_time": "2021-03-17T13:16:57.034412Z",
     "start_time": "2021-03-17T13:16:57.026552Z"
    }
   },
   "outputs": [],
   "source": [
    "model, fine_optimizer = fine_tune_setup(model, lr)\n",
    "scheduler = get_one_cycle_scheduler(train_dl, lr, fine_optimizer)"
   ]
  },
  {
   "cell_type": "code",
   "execution_count": null,
   "metadata": {
    "ExecuteTime": {
     "end_time": "2021-03-17T13:16:58.400055Z",
     "start_time": "2021-03-17T13:16:58.397987Z"
    }
   },
   "outputs": [],
   "source": [
    "fine_epochs = 20"
   ]
  },
  {
   "cell_type": "code",
   "execution_count": null,
   "metadata": {
    "ExecuteTime": {
     "end_time": "2021-03-17T14:13:49.880773Z",
     "start_time": "2021-03-17T13:17:05.391445Z"
    },
    "scrolled": false
   },
   "outputs": [],
   "source": [
    "model, history = fit(model, criterion, fine_optimizer, \n",
    "                     scheduler, dataloaders, model_name,\n",
    "                     fine_epochs, lr, metric=\"loss\")"
   ]
  },
  {
   "cell_type": "code",
   "execution_count": null,
   "metadata": {
    "ExecuteTime": {
     "end_time": "2021-03-17T14:14:30.490541Z",
     "start_time": "2021-03-17T14:14:30.410379Z"
    }
   },
   "outputs": [],
   "source": [
    "model = load_model(model_name)"
   ]
  },
  {
   "cell_type": "code",
   "execution_count": null,
   "metadata": {
    "ExecuteTime": {
     "end_time": "2021-03-17T14:16:19.079633Z",
     "start_time": "2021-03-17T14:14:31.232293Z"
    }
   },
   "outputs": [],
   "source": [
    "preds = validate(model, criterion, test_dl, model_name)"
   ]
  },
  {
   "cell_type": "code",
   "execution_count": null,
   "metadata": {
    "ExecuteTime": {
     "end_time": "2021-03-17T14:16:31.188071Z",
     "start_time": "2021-03-17T14:16:31.180425Z"
    }
   },
   "outputs": [],
   "source": [
    "preds"
   ]
  },
  {
   "cell_type": "code",
   "execution_count": null,
   "metadata": {},
   "outputs": [],
   "source": []
  },
  {
   "cell_type": "code",
   "execution_count": null,
   "metadata": {},
   "outputs": [],
   "source": []
  },
  {
   "cell_type": "code",
   "execution_count": 18,
   "metadata": {
    "ExecuteTime": {
     "end_time": "2021-03-17T22:11:11.911695Z",
     "start_time": "2021-03-17T22:11:11.904116Z"
    }
   },
   "outputs": [],
   "source": []
  },
  {
   "cell_type": "code",
   "execution_count": null,
   "metadata": {},
   "outputs": [],
   "source": []
  },
  {
   "cell_type": "code",
   "execution_count": 22,
   "metadata": {
    "ExecuteTime": {
     "end_time": "2021-03-17T21:52:47.330245Z",
     "start_time": "2021-03-17T21:52:47.325614Z"
    }
   },
   "outputs": [],
   "source": [
    "sam_optimizer = SAM(model.parameters(), torch.optim.SGD, lr=0.001, momentum=0.9)"
   ]
  },
  {
   "cell_type": "code",
   "execution_count": 23,
   "metadata": {
    "ExecuteTime": {
     "end_time": "2021-03-17T22:01:12.839479Z",
     "start_time": "2021-03-17T21:52:50.421331Z"
    }
   },
   "outputs": [
    {
     "data": {
      "application/vnd.jupyter.widget-view+json": {
       "model_id": "7a1f514b68804e91ace905ce644dc0b1",
       "version_major": 2,
       "version_minor": 0
      },
      "text/plain": [
       "HBox(children=(HTML(value=''), FloatProgress(value=0.0, max=1082.0), HTML(value='')))"
      ]
     },
     "metadata": {},
     "output_type": "display_data"
    },
    {
     "name": "stdout",
     "output_type": "stream",
     "text": [
      "\n",
      "Train: Loss: 0.026, Acc: 0.324, AUROC: 0.535\n"
     ]
    }
   ],
   "source": [
    "model, history = train_SAM(model, criterion, sam_optimizer, train_dl, model_name)"
   ]
  },
  {
   "cell_type": "code",
   "execution_count": 28,
   "metadata": {
    "ExecuteTime": {
     "end_time": "2021-03-17T22:02:34.069583Z",
     "start_time": "2021-03-17T22:02:33.992803Z"
    }
   },
   "outputs": [
    {
     "data": {
      "text/plain": [
       "[<matplotlib.lines.Line2D at 0x7faad8c14430>]"
      ]
     },
     "execution_count": 28,
     "metadata": {},
     "output_type": "execute_result"
    },
    {
     "data": {
      "image/png": "[encoded data removed]",
      "text/plain": [
       "<Figure size 432x288 with 1 Axes>"
      ]
     },
     "metadata": {
      "needs_background": "light"
     },
     "output_type": "display_data"
    }
   ],
   "source": [
    "plt.plot(history[\"loss\"])"
   ]
  },
  {
   "cell_type": "code",
   "execution_count": 15,
   "metadata": {
    "ExecuteTime": {
     "end_time": "2021-03-17T22:11:02.354092Z",
     "start_time": "2021-03-17T22:11:02.244689Z"
    }
   },
   "outputs": [],
   "source": []
  },
  {
   "cell_type": "code",
   "execution_count": 16,
   "metadata": {
    "ExecuteTime": {
     "end_time": "2021-03-17T22:11:03.122406Z",
     "start_time": "2021-03-17T22:11:03.013368Z"
    }
   },
   "outputs": [],
   "source": []
  },
  {
   "cell_type": "code",
   "execution_count": 19,
   "metadata": {
    "ExecuteTime": {
     "end_time": "2021-03-17T22:49:55.995444Z",
     "start_time": "2021-03-17T22:11:14.296585Z"
    },
    "scrolled": false
   },
   "outputs": [
    {
     "name": "stdout",
     "output_type": "stream",
     "text": [
      "Epoch 1:\n"
     ]
    },
    {
     "data": {
      "application/vnd.jupyter.widget-view+json": {
       "model_id": "3ed594eddea840e98c27bf34defcf2a7",
       "version_major": 2,
       "version_minor": 0
      },
      "text/plain": [
       "HBox(children=(HTML(value=''), FloatProgress(value=0.0, max=433.0), HTML(value='')))"
      ]
     },
     "metadata": {},
     "output_type": "display_data"
    },
    {
     "name": "stdout",
     "output_type": "stream",
     "text": [
      "\n",
      "Train: Loss: 0.025, Acc: 0.424, AUROC: 0.554\n"
     ]
    },
    {
     "data": {
      "application/vnd.jupyter.widget-view+json": {
       "model_id": "ed5fae7409984df69325a3ee4ebda225",
       "version_major": 2,
       "version_minor": 0
      },
      "text/plain": [
       "HBox(children=(HTML(value=''), FloatProgress(value=0.0, max=109.0), HTML(value='')))"
      ]
     },
     "metadata": {},
     "output_type": "display_data"
    },
    {
     "name": "stdout",
     "output_type": "stream",
     "text": [
      "\n",
      "Val: Loss: 0.023, Acc: 0.523, AUROC: 0.749\n",
      "Saved model with auroc 0.7489\n",
      "Epoch 2:\n"
     ]
    },
    {
     "data": {
      "application/vnd.jupyter.widget-view+json": {
       "model_id": "4cfaf2e48b0949c1adb877f207a56805",
       "version_major": 2,
       "version_minor": 0
      },
      "text/plain": [
       "HBox(children=(HTML(value=''), FloatProgress(value=0.0, max=433.0), HTML(value='')))"
      ]
     },
     "metadata": {},
     "output_type": "display_data"
    },
    {
     "name": "stdout",
     "output_type": "stream",
     "text": [
      "\n",
      "Train: Loss: 0.023, Acc: 0.493, AUROC: 0.633\n"
     ]
    },
    {
     "data": {
      "application/vnd.jupyter.widget-view+json": {
       "model_id": "1c984f634f1345ed8ec670c976c523b4",
       "version_major": 2,
       "version_minor": 0
      },
      "text/plain": [
       "HBox(children=(HTML(value=''), FloatProgress(value=0.0, max=109.0), HTML(value='')))"
      ]
     },
     "metadata": {},
     "output_type": "display_data"
    },
    {
     "name": "stdout",
     "output_type": "stream",
     "text": [
      "\n",
      "Val: Loss: 0.021, Acc: 0.799, AUROC: 0.787\n",
      "Saved model with auroc 0.7871\n",
      "Epoch 3:\n"
     ]
    },
    {
     "data": {
      "application/vnd.jupyter.widget-view+json": {
       "model_id": "4a832cc6ff99440c8043be039c2cd8c9",
       "version_major": 2,
       "version_minor": 0
      },
      "text/plain": [
       "HBox(children=(HTML(value=''), FloatProgress(value=0.0, max=433.0), HTML(value='')))"
      ]
     },
     "metadata": {},
     "output_type": "display_data"
    },
    {
     "name": "stdout",
     "output_type": "stream",
     "text": [
      "\n",
      "Train: Loss: 0.023, Acc: 0.495, AUROC: 0.672\n"
     ]
    },
    {
     "data": {
      "application/vnd.jupyter.widget-view+json": {
       "model_id": "7f3615abc6594f279968fe2cb7552e26",
       "version_major": 2,
       "version_minor": 0
      },
      "text/plain": [
       "HBox(children=(HTML(value=''), FloatProgress(value=0.0, max=109.0), HTML(value='')))"
      ]
     },
     "metadata": {},
     "output_type": "display_data"
    },
    {
     "name": "stdout",
     "output_type": "stream",
     "text": [
      "\n",
      "Val: Loss: 0.022, Acc: 0.534, AUROC: 0.730\n",
      "Epoch 4:\n"
     ]
    },
    {
     "data": {
      "application/vnd.jupyter.widget-view+json": {
       "model_id": "01c3f09fb0c043d28da5de067bd873c2",
       "version_major": 2,
       "version_minor": 0
      },
      "text/plain": [
       "HBox(children=(HTML(value=''), FloatProgress(value=0.0, max=433.0), HTML(value='')))"
      ]
     },
     "metadata": {},
     "output_type": "display_data"
    },
    {
     "name": "stdout",
     "output_type": "stream",
     "text": [
      "\n",
      "Train: Loss: 0.024, Acc: 0.461, AUROC: 0.572\n"
     ]
    },
    {
     "data": {
      "application/vnd.jupyter.widget-view+json": {
       "model_id": "714dc1e11ed84d9296483c7aed13c3cc",
       "version_major": 2,
       "version_minor": 0
      },
      "text/plain": [
       "HBox(children=(HTML(value=''), FloatProgress(value=0.0, max=109.0), HTML(value='')))"
      ]
     },
     "metadata": {},
     "output_type": "display_data"
    },
    {
     "name": "stdout",
     "output_type": "stream",
     "text": [
      "\n",
      "Val: Loss: 0.026, Acc: 0.850, AUROC: 0.584\n",
      "Epoch 5:\n"
     ]
    },
    {
     "data": {
      "application/vnd.jupyter.widget-view+json": {
       "model_id": "ff03ac183b7b4e74a61f51ef69bcb566",
       "version_major": 2,
       "version_minor": 0
      },
      "text/plain": [
       "HBox(children=(HTML(value=''), FloatProgress(value=0.0, max=433.0), HTML(value='')))"
      ]
     },
     "metadata": {},
     "output_type": "display_data"
    },
    {
     "name": "stdout",
     "output_type": "stream",
     "text": [
      "\n",
      "Train: Loss: 0.023, Acc: 0.476, AUROC: 0.657\n"
     ]
    },
    {
     "data": {
      "application/vnd.jupyter.widget-view+json": {
       "model_id": "756f16bfd54e41d4b160177501dc09cc",
       "version_major": 2,
       "version_minor": 0
      },
      "text/plain": [
       "HBox(children=(HTML(value=''), FloatProgress(value=0.0, max=109.0), HTML(value='')))"
      ]
     },
     "metadata": {},
     "output_type": "display_data"
    },
    {
     "name": "stdout",
     "output_type": "stream",
     "text": [
      "\n",
      "Val: Loss: 0.026, Acc: 0.768, AUROC: 0.707\n",
      "Lowered lr to 2.9999999999999997e-05\n",
      "Resetted model to best previous.\n",
      "Epoch 6:\n"
     ]
    },
    {
     "data": {
      "application/vnd.jupyter.widget-view+json": {
       "model_id": "f80c3f7d04054bf8b3d2f92399da438a",
       "version_major": 2,
       "version_minor": 0
      },
      "text/plain": [
       "HBox(children=(HTML(value=''), FloatProgress(value=0.0, max=433.0), HTML(value='')))"
      ]
     },
     "metadata": {},
     "output_type": "display_data"
    },
    {
     "name": "stdout",
     "output_type": "stream",
     "text": [
      "\n",
      "Train: Loss: 0.022, Acc: 0.577, AUROC: 0.716\n"
     ]
    },
    {
     "data": {
      "application/vnd.jupyter.widget-view+json": {
       "model_id": "33de832d858e444d9f5ac413b52b8128",
       "version_major": 2,
       "version_minor": 0
      },
      "text/plain": [
       "HBox(children=(HTML(value=''), FloatProgress(value=0.0, max=109.0), HTML(value='')))"
      ]
     },
     "metadata": {},
     "output_type": "display_data"
    },
    {
     "name": "stdout",
     "output_type": "stream",
     "text": [
      "\n",
      "Val: Loss: 0.021, Acc: 0.779, AUROC: 0.783\n",
      "Epoch 7:\n"
     ]
    },
    {
     "data": {
      "application/vnd.jupyter.widget-view+json": {
       "model_id": "6be5711241b14314a0ac474ab9cff9ca",
       "version_major": 2,
       "version_minor": 0
      },
      "text/plain": [
       "HBox(children=(HTML(value=''), FloatProgress(value=0.0, max=433.0), HTML(value='')))"
      ]
     },
     "metadata": {},
     "output_type": "display_data"
    },
    {
     "name": "stdout",
     "output_type": "stream",
     "text": [
      "\n",
      "Train: Loss: 0.021, Acc: 0.580, AUROC: 0.724\n"
     ]
    },
    {
     "data": {
      "application/vnd.jupyter.widget-view+json": {
       "model_id": "04fe0748dc284520b641889d4b17b0f9",
       "version_major": 2,
       "version_minor": 0
      },
      "text/plain": [
       "HBox(children=(HTML(value=''), FloatProgress(value=0.0, max=109.0), HTML(value='')))"
      ]
     },
     "metadata": {},
     "output_type": "display_data"
    },
    {
     "name": "stdout",
     "output_type": "stream",
     "text": [
      "\n",
      "Val: Loss: 0.021, Acc: 0.772, AUROC: 0.781\n",
      "Epoch 8:\n"
     ]
    },
    {
     "data": {
      "application/vnd.jupyter.widget-view+json": {
       "model_id": "7da661064ae246229b8e5400125730c2",
       "version_major": 2,
       "version_minor": 0
      },
      "text/plain": [
       "HBox(children=(HTML(value=''), FloatProgress(value=0.0, max=433.0), HTML(value='')))"
      ]
     },
     "metadata": {},
     "output_type": "display_data"
    },
    {
     "name": "stdout",
     "output_type": "stream",
     "text": [
      "\n",
      "Train: Loss: 0.021, Acc: 0.579, AUROC: 0.740\n"
     ]
    },
    {
     "data": {
      "application/vnd.jupyter.widget-view+json": {
       "model_id": "305305610a3249628ab128d92a89f4f4",
       "version_major": 2,
       "version_minor": 0
      },
      "text/plain": [
       "HBox(children=(HTML(value=''), FloatProgress(value=0.0, max=109.0), HTML(value='')))"
      ]
     },
     "metadata": {},
     "output_type": "display_data"
    },
    {
     "name": "stdout",
     "output_type": "stream",
     "text": [
      "\n",
      "Val: Loss: 0.021, Acc: 0.584, AUROC: 0.784\n",
      "Epoch 9:\n"
     ]
    },
    {
     "data": {
      "application/vnd.jupyter.widget-view+json": {
       "model_id": "0b1d6586767541c78cf259d3a477c0c1",
       "version_major": 2,
       "version_minor": 0
      },
      "text/plain": [
       "HBox(children=(HTML(value=''), FloatProgress(value=0.0, max=433.0), HTML(value='')))"
      ]
     },
     "metadata": {},
     "output_type": "display_data"
    },
    {
     "name": "stdout",
     "output_type": "stream",
     "text": [
      "\n",
      "Train: Loss: 0.021, Acc: 0.585, AUROC: 0.723\n"
     ]
    },
    {
     "data": {
      "application/vnd.jupyter.widget-view+json": {
       "model_id": "d405a13a74d345108f4417d03848353e",
       "version_major": 2,
       "version_minor": 0
      },
      "text/plain": [
       "HBox(children=(HTML(value=''), FloatProgress(value=0.0, max=109.0), HTML(value='')))"
      ]
     },
     "metadata": {},
     "output_type": "display_data"
    },
    {
     "name": "stdout",
     "output_type": "stream",
     "text": [
      "\n",
      "Val: Loss: 0.021, Acc: 0.773, AUROC: 0.783\n",
      "Epoch 10:\n"
     ]
    },
    {
     "data": {
      "application/vnd.jupyter.widget-view+json": {
       "model_id": "4cf01efaf4fe4143a37227e86876dcf3",
       "version_major": 2,
       "version_minor": 0
      },
      "text/plain": [
       "HBox(children=(HTML(value=''), FloatProgress(value=0.0, max=433.0), HTML(value='')))"
      ]
     },
     "metadata": {},
     "output_type": "display_data"
    },
    {
     "name": "stdout",
     "output_type": "stream",
     "text": [
      "\n",
      "Train: Loss: 0.021, Acc: 0.584, AUROC: 0.727\n"
     ]
    },
    {
     "data": {
      "application/vnd.jupyter.widget-view+json": {
       "model_id": "70bebe4fc1a94edc9a126b6c4a811b45",
       "version_major": 2,
       "version_minor": 0
      },
      "text/plain": [
       "HBox(children=(HTML(value=''), FloatProgress(value=0.0, max=109.0), HTML(value='')))"
      ]
     },
     "metadata": {},
     "output_type": "display_data"
    },
    {
     "name": "stdout",
     "output_type": "stream",
     "text": [
      "\n",
      "Val: Loss: 0.021, Acc: 0.782, AUROC: 0.784\n"
     ]
    }
   ],
   "source": [
    "lr = 3e-4\n",
    "epochs = 10\n",
    "model = pretrained_densenet121()\n",
    "model = model.to(device)\n",
    "criterion = get_weighted_loss_with_logits(pos_weights.to(device), neg_weights.to(device))\n",
    "sam_optimizer = SAM(model.parameters(), torch.optim.Adam, lr=lr)\n",
    "\n",
    "model, history = fit(model, criterion, sam_optimizer, \n",
    "                     dataloaders, model_name, epochs, \n",
    "                     lr, sam=True, metric=\"loss\")"
   ]
  },
  {
   "cell_type": "code",
   "execution_count": 21,
   "metadata": {
    "ExecuteTime": {
     "end_time": "2021-03-17T22:52:03.282307Z",
     "start_time": "2021-03-17T22:52:03.209197Z"
    }
   },
   "outputs": [
    {
     "data": {
      "image/png": "[encoded data removed]",
      "text/plain": [
       "<Figure size 432x288 with 1 Axes>"
      ]
     },
     "metadata": {
      "needs_background": "light"
     },
     "output_type": "display_data"
    }
   ],
   "source": [
    "plot_history(history)"
   ]
  },
  {
   "cell_type": "code",
   "execution_count": 25,
   "metadata": {
    "ExecuteTime": {
     "end_time": "2021-03-17T22:52:53.311241Z",
     "start_time": "2021-03-17T22:52:53.232245Z"
    }
   },
   "outputs": [
    {
     "data": {
      "text/plain": [
       "[<matplotlib.lines.Line2D at 0x7f23430bc7c0>]"
      ]
     },
     "execution_count": 25,
     "metadata": {},
     "output_type": "execute_result"
    },
    {
     "data": {
      "image/png": "[encoded data removed]",
      "text/plain": [
       "<Figure size 432x288 with 1 Axes>"
      ]
     },
     "metadata": {
      "needs_background": "light"
     },
     "output_type": "display_data"
    }
   ],
   "source": [
    "plt.plot(history[\"e10_val\"][\"loss\"])"
   ]
  },
  {
   "cell_type": "code",
   "execution_count": null,
   "metadata": {},
   "outputs": [],
   "source": []
  }
 ],
 "metadata": {
  "kernelspec": {
   "display_name": "Python 3",
   "language": "python",
   "name": "python3"
  },
  "language_info": {
   "codemirror_mode": {
    "name": "ipython",
    "version": 3
   },
   "file_extension": ".py",
   "mimetype": "text/x-python",
   "name": "python",
   "nbconvert_exporter": "python",
   "pygments_lexer": "ipython3",
   "version": "3.8.8"
  },
  "varInspector": {
   "cols": {
    "lenName": 16,
    "lenType": 16,
    "lenVar": 40
   },
   "kernels_config": {
    "python": {
     "delete_cmd_postfix": "",
     "delete_cmd_prefix": "del ",
     "library": "var_list.py",
     "varRefreshCmd": "print(var_dic_list())"
    },
    "r": {
     "delete_cmd_postfix": ") ",
     "delete_cmd_prefix": "rm(",
     "library": "var_list.r",
     "varRefreshCmd": "cat(var_dic_list()) "
    }
   },
   "types_to_exclude": [
    "module",
    "function",
    "builtin_function_or_method",
    "instance",
    "_Feature"
   ],
   "window_display": false
  }
 },
 "nbformat": 4,
 "nbformat_minor": 4
}
